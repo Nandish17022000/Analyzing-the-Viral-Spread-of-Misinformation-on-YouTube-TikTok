{
  "nbformat": 4,
  "nbformat_minor": 0,
  "metadata": {
    "colab": {
      "provenance": []
    },
    "kernelspec": {
      "name": "python3",
      "display_name": "Python 3"
    },
    "language_info": {
      "name": "python"
    }
  },
  "cells": [
    {
      "cell_type": "code",
      "source": [
        "# Install yt-dlp Python library and the ffmpeg utility\n",
        "!pip install yt-dlp\n",
        "!apt-get update && apt-get install -y ffmpeg"
      ],
      "metadata": {
        "colab": {
          "base_uri": "https://localhost:8080/"
        },
        "id": "BrPnAsODoTVl",
        "outputId": "e9e56326-1707-4969-e1d9-c69a418e8f12"
      },
      "execution_count": null,
      "outputs": [
        {
          "output_type": "stream",
          "name": "stdout",
          "text": [
            "Requirement already satisfied: yt-dlp in /usr/local/lib/python3.11/dist-packages (2025.3.31)\n",
            "Hit:1 https://developer.download.nvidia.com/compute/cuda/repos/ubuntu2204/x86_64  InRelease\n",
            "Get:2 https://cloud.r-project.org/bin/linux/ubuntu jammy-cran40/ InRelease [3,632 B]\n",
            "Hit:3 http://archive.ubuntu.com/ubuntu jammy InRelease\n",
            "Get:4 http://archive.ubuntu.com/ubuntu jammy-updates InRelease [128 kB]\n",
            "Get:5 http://security.ubuntu.com/ubuntu jammy-security InRelease [129 kB]\n",
            "Get:6 https://r2u.stat.illinois.edu/ubuntu jammy InRelease [6,555 B]\n",
            "Get:7 http://archive.ubuntu.com/ubuntu jammy-backports InRelease [127 kB]\n",
            "Hit:8 https://ppa.launchpadcontent.net/deadsnakes/ppa/ubuntu jammy InRelease\n",
            "Get:9 https://r2u.stat.illinois.edu/ubuntu jammy/main amd64 Packages [2,701 kB]\n",
            "Get:10 http://archive.ubuntu.com/ubuntu jammy-updates/universe amd64 Packages [1,542 kB]\n",
            "Get:11 https://ppa.launchpadcontent.net/graphics-drivers/ppa/ubuntu jammy InRelease [24.3 kB]\n",
            "Hit:12 https://ppa.launchpadcontent.net/ubuntugis/ppa/ubuntu jammy InRelease\n",
            "Get:13 http://archive.ubuntu.com/ubuntu jammy-updates/main amd64 Packages [3,155 kB]\n",
            "Get:14 https://r2u.stat.illinois.edu/ubuntu jammy/main all Packages [8,864 kB]\n",
            "Get:15 http://security.ubuntu.com/ubuntu jammy-security/main amd64 Packages [2,844 kB]\n",
            "Get:16 https://ppa.launchpadcontent.net/graphics-drivers/ppa/ubuntu jammy/main amd64 Packages [46.3 kB]\n",
            "Get:17 http://security.ubuntu.com/ubuntu jammy-security/universe amd64 Packages [1,244 kB]\n",
            "Fetched 20.8 MB in 3s (6,183 kB/s)\n",
            "Reading package lists... Done\n",
            "W: Skipping acquire of configured file 'main/source/Sources' as repository 'https://r2u.stat.illinois.edu/ubuntu jammy InRelease' does not seem to provide it (sources.list entry misspelt?)\n",
            "Reading package lists... Done\n",
            "Building dependency tree... Done\n",
            "Reading state information... Done\n",
            "ffmpeg is already the newest version (7:4.4.2-0ubuntu0.22.04.1).\n",
            "0 upgraded, 0 newly installed, 0 to remove and 36 not upgraded.\n"
          ]
        }
      ]
    },
    {
      "cell_type": "code",
      "source": [
        "import yt_dlp\n",
        "import os\n",
        "import time"
      ],
      "metadata": {
        "id": "dFEfbNZln1_4"
      },
      "execution_count": null,
      "outputs": []
    },
    {
      "cell_type": "code",
      "execution_count": null,
      "metadata": {
        "colab": {
          "base_uri": "https://localhost:8080/"
        },
        "id": "3FO6nZrKnu_w",
        "outputId": "b5f46fe0-d426-4c36-fdd7-5ae638f80960"
      },
      "outputs": [
        {
          "metadata": {
            "tags": null
          },
          "name": "stderr",
          "output_type": "stream",
          "text": [
            "[debug] Encodings: locale utf-8, fs utf-8, pref utf-8, out UTF-8 (No ANSI), error UTF-8 (No ANSI), screen UTF-8 (No ANSI)\n",
            "[debug] yt-dlp version stable@2025.03.31 from yt-dlp/yt-dlp [5e457af57] (pip) API\n",
            "[debug] params: {'outtmpl': '/content/MyYoutubeDLs/%(title)s [%(id)s].%(ext)s', 'format': 'bestvideo[ext=mp4]+bestaudio[ext=m4a]/best[ext=mp4]/best', 'quiet': False, 'verbose': True, 'noplaylist': True, 'no_warnings': False, 'merge_output_format': 'mp4', 'ignoreerrors': True, 'retries': 5, 'ratelimit': 524288, 'force_ipv4': True, 'compat_opts': set(), 'http_headers': {'User-Agent': 'Mozilla/5.0 (Windows NT 10.0; Win64; x64) AppleWebKit/537.36 (KHTML, like Gecko) Chrome/94.0.4606.81 Safari/537.36', 'Accept': 'text/html,application/xhtml+xml,application/xml;q=0.9,*/*;q=0.8', 'Accept-Language': 'en-us,en;q=0.5', 'Sec-Fetch-Mode': 'navigate'}}\n",
            "[debug] Python 3.11.12 (CPython x86_64 64bit) - Linux-6.1.123+-x86_64-with-glibc2.35 (OpenSSL 3.0.2 15 Mar 2022, glibc 2.35)\n",
            "[debug] exe versions: ffmpeg 4.4.2 (setts), ffprobe 4.4.2\n",
            "[debug] Optional libraries: certifi-2025.01.31, requests-2.32.3, secretstorage-3.3.3, sqlite3-3.37.2, urllib3-2.4.0, websockets-15.0.1\n",
            "[debug] Proxy map: {'colab_language_server': '/usr/colab/bin/language_service'}\n",
            "[debug] Request Handlers: urllib, requests, websockets\n",
            "[debug] Plugin directories: none\n",
            "[debug] Loaded 1850 extractors\n"
          ]
        },
        {
          "metadata": {
            "tags": null
          },
          "name": "stdout",
          "output_type": "stream",
          "text": [
            "Found 48 unique URLs to download.\n",
            "Target directory set to: '/content/MyYoutubeDLs'\n",
            "\n",
            "--- Starting Batch Download to /content/MyYoutubeDLs ---\n",
            "\n",
            "[1/48] Attempting to download: https://www.youtube.com/shorts/KWlRTHoUw-U\n",
            "[youtube] Extracting URL: https://www.youtube.com/shorts/KWlRTHoUw-U\n",
            "[youtube] KWlRTHoUw-U: Downloading webpage\n",
            "[youtube] KWlRTHoUw-U: Downloading tv client config\n",
            "[youtube] KWlRTHoUw-U: Downloading player 8102da6c-main\n",
            "[youtube] KWlRTHoUw-U: Downloading tv player API JSON\n",
            "[youtube] KWlRTHoUw-U: Downloading ios player API JSON\n"
          ]
        },
        {
          "metadata": {
            "tags": null
          },
          "name": "stderr",
          "output_type": "stream",
          "text": [
            "[debug] Loading youtube-nsig.8102da6c-main from cache\n",
            "[debug] [youtube] Decrypted nsig 721OUiTx7j1kkWIG => ku5HTsrHSHQ4vw\n",
            "[debug] [youtube] Decrypted nsig n2VItY8gz_YtVGOc => 4ZnNCIgX6EIS7A\n",
            "[debug] [youtube] KWlRTHoUw-U: ios client https formats require a GVS PO Token which was not provided. They will be skipped as they may yield HTTP Error 403. You can manually pass a GVS PO Token for this client with --extractor-args \"youtube:po_token=ios.gvs+XXX\". For more information, refer to  https://github.com/yt-dlp/yt-dlp/wiki/PO-Token-Guide . To enable these broken formats anyway, pass --extractor-args \"youtube:formats=missing_pot\"\n"
          ]
        },
        {
          "metadata": {
            "tags": null
          },
          "name": "stdout",
          "output_type": "stream",
          "text": [
            "[youtube] KWlRTHoUw-U: Downloading m3u8 information\n"
          ]
        },
        {
          "metadata": {
            "tags": null
          },
          "name": "stderr",
          "output_type": "stream",
          "text": [
            "[debug] Sort order given by extractor: quality, res, fps, hdr:12, source, vcodec, channels, acodec, lang, proto\n",
            "[debug] Formats sorted by: hasvid, ie_pref, quality, res, fps, hdr:12(7), source, vcodec, channels, acodec, lang, proto, size, br, asr, vext, aext, hasaud, id\n"
          ]
        },
        {
          "metadata": {
            "tags": null
          },
          "name": "stdout",
          "output_type": "stream",
          "text": [
            "[info] KWlRTHoUw-U: Downloading 1 format(s): 609+140\n"
          ]
        },
        {
          "metadata": {
            "tags": null
          },
          "name": "stderr",
          "output_type": "stream",
          "text": [
            "[debug] Invoking hlsnative downloader on \"https://manifest.googlevideo.com/api/manifest/hls_playlist/expire/1745903433/ei/6QoQaJ-tJY-psfIPl4OOcQ/ip/34.168.94.101/id/2969514c7a14c3e5/itag/609/source/youtube/requiressl/yes/ratebypass/yes/pfa/1/wft/1/sgovp/clen%3D2668497%3Bdur%3D56.033%3Bgir%3Dyes%3Bitag%3D247%3Blmt%3D1647057794182498/rqh/1/hls_chunk_host/rr1---sn-qxo7rn7k.googlevideo.com/xpc/EgVo2aDSNQ%3D%3D/met/1745881833,/mh/Yv/mm/31,29/mn/sn-qxo7rn7k,sn-qxoedn7k/ms/au,rdu/mv/m/mvi/1/pl/18/rms/au,au/initcwndbps/1968750/bui/AecWEAacdyujr-ckA7akMdRpLcs1s7o5o5izqA2rlYxWKn7dN-X0FNrx3sctb3aUpC8zZ7Mi2coAigsH/spc/wk1kZv47ygtulpkII48zu4XLg3yRljuNk-gj6vaGC0X5cUTo4ugZi-_fk7T4Fmu3Ozg/vprv/1/playlist_type/DVR/dover/13/txp/6319224/mt/1745881494/fvip/1/short_key/1/keepalive/yes/sparams/expire,ei,ip,id,itag,source,requiressl,ratebypass,pfa,wft,sgovp,rqh,xpc,bui,spc,vprv,playlist_type/sig/AJfQdSswRAIge6yKQKJ-GW01y2XHzjBts0WoZvulMk7k2bg9u1SE_JgCIAqrb73b3OhWbNQBGQhPdJlawE8r5nyccRadAzWseDa4/lsparams/hls_chunk_host,met,mh,mm,mn,ms,mv,mvi,pl,rms,initcwndbps/lsig/ACuhMU0wRQIgE7huXpCNewWypP0y73As7XS8wmdHUXHTMxRT10RJzysCIQCjCIJ9-EDrtnS_L9PIlgqZpQXLr-id3LyoDcHhjAFJXg%3D%3D/playlist/index.m3u8\"\n"
          ]
        },
        {
          "metadata": {
            "tags": null
          },
          "name": "stdout",
          "output_type": "stream",
          "text": [
            "[hlsnative] Downloading m3u8 manifest\n",
            "[hlsnative] Total fragments: 11\n",
            "[download] Destination: /content/MyYoutubeDLs/Surviving Akathisia. 💔 Facebook memories 💔 [KWlRTHoUw-U].f609.mp4\n",
            "[download] 100% of    2.55MiB in 00:00:06 at 425.62KiB/s               \n"
          ]
        },
        {
          "metadata": {
            "tags": null
          },
          "name": "stderr",
          "output_type": "stream",
          "text": [
            "[debug] Invoking http downloader on \"https://rr1---sn-qxo7rn7k.googlevideo.com/videoplayback?expire=1745903433&ei=6QoQaPucIJGVsfIPx5PIoAI&ip=34.168.94.101&id=o-ABkhayRFlIZEm3UTXcSmoyYTpgAs96BS0eenUfB19fvw&itag=140&source=youtube&requiressl=yes&xpc=EgVo2aDSNQ%3D%3D&met=1745881833%2C&mh=Yv&mm=31%2C26&mn=sn-qxo7rn7k%2Csn-a5msener&ms=au%2Conr&mv=m&mvi=1&pl=18&rms=au%2Cau&initcwndbps=1968750&bui=AecWEAbJVHM4BE8bpYChEmBMXsHZzaAd512T4UHX8NiobpSI2nVL0Cllv-V3nxOidFZckCgBB1E7b_Ak&vprv=1&svpuc=1&mime=audio%2Fmp4&ns=Hj_HGl8Gwh2YWeawBJ22OzEQ&rqh=1&gir=yes&clen=908614&dur=56.099&lmt=1647057795100395&mt=1745881494&fvip=1&keepalive=yes&lmw=1&c=TVHTML5&sefc=1&txp=6318224&n=4ZnNCIgX6EIS7A&sparams=expire%2Cei%2Cip%2Cid%2Citag%2Csource%2Crequiressl%2Cxpc%2Cbui%2Cvprv%2Csvpuc%2Cmime%2Cns%2Crqh%2Cgir%2Cclen%2Cdur%2Clmt&sig=AJfQdSswRQIhAMJLM7sTOkh7C-OZrKt1VmRUEtdgwg2bq1yCUX-uOqtPAiBSEWyDKseAp7XOwkVyeI3XU7RSyTo9X81hvk4Apitf6Q%3D%3D&lsparams=met%2Cmh%2Cmm%2Cmn%2Cms%2Cmv%2Cmvi%2Cpl%2Crms%2Cinitcwndbps&lsig=ACuhMU0wRQIgMQ0VZGBaZt5g-6M5qpFxZ_v-DsA_pPR7covzGe4HadsCIQDsnhZPnd3s7HfvYXAbNW8WLEYjd_e2ZwDH0rLW3w8-CQ%3D%3D\"\n"
          ]
        },
        {
          "metadata": {
            "tags": null
          },
          "name": "stdout",
          "output_type": "stream",
          "text": [
            "[download] Destination: /content/MyYoutubeDLs/Surviving Akathisia. 💔 Facebook memories 💔 [KWlRTHoUw-U].f140.m4a\n",
            "[download] 100% of  887.32KiB in 00:00:02 at 427.49KiB/s \n",
            "[Merger] Merging formats into \"/content/MyYoutubeDLs/Surviving Akathisia. 💔 Facebook memories 💔 [KWlRTHoUw-U].mp4\"\n"
          ]
        },
        {
          "metadata": {
            "tags": null
          },
          "name": "stderr",
          "output_type": "stream",
          "text": [
            "[debug] ffmpeg command line: ffmpeg -y -loglevel repeat+info -i 'file:/content/MyYoutubeDLs/Surviving Akathisia. 💔 Facebook memories 💔 [KWlRTHoUw-U].f609.mp4' -i 'file:/content/MyYoutubeDLs/Surviving Akathisia. 💔 Facebook memories 💔 [KWlRTHoUw-U].f140.m4a' -c copy -map 0:v:0 -map 1:a:0 -movflags +faststart 'file:/content/MyYoutubeDLs/Surviving Akathisia. 💔 Facebook memories 💔 [KWlRTHoUw-U].temp.mp4'\n"
          ]
        },
        {
          "metadata": {
            "tags": null
          },
          "name": "stdout",
          "output_type": "stream",
          "text": [
            "Deleting original file /content/MyYoutubeDLs/Surviving Akathisia. 💔 Facebook memories 💔 [KWlRTHoUw-U].f140.m4a (pass -k to keep)\n",
            "Deleting original file /content/MyYoutubeDLs/Surviving Akathisia. 💔 Facebook memories 💔 [KWlRTHoUw-U].f609.mp4 (pass -k to keep)\n",
            "-> Success or skipped (due to existing file/error ignored): https://www.youtube.com/shorts/KWlRTHoUw-U\n",
            "\n",
            "[2/48] Attempting to download: https://www.youtube.com/shorts/4BtKixyFrlI\n",
            "[youtube] Extracting URL: https://www.youtube.com/shorts/4BtKixyFrlI\n",
            "[youtube] 4BtKixyFrlI: Downloading webpage\n",
            "[youtube] 4BtKixyFrlI: Downloading tv client config\n",
            "[youtube] 4BtKixyFrlI: Downloading tv player API JSON\n",
            "[youtube] 4BtKixyFrlI: Downloading ios player API JSON\n"
          ]
        },
        {
          "metadata": {
            "tags": null
          },
          "name": "stderr",
          "output_type": "stream",
          "text": [
            "[debug] [youtube] Decrypted nsig zkbZ7Mu0frUU5Vxt => juazUssyBK-vNQ\n",
            "[debug] [youtube] Decrypted nsig _TQJxuOX7_6YI_jB => Zt0V9WHkiID_iA\n",
            "[debug] [youtube] 4BtKixyFrlI: ios client https formats require a GVS PO Token which was not provided. They will be skipped as they may yield HTTP Error 403. You can manually pass a GVS PO Token for this client with --extractor-args \"youtube:po_token=ios.gvs+XXX\". For more information, refer to  https://github.com/yt-dlp/yt-dlp/wiki/PO-Token-Guide . To enable these broken formats anyway, pass --extractor-args \"youtube:formats=missing_pot\"\n"
          ]
        },
        {
          "metadata": {
            "tags": null
          },
          "name": "stdout",
          "output_type": "stream",
          "text": [
            "[youtube] 4BtKixyFrlI: Downloading m3u8 information\n"
          ]
        },
        {
          "metadata": {
            "tags": null
          },
          "name": "stderr",
          "output_type": "stream",
          "text": [
            "[debug] Sort order given by extractor: quality, res, fps, hdr:12, source, vcodec, channels, acodec, lang, proto\n",
            "[debug] Formats sorted by: hasvid, ie_pref, quality, res, fps, hdr:12(7), source, vcodec, channels, acodec, lang, proto, size, br, asr, vext, aext, hasaud, id\n"
          ]
        },
        {
          "metadata": {
            "tags": null
          },
          "name": "stdout",
          "output_type": "stream",
          "text": [
            "[info] 4BtKixyFrlI: Downloading 1 format(s): 614+140\n"
          ]
        },
        {
          "metadata": {
            "tags": null
          },
          "name": "stderr",
          "output_type": "stream",
          "text": [
            "[debug] Invoking hlsnative downloader on \"https://manifest.googlevideo.com/api/manifest/hls_playlist/expire/1745903453/ei/_QoQaLHCC8yWsfIP3_HpkAg/ip/34.168.94.101/id/e01b4a8b1c85ae52/itag/614/source/youtube/requiressl/yes/ratebypass/yes/pfa/1/wft/1/sgovp/clen%3D7936992%3Bdur%3D57.390%3Bgir%3Dyes%3Bitag%3D248%3Blmt%3D1728918309300950/rqh/1/hls_chunk_host/rr5---sn-qxo7rn7k.googlevideo.com/xpc/EgVo2aDSNQ%3D%3D/met/1745881853,/mh/nt/mm/31,29/mn/sn-qxo7rn7k,sn-qxoedne7/ms/au,rdu/mv/m/mvi/5/pl/18/rms/au,au/initcwndbps/1968750/bui/AecWEAY1Mn0IwCiYxjuJxPKtG9ZGUsbTbiXUfk7e80YyP8ct9P-ygFLuGvm5R9jt30ETw1LLm3Cx2hnM/spc/wk1kZnA7DBQDj7TvuiLeiaFCFIaI1kFcOg-UMslCHE-8umSsppUugshEuJI55yrCRyU/vprv/1/playlist_type/DVR/dover/13/txp/630A224/mt/1745881494/fvip/2/short_key/1/keepalive/yes/sparams/expire,ei,ip,id,itag,source,requiressl,ratebypass,pfa,wft,sgovp,rqh,xpc,bui,spc,vprv,playlist_type/sig/AJfQdSswRgIhAOB5MKX2UmWh6pHW51Xj3hTd4dfbn3jLSLlXccv0Crr-AiEApiyRKNJic7ie01KjX8V2NwAOHm3RW1ni4cOkmn8Ewfg%3D/lsparams/hls_chunk_host,met,mh,mm,mn,ms,mv,mvi,pl,rms,initcwndbps/lsig/ACuhMU0wRAIgKKP7XCI-IXin3QelA5bMeTiC0X07QJsqY_HiZjjgXp8CIH3whvFclX0w4dR1OLZFpCPK5d1rBJ4gFOnCGjtLEfjH/playlist/index.m3u8\"\n"
          ]
        },
        {
          "metadata": {
            "tags": null
          },
          "name": "stdout",
          "output_type": "stream",
          "text": [
            "[hlsnative] Downloading m3u8 manifest\n",
            "[hlsnative] Total fragments: 11\n",
            "[download] Destination: /content/MyYoutubeDLs/What's different about suicidality with akathisia？ [4BtKixyFrlI].f614.mp4\n",
            "[download] 100% of    7.58MiB in 00:00:15 at 489.25KiB/s               \n"
          ]
        },
        {
          "metadata": {
            "tags": null
          },
          "name": "stderr",
          "output_type": "stream",
          "text": [
            "[debug] Invoking http downloader on \"https://rr5---sn-qxo7rn7k.googlevideo.com/videoplayback?expire=1745903453&ei=_QoQaJPxBMOpsfIPppm80A0&ip=34.168.94.101&id=o-APUrWT3m79bX4cA57XJA2KJRHqaULyehwpuw2SfJUtfL&itag=140&source=youtube&requiressl=yes&xpc=EgVo2aDSNQ%3D%3D&met=1745881853%2C&mh=nt&mm=31%2C29&mn=sn-qxo7rn7k%2Csn-qxoedne7&ms=au%2Crdu&mv=m&mvi=5&pl=18&rms=au%2Cau&initcwndbps=1968750&bui=AecWEAat0WdO2dZ12JA9wCoKvL4Crnm0d80Xi7awsBK8Fiax-6rTWUf_XZ9ERnbuFAA7sBxrdAZfzupN&vprv=1&svpuc=1&mime=audio%2Fmp4&ns=rESV8HCH0Swvwx9mLdNHzLUQ&rqh=1&gir=yes&clen=930485&dur=57.446&lmt=1728918316050608&mt=1745881494&fvip=2&keepalive=yes&lmw=1&c=TVHTML5&sefc=1&txp=6318224&n=Zt0V9WHkiID_iA&sparams=expire%2Cei%2Cip%2Cid%2Citag%2Csource%2Crequiressl%2Cxpc%2Cbui%2Cvprv%2Csvpuc%2Cmime%2Cns%2Crqh%2Cgir%2Cclen%2Cdur%2Clmt&sig=AJfQdSswRQIhAMB3RkYfm3Ry7tE0uUZo1JlcHVSvLnQ0FuXP9zw0bfN1AiBphPsCtYhM7R1O3NPZHUiFyTVOAPF_B9xr5jSNBpNm4g%3D%3D&lsparams=met%2Cmh%2Cmm%2Cmn%2Cms%2Cmv%2Cmvi%2Cpl%2Crms%2Cinitcwndbps&lsig=ACuhMU0wRgIhAPTygFRu0HLVYt8tLVd2PxkySkozEy_GpILiTRLfLR_aAiEAjyki6edbx5bPvLti_mLidtokmDs803cHTGOmqZ2WsKE%3D\"\n"
          ]
        },
        {
          "metadata": {
            "tags": null
          },
          "name": "stdout",
          "output_type": "stream",
          "text": [
            "[download] Destination: /content/MyYoutubeDLs/What's different about suicidality with akathisia？ [4BtKixyFrlI].f140.m4a\n",
            "[download] 100% of  908.68KiB in 00:00:02 at 420.65KiB/s \n",
            "[Merger] Merging formats into \"/content/MyYoutubeDLs/What's different about suicidality with akathisia？ [4BtKixyFrlI].mp4\"\n"
          ]
        },
        {
          "metadata": {
            "tags": null
          },
          "name": "stderr",
          "output_type": "stream",
          "text": [
            "[debug] ffmpeg command line: ffmpeg -y -loglevel repeat+info -i 'file:/content/MyYoutubeDLs/What'\"'\"'s different about suicidality with akathisia？ [4BtKixyFrlI].f614.mp4' -i 'file:/content/MyYoutubeDLs/What'\"'\"'s different about suicidality with akathisia？ [4BtKixyFrlI].f140.m4a' -c copy -map 0:v:0 -map 1:a:0 -movflags +faststart 'file:/content/MyYoutubeDLs/What'\"'\"'s different about suicidality with akathisia？ [4BtKixyFrlI].temp.mp4'\n"
          ]
        },
        {
          "metadata": {
            "tags": null
          },
          "name": "stdout",
          "output_type": "stream",
          "text": [
            "Deleting original file /content/MyYoutubeDLs/What's different about suicidality with akathisia？ [4BtKixyFrlI].f614.mp4 (pass -k to keep)\n",
            "Deleting original file /content/MyYoutubeDLs/What's different about suicidality with akathisia？ [4BtKixyFrlI].f140.m4a (pass -k to keep)\n",
            "-> Success or skipped (due to existing file/error ignored): https://www.youtube.com/shorts/4BtKixyFrlI\n",
            "\n",
            "[3/48] Attempting to download: https://www.youtube.com/shorts/262Jze4AhtI\n",
            "[youtube] Extracting URL: https://www.youtube.com/shorts/262Jze4AhtI\n",
            "[youtube] 262Jze4AhtI: Downloading webpage\n",
            "[youtube] 262Jze4AhtI: Downloading tv client config\n",
            "[youtube] 262Jze4AhtI: Downloading tv player API JSON\n",
            "[youtube] 262Jze4AhtI: Downloading ios player API JSON\n"
          ]
        },
        {
          "metadata": {
            "tags": null
          },
          "name": "stderr",
          "output_type": "stream",
          "text": [
            "[debug] [youtube] Decrypted nsig 5FmjvEQz5jyUB_jy => ZrDbKdyH3u9ABw\n",
            "[debug] [youtube] Decrypted nsig cMH2XFeJIjotL_I_ => Z1EGWTw5ZyuZ3w\n",
            "[debug] [youtube] 262Jze4AhtI: ios client https formats require a GVS PO Token which was not provided. They will be skipped as they may yield HTTP Error 403. You can manually pass a GVS PO Token for this client with --extractor-args \"youtube:po_token=ios.gvs+XXX\". For more information, refer to  https://github.com/yt-dlp/yt-dlp/wiki/PO-Token-Guide . To enable these broken formats anyway, pass --extractor-args \"youtube:formats=missing_pot\"\n"
          ]
        },
        {
          "metadata": {
            "tags": null
          },
          "name": "stdout",
          "output_type": "stream",
          "text": [
            "[youtube] 262Jze4AhtI: Downloading m3u8 information\n"
          ]
        },
        {
          "metadata": {
            "tags": null
          },
          "name": "stderr",
          "output_type": "stream",
          "text": [
            "[debug] Sort order given by extractor: quality, res, fps, hdr:12, source, vcodec, channels, acodec, lang, proto\n",
            "[debug] Formats sorted by: hasvid, ie_pref, quality, res, fps, hdr:12(7), source, vcodec, channels, acodec, lang, proto, size, br, asr, vext, aext, hasaud, id\n"
          ]
        },
        {
          "metadata": {
            "tags": null
          },
          "name": "stdout",
          "output_type": "stream",
          "text": [
            "[info] 262Jze4AhtI: Downloading 1 format(s): 614+140\n"
          ]
        },
        {
          "metadata": {
            "tags": null
          },
          "name": "stderr",
          "output_type": "stream",
          "text": [
            "[debug] Invoking hlsnative downloader on \"https://manifest.googlevideo.com/api/manifest/hls_playlist/expire/1745903480/ei/GAsQaI_SLpb3sfIPoZf8uAw/ip/34.168.94.101/id/dbad89cdee0086d2/itag/614/source/youtube/requiressl/yes/ratebypass/yes/pfa/1/wft/1/sgovp/clen%3D5244143%3Bdur%3D58.692%3Bgir%3Dyes%3Bitag%3D248%3Blmt%3D1719849892280791/rqh/1/hls_chunk_host/rr1---sn-qxo7rn7k.googlevideo.com/xpc/EgVo2aDSNQ%3D%3D/met/1745881880,/mh/qg/mm/31,29/mn/sn-qxo7rn7k,sn-qxoedn7k/ms/au,rdu/mv/m/mvi/1/pl/18/rms/au,au/initcwndbps/1968750/bui/AecWEAbGZzqOnFr4j6IUoUvVk2Ag1jWUgWb4ozEGa5WLwGdpvSYW7qdqoMRswikoAgKbS6gzxtwk0CIO/spc/wk1kZtjO9Nt-Uay-1JJOXl-8uObfslUZQJ4g7bUUdnZVRJd755A-_BEsCqkpZC0Ya5M/vprv/1/playlist_type/DVR/dover/13/txp/630A224/mt/1745881494/fvip/4/short_key/1/keepalive/yes/sparams/expire,ei,ip,id,itag,source,requiressl,ratebypass,pfa,wft,sgovp,rqh,xpc,bui,spc,vprv,playlist_type/sig/AJfQdSswRAIgKnb7iigFiMzhpYcWZRVV-pLjtslcqLNSVrF4qTlHvF0CIBcYFOeQAxith0hru_Ak2hpmHR2Zd4xFvHPZ39_aZIcL/lsparams/hls_chunk_host,met,mh,mm,mn,ms,mv,mvi,pl,rms,initcwndbps/lsig/ACuhMU0wRQIgRShqzrdU2C16UMQp1EXPYfqyiyQwo0zATLZq6Cefd38CIQDTF48YUTvZXYjXdex4ecWkPQI0S8DWfNy7_rQ_xSbRew%3D%3D/playlist/index.m3u8\"\n"
          ]
        },
        {
          "metadata": {
            "tags": null
          },
          "name": "stdout",
          "output_type": "stream",
          "text": [
            "[hlsnative] Downloading m3u8 manifest\n",
            "[hlsnative] Total fragments: 12\n",
            "[download] Destination: /content/MyYoutubeDLs/I Lived in Fear and Silence #shareyourdrugstory #mentalhealth #lamictal [262Jze4AhtI].f614.mp4\n",
            "[download] 100% of    5.01MiB in 00:00:10 at 480.35KiB/s               \n"
          ]
        },
        {
          "metadata": {
            "tags": null
          },
          "name": "stderr",
          "output_type": "stream",
          "text": [
            "[debug] Invoking http downloader on \"https://rr1---sn-qxo7rn7k.googlevideo.com/videoplayback?expire=1745903480&ei=GAsQaK2KJuSpsfIPr6WwoA8&ip=34.168.94.101&id=o-ABUWYVrEWm5kC8a51lB2dWn-bAsaNqcTl8yCOGYBx2p_&itag=140&source=youtube&requiressl=yes&xpc=EgVo2aDSNQ%3D%3D&met=1745881880%2C&mh=qg&mm=31%2C26&mn=sn-qxo7rn7k%2Csn-a5msener&ms=au%2Conr&mv=m&mvi=1&pl=18&rms=au%2Cau&initcwndbps=1968750&bui=AecWEAbYieLYPCily7kuMrGgpHraf-XqFKa8ffGr3Mlr4Vh40SK2zMC87YCPtrAhxXZjEWOoNTI1gJPJ&vprv=1&svpuc=1&mime=audio%2Fmp4&ns=wrOEdSjMFsissiHT9S9oVugQ&rqh=1&gir=yes&clen=951629&dur=58.746&lmt=1719849888253081&mt=1745881494&fvip=3&keepalive=yes&lmw=1&c=TVHTML5&sefc=1&txp=6308224&n=Z1EGWTw5ZyuZ3w&sparams=expire%2Cei%2Cip%2Cid%2Citag%2Csource%2Crequiressl%2Cxpc%2Cbui%2Cvprv%2Csvpuc%2Cmime%2Cns%2Crqh%2Cgir%2Cclen%2Cdur%2Clmt&sig=AJfQdSswRQIhAPTDCc3PcZ_gVrrD-EaK4zrtj-VQXz6MtK5xbf74MIO0AiAcBV300A3UYrArh16yEXiFDmwpiinQKiiZPOljsXQP2g%3D%3D&lsparams=met%2Cmh%2Cmm%2Cmn%2Cms%2Cmv%2Cmvi%2Cpl%2Crms%2Cinitcwndbps&lsig=ACuhMU0wRQIhAM5lwAI2WzgQvgPZOdyipoSG3D0ppajKtvoXyz6rcGlQAiBvNrCosCP7ruN0NdTen9J34Kkuz5WyustRfNEc4Dalag%3D%3D\"\n"
          ]
        },
        {
          "metadata": {
            "tags": null
          },
          "name": "stdout",
          "output_type": "stream",
          "text": [
            "[download] Destination: /content/MyYoutubeDLs/I Lived in Fear and Silence #shareyourdrugstory #mentalhealth #lamictal [262Jze4AhtI].f140.m4a\n",
            "[download] 100% of  929.33KiB in 00:00:02 at 420.89KiB/s \n",
            "[Merger] Merging formats into \"/content/MyYoutubeDLs/I Lived in Fear and Silence #shareyourdrugstory #mentalhealth #lamictal [262Jze4AhtI].mp4\"\n"
          ]
        },
        {
          "metadata": {
            "tags": null
          },
          "name": "stderr",
          "output_type": "stream",
          "text": [
            "[debug] ffmpeg command line: ffmpeg -y -loglevel repeat+info -i 'file:/content/MyYoutubeDLs/I Lived in Fear and Silence #shareyourdrugstory #mentalhealth #lamictal [262Jze4AhtI].f614.mp4' -i 'file:/content/MyYoutubeDLs/I Lived in Fear and Silence #shareyourdrugstory #mentalhealth #lamictal [262Jze4AhtI].f140.m4a' -c copy -map 0:v:0 -map 1:a:0 -movflags +faststart 'file:/content/MyYoutubeDLs/I Lived in Fear and Silence #shareyourdrugstory #mentalhealth #lamictal [262Jze4AhtI].temp.mp4'\n"
          ]
        },
        {
          "metadata": {
            "tags": null
          },
          "name": "stdout",
          "output_type": "stream",
          "text": [
            "Deleting original file /content/MyYoutubeDLs/I Lived in Fear and Silence #shareyourdrugstory #mentalhealth #lamictal [262Jze4AhtI].f140.m4a (pass -k to keep)\n",
            "Deleting original file /content/MyYoutubeDLs/I Lived in Fear and Silence #shareyourdrugstory #mentalhealth #lamictal [262Jze4AhtI].f614.mp4 (pass -k to keep)\n",
            "-> Success or skipped (due to existing file/error ignored): https://www.youtube.com/shorts/262Jze4AhtI\n",
            "\n",
            "[4/48] Attempting to download: https://www.youtube.com/shorts/5pcRzx3H1eg\n",
            "[youtube] Extracting URL: https://www.youtube.com/shorts/5pcRzx3H1eg\n",
            "[youtube] 5pcRzx3H1eg: Downloading webpage\n",
            "[youtube] 5pcRzx3H1eg: Downloading tv client config\n",
            "[youtube] 5pcRzx3H1eg: Downloading tv player API JSON\n",
            "[youtube] 5pcRzx3H1eg: Downloading ios player API JSON\n"
          ]
        },
        {
          "metadata": {
            "tags": null
          },
          "name": "stderr",
          "output_type": "stream",
          "text": [
            "[debug] [youtube] Decrypted nsig qmbYeigxZTHSDWB_ => kLK5sd_J1t-ZEg\n",
            "[debug] [youtube] Decrypted nsig 52-TZPyNKr4u-Orb => chbA1lbcFElRoQ\n",
            "[debug] [youtube] 5pcRzx3H1eg: ios client https formats require a GVS PO Token which was not provided. They will be skipped as they may yield HTTP Error 403. You can manually pass a GVS PO Token for this client with --extractor-args \"youtube:po_token=ios.gvs+XXX\". For more information, refer to  https://github.com/yt-dlp/yt-dlp/wiki/PO-Token-Guide . To enable these broken formats anyway, pass --extractor-args \"youtube:formats=missing_pot\"\n"
          ]
        },
        {
          "metadata": {
            "tags": null
          },
          "name": "stdout",
          "output_type": "stream",
          "text": [
            "[youtube] 5pcRzx3H1eg: Downloading m3u8 information\n"
          ]
        },
        {
          "metadata": {
            "tags": null
          },
          "name": "stderr",
          "output_type": "stream",
          "text": [
            "[debug] Sort order given by extractor: quality, res, fps, hdr:12, source, vcodec, channels, acodec, lang, proto\n",
            "[debug] Formats sorted by: hasvid, ie_pref, quality, res, fps, hdr:12(7), source, vcodec, channels, acodec, lang, proto, size, br, asr, vext, aext, hasaud, id\n"
          ]
        },
        {
          "metadata": {
            "tags": null
          },
          "name": "stdout",
          "output_type": "stream",
          "text": [
            "[info] 5pcRzx3H1eg: Downloading 1 format(s): 614+140\n"
          ]
        },
        {
          "metadata": {
            "tags": null
          },
          "name": "stderr",
          "output_type": "stream",
          "text": [
            "[debug] Invoking hlsnative downloader on \"https://manifest.googlevideo.com/api/manifest/hls_playlist/expire/1745903504/ei/MAsQaKmSFZKosfIP3cC2wQI/ip/34.168.94.101/id/e69711cf1dc7d5e8/itag/614/source/youtube/requiressl/yes/ratebypass/yes/pfa/1/wft/1/sgovp/clen%3D6269908%3Bdur%3D59.033%3Bgir%3Dyes%3Bitag%3D248%3Blmt%3D1735845682916506/rqh/1/hls_chunk_host/rr5---sn-qxo7rn7k.googlevideo.com/xpc/EgVo2aDSNQ%3D%3D/met/1745881904,/mh/bU/mm/31,26/mn/sn-qxo7rn7k,sn-a5msen76/ms/au,onr/mv/m/mvi/5/pl/18/rms/au,au/initcwndbps/1968750/bui/AecWEAZMbGGu620uUGj0aMiFJxhNgjZ_WDZ0Lnio31RcJMNiOyzFqdkyxpKqU9pQVSj6KPkP7lVj39BS/spc/wk1kZvCz5xDe3YJwYfrBF85fs2lhzoShzPYmr4s5rHr2FDKLtMvrwkpZr9IWbHBx-uw/vprv/1/playlist_type/DVR/dover/13/txp/630A224/mt/1745881494/fvip/1/short_key/1/keepalive/yes/sparams/expire,ei,ip,id,itag,source,requiressl,ratebypass,pfa,wft,sgovp,rqh,xpc,bui,spc,vprv,playlist_type/sig/AJfQdSswRQIgZBVHoVl4mv1uiwUMI1gpqrULk5bXWTTRC1be7yF-JWMCIQDVxV_9IpIhd2SHFeOcmsQEcnHnqZaNuBZbS4vuJ3O0yA%3D%3D/lsparams/hls_chunk_host,met,mh,mm,mn,ms,mv,mvi,pl,rms,initcwndbps/lsig/ACuhMU0wRQIhAL9hWLm18RNrJTS8qaGutmPHk2ZmgaHwJ-Po3g0RbXDMAiABrwEAcyrkWW3EsvjTcOWscBZP7p1FtEa_9I0jbTEt2A%3D%3D/playlist/index.m3u8\"\n"
          ]
        },
        {
          "metadata": {
            "tags": null
          },
          "name": "stdout",
          "output_type": "stream",
          "text": [
            "[hlsnative] Downloading m3u8 manifest\n",
            "[hlsnative] Total fragments: 14\n",
            "[download] Destination: /content/MyYoutubeDLs/What is Akathisia？ #bind #akathisia #antidepressantsideeffects #medicalgaslighting [5pcRzx3H1eg].f614.mp4\n",
            "[download] 100% of    5.99MiB in 00:00:13 at 454.02KiB/s               \n"
          ]
        },
        {
          "metadata": {
            "tags": null
          },
          "name": "stderr",
          "output_type": "stream",
          "text": [
            "[debug] Invoking http downloader on \"https://rr5---sn-qxo7rn7k.googlevideo.com/videoplayback?expire=1745903504&ei=MAsQaITlD5HBsfIPsdjZ8QI&ip=34.168.94.101&id=o-AL0N7OUwCyB0s9_NVah1Id2r3lWna-vUDlJUIwtm9S_J&itag=140&source=youtube&requiressl=yes&xpc=EgVo2aDSNQ%3D%3D&met=1745881904%2C&mh=bU&mm=31%2C26&mn=sn-qxo7rn7k%2Csn-a5msen76&ms=au%2Conr&mv=m&mvi=5&pl=18&rms=au%2Cau&initcwndbps=1968750&bui=AecWEAay8zesOR1bVdFoWx7X01fMNQW2gzH6MqIvT6WuPKevj5P-UpHODEeCVBlTEVJl_IZZkNfqfflB&vprv=1&svpuc=1&mime=audio%2Fmp4&ns=CsHJzJiCzA8T2voBxPRYeocQ&rqh=1&gir=yes&clen=957523&dur=59.118&lmt=1735845658831615&mt=1745881494&fvip=1&keepalive=yes&lmw=1&c=TVHTML5&sefc=1&txp=6308224&n=chbA1lbcFElRoQ&sparams=expire%2Cei%2Cip%2Cid%2Citag%2Csource%2Crequiressl%2Cxpc%2Cbui%2Cvprv%2Csvpuc%2Cmime%2Cns%2Crqh%2Cgir%2Cclen%2Cdur%2Clmt&sig=AJfQdSswRgIhAPGOstrk_UtQzElcPA9RgGc3tYt3_Aj1SVFwvDtPWxhTAiEA8Mlo5WgEqqZdBuxxVjDquWeMGwYbfCKilpWL9fFVqFU%3D&lsparams=met%2Cmh%2Cmm%2Cmn%2Cms%2Cmv%2Cmvi%2Cpl%2Crms%2Cinitcwndbps&lsig=ACuhMU0wRQIgEm3fzOxn2ub1CSBq1ddDo489qwedAHufFiOX_lZ_k7gCIQDV3cRmMgWnH-kfiPMT9obl1AYFLEwEHl2xNXnJiGGdFw%3D%3D\"\n"
          ]
        },
        {
          "metadata": {
            "tags": null
          },
          "name": "stdout",
          "output_type": "stream",
          "text": [
            "[download] Destination: /content/MyYoutubeDLs/What is Akathisia？ #bind #akathisia #antidepressantsideeffects #medicalgaslighting [5pcRzx3H1eg].f140.m4a\n",
            "[download] 100% of  935.08KiB in 00:00:02 at 461.00KiB/s \n",
            "[Merger] Merging formats into \"/content/MyYoutubeDLs/What is Akathisia？ #bind #akathisia #antidepressantsideeffects #medicalgaslighting [5pcRzx3H1eg].mp4\"\n"
          ]
        },
        {
          "metadata": {
            "tags": null
          },
          "name": "stderr",
          "output_type": "stream",
          "text": [
            "[debug] ffmpeg command line: ffmpeg -y -loglevel repeat+info -i 'file:/content/MyYoutubeDLs/What is Akathisia？ #bind #akathisia #antidepressantsideeffects #medicalgaslighting [5pcRzx3H1eg].f614.mp4' -i 'file:/content/MyYoutubeDLs/What is Akathisia？ #bind #akathisia #antidepressantsideeffects #medicalgaslighting [5pcRzx3H1eg].f140.m4a' -c copy -map 0:v:0 -map 1:a:0 -movflags +faststart 'file:/content/MyYoutubeDLs/What is Akathisia？ #bind #akathisia #antidepressantsideeffects #medicalgaslighting [5pcRzx3H1eg].temp.mp4'\n"
          ]
        },
        {
          "metadata": {
            "tags": null
          },
          "name": "stdout",
          "output_type": "stream",
          "text": [
            "Deleting original file /content/MyYoutubeDLs/What is Akathisia？ #bind #akathisia #antidepressantsideeffects #medicalgaslighting [5pcRzx3H1eg].f140.m4a (pass -k to keep)\n",
            "Deleting original file /content/MyYoutubeDLs/What is Akathisia？ #bind #akathisia #antidepressantsideeffects #medicalgaslighting [5pcRzx3H1eg].f614.mp4 (pass -k to keep)\n",
            "-> Success or skipped (due to existing file/error ignored): https://www.youtube.com/shorts/5pcRzx3H1eg\n",
            "\n",
            "[5/48] Attempting to download: https://www.youtube.com/watch?v=gP1i93Gh0Ng\n",
            "[youtube] Extracting URL: https://www.youtube.com/watch?v=gP1i93Gh0Ng\n",
            "[youtube] gP1i93Gh0Ng: Downloading webpage\n",
            "[youtube] gP1i93Gh0Ng: Downloading tv client config\n",
            "[youtube] gP1i93Gh0Ng: Downloading tv player API JSON\n",
            "[youtube] gP1i93Gh0Ng: Downloading ios player API JSON\n"
          ]
        },
        {
          "metadata": {
            "tags": null
          },
          "name": "stderr",
          "output_type": "stream",
          "text": [
            "[debug] [youtube] Decrypted nsig YJyLlBRA1TXiaaZd => Q40EEA6yaMNT4g\n",
            "[debug] [youtube] Decrypted nsig TVMyhgavZ_2m286T => KkopXjUIS0zhsA\n",
            "[debug] [youtube] gP1i93Gh0Ng: ios client https formats require a GVS PO Token which was not provided. They will be skipped as they may yield HTTP Error 403. You can manually pass a GVS PO Token for this client with --extractor-args \"youtube:po_token=ios.gvs+XXX\". For more information, refer to  https://github.com/yt-dlp/yt-dlp/wiki/PO-Token-Guide . To enable these broken formats anyway, pass --extractor-args \"youtube:formats=missing_pot\"\n"
          ]
        },
        {
          "metadata": {
            "tags": null
          },
          "name": "stdout",
          "output_type": "stream",
          "text": [
            "[youtube] gP1i93Gh0Ng: Downloading m3u8 information\n"
          ]
        },
        {
          "metadata": {
            "tags": null
          },
          "name": "stderr",
          "output_type": "stream",
          "text": [
            "[debug] Sort order given by extractor: quality, res, fps, hdr:12, source, vcodec, channels, acodec, lang, proto\n",
            "[debug] Formats sorted by: hasvid, ie_pref, quality, res, fps, hdr:12(7), source, vcodec, channels, acodec, lang, proto, size, br, asr, vext, aext, hasaud, id\n"
          ]
        },
        {
          "metadata": {
            "tags": null
          },
          "name": "stdout",
          "output_type": "stream",
          "text": [
            "[info] gP1i93Gh0Ng: Downloading 1 format(s): 605+140\n"
          ]
        },
        {
          "metadata": {
            "tags": null
          },
          "name": "stderr",
          "output_type": "stream",
          "text": [
            "[debug] Invoking hlsnative downloader on \"https://manifest.googlevideo.com/api/manifest/hls_playlist/expire/1745903530/ei/SgsQaPeDBITAsfIP0uzbyQs/ip/34.168.94.101/id/80fd62f771a1d0d8/itag/605/source/youtube/requiressl/yes/ratebypass/yes/pfa/1/wft/1/sgovp/clen%3D2662092%3Bdur%3D187.220%3Bgir%3Dyes%3Bitag%3D243%3Blmt%3D1735881971699584/rqh/1/hls_chunk_host/rr1---sn-qxo7rn7r.googlevideo.com/xpc/EgVo2aDSNQ%3D%3D/met/1745881930,/mh/3o/mm/31,29/mn/sn-qxo7rn7r,sn-qxoedne7/ms/au,rdu/mv/m/mvi/1/pl/18/rms/au,au/initcwndbps/1968750/bui/AecWEAZwAxcux1MYL_ekdCvCCknxiO6eoZ5X9-4kNHFH6e7D-mkKHmZvjc0G9myDIfs5fL-ClmpOknH4/spc/wk1kZreHFpEw4-ABbCdvI_IqBDkyCCdjVzfWK0_EMdvpaZxRUsARd00RD1K_Klga4n0/vprv/1/playlist_type/DVR/dover/13/txp/8218224/mt/1745881494/fvip/5/short_key/1/keepalive/yes/sparams/expire,ei,ip,id,itag,source,requiressl,ratebypass,pfa,wft,sgovp,rqh,xpc,bui,spc,vprv,playlist_type/sig/AJfQdSswRQIhAJ_Gy3qBNJr22GZFk8QX7OTyIFzG_gZvSOVMGygdoBJIAiAXeoNs3IeBrmQLiekXE_5ztKwIEYkN4jrODNTVWRaNLA%3D%3D/lsparams/hls_chunk_host,met,mh,mm,mn,ms,mv,mvi,pl,rms,initcwndbps/lsig/ACuhMU0wRQIhAN04qph4i0rNVspMbARMVOjvV1SLjJvlgUTdm3qaJ_RPAiA_WujkSw7WHrdJaesarOhJi07abSBaHqH78BGeE0m1vw%3D%3D/playlist/index.m3u8\"\n"
          ]
        },
        {
          "metadata": {
            "tags": null
          },
          "name": "stdout",
          "output_type": "stream",
          "text": [
            "[hlsnative] Downloading m3u8 manifest\n",
            "[hlsnative] Total fragments: 35\n",
            "[download] Destination: /content/MyYoutubeDLs/Taking antidepressants for depression ｜ Rosie's Mental Health Story ｜ Mind [gP1i93Gh0Ng].f605.mp4\n",
            "[download] 100% of    2.57MiB in 00:00:06 at 397.16KiB/s               \n"
          ]
        },
        {
          "metadata": {
            "tags": null
          },
          "name": "stderr",
          "output_type": "stream",
          "text": [
            "[debug] Invoking http downloader on \"https://rr5---sn-qxoedne7.googlevideo.com/videoplayback?expire=1745903529&ei=SQsQaOjFNvr1sfIP8d_ygAI&ip=34.168.94.101&id=o-AC6NEASEWkd7gHtV55lnve_LMWugD_nxgnvsFRBKKqIX&itag=140&source=youtube&requiressl=yes&xpc=EgVo2aDSNQ%3D%3D&met=1745881929%2C&mh=3o&mm=31%2C29&mn=sn-qxoedne7%2Csn-qxo7rn7r&ms=au%2Crdu&mv=m&mvi=5&pl=18&rms=au%2Cau&initcwndbps=1968750&bui=AecWEAYe3mfORFkTkEzB24-D8so9xma7cn_RGwdlIOUzwuOLR4NK3kHgvfuxRDhgG5D52aku0aIyCXqU&vprv=1&svpuc=1&mime=audio%2Fmp4&ns=FbHgvVIoPQeZX6CJFoa1RP8Q&rqh=1&gir=yes&clen=3031521&dur=187.268&lmt=1735859809185942&mt=1745881494&fvip=1&keepalive=yes&lmw=1&c=TVHTML5&sefc=1&txp=8208224&n=KkopXjUIS0zhsA&sparams=expire%2Cei%2Cip%2Cid%2Citag%2Csource%2Crequiressl%2Cxpc%2Cbui%2Cvprv%2Csvpuc%2Cmime%2Cns%2Crqh%2Cgir%2Cclen%2Cdur%2Clmt&sig=AJfQdSswRQIhAOwfLff0wSSXHUEkz7tJBkgnTk29LmyYkRt9grpe6Dn5AiAluqd-ReBh8nSuy9n3LhI-ke39M9Y1TGHebZ6U6_q6aQ%3D%3D&lsparams=met%2Cmh%2Cmm%2Cmn%2Cms%2Cmv%2Cmvi%2Cpl%2Crms%2Cinitcwndbps&lsig=ACuhMU0wRQIgfzFSIwk3Au2CecIAiAxZ8lp6NmMUKLyTJnV2qRoDaOACIQCc2ydStWi0s1QtQncmtuYbE9ASDe-z2lV2mF0f5UACfg%3D%3D\"\n"
          ]
        },
        {
          "metadata": {
            "tags": null
          },
          "name": "stdout",
          "output_type": "stream",
          "text": [
            "[download] Destination: /content/MyYoutubeDLs/Taking antidepressants for depression ｜ Rosie's Mental Health Story ｜ Mind [gP1i93Gh0Ng].f140.m4a\n",
            "[download] 100% of    2.89MiB in 00:00:06 at 491.97KiB/s \n",
            "[Merger] Merging formats into \"/content/MyYoutubeDLs/Taking antidepressants for depression ｜ Rosie's Mental Health Story ｜ Mind [gP1i93Gh0Ng].mp4\"\n"
          ]
        },
        {
          "metadata": {
            "tags": null
          },
          "name": "stderr",
          "output_type": "stream",
          "text": [
            "[debug] ffmpeg command line: ffmpeg -y -loglevel repeat+info -i 'file:/content/MyYoutubeDLs/Taking antidepressants for depression ｜ Rosie'\"'\"'s Mental Health Story ｜ Mind [gP1i93Gh0Ng].f605.mp4' -i 'file:/content/MyYoutubeDLs/Taking antidepressants for depression ｜ Rosie'\"'\"'s Mental Health Story ｜ Mind [gP1i93Gh0Ng].f140.m4a' -c copy -map 0:v:0 -map 1:a:0 -movflags +faststart 'file:/content/MyYoutubeDLs/Taking antidepressants for depression ｜ Rosie'\"'\"'s Mental Health Story ｜ Mind [gP1i93Gh0Ng].temp.mp4'\n"
          ]
        },
        {
          "metadata": {
            "tags": null
          },
          "name": "stdout",
          "output_type": "stream",
          "text": [
            "Deleting original file /content/MyYoutubeDLs/Taking antidepressants for depression ｜ Rosie's Mental Health Story ｜ Mind [gP1i93Gh0Ng].f605.mp4 (pass -k to keep)\n",
            "Deleting original file /content/MyYoutubeDLs/Taking antidepressants for depression ｜ Rosie's Mental Health Story ｜ Mind [gP1i93Gh0Ng].f140.m4a (pass -k to keep)\n",
            "-> Success or skipped (due to existing file/error ignored): https://www.youtube.com/watch?v=gP1i93Gh0Ng\n",
            "\n",
            "[6/48] Attempting to download: https://www.youtube.com/shorts/2ou0xXjD-Qw\n",
            "[youtube] Extracting URL: https://www.youtube.com/shorts/2ou0xXjD-Qw\n",
            "[youtube] 2ou0xXjD-Qw: Downloading webpage\n",
            "[youtube] 2ou0xXjD-Qw: Downloading tv client config\n",
            "[youtube] 2ou0xXjD-Qw: Downloading tv player API JSON\n",
            "[youtube] 2ou0xXjD-Qw: Downloading ios player API JSON\n"
          ]
        },
        {
          "metadata": {
            "tags": null
          },
          "name": "stderr",
          "output_type": "stream",
          "text": [
            "[debug] [youtube] Decrypted nsig zufG7ZScKTnpd7g6 => JGTebTBjY62UNg\n",
            "[debug] [youtube] Decrypted nsig _hkBNxIvUjaJ8BsM => _aXPNsaOBA7a-w\n",
            "[debug] [youtube] 2ou0xXjD-Qw: ios client https formats require a GVS PO Token which was not provided. They will be skipped as they may yield HTTP Error 403. You can manually pass a GVS PO Token for this client with --extractor-args \"youtube:po_token=ios.gvs+XXX\". For more information, refer to  https://github.com/yt-dlp/yt-dlp/wiki/PO-Token-Guide . To enable these broken formats anyway, pass --extractor-args \"youtube:formats=missing_pot\"\n"
          ]
        },
        {
          "metadata": {
            "tags": null
          },
          "name": "stdout",
          "output_type": "stream",
          "text": [
            "[youtube] 2ou0xXjD-Qw: Downloading m3u8 information\n"
          ]
        },
        {
          "metadata": {
            "tags": null
          },
          "name": "stderr",
          "output_type": "stream",
          "text": [
            "[debug] Sort order given by extractor: quality, res, fps, hdr:12, source, vcodec, channels, acodec, lang, proto\n",
            "[debug] Formats sorted by: hasvid, ie_pref, quality, res, fps, hdr:12(7), source, vcodec, channels, acodec, lang, proto, size, br, asr, vext, aext, hasaud, id\n"
          ]
        },
        {
          "metadata": {
            "tags": null
          },
          "name": "stdout",
          "output_type": "stream",
          "text": [
            "[info] 2ou0xXjD-Qw: Downloading 1 format(s): 614+140\n"
          ]
        },
        {
          "metadata": {
            "tags": null
          },
          "name": "stderr",
          "output_type": "stream",
          "text": [
            "[debug] Invoking hlsnative downloader on \"https://manifest.googlevideo.com/api/manifest/hls_playlist/expire/1745903553/ei/YQsQaMi3HK_BsfIPr4n2oAw/ip/34.168.94.101/id/da8bb4c578c3f90c/itag/614/source/youtube/requiressl/yes/ratebypass/yes/pfa/1/wft/1/sgovp/clen%3D9646432%3Bdur%3D57.190%3Bgir%3Dyes%3Bitag%3D248%3Blmt%3D1724511937615779/rqh/1/hls_chunk_host/rr2---sn-qxo7rn7y.googlevideo.com/xpc/EgVo2aDSNQ%3D%3D/met/1745881953,/mh/P7/mm/31,29/mn/sn-qxo7rn7y,sn-qxoednee/ms/au,rdu/mv/m/mvi/2/pl/18/rms/au,au/initcwndbps/1968750/bui/AecWEAYj8-tCLU6HpepiWDjwXl2UJ-ulDFy-cIp7naxbQ--Uz1wWw2vS1zmqgeNa2637mt0fLI12ba5S/spc/wk1kZupAoCqwHOHpIEoTUF0HkH9zzdpInjl-WHE05H0BeQM6u9jKSflVRI69ph6nsRE/vprv/1/playlist_type/DVR/dover/13/txp/630A224/mt/1745881494/fvip/2/short_key/1/keepalive/yes/sparams/expire,ei,ip,id,itag,source,requiressl,ratebypass,pfa,wft,sgovp,rqh,xpc,bui,spc,vprv,playlist_type/sig/AJfQdSswRQIgFJksVFrlqObgcYitwk6doQBUVfP8Uo1vpfo-A7FiIP8CIQDr5C37vtuyY9-saseZL6ecOPFN2uxcPnaR36k6ctHxDA%3D%3D/lsparams/hls_chunk_host,met,mh,mm,mn,ms,mv,mvi,pl,rms,initcwndbps/lsig/ACuhMU0wRQIhAMfaxkXFhIsAQtfQHKC_U4kQUqRH_d714B9ionFUd6tOAiAW2T3Gh6nKMLjJDaDa-fdnPIke1Yulc3KUe2eQ-I-vnQ%3D%3D/playlist/index.m3u8\"\n"
          ]
        },
        {
          "metadata": {
            "tags": null
          },
          "name": "stdout",
          "output_type": "stream",
          "text": [
            "[hlsnative] Downloading m3u8 manifest\n",
            "[hlsnative] Total fragments: 11\n",
            "[download] Destination: /content/MyYoutubeDLs/It Was the Worst Suffering of Any Suffering  #akathisia #informedconsent #psychmeds [2ou0xXjD-Qw].f614.mp4\n",
            "[download] 100% of    9.21MiB in 00:00:19 at 491.67KiB/s               \n"
          ]
        },
        {
          "metadata": {
            "tags": null
          },
          "name": "stderr",
          "output_type": "stream",
          "text": [
            "[debug] Invoking http downloader on \"https://rr2---sn-qxoednee.googlevideo.com/videoplayback?expire=1745903553&ei=YQsQaPT1FuyBsfIPpfOD8A4&ip=34.168.94.101&id=o-AG0jPO7J9LlKR-100nGlQdj5AO863BYkrZO3VNjnjv_O&itag=140&source=youtube&requiressl=yes&xpc=EgVo2aDSNQ%3D%3D&met=1745881953%2C&mh=P7&mm=31%2C26&mn=sn-qxoednee%2Csn-a5mekn6k&ms=au%2Conr&mv=m&mvi=2&pl=18&rms=au%2Cau&initcwndbps=1968750&bui=AecWEAb6vEvrOO6FSD3JBepcLk02V4wnzWTwufgV4eBnDX3zjNUceLPiT00XrkshWNc2TbofW2ejdd0z&vprv=1&svpuc=1&mime=audio%2Fmp4&ns=HOmzyk3s8eKqpuxyEUeU-CcQ&rqh=1&gir=yes&clen=927186&dur=57.237&lmt=1724511816589885&mt=1745881494&fvip=1&keepalive=yes&lmw=1&c=TVHTML5&sefc=1&txp=6318224&n=_aXPNsaOBA7a-w&sparams=expire%2Cei%2Cip%2Cid%2Citag%2Csource%2Crequiressl%2Cxpc%2Cbui%2Cvprv%2Csvpuc%2Cmime%2Cns%2Crqh%2Cgir%2Cclen%2Cdur%2Clmt&sig=AJfQdSswRQIhALjc_bT4Ljo0tnXUO_sCxFsZn9tYvmFKg3IXB2U5--BDAiBimtYgHqUv2YLqGvkvdnLKDVwMycDo2ZBGpQmq6_r1Vw%3D%3D&lsparams=met%2Cmh%2Cmm%2Cmn%2Cms%2Cmv%2Cmvi%2Cpl%2Crms%2Cinitcwndbps&lsig=ACuhMU0wRQIgM2BZsb_-zeptL-XWBnijB9IhOsxC_g7bFAJ19q45teYCIQDH_ZRcTHxHQ1noAXnFaVsUiolzUxeUd0RZWpfJZxqaog%3D%3D\"\n"
          ]
        },
        {
          "metadata": {
            "tags": null
          },
          "name": "stdout",
          "output_type": "stream",
          "text": [
            "[download] Destination: /content/MyYoutubeDLs/It Was the Worst Suffering of Any Suffering  #akathisia #informedconsent #psychmeds [2ou0xXjD-Qw].f140.m4a\n",
            "[download] 100% of  905.46KiB in 00:00:02 at 435.61KiB/s \n",
            "[Merger] Merging formats into \"/content/MyYoutubeDLs/It Was the Worst Suffering of Any Suffering  #akathisia #informedconsent #psychmeds [2ou0xXjD-Qw].mp4\"\n"
          ]
        },
        {
          "metadata": {
            "tags": null
          },
          "name": "stderr",
          "output_type": "stream",
          "text": [
            "[debug] ffmpeg command line: ffmpeg -y -loglevel repeat+info -i 'file:/content/MyYoutubeDLs/It Was the Worst Suffering of Any Suffering  #akathisia #informedconsent #psychmeds [2ou0xXjD-Qw].f614.mp4' -i 'file:/content/MyYoutubeDLs/It Was the Worst Suffering of Any Suffering  #akathisia #informedconsent #psychmeds [2ou0xXjD-Qw].f140.m4a' -c copy -map 0:v:0 -map 1:a:0 -movflags +faststart 'file:/content/MyYoutubeDLs/It Was the Worst Suffering of Any Suffering  #akathisia #informedconsent #psychmeds [2ou0xXjD-Qw].temp.mp4'\n"
          ]
        },
        {
          "metadata": {
            "tags": null
          },
          "name": "stdout",
          "output_type": "stream",
          "text": [
            "Deleting original file /content/MyYoutubeDLs/It Was the Worst Suffering of Any Suffering  #akathisia #informedconsent #psychmeds [2ou0xXjD-Qw].f140.m4a (pass -k to keep)\n",
            "Deleting original file /content/MyYoutubeDLs/It Was the Worst Suffering of Any Suffering  #akathisia #informedconsent #psychmeds [2ou0xXjD-Qw].f614.mp4 (pass -k to keep)\n",
            "-> Success or skipped (due to existing file/error ignored): https://www.youtube.com/shorts/2ou0xXjD-Qw\n",
            "\n",
            "[7/48] Attempting to download: https://www.youtube.com/shorts/9b5-CfvtTtg\n",
            "[youtube] Extracting URL: https://www.youtube.com/shorts/9b5-CfvtTtg\n",
            "[youtube] 9b5-CfvtTtg: Downloading webpage\n",
            "[youtube] 9b5-CfvtTtg: Downloading tv client config\n",
            "[youtube] 9b5-CfvtTtg: Downloading tv player API JSON\n",
            "[youtube] 9b5-CfvtTtg: Downloading ios player API JSON\n"
          ]
        },
        {
          "metadata": {
            "tags": null
          },
          "name": "stderr",
          "output_type": "stream",
          "text": [
            "[debug] [youtube] Decrypted nsig kHbiIEw_VTomrYFu => OuUdfMPOSz-wKg\n",
            "[debug] [youtube] Decrypted nsig 0NxjqQyV1jdRksr0 => utmG1znf2pMCNw\n",
            "[debug] [youtube] 9b5-CfvtTtg: ios client https formats require a GVS PO Token which was not provided. They will be skipped as they may yield HTTP Error 403. You can manually pass a GVS PO Token for this client with --extractor-args \"youtube:po_token=ios.gvs+XXX\". For more information, refer to  https://github.com/yt-dlp/yt-dlp/wiki/PO-Token-Guide . To enable these broken formats anyway, pass --extractor-args \"youtube:formats=missing_pot\"\n"
          ]
        },
        {
          "metadata": {
            "tags": null
          },
          "name": "stdout",
          "output_type": "stream",
          "text": [
            "[youtube] 9b5-CfvtTtg: Downloading m3u8 information\n"
          ]
        },
        {
          "metadata": {
            "tags": null
          },
          "name": "stderr",
          "output_type": "stream",
          "text": [
            "[debug] Sort order given by extractor: quality, res, fps, hdr:12, source, vcodec, channels, acodec, lang, proto\n",
            "[debug] Formats sorted by: hasvid, ie_pref, quality, res, fps, hdr:12(7), source, vcodec, channels, acodec, lang, proto, size, br, asr, vext, aext, hasaud, id\n"
          ]
        },
        {
          "metadata": {
            "tags": null
          },
          "name": "stdout",
          "output_type": "stream",
          "text": [
            "[info] 9b5-CfvtTtg: Downloading 1 format(s): 614+140\n"
          ]
        },
        {
          "metadata": {
            "tags": null
          },
          "name": "stderr",
          "output_type": "stream",
          "text": [
            "[debug] Invoking hlsnative downloader on \"https://manifest.googlevideo.com/api/manifest/hls_playlist/expire/1745903585/ei/gAsQaPy_ObeVsfIPgsucgA8/ip/34.168.94.101/id/f5be7e09fbed4ed8/itag/614/source/youtube/requiressl/yes/ratebypass/yes/pfa/1/wft/1/sgovp/clen%3D6099764%3Bdur%3D49.841%3Bgir%3Dyes%3Bitag%3D248%3Blmt%3D1721664611077622/rqh/1/hls_chunk_host/rr4---sn-qxo7rn7k.googlevideo.com/xpc/EgVo2aDSNQ%3D%3D/met/1745881984,/mh/PZ/mm/31,29/mn/sn-qxo7rn7k,sn-qxoednee/ms/au,rdu/mv/m/mvi/4/pl/18/rms/au,au/initcwndbps/2045000/bui/AecWEAa_ZUV2j8MP_Yj2UQJGFAwJ31HdGMdjtqWe-WrYybLIOzXAoZTnW6VCQ4fO4qEmIa6bhzSEFW9k/spc/wk1kZqFM2x3czZWiHa5YhIoyiRQazW3NLdq8WlHnyoenu_L1WkslDkZyVlXgB6EvBvo/vprv/1/playlist_type/DVR/dover/13/txp/630A224/mt/1745881730/fvip/4/short_key/1/keepalive/yes/sparams/expire,ei,ip,id,itag,source,requiressl,ratebypass,pfa,wft,sgovp,rqh,xpc,bui,spc,vprv,playlist_type/sig/AJfQdSswRQIhAJbgbVpxaksF06DEOWfZwdjOS7HeuPpcIAzeNerP24YwAiA127Ax84R2nAB0PCMgQLTMZ0HBCSynkVvOO3tTJMwNXQ%3D%3D/lsparams/hls_chunk_host,met,mh,mm,mn,ms,mv,mvi,pl,rms,initcwndbps/lsig/ACuhMU0wRgIhAKXy_iGFBjdVpL69Km-jjkuWeOXEyP5jd9uSezQpjvJaAiEAlcgYXodpJ74UGfMjwd60qJZHBsdTYgTiX2SHA5XZc2U%3D/playlist/index.m3u8\"\n"
          ]
        },
        {
          "metadata": {
            "tags": null
          },
          "name": "stdout",
          "output_type": "stream",
          "text": [
            "[hlsnative] Downloading m3u8 manifest\n",
            "[hlsnative] Total fragments: 8\n",
            "[download] Destination: /content/MyYoutubeDLs/Why I Lost Trust in the Medical System for Mental Health Care #shareyourdrugstory [9b5-CfvtTtg].f614.mp4\n",
            "[download] 100% of    5.82MiB in 00:00:12 at 461.32KiB/s             \n"
          ]
        },
        {
          "metadata": {
            "tags": null
          },
          "name": "stderr",
          "output_type": "stream",
          "text": [
            "[debug] Invoking http downloader on \"https://rr4---sn-qxo7rn7k.googlevideo.com/videoplayback?expire=1745903584&ei=gAsQaOe7M5aYsfIP0aiFqAw&ip=34.168.94.101&id=o-AKyyrE-tARVl8Dj5f96MXjW7KhRVcwYT3qYFLuGQmIpP&itag=140&source=youtube&requiressl=yes&xpc=EgVo2aDSNQ%3D%3D&met=1745881984%2C&mh=PZ&mm=31%2C29&mn=sn-qxo7rn7k%2Csn-qxoednee&ms=au%2Crdu&mv=m&mvi=4&pl=18&rms=au%2Cau&initcwndbps=2045000&bui=AecWEAZvUKdNP5uwvhSaxdr-cKSP3-r5H9hUy5eT6YR3DAid3v1x1pTo2woc2FlM3nCutLN6wxXGOJfT&vprv=1&svpuc=1&mime=audio%2Fmp4&ns=cMwkU3tFZYrCHymVEhdn9YMQ&rqh=1&gir=yes&clen=808432&dur=49.899&lmt=1721664606882020&mt=1745881730&fvip=4&keepalive=yes&lmw=1&c=TVHTML5&sefc=1&txp=6308224&n=utmG1znf2pMCNw&sparams=expire%2Cei%2Cip%2Cid%2Citag%2Csource%2Crequiressl%2Cxpc%2Cbui%2Cvprv%2Csvpuc%2Cmime%2Cns%2Crqh%2Cgir%2Cclen%2Cdur%2Clmt&sig=AJfQdSswRgIhAOmjnxhrqY3khMCkzcJS7xXF-U_8Q_tzMeBSjQSe89B6AiEAyx8079A2H02MUT_ARLBIZh-hhFjyfvao7ZjMnB4b-6A%3D&lsparams=met%2Cmh%2Cmm%2Cmn%2Cms%2Cmv%2Cmvi%2Cpl%2Crms%2Cinitcwndbps&lsig=ACuhMU0wRQIgWtNbW5iuq3E8o_5FXABBiVeaBIVENTl2krlnGI2uKc8CIQCXDwQyFnR9h0HBJCf8SDMpYn61cliZeV2wUrcxhyfk7Q%3D%3D\"\n"
          ]
        },
        {
          "metadata": {
            "tags": null
          },
          "name": "stdout",
          "output_type": "stream",
          "text": [
            "[download] Destination: /content/MyYoutubeDLs/Why I Lost Trust in the Medical System for Mental Health Care #shareyourdrugstory [9b5-CfvtTtg].f140.m4a\n",
            "[download] 100% of  789.48KiB in 00:00:01 at 407.20KiB/s \n",
            "[Merger] Merging formats into \"/content/MyYoutubeDLs/Why I Lost Trust in the Medical System for Mental Health Care #shareyourdrugstory [9b5-CfvtTtg].mp4\"\n"
          ]
        },
        {
          "metadata": {
            "tags": null
          },
          "name": "stderr",
          "output_type": "stream",
          "text": [
            "[debug] ffmpeg command line: ffmpeg -y -loglevel repeat+info -i 'file:/content/MyYoutubeDLs/Why I Lost Trust in the Medical System for Mental Health Care #shareyourdrugstory [9b5-CfvtTtg].f614.mp4' -i 'file:/content/MyYoutubeDLs/Why I Lost Trust in the Medical System for Mental Health Care #shareyourdrugstory [9b5-CfvtTtg].f140.m4a' -c copy -map 0:v:0 -map 1:a:0 -movflags +faststart 'file:/content/MyYoutubeDLs/Why I Lost Trust in the Medical System for Mental Health Care #shareyourdrugstory [9b5-CfvtTtg].temp.mp4'\n"
          ]
        },
        {
          "metadata": {
            "tags": null
          },
          "name": "stdout",
          "output_type": "stream",
          "text": [
            "Deleting original file /content/MyYoutubeDLs/Why I Lost Trust in the Medical System for Mental Health Care #shareyourdrugstory [9b5-CfvtTtg].f140.m4a (pass -k to keep)\n",
            "Deleting original file /content/MyYoutubeDLs/Why I Lost Trust in the Medical System for Mental Health Care #shareyourdrugstory [9b5-CfvtTtg].f614.mp4 (pass -k to keep)\n",
            "-> Success or skipped (due to existing file/error ignored): https://www.youtube.com/shorts/9b5-CfvtTtg\n",
            "\n",
            "[8/48] Attempting to download: https://www.youtube.com/shorts/BvcvzdJS5FM\n",
            "[youtube] Extracting URL: https://www.youtube.com/shorts/BvcvzdJS5FM\n",
            "[youtube] BvcvzdJS5FM: Downloading webpage\n",
            "[youtube] BvcvzdJS5FM: Downloading tv client config\n",
            "[youtube] BvcvzdJS5FM: Downloading tv player API JSON\n",
            "[youtube] BvcvzdJS5FM: Downloading ios player API JSON\n"
          ]
        },
        {
          "metadata": {
            "tags": null
          },
          "name": "stderr",
          "output_type": "stream",
          "text": [
            "[debug] [youtube] Decrypted nsig 7tQMeiE9frER6fxt => Vxu0eeLxnJDvPQ\n",
            "[debug] [youtube] Decrypted nsig ddQLQbNT6rokiRsu => fgdp4Va2D3DwVQ\n",
            "[debug] [youtube] BvcvzdJS5FM: ios client https formats require a GVS PO Token which was not provided. They will be skipped as they may yield HTTP Error 403. You can manually pass a GVS PO Token for this client with --extractor-args \"youtube:po_token=ios.gvs+XXX\". For more information, refer to  https://github.com/yt-dlp/yt-dlp/wiki/PO-Token-Guide . To enable these broken formats anyway, pass --extractor-args \"youtube:formats=missing_pot\"\n"
          ]
        },
        {
          "metadata": {
            "tags": null
          },
          "name": "stdout",
          "output_type": "stream",
          "text": [
            "[youtube] BvcvzdJS5FM: Downloading m3u8 information\n"
          ]
        },
        {
          "metadata": {
            "tags": null
          },
          "name": "stderr",
          "output_type": "stream",
          "text": [
            "[debug] Sort order given by extractor: quality, res, fps, hdr:12, source, vcodec, channels, acodec, lang, proto\n",
            "[debug] Formats sorted by: hasvid, ie_pref, quality, res, fps, hdr:12(7), source, vcodec, channels, acodec, lang, proto, size, br, asr, vext, aext, hasaud, id\n"
          ]
        },
        {
          "metadata": {
            "tags": null
          },
          "name": "stdout",
          "output_type": "stream",
          "text": [
            "[info] BvcvzdJS5FM: Downloading 1 format(s): 614+140\n"
          ]
        },
        {
          "metadata": {
            "tags": null
          },
          "name": "stderr",
          "output_type": "stream",
          "text": [
            "[debug] Invoking hlsnative downloader on \"https://manifest.googlevideo.com/api/manifest/hls_playlist/expire/1745903609/ei/mQsQaLTCGt62sfIPmuDUoQI/ip/34.168.94.101/id/06f72fcdd252e453/itag/614/source/youtube/requiressl/yes/ratebypass/yes/pfa/1/wft/1/sgovp/clen%3D12177737%3Bdur%3D44.766%3Bgir%3Dyes%3Bitag%3D248%3Blmt%3D1670438237598160/rqh/1/hls_chunk_host/rr2---sn-qxo7rn7r.googlevideo.com/xpc/EgVo2aDSNQ%3D%3D/met/1745882009,/mh/Fc/mm/31,29/mn/sn-qxo7rn7r,sn-qxoednee/ms/au,rdu/mv/m/mvi/2/pl/18/rms/au,au/initcwndbps/1968750/bui/AecWEAba04DwPit9rrSZmx34EWObBDa6C3wVm25ep2f1RxjERLE3PxuOaOIeZBPK0BWt-rfjBqZ_ytOm/spc/wk1kZspkz-qc_Aayd7ZKswPQ1UpbqDiYwR4aygOKYof67QF1Gm25Zn7F1WcXxBqBLxs/vprv/1/playlist_type/DVR/dover/13/txp/631A224/mt/1745881494/fvip/5/short_key/1/keepalive/yes/sparams/expire,ei,ip,id,itag,source,requiressl,ratebypass,pfa,wft,sgovp,rqh,xpc,bui,spc,vprv,playlist_type/sig/AJfQdSswRQIhAISiDwrcmaOEkS0v7UQ8G8XXo3BjE51eIDEbUh_lVpX4AiAKRZqjPxlvZxxosH_2yLPFPs1XfGa5Iw8O7FouPjsrFg%3D%3D/lsparams/hls_chunk_host,met,mh,mm,mn,ms,mv,mvi,pl,rms,initcwndbps/lsig/ACuhMU0wRgIhALIigOPkxixxGcj4r52BbUV8KiVCzSax_xkonacs5tKYAiEAmBeFCHLT4CoOyr3iocg7ZhN9BpHjJP82V7X66Oi4yPc%3D/playlist/index.m3u8\"\n"
          ]
        },
        {
          "metadata": {
            "tags": null
          },
          "name": "stdout",
          "output_type": "stream",
          "text": [
            "[hlsnative] Downloading m3u8 manifest\n",
            "[hlsnative] Total fragments: 9\n",
            "[download] Destination: /content/MyYoutubeDLs/What is Akathisia？ [BvcvzdJS5FM].f614.mp4\n",
            "[download] 100% of   11.62MiB in 00:00:23 at 497.46KiB/s              \n"
          ]
        },
        {
          "metadata": {
            "tags": null
          },
          "name": "stderr",
          "output_type": "stream",
          "text": [
            "[debug] Invoking http downloader on \"https://rr2---sn-qxo7rn7r.googlevideo.com/videoplayback?expire=1745903609&ei=mQsQaOaWFZeXsfIPlvOOsAI&ip=34.168.94.101&id=o-AApQbgw4uuJLVC-K0JD4BUAZGECGDYGaZR0ozeHqCPi7&itag=140&source=youtube&requiressl=yes&xpc=EgVo2aDSNQ%3D%3D&met=1745882009%2C&mh=Fc&mm=31%2C29&mn=sn-qxo7rn7r%2Csn-qxoednee&ms=au%2Crdu&mv=m&mvi=2&pl=18&rms=au%2Cau&initcwndbps=1968750&bui=AecWEAbAGVamIs9X2M95yrRso0-hYwFw442V2zKx9y5LOGH1x19Y7s7jxtYU-bYbRfyPNv8knsNs4sDO&vprv=1&svpuc=1&mime=audio%2Fmp4&ns=Gh7w7OXi2hC9Z8IgtfYIJP8Q&rqh=1&gir=yes&clen=726341&dur=44.814&lmt=1670438223580166&mt=1745881494&fvip=5&keepalive=yes&lmw=1&c=TVHTML5&sefc=1&txp=6318224&n=fgdp4Va2D3DwVQ&sparams=expire%2Cei%2Cip%2Cid%2Citag%2Csource%2Crequiressl%2Cxpc%2Cbui%2Cvprv%2Csvpuc%2Cmime%2Cns%2Crqh%2Cgir%2Cclen%2Cdur%2Clmt&sig=AJfQdSswRQIgQUhEDVPPnTBmD6Is4AGb0j9YNNjrRhVDQC7oi9rDcDwCIQC5kQN1FQcqWUdcpXbpSiiIC8CQ2y16OmUWqpif6AjlGQ%3D%3D&lsparams=met%2Cmh%2Cmm%2Cmn%2Cms%2Cmv%2Cmvi%2Cpl%2Crms%2Cinitcwndbps&lsig=ACuhMU0wRQIhAOP57iaYGu9KKQ8BMTh50-NcKrYq5jPkJhg4WHWhUUAkAiBhUYwe3hPGk2qRbsxxeDayMiWIbCJdq6PItgjlFFjRGQ%3D%3D\"\n"
          ]
        },
        {
          "metadata": {
            "tags": null
          },
          "name": "stdout",
          "output_type": "stream",
          "text": [
            "[download] Destination: /content/MyYoutubeDLs/What is Akathisia？ [BvcvzdJS5FM].f140.m4a\n",
            "[download] 100% of  709.32KiB in 00:00:01 at 432.58KiB/s \n",
            "[Merger] Merging formats into \"/content/MyYoutubeDLs/What is Akathisia？ [BvcvzdJS5FM].mp4\"\n"
          ]
        },
        {
          "metadata": {
            "tags": null
          },
          "name": "stderr",
          "output_type": "stream",
          "text": [
            "[debug] ffmpeg command line: ffmpeg -y -loglevel repeat+info -i 'file:/content/MyYoutubeDLs/What is Akathisia？ [BvcvzdJS5FM].f614.mp4' -i 'file:/content/MyYoutubeDLs/What is Akathisia？ [BvcvzdJS5FM].f140.m4a' -c copy -map 0:v:0 -map 1:a:0 -movflags +faststart 'file:/content/MyYoutubeDLs/What is Akathisia？ [BvcvzdJS5FM].temp.mp4'\n"
          ]
        },
        {
          "metadata": {
            "tags": null
          },
          "name": "stdout",
          "output_type": "stream",
          "text": [
            "Deleting original file /content/MyYoutubeDLs/What is Akathisia？ [BvcvzdJS5FM].f614.mp4 (pass -k to keep)\n",
            "Deleting original file /content/MyYoutubeDLs/What is Akathisia？ [BvcvzdJS5FM].f140.m4a (pass -k to keep)\n",
            "-> Success or skipped (due to existing file/error ignored): https://www.youtube.com/shorts/BvcvzdJS5FM\n",
            "\n",
            "[9/48] Attempting to download: https://www.youtube.com/shorts/CH8WVtr-W8Q\n",
            "[youtube] Extracting URL: https://www.youtube.com/shorts/CH8WVtr-W8Q\n",
            "[youtube] CH8WVtr-W8Q: Downloading webpage\n",
            "[youtube] CH8WVtr-W8Q: Downloading tv client config\n",
            "[youtube] CH8WVtr-W8Q: Downloading tv player API JSON\n",
            "[youtube] CH8WVtr-W8Q: Downloading ios player API JSON\n"
          ]
        },
        {
          "metadata": {
            "tags": null
          },
          "name": "stderr",
          "output_type": "stream",
          "text": [
            "[debug] [youtube] Decrypted nsig 7kEYb6PmYrFu-kN- => mwg7IQT0fGrYmQ\n",
            "[debug] [youtube] Decrypted nsig Yqrh8B1hZTu_cyDv => A6CCwfdeZ7exLg\n",
            "[debug] [youtube] CH8WVtr-W8Q: ios client https formats require a GVS PO Token which was not provided. They will be skipped as they may yield HTTP Error 403. You can manually pass a GVS PO Token for this client with --extractor-args \"youtube:po_token=ios.gvs+XXX\". For more information, refer to  https://github.com/yt-dlp/yt-dlp/wiki/PO-Token-Guide . To enable these broken formats anyway, pass --extractor-args \"youtube:formats=missing_pot\"\n"
          ]
        },
        {
          "metadata": {
            "tags": null
          },
          "name": "stdout",
          "output_type": "stream",
          "text": [
            "[youtube] CH8WVtr-W8Q: Downloading m3u8 information\n"
          ]
        },
        {
          "metadata": {
            "tags": null
          },
          "name": "stderr",
          "output_type": "stream",
          "text": [
            "[debug] Sort order given by extractor: quality, res, fps, hdr:12, source, vcodec, channels, acodec, lang, proto\n",
            "[debug] Formats sorted by: hasvid, ie_pref, quality, res, fps, hdr:12(7), source, vcodec, channels, acodec, lang, proto, size, br, asr, vext, aext, hasaud, id\n"
          ]
        },
        {
          "metadata": {
            "tags": null
          },
          "name": "stdout",
          "output_type": "stream",
          "text": [
            "[info] CH8WVtr-W8Q: Downloading 1 format(s): 614+140\n"
          ]
        },
        {
          "metadata": {
            "tags": null
          },
          "name": "stderr",
          "output_type": "stream",
          "text": [
            "[debug] Invoking hlsnative downloader on \"https://manifest.googlevideo.com/api/manifest/hls_playlist/expire/1745903644/ei/vAsQaOD1I_eWsfIPg6y4qAY/ip/34.168.94.101/id/087f1656dafe5bc4/itag/614/source/youtube/requiressl/yes/ratebypass/yes/pfa/1/wft/1/sgovp/clen%3D5244385%3Bdur%3D41.107%3Bgir%3Dyes%3Bitag%3D248%3Blmt%3D1722701046944012/rqh/1/hls_chunk_host/rr5---sn-qxoedne7.googlevideo.com/xpc/EgVo2aDSNQ%3D%3D/met/1745882044,/mh/gR/mm/31,26/mn/sn-qxoedne7,sn-a5meknsy/ms/au,onr/mv/m/mvi/5/pl/18/rms/au,au/initcwndbps/2045000/bui/AecWEAadKWpzC4YvRqilzoZeTV-WulMEyiwCuqVOrKnEgIPgLWT_PJmSVcd_6jsV3-aH4owrrSef8WL9/spc/wk1kZsGXYNklTazS7AopLxh6LvbGDvbW7_KuvxfY57rRP29FaK-G3LZDtN3nxFUmTFg/vprv/1/playlist_type/DVR/dover/13/txp/630A224/mt/1745881730/fvip/4/short_key/1/keepalive/yes/sparams/expire,ei,ip,id,itag,source,requiressl,ratebypass,pfa,wft,sgovp,rqh,xpc,bui,spc,vprv,playlist_type/sig/AJfQdSswRQIgFl9qYUMhHZeodQ_fg2iUMW1e3DDS1-khXIhYuAgE31MCIQDA7wyYpmCVMvtQoIu811LFhLaXwvbMVtsCslU8fQ0mYw%3D%3D/lsparams/hls_chunk_host,met,mh,mm,mn,ms,mv,mvi,pl,rms,initcwndbps/lsig/ACuhMU0wRQIgd-luxcu8-tYsNHqtYf7b-kUDe5sWY1281S3SuqdDMHgCIQC6PE84bf-21wOoIXDcbonlDXFBNrlkNK20Vfuumsj5sg%3D%3D/playlist/index.m3u8\"\n"
          ]
        },
        {
          "metadata": {
            "tags": null
          },
          "name": "stdout",
          "output_type": "stream",
          "text": [
            "[hlsnative] Downloading m3u8 manifest\n",
            "[hlsnative] Total fragments: 8\n",
            "[download] Destination: /content/MyYoutubeDLs/The Dangers of Psychiatric Pills #shareyourdrugstory #psychmeds #mentalhealthjourney [CH8WVtr-W8Q].f614.mp4\n",
            "[download] 100% of    5.01MiB in 00:00:11 at 452.26KiB/s             \n"
          ]
        },
        {
          "metadata": {
            "tags": null
          },
          "name": "stderr",
          "output_type": "stream",
          "text": [
            "[debug] Invoking http downloader on \"https://rr5---sn-qxo7rn7k.googlevideo.com/videoplayback?expire=1745903644&ei=vAsQaK68HZaYsfIP0aiFqAw&ip=34.168.94.101&id=o-AG8sc47Sb3iT3D-dTbSkDp35DU-YThQTCd2rHruZGt7z&itag=140&source=youtube&requiressl=yes&xpc=EgVo2aDSNQ%3D%3D&met=1745882044%2C&mh=gR&mm=31%2C29&mn=sn-qxo7rn7k%2Csn-qxoedne7&ms=au%2Crdu&mv=m&mvi=5&pl=18&rms=au%2Cau&initcwndbps=2045000&bui=AecWEAZbXLJ8-YVah4kqiqgcRO44Y_vtIsUHkjlBM_1g8O0a6IHG4MqGlTYX1sRa15Ydhgv7J2eSCpf3&vprv=1&svpuc=1&mime=audio%2Fmp4&ns=yeSEJ4W0L4OKL7l1Yq1zbi8Q&rqh=1&gir=yes&clen=667105&dur=41.145&lmt=1722701056981148&mt=1745881730&fvip=5&keepalive=yes&lmw=1&c=TVHTML5&sefc=1&txp=6318224&n=A6CCwfdeZ7exLg&sparams=expire%2Cei%2Cip%2Cid%2Citag%2Csource%2Crequiressl%2Cxpc%2Cbui%2Cvprv%2Csvpuc%2Cmime%2Cns%2Crqh%2Cgir%2Cclen%2Cdur%2Clmt&sig=AJfQdSswRQIgUWcsbaXlz7V7tmBTy2svi2BQMtscrUqjFc1i4RZBNj4CIQDQZISQ9VWX_6GWYBJtccw6UMEDSB8IcBj9vilCX3xemQ%3D%3D&lsparams=met%2Cmh%2Cmm%2Cmn%2Cms%2Cmv%2Cmvi%2Cpl%2Crms%2Cinitcwndbps&lsig=ACuhMU0wRAIgSdWIM0Y1HDbpUdtNYMpcCsw2K--cMUbaf5T2TwQ6lWYCID37i5JSFmKTZRY9QFHy-Tz1qZpVwz7d_SrRu3U2uuNC\"\n"
          ]
        },
        {
          "metadata": {
            "tags": null
          },
          "name": "stdout",
          "output_type": "stream",
          "text": [
            "[download] Destination: /content/MyYoutubeDLs/The Dangers of Psychiatric Pills #shareyourdrugstory #psychmeds #mentalhealthjourney [CH8WVtr-W8Q].f140.m4a\n",
            "[download] 100% of  651.47KiB in 00:00:01 at 447.05KiB/s \n",
            "[Merger] Merging formats into \"/content/MyYoutubeDLs/The Dangers of Psychiatric Pills #shareyourdrugstory #psychmeds #mentalhealthjourney [CH8WVtr-W8Q].mp4\"\n"
          ]
        },
        {
          "metadata": {
            "tags": null
          },
          "name": "stderr",
          "output_type": "stream",
          "text": [
            "[debug] ffmpeg command line: ffmpeg -y -loglevel repeat+info -i 'file:/content/MyYoutubeDLs/The Dangers of Psychiatric Pills #shareyourdrugstory #psychmeds #mentalhealthjourney [CH8WVtr-W8Q].f614.mp4' -i 'file:/content/MyYoutubeDLs/The Dangers of Psychiatric Pills #shareyourdrugstory #psychmeds #mentalhealthjourney [CH8WVtr-W8Q].f140.m4a' -c copy -map 0:v:0 -map 1:a:0 -movflags +faststart 'file:/content/MyYoutubeDLs/The Dangers of Psychiatric Pills #shareyourdrugstory #psychmeds #mentalhealthjourney [CH8WVtr-W8Q].temp.mp4'\n"
          ]
        },
        {
          "metadata": {
            "tags": null
          },
          "name": "stdout",
          "output_type": "stream",
          "text": [
            "Deleting original file /content/MyYoutubeDLs/The Dangers of Psychiatric Pills #shareyourdrugstory #psychmeds #mentalhealthjourney [CH8WVtr-W8Q].f614.mp4 (pass -k to keep)\n",
            "Deleting original file /content/MyYoutubeDLs/The Dangers of Psychiatric Pills #shareyourdrugstory #psychmeds #mentalhealthjourney [CH8WVtr-W8Q].f140.m4a (pass -k to keep)\n",
            "-> Success or skipped (due to existing file/error ignored): https://www.youtube.com/shorts/CH8WVtr-W8Q\n",
            "\n",
            "[10/48] Attempting to download: https://www.youtube.com/watch?v=Ibwp6TvPF3g\n",
            "[youtube] Extracting URL: https://www.youtube.com/watch?v=Ibwp6TvPF3g\n",
            "[youtube] Ibwp6TvPF3g: Downloading webpage\n",
            "[youtube] Ibwp6TvPF3g: Downloading tv client config\n",
            "[youtube] Ibwp6TvPF3g: Downloading tv player API JSON\n",
            "[youtube] Ibwp6TvPF3g: Downloading ios player API JSON\n"
          ]
        },
        {
          "metadata": {
            "tags": null
          },
          "name": "stderr",
          "output_type": "stream",
          "text": [
            "[debug] [youtube] Decrypted nsig HlXW_SL15_S-ropv => qsdhE8NkRiWx_A\n",
            "[debug] [youtube] Decrypted nsig SY-9DFMrmjVl9HDV => 5Qbt5ENgH-lLBw\n",
            "[debug] [youtube] Ibwp6TvPF3g: ios client https formats require a GVS PO Token which was not provided. They will be skipped as they may yield HTTP Error 403. You can manually pass a GVS PO Token for this client with --extractor-args \"youtube:po_token=ios.gvs+XXX\". For more information, refer to  https://github.com/yt-dlp/yt-dlp/wiki/PO-Token-Guide . To enable these broken formats anyway, pass --extractor-args \"youtube:formats=missing_pot\"\n"
          ]
        },
        {
          "metadata": {
            "tags": null
          },
          "name": "stdout",
          "output_type": "stream",
          "text": [
            "[youtube] Ibwp6TvPF3g: Downloading m3u8 information\n"
          ]
        },
        {
          "metadata": {
            "tags": null
          },
          "name": "stderr",
          "output_type": "stream",
          "text": [
            "[debug] Sort order given by extractor: quality, res, fps, hdr:12, source, vcodec, channels, acodec, lang, proto\n",
            "[debug] Formats sorted by: hasvid, ie_pref, quality, res, fps, hdr:12(7), source, vcodec, channels, acodec, lang, proto, size, br, asr, vext, aext, hasaud, id\n"
          ]
        },
        {
          "metadata": {
            "tags": null
          },
          "name": "stdout",
          "output_type": "stream",
          "text": [
            "[info] Ibwp6TvPF3g: Downloading 1 format(s): 605+140\n"
          ]
        },
        {
          "metadata": {
            "tags": null
          },
          "name": "stderr",
          "output_type": "stream",
          "text": [
            "[debug] Invoking hlsnative downloader on \"https://manifest.googlevideo.com/api/manifest/hls_playlist/expire/1745903667/ei/0wsQaLmHG4HysfIP4fyAyAw/ip/34.168.94.101/id/21bc29e93bcf1778/itag/605/source/youtube/requiressl/yes/ratebypass/yes/pfa/1/wft/1/sgovp/clen%3D378711%3Bdur%3D45.899%3Bgir%3Dyes%3Bitag%3D243%3Blmt%3D1722954253625568/rqh/1/hls_chunk_host/rr4---sn-qxoednee.googlevideo.com/xpc/EgVo2aDSNQ%3D%3D/met/1745882067,/mh/Pd/mm/31,26/mn/sn-qxoednee,sn-a5meknsy/ms/au,onr/mv/m/mvi/4/pl/18/rms/au,au/initcwndbps/2045000/bui/AecWEAZvgu-3tkIyCyJCcHga-l8j5wFTYtPIn8tIjvSWvx9tUlmT4krLU-HqZm-xUNeM35pggc_AdFqS/spc/wk1kZpsh2DwRxKDNvemmpSgIQ3Era0gYJgXn8HuBVtC58WRZBBOZEZ7PCZflVWc0ivs/vprv/1/playlist_type/DVR/dover/13/txp/1209224/mt/1745881730/fvip/2/short_key/1/keepalive/yes/sparams/expire,ei,ip,id,itag,source,requiressl,ratebypass,pfa,wft,sgovp,rqh,xpc,bui,spc,vprv,playlist_type/sig/AJfQdSswRQIhAKlvAaMJT68lw9Jmf-qeVVmXogfw_5iOktkwToNc5t-PAiBMx0hCyNEhDzK26fNrQrmj6W9rCKKHFJN2nKquQil9sw%3D%3D/lsparams/hls_chunk_host,met,mh,mm,mn,ms,mv,mvi,pl,rms,initcwndbps/lsig/ACuhMU0wRQIgZnBTD_MrdpZu675fA6zsGQfLgwvhT9y5QR5Yhw7JmoUCIQC9p7JRp18citl9SZQNS-G7ouIeVJHDiySYe14Gb3u1Eg%3D%3D/playlist/index.m3u8\"\n"
          ]
        },
        {
          "metadata": {
            "tags": null
          },
          "name": "stdout",
          "output_type": "stream",
          "text": [
            "[hlsnative] Downloading m3u8 manifest\n",
            "[hlsnative] Total fragments: 10\n",
            "[download] Destination: /content/MyYoutubeDLs/What He Did When an Antidepressant Made Him Sick ｜ Health [Ibwp6TvPF3g].f605.mp4\n",
            "[download] 100% of  378.64KiB in 00:00:01 at 267.22KiB/s               \n"
          ]
        },
        {
          "metadata": {
            "tags": null
          },
          "name": "stderr",
          "output_type": "stream",
          "text": [
            "[debug] Invoking http downloader on \"https://rr1---sn-qxo7rn7k.googlevideo.com/videoplayback?expire=1745903667&ei=0wsQaPZFxfex8g_Ziom4DA&ip=34.168.94.101&id=o-ADgY4ifTu-MPnci-8ayMxxWs3Snd8_3gzEAZHPMx3stE&itag=140&source=youtube&requiressl=yes&xpc=EgVo2aDSNQ%3D%3D&met=1745882067%2C&mh=Pd&mm=31%2C29&mn=sn-qxo7rn7k%2Csn-qxoednee&ms=au%2Crdu&mv=m&mvi=1&pl=18&rms=au%2Cau&initcwndbps=2045000&bui=AecWEAYbs3zqvY-vtUTqRxpvi3rIKmRsD8eWLgMyHSNPELpYL-3D7erFU9aPCaDy5wPU6KDX8zbXz6CE&vprv=1&svpuc=1&mime=audio%2Fmp4&ns=LOnQcHDFhs-vhVebBp6TFP4Q&rqh=1&gir=yes&clen=744863&dur=45.975&lmt=1722953664300202&mt=1745881730&fvip=4&keepalive=yes&lmw=1&c=TVHTML5&sefc=1&txp=1208224&n=5Qbt5ENgH-lLBw&sparams=expire%2Cei%2Cip%2Cid%2Citag%2Csource%2Crequiressl%2Cxpc%2Cbui%2Cvprv%2Csvpuc%2Cmime%2Cns%2Crqh%2Cgir%2Cclen%2Cdur%2Clmt&sig=AJfQdSswRgIhAIfjR-rspoqR-WmECFhpwPI4FimPM2SUyvGRsdZkHOEaAiEAsTr69NiDm0Ff-84_ekth6eeQgSdqqti9AJM2EwdahvE%3D&lsparams=met%2Cmh%2Cmm%2Cmn%2Cms%2Cmv%2Cmvi%2Cpl%2Crms%2Cinitcwndbps&lsig=ACuhMU0wRQIgUi2PDgxSyQbHTTK8fpyu4W-ShlFVT6h7wWBHWoO3vmQCIQCFNnK2wXPDb2SSHAzdpXyPZzss0E6xmoLVeKYE2yBesA%3D%3D\"\n"
          ]
        },
        {
          "metadata": {
            "tags": null
          },
          "name": "stdout",
          "output_type": "stream",
          "text": [
            "[download] Destination: /content/MyYoutubeDLs/What He Did When an Antidepressant Made Him Sick ｜ Health [Ibwp6TvPF3g].f140.m4a\n",
            "[download] 100% of  727.41KiB in 00:00:01 at 450.77KiB/s \n",
            "[Merger] Merging formats into \"/content/MyYoutubeDLs/What He Did When an Antidepressant Made Him Sick ｜ Health [Ibwp6TvPF3g].mp4\"\n"
          ]
        },
        {
          "metadata": {
            "tags": null
          },
          "name": "stderr",
          "output_type": "stream",
          "text": [
            "[debug] ffmpeg command line: ffmpeg -y -loglevel repeat+info -i 'file:/content/MyYoutubeDLs/What He Did When an Antidepressant Made Him Sick ｜ Health [Ibwp6TvPF3g].f605.mp4' -i 'file:/content/MyYoutubeDLs/What He Did When an Antidepressant Made Him Sick ｜ Health [Ibwp6TvPF3g].f140.m4a' -c copy -map 0:v:0 -map 1:a:0 -movflags +faststart 'file:/content/MyYoutubeDLs/What He Did When an Antidepressant Made Him Sick ｜ Health [Ibwp6TvPF3g].temp.mp4'\n"
          ]
        },
        {
          "metadata": {
            "tags": null
          },
          "name": "stdout",
          "output_type": "stream",
          "text": [
            "Deleting original file /content/MyYoutubeDLs/What He Did When an Antidepressant Made Him Sick ｜ Health [Ibwp6TvPF3g].f605.mp4 (pass -k to keep)\n",
            "Deleting original file /content/MyYoutubeDLs/What He Did When an Antidepressant Made Him Sick ｜ Health [Ibwp6TvPF3g].f140.m4a (pass -k to keep)\n",
            "-> Success or skipped (due to existing file/error ignored): https://www.youtube.com/watch?v=Ibwp6TvPF3g\n",
            "\n",
            "[11/48] Attempting to download: https://www.youtube.com/shorts/in0PRlZRmwc\n",
            "[youtube] Extracting URL: https://www.youtube.com/shorts/in0PRlZRmwc\n",
            "[youtube] in0PRlZRmwc: Downloading webpage\n",
            "[youtube] in0PRlZRmwc: Downloading tv client config\n",
            "[youtube] in0PRlZRmwc: Downloading tv player API JSON\n",
            "[youtube] in0PRlZRmwc: Downloading ios player API JSON\n"
          ]
        },
        {
          "metadata": {
            "tags": null
          },
          "name": "stderr",
          "output_type": "stream",
          "text": [
            "[debug] [youtube] Decrypted nsig sET4lMmDiTJiXGVG => 4xpF5mkzIMG41g\n",
            "[debug] [youtube] Decrypted nsig d9cV6GxJJjWSUzMV => BGu9O-F8_R_LVw\n",
            "[debug] [youtube] in0PRlZRmwc: ios client https formats require a GVS PO Token which was not provided. They will be skipped as they may yield HTTP Error 403. You can manually pass a GVS PO Token for this client with --extractor-args \"youtube:po_token=ios.gvs+XXX\". For more information, refer to  https://github.com/yt-dlp/yt-dlp/wiki/PO-Token-Guide . To enable these broken formats anyway, pass --extractor-args \"youtube:formats=missing_pot\"\n"
          ]
        },
        {
          "metadata": {
            "tags": null
          },
          "name": "stdout",
          "output_type": "stream",
          "text": [
            "[youtube] in0PRlZRmwc: Downloading m3u8 information\n"
          ]
        },
        {
          "metadata": {
            "tags": null
          },
          "name": "stderr",
          "output_type": "stream",
          "text": [
            "[debug] Sort order given by extractor: quality, res, fps, hdr:12, source, vcodec, channels, acodec, lang, proto\n",
            "[debug] Formats sorted by: hasvid, ie_pref, quality, res, fps, hdr:12(7), source, vcodec, channels, acodec, lang, proto, size, br, asr, vext, aext, hasaud, id\n"
          ]
        },
        {
          "metadata": {
            "tags": null
          },
          "name": "stdout",
          "output_type": "stream",
          "text": [
            "[info] in0PRlZRmwc: Downloading 1 format(s): 606+140\n"
          ]
        },
        {
          "metadata": {
            "tags": null
          },
          "name": "stderr",
          "output_type": "stream",
          "text": [
            "[debug] Invoking hlsnative downloader on \"https://manifest.googlevideo.com/api/manifest/hls_playlist/expire/1745903680/ei/4AsQaK3KLO2QsfIP_YbhaQ/ip/34.168.94.101/id/8a7d0f4656519b07/itag/606/source/youtube/requiressl/yes/ratebypass/yes/pfa/1/wft/1/sgovp/clen%3D1931615%3Bdur%3D22.155%3Bgir%3Dyes%3Bitag%3D244%3Blmt%3D1714512833223304/rqh/1/hls_chunk_host/rr1---sn-qxo7rn7k.googlevideo.com/xpc/EgVo2aDSNQ%3D%3D/met/1745882080,/mh/UK/mm/31,26/mn/sn-qxo7rn7k,sn-a5mlrnek/ms/au,onr/mv/m/mvi/1/pl/18/rms/au,au/initcwndbps/2045000/bui/AecWEAbgwuZLyliXf6mkuwZbqxRKnR6C5ts-raojfu_PsButBhIQfgOe0EKRnFSo_6BywE_kmr_fzKKu/spc/wk1kZhBugYxx4gj96inXZNHPIbyb-sjRSg225YCcQFujjKHW9lW9TmtU08pgyYd7a0U/vprv/1/playlist_type/DVR/dover/13/txp/630A224/mt/1745881730/fvip/4/short_key/1/keepalive/yes/sparams/expire,ei,ip,id,itag,source,requiressl,ratebypass,pfa,wft,sgovp,rqh,xpc,bui,spc,vprv,playlist_type/sig/AJfQdSswRgIhANB2TIDRTC3k7hZkovkf7pgG0N5IfbQfmyer4ILuPHYHAiEA9J7ynLbnUYSgTTIoUju8ZRrhL7ofSEGDStxGttjjaLE%3D/lsparams/hls_chunk_host,met,mh,mm,mn,ms,mv,mvi,pl,rms,initcwndbps/lsig/ACuhMU0wRQIgSV5hKn45qLQULJhIKXZSOEJFktZKdMbKA6IVFUdN1H0CIQD7ciBJ2XEGy3RksLUzXuqz83p7DHX2kipl0wUxOnw3DQ%3D%3D/playlist/index.m3u8\"\n"
          ]
        },
        {
          "metadata": {
            "tags": null
          },
          "name": "stdout",
          "output_type": "stream",
          "text": [
            "[hlsnative] Downloading m3u8 manifest\n",
            "[hlsnative] Total fragments: 4\n",
            "[download] Destination: /content/MyYoutubeDLs/Going through a storm of Akathisia and Tardive Dyskinesia [in0PRlZRmwc].f606.mp4\n",
            "[download] 100% of    1.85MiB in 00:00:04 at 452.69KiB/s             \n"
          ]
        },
        {
          "metadata": {
            "tags": null
          },
          "name": "stderr",
          "output_type": "stream",
          "text": [
            "[debug] Invoking http downloader on \"https://rr4---sn-qxoedne7.googlevideo.com/videoplayback?expire=1745903680&ei=4AsQaImJJLybsfIP5vSU0Qs&ip=34.168.94.101&id=o-ACXVyxb-7O2Orifu08-k_uQXKSV5F2DWapOJzvxbzb3d&itag=140&source=youtube&requiressl=yes&xpc=EgVo2aDSNQ%3D%3D&met=1745882080%2C&mh=UK&mm=31%2C26&mn=sn-qxoedne7%2Csn-a5meknsd&ms=au%2Conr&mv=m&mvi=4&pl=18&rms=au%2Cau&initcwndbps=2045000&bui=AecWEAaAAAkXOyNgYvEWo3mmTGWJerAY6Q4lWBelP93h7N8MYim56O_xEcp3DfOxyZievUcS1YghhpxE&vprv=1&svpuc=1&mime=audio%2Fmp4&ns=Cg7wKB0hUXQNkZxvxxRpuqMQ&rqh=1&gir=yes&clen=360474&dur=22.221&lmt=1714512828667971&mt=1745881730&fvip=5&keepalive=yes&lmw=1&c=TVHTML5&sefc=1&txp=6308224&n=BGu9O-F8_R_LVw&sparams=expire%2Cei%2Cip%2Cid%2Citag%2Csource%2Crequiressl%2Cxpc%2Cbui%2Cvprv%2Csvpuc%2Cmime%2Cns%2Crqh%2Cgir%2Cclen%2Cdur%2Clmt&sig=AJfQdSswRgIhAJPBcOmaTjeZ8GJUMvdZ2GMDEIk8j3htZ6sQ3Oh7li6lAiEAusFCW7Fg08Ib93ihKE3kJYgdAVAYspOBxbnaS4eehVQ%3D&lsparams=met%2Cmh%2Cmm%2Cmn%2Cms%2Cmv%2Cmvi%2Cpl%2Crms%2Cinitcwndbps&lsig=ACuhMU0wRQIgeVTOprs0f54DCPlf5gpxpggHntwelwi_3Z2_JyJI7roCIQDVeYBBeO7Zbwuh-YVSzEH18rl_q_X9bruEAEI7_Q6jXw%3D%3D\"\n"
          ]
        },
        {
          "metadata": {
            "tags": null
          },
          "name": "stdout",
          "output_type": "stream",
          "text": [
            "[download] Destination: /content/MyYoutubeDLs/Going through a storm of Akathisia and Tardive Dyskinesia [in0PRlZRmwc].f140.m4a\n",
            "[download] 100% of  352.03KiB in 00:00:01 at 323.20KiB/s \n",
            "[Merger] Merging formats into \"/content/MyYoutubeDLs/Going through a storm of Akathisia and Tardive Dyskinesia [in0PRlZRmwc].mp4\"\n"
          ]
        },
        {
          "metadata": {
            "tags": null
          },
          "name": "stderr",
          "output_type": "stream",
          "text": [
            "[debug] ffmpeg command line: ffmpeg -y -loglevel repeat+info -i 'file:/content/MyYoutubeDLs/Going through a storm of Akathisia and Tardive Dyskinesia [in0PRlZRmwc].f606.mp4' -i 'file:/content/MyYoutubeDLs/Going through a storm of Akathisia and Tardive Dyskinesia [in0PRlZRmwc].f140.m4a' -c copy -map 0:v:0 -map 1:a:0 -movflags +faststart 'file:/content/MyYoutubeDLs/Going through a storm of Akathisia and Tardive Dyskinesia [in0PRlZRmwc].temp.mp4'\n"
          ]
        },
        {
          "metadata": {
            "tags": null
          },
          "name": "stdout",
          "output_type": "stream",
          "text": [
            "Deleting original file /content/MyYoutubeDLs/Going through a storm of Akathisia and Tardive Dyskinesia [in0PRlZRmwc].f606.mp4 (pass -k to keep)\n",
            "Deleting original file /content/MyYoutubeDLs/Going through a storm of Akathisia and Tardive Dyskinesia [in0PRlZRmwc].f140.m4a (pass -k to keep)\n",
            "-> Success or skipped (due to existing file/error ignored): https://www.youtube.com/shorts/in0PRlZRmwc\n",
            "\n",
            "[12/48] Attempting to download: https://www.youtube.com/shorts/Rv8vX6t7HDQ\n",
            "[youtube] Extracting URL: https://www.youtube.com/shorts/Rv8vX6t7HDQ\n",
            "[youtube] Rv8vX6t7HDQ: Downloading webpage\n",
            "[youtube] Rv8vX6t7HDQ: Downloading tv client config\n",
            "[youtube] Rv8vX6t7HDQ: Downloading tv player API JSON\n",
            "[youtube] Rv8vX6t7HDQ: Downloading ios player API JSON\n"
          ]
        },
        {
          "metadata": {
            "tags": null
          },
          "name": "stderr",
          "output_type": "stream",
          "text": [
            "[debug] [youtube] Decrypted nsig J8WtAllJXT5Z1D4G => 1VexCJ5vaDV4Qg\n",
            "[debug] [youtube] Decrypted nsig X2RNsi0nljzaQmhX => oxwe5zOrLrENfw\n",
            "[debug] [youtube] Rv8vX6t7HDQ: ios client https formats require a GVS PO Token which was not provided. They will be skipped as they may yield HTTP Error 403. You can manually pass a GVS PO Token for this client with --extractor-args \"youtube:po_token=ios.gvs+XXX\". For more information, refer to  https://github.com/yt-dlp/yt-dlp/wiki/PO-Token-Guide . To enable these broken formats anyway, pass --extractor-args \"youtube:formats=missing_pot\"\n"
          ]
        },
        {
          "metadata": {
            "tags": null
          },
          "name": "stdout",
          "output_type": "stream",
          "text": [
            "[youtube] Rv8vX6t7HDQ: Downloading m3u8 information\n"
          ]
        },
        {
          "metadata": {
            "tags": null
          },
          "name": "stderr",
          "output_type": "stream",
          "text": [
            "[debug] Sort order given by extractor: quality, res, fps, hdr:12, source, vcodec, channels, acodec, lang, proto\n",
            "[debug] Formats sorted by: hasvid, ie_pref, quality, res, fps, hdr:12(7), source, vcodec, channels, acodec, lang, proto, size, br, asr, vext, aext, hasaud, id\n"
          ]
        },
        {
          "metadata": {
            "tags": null
          },
          "name": "stdout",
          "output_type": "stream",
          "text": [
            "[info] Rv8vX6t7HDQ: Downloading 1 format(s): 614+140\n"
          ]
        },
        {
          "metadata": {
            "tags": null
          },
          "name": "stderr",
          "output_type": "stream",
          "text": [
            "[debug] Invoking hlsnative downloader on \"https://manifest.googlevideo.com/api/manifest/hls_playlist/expire/1745903695/ei/7wsQaPSGIPzasfIPuuXywAg/ip/34.168.94.101/id/46ff2f5fab7b1c34/itag/614/source/youtube/requiressl/yes/ratebypass/yes/pfa/1/wft/1/sgovp/clen%3D10464478%3Bdur%3D59.933%3Bgir%3Dyes%3Bitag%3D248%3Blmt%3D1716482979243003/rqh/1/hls_chunk_host/rr2---sn-qxo7rn7k.googlevideo.com/xpc/EgVo2aDSNQ%3D%3D/met/1745882095,/mh/tW/mm/31,26/mn/sn-qxo7rn7k,sn-a5msenes/ms/au,onr/mv/m/mvi/2/pl/18/rms/au,au/initcwndbps/2045000/bui/AecWEAYyZElKH80DhD7mRw_pYWyARVQcQ7AuM2wANxIr2TmidMOCpglAmxaUC77ZmGrp7z_d_vCGLyUQ/spc/wk1kZmoUZv628eIcT48pvhWjfRQAhnTby0qCe-XRFahXfj0kGj0JEl8FDE2MeTWzM5Q/vprv/1/playlist_type/DVR/dover/13/txp/630A224/mt/1745881730/fvip/5/short_key/1/keepalive/yes/sparams/expire,ei,ip,id,itag,source,requiressl,ratebypass,pfa,wft,sgovp,rqh,xpc,bui,spc,vprv,playlist_type/sig/AJfQdSswRQIhAPo3xfceE7zyTAb6SYdTqJOn3IUlK7M-LQqDLQ9GIFZtAiAzz_BZEdSTWUFU6vNG853ES8d8vWarCE7piS8xIuXaxw%3D%3D/lsparams/hls_chunk_host,met,mh,mm,mn,ms,mv,mvi,pl,rms,initcwndbps/lsig/ACuhMU0wRgIhAL-7umcgLK8GCLu63A4pK-zUaTgI7GITtySMDUdYjuGPAiEAmfvwIzMs68Y9JuebEr0bjR2E3looz9DI-1-Gd96F9m0%3D/playlist/index.m3u8\"\n"
          ]
        },
        {
          "metadata": {
            "tags": null
          },
          "name": "stdout",
          "output_type": "stream",
          "text": [
            "[hlsnative] Downloading m3u8 manifest\n",
            "[hlsnative] Total fragments: 11\n",
            "[download] Destination: /content/MyYoutubeDLs/Struggling with med withdrawal [Rv8vX6t7HDQ].f614.mp4\n",
            "[download] 100% of    9.99MiB in 00:00:20 at 495.10KiB/s               \n"
          ]
        },
        {
          "metadata": {
            "tags": null
          },
          "name": "stderr",
          "output_type": "stream",
          "text": [
            "[debug] Invoking http downloader on \"https://rr3---sn-qxoednee.googlevideo.com/videoplayback?expire=1745903695&ei=7wsQaM7xGeKRsfIPqbG2wQ8&ip=34.168.94.101&id=o-APc-sNKc8E7W7L1eHivWjlWKUA6fG3B8ehHOv_8Xcp7j&itag=140&source=youtube&requiressl=yes&xpc=EgVo2aDSNQ%3D%3D&met=1745882095%2C&mh=tW&mm=31%2C29&mn=sn-qxoednee%2Csn-qxo7rn7k&ms=au%2Crdu&mv=m&mvi=3&pl=18&rms=au%2Cau&initcwndbps=2045000&bui=AecWEAbvBlvk43EC3x99wuKMYdyzdCUnhcPfbBF-jsOOAwWLuLY3gNwHhxr9YpupM8Kbg9E2Lc8SFUjr&vprv=1&svpuc=1&mime=audio%2Fmp4&ns=V6PRu9KnmKHnd3XNqLNWhaUQ&rqh=1&gir=yes&clen=971908&dur=60.000&lmt=1716482979924686&mt=1745881730&fvip=2&keepalive=yes&lmw=1&c=TVHTML5&sefc=1&txp=6308224&n=oxwe5zOrLrENfw&sparams=expire%2Cei%2Cip%2Cid%2Citag%2Csource%2Crequiressl%2Cxpc%2Cbui%2Cvprv%2Csvpuc%2Cmime%2Cns%2Crqh%2Cgir%2Cclen%2Cdur%2Clmt&sig=AJfQdSswRQIhAOUNXtCbJqnJ4C7xIJpYnS5Krk4Fftyy0oPTruBP_a4FAiBaQyTkIgQ6MTd6eSWlTQu4SFcT_XhxFbUs4GtN8NCHow%3D%3D&lsparams=met%2Cmh%2Cmm%2Cmn%2Cms%2Cmv%2Cmvi%2Cpl%2Crms%2Cinitcwndbps&lsig=ACuhMU0wQwIfFWt9hdG9KheCRMlGt-sH8JVJFDkRiyiQKcJ6Ced2AwIgNOd3vNDUtsqS8JbYGIT6MNYt9ml_0ZOZCA40DnKSBEI%3D\"\n"
          ]
        },
        {
          "metadata": {
            "tags": null
          },
          "name": "stdout",
          "output_type": "stream",
          "text": [
            "[download] Destination: /content/MyYoutubeDLs/Struggling with med withdrawal [Rv8vX6t7HDQ].f140.m4a\n",
            "[download] 100% of  949.13KiB in 00:00:02 at 371.75KiB/s \n",
            "[Merger] Merging formats into \"/content/MyYoutubeDLs/Struggling with med withdrawal [Rv8vX6t7HDQ].mp4\"\n"
          ]
        },
        {
          "metadata": {
            "tags": null
          },
          "name": "stderr",
          "output_type": "stream",
          "text": [
            "[debug] ffmpeg command line: ffmpeg -y -loglevel repeat+info -i 'file:/content/MyYoutubeDLs/Struggling with med withdrawal [Rv8vX6t7HDQ].f614.mp4' -i 'file:/content/MyYoutubeDLs/Struggling with med withdrawal [Rv8vX6t7HDQ].f140.m4a' -c copy -map 0:v:0 -map 1:a:0 -movflags +faststart 'file:/content/MyYoutubeDLs/Struggling with med withdrawal [Rv8vX6t7HDQ].temp.mp4'\n"
          ]
        },
        {
          "metadata": {
            "tags": null
          },
          "name": "stdout",
          "output_type": "stream",
          "text": [
            "Deleting original file /content/MyYoutubeDLs/Struggling with med withdrawal [Rv8vX6t7HDQ].f140.m4a (pass -k to keep)\n",
            "Deleting original file /content/MyYoutubeDLs/Struggling with med withdrawal [Rv8vX6t7HDQ].f614.mp4 (pass -k to keep)\n",
            "-> Success or skipped (due to existing file/error ignored): https://www.youtube.com/shorts/Rv8vX6t7HDQ\n",
            "\n",
            "[13/48] Attempting to download: https://www.youtube.com/shorts/JXiqF9kiSis\n",
            "[youtube] Extracting URL: https://www.youtube.com/shorts/JXiqF9kiSis\n",
            "[youtube] JXiqF9kiSis: Downloading webpage\n",
            "[youtube] JXiqF9kiSis: Downloading tv client config\n",
            "[youtube] JXiqF9kiSis: Downloading tv player API JSON\n",
            "[youtube] JXiqF9kiSis: Downloading ios player API JSON\n"
          ]
        },
        {
          "metadata": {
            "tags": null
          },
          "name": "stderr",
          "output_type": "stream",
          "text": [
            "[debug] [youtube] Decrypted nsig OEc6bPiI2jFsaV-W => jJAcoCH2Ya_MGw\n",
            "[debug] [youtube] Decrypted nsig XyWyf5tEurx9A48g => GhGpOdbyuyViwQ\n",
            "[debug] [youtube] JXiqF9kiSis: ios client https formats require a GVS PO Token which was not provided. They will be skipped as they may yield HTTP Error 403. You can manually pass a GVS PO Token for this client with --extractor-args \"youtube:po_token=ios.gvs+XXX\". For more information, refer to  https://github.com/yt-dlp/yt-dlp/wiki/PO-Token-Guide . To enable these broken formats anyway, pass --extractor-args \"youtube:formats=missing_pot\"\n"
          ]
        },
        {
          "metadata": {
            "tags": null
          },
          "name": "stdout",
          "output_type": "stream",
          "text": [
            "[youtube] JXiqF9kiSis: Downloading m3u8 information\n"
          ]
        },
        {
          "metadata": {
            "tags": null
          },
          "name": "stderr",
          "output_type": "stream",
          "text": [
            "[debug] Sort order given by extractor: quality, res, fps, hdr:12, source, vcodec, channels, acodec, lang, proto\n",
            "[debug] Formats sorted by: hasvid, ie_pref, quality, res, fps, hdr:12(7), source, vcodec, channels, acodec, lang, proto, size, br, asr, vext, aext, hasaud, id\n"
          ]
        },
        {
          "metadata": {
            "tags": null
          },
          "name": "stdout",
          "output_type": "stream",
          "text": [
            "[info] JXiqF9kiSis: Downloading 1 format(s): 609+140\n"
          ]
        },
        {
          "metadata": {
            "tags": null
          },
          "name": "stderr",
          "output_type": "stream",
          "text": [
            "[debug] Invoking hlsnative downloader on \"https://manifest.googlevideo.com/api/manifest/hls_playlist/expire/1745903728/ei/EAwQaPeLNqaosfIPye7yiQc/ip/34.168.94.101/id/2578aa17d9224a2b/itag/609/source/youtube/requiressl/yes/ratebypass/yes/pfa/1/wft/1/sgovp/clen%3D3788433%3Bdur%3D56.100%3Bgir%3Dyes%3Bitag%3D247%3Blmt%3D1679335709836830/rqh/1/hls_chunk_host/rr1---sn-qxo7rn7k.googlevideo.com/xpc/EgVo2aDSNQ%3D%3D/met/1745882128,/mh/Ha/mm/31,29/mn/sn-qxo7rn7k,sn-qxoedn7k/ms/au,rdu/mv/m/mvi/1/pl/18/rms/au,au/initcwndbps/2045000/bui/AecWEAbaYMlvuYh6Ycvv97-3bwQgTBepDAEeQBDXt97Gk7dkvYX8TEEWWJcIzOEQQqS7-sIOWIaIXz0W/spc/wk1kZqw31Jb5zGL46nZSx7MpoOSEJ1IANU0C4O1xJD1gFdindkWecVGL4svErsjkv0Y/vprv/1/playlist_type/DVR/dover/13/txp/631A224/mt/1745881730/fvip/5/short_key/1/keepalive/yes/sparams/expire,ei,ip,id,itag,source,requiressl,ratebypass,pfa,wft,sgovp,rqh,xpc,bui,spc,vprv,playlist_type/sig/AJfQdSswRQIgatGsi5xhEazRJ0wGoKkbAtNfL_l09u6tBdFzLKLtBIsCIQDUlGSbo7tfadzoeJyQiNMxX2xHVl9BSeOwCvE6KLuBiA%3D%3D/lsparams/hls_chunk_host,met,mh,mm,mn,ms,mv,mvi,pl,rms,initcwndbps/lsig/ACuhMU0wRgIhANlEVodXmi-rUnZlY4bjFsL793LNswrzm6_iG8rmHWCOAiEAoPIs7gYLtZekdGUlbYIk_aaTHxbnAfRMbARoheRh7kY%3D/playlist/index.m3u8\"\n"
          ]
        },
        {
          "metadata": {
            "tags": null
          },
          "name": "stdout",
          "output_type": "stream",
          "text": [
            "[hlsnative] Downloading m3u8 manifest\n",
            "[hlsnative] Total fragments: 11\n",
            "[download] Destination: /content/MyYoutubeDLs/Have you been screened for Tardive Dyskinesia (TD)？ [JXiqF9kiSis].f609.mp4\n",
            "[download] 100% of    3.62MiB in 00:00:07 at 474.81KiB/s               \n"
          ]
        },
        {
          "metadata": {
            "tags": null
          },
          "name": "stderr",
          "output_type": "stream",
          "text": [
            "[debug] Invoking http downloader on \"https://rr5---sn-qxoedn7k.googlevideo.com/videoplayback?expire=1745903728&ei=EAwQaOSMMOPAsfIPncmhsQw&ip=34.168.94.101&id=o-AAJiD5lpvitktEMUvhymplRGipfrPjRr4zeHKoir11Gr&itag=140&source=youtube&requiressl=yes&xpc=EgVo2aDSNQ%3D%3D&met=1745882128%2C&mh=Ha&mm=31%2C26&mn=sn-qxoedn7k%2Csn-a5mekn6l&ms=au%2Conr&mv=m&mvi=5&pl=18&rms=au%2Cau&initcwndbps=2045000&bui=AecWEAZdYrMkLXm4DXHgUp_V1lKHUJ_ynSGn7DnWlGQhkcJlMA7IfjaKjYOuKR8AIuTTGaooMGwiU4fF&vprv=1&svpuc=1&mime=audio%2Fmp4&ns=UX5fisxHFPu50MlmuMdfqV4Q&rqh=1&gir=yes&clen=909741&dur=56.169&lmt=1679335708182906&mt=1745881730&fvip=3&keepalive=yes&lmw=1&c=TVHTML5&sefc=1&txp=6318224&n=GhGpOdbyuyViwQ&sparams=expire%2Cei%2Cip%2Cid%2Citag%2Csource%2Crequiressl%2Cxpc%2Cbui%2Cvprv%2Csvpuc%2Cmime%2Cns%2Crqh%2Cgir%2Cclen%2Cdur%2Clmt&sig=AJfQdSswRAIgImnGatRIq8NOf67QBtgQDX0UnGKTTOFvbU6aQQKtL9ACIHRRW2A5h3RQzP0Yybvk5aFTKY1MQsWMxh7i0O0zrrOs&lsparams=met%2Cmh%2Cmm%2Cmn%2Cms%2Cmv%2Cmvi%2Cpl%2Crms%2Cinitcwndbps&lsig=ACuhMU0wRAIgJhkmcqlI4afjTMORidGi8ehNow9vOz31mm2pQ5JgnKsCIEwk0n-rQhOlMMnGOYYMa0FN6nnMFOoy7B1PoC9UpC3c\"\n"
          ]
        },
        {
          "metadata": {
            "tags": null
          },
          "name": "stdout",
          "output_type": "stream",
          "text": [
            "[download] Destination: /content/MyYoutubeDLs/Have you been screened for Tardive Dyskinesia (TD)？ [JXiqF9kiSis].f140.m4a\n",
            "[download] 100% of  888.42KiB in 00:00:01 at 457.78KiB/s \n",
            "[Merger] Merging formats into \"/content/MyYoutubeDLs/Have you been screened for Tardive Dyskinesia (TD)？ [JXiqF9kiSis].mp4\"\n"
          ]
        },
        {
          "metadata": {
            "tags": null
          },
          "name": "stderr",
          "output_type": "stream",
          "text": [
            "[debug] ffmpeg command line: ffmpeg -y -loglevel repeat+info -i 'file:/content/MyYoutubeDLs/Have you been screened for Tardive Dyskinesia (TD)？ [JXiqF9kiSis].f609.mp4' -i 'file:/content/MyYoutubeDLs/Have you been screened for Tardive Dyskinesia (TD)？ [JXiqF9kiSis].f140.m4a' -c copy -map 0:v:0 -map 1:a:0 -movflags +faststart 'file:/content/MyYoutubeDLs/Have you been screened for Tardive Dyskinesia (TD)？ [JXiqF9kiSis].temp.mp4'\n"
          ]
        },
        {
          "metadata": {
            "tags": null
          },
          "name": "stdout",
          "output_type": "stream",
          "text": [
            "Deleting original file /content/MyYoutubeDLs/Have you been screened for Tardive Dyskinesia (TD)？ [JXiqF9kiSis].f609.mp4 (pass -k to keep)\n",
            "Deleting original file /content/MyYoutubeDLs/Have you been screened for Tardive Dyskinesia (TD)？ [JXiqF9kiSis].f140.m4a (pass -k to keep)\n",
            "-> Success or skipped (due to existing file/error ignored): https://www.youtube.com/shorts/JXiqF9kiSis\n",
            "\n",
            "[14/48] Attempting to download: https://www.youtube.com/shorts/Blp_kwDqBk8\n",
            "[youtube] Extracting URL: https://www.youtube.com/shorts/Blp_kwDqBk8\n",
            "[youtube] Blp_kwDqBk8: Downloading webpage\n",
            "[youtube] Blp_kwDqBk8: Downloading tv client config\n",
            "[youtube] Blp_kwDqBk8: Downloading tv player API JSON\n",
            "[youtube] Blp_kwDqBk8: Downloading ios player API JSON\n"
          ]
        },
        {
          "metadata": {
            "tags": null
          },
          "name": "stderr",
          "output_type": "stream",
          "text": [
            "[debug] [youtube] Decrypted nsig wSumEGXvMTRYvT1z => hiHOYFTJmHhBGg\n",
            "[debug] [youtube] Decrypted nsig aRPpIJkGzjOEXMDI => a2U4hokxn3C6Kw\n",
            "[debug] [youtube] Blp_kwDqBk8: ios client https formats require a GVS PO Token which was not provided. They will be skipped as they may yield HTTP Error 403. You can manually pass a GVS PO Token for this client with --extractor-args \"youtube:po_token=ios.gvs+XXX\". For more information, refer to  https://github.com/yt-dlp/yt-dlp/wiki/PO-Token-Guide . To enable these broken formats anyway, pass --extractor-args \"youtube:formats=missing_pot\"\n"
          ]
        },
        {
          "metadata": {
            "tags": null
          },
          "name": "stdout",
          "output_type": "stream",
          "text": [
            "[youtube] Blp_kwDqBk8: Downloading m3u8 information\n"
          ]
        },
        {
          "metadata": {
            "tags": null
          },
          "name": "stderr",
          "output_type": "stream",
          "text": [
            "[debug] Sort order given by extractor: quality, res, fps, hdr:12, source, vcodec, channels, acodec, lang, proto\n",
            "[debug] Formats sorted by: hasvid, ie_pref, quality, res, fps, hdr:12(7), source, vcodec, channels, acodec, lang, proto, size, br, asr, vext, aext, hasaud, id\n"
          ]
        },
        {
          "metadata": {
            "tags": null
          },
          "name": "stdout",
          "output_type": "stream",
          "text": [
            "[info] Blp_kwDqBk8: Downloading 1 format(s): 614+140\n"
          ]
        },
        {
          "metadata": {
            "tags": null
          },
          "name": "stderr",
          "output_type": "stream",
          "text": [
            "[debug] Invoking hlsnative downloader on \"https://manifest.googlevideo.com/api/manifest/hls_playlist/expire/1745903748/ei/JAwQaObMGqP5sfIPgbvtmQw/ip/34.168.94.101/id/065a7f9300ea064f/itag/614/source/youtube/requiressl/yes/ratebypass/yes/pfa/1/wft/1/sgovp/clen%3D7134339%3Bdur%3D58.258%3Bgir%3Dyes%3Bitag%3D248%3Blmt%3D1720282197023564/rqh/1/hls_chunk_host/rr4---sn-qxo7rn7k.googlevideo.com/xpc/EgVo2aDSNQ%3D%3D/met/1745882148,/mh/VG/mm/31,29/mn/sn-qxo7rn7k,sn-qxoedn7k/ms/au,rdu/mv/m/mvi/4/pl/18/rms/au,au/initcwndbps/2045000/bui/AecWEAY3OJ3jLDCPRrVX8Zyj9PJhIMmnS5k98dsZUK_yTYxgD3MRpZJn9Hm5T4zdQZmAO_e8K96xDJTV/spc/wk1kZgQQ_ZoiodZuWcUwE4Yo_LYExztq52QqzRMZy3rUJIoqG6EEdgkoH9PToeLq8Fw/vprv/1/playlist_type/DVR/dover/13/txp/630A224/mt/1745881730/fvip/5/short_key/1/keepalive/yes/sparams/expire,ei,ip,id,itag,source,requiressl,ratebypass,pfa,wft,sgovp,rqh,xpc,bui,spc,vprv,playlist_type/sig/AJfQdSswRAIgCMHsfMME8_W11VhubxGi2-VCSpLCDNaMjge3qhouH6ACIFsWRy3_D3qMeg5Pm5PvS1R3qV4wTHaBlM9HSIsIRbye/lsparams/hls_chunk_host,met,mh,mm,mn,ms,mv,mvi,pl,rms,initcwndbps/lsig/ACuhMU0wRAIgBnBXGIUPay2WnSsAiSq-TZ-8OKuw1EEkc2hH_45449YCIBgQfgp2GEUXHVhiwNt_5usPxtX7q5pS-fhxHLm9WsAi/playlist/index.m3u8\"\n"
          ]
        },
        {
          "metadata": {
            "tags": null
          },
          "name": "stdout",
          "output_type": "stream",
          "text": [
            "[hlsnative] Downloading m3u8 manifest\n",
            "[hlsnative] Total fragments: 12\n",
            "[download] Destination: /content/MyYoutubeDLs/Surviving Pregnancy with Zopiclone Withdrawal #zopiclone #shareyourdrugstory #psychmeds [Blp_kwDqBk8].f614.mp4\n",
            "[download] 100% of    6.81MiB in 00:00:14 at 485.33KiB/s               \n"
          ]
        },
        {
          "metadata": {
            "tags": null
          },
          "name": "stderr",
          "output_type": "stream",
          "text": [
            "[debug] Invoking http downloader on \"https://rr4---sn-qxo7rn7k.googlevideo.com/videoplayback?expire=1745903748&ei=JAwQaK7XEfzasfIP5YTqwA8&ip=34.168.94.101&id=o-ANXFOr_x5pIxNfitHpuEx9EDpts7Hc6E6Vo0s-HfP_LA&itag=140&source=youtube&requiressl=yes&xpc=EgVo2aDSNQ%3D%3D&met=1745882148%2C&mh=VG&mm=31%2C26&mn=sn-qxo7rn7k%2Csn-a5msenle&ms=au%2Conr&mv=m&mvi=4&pl=18&rms=au%2Cau&initcwndbps=2045000&bui=AecWEAb06deeWpI5SfuPJe-9aGecy820arr8aMH_pWMMyJ78OQrRMVIfyo_FOKp63YRmnuBTp5Qyt0dT&vprv=1&svpuc=1&mime=audio%2Fmp4&ns=mZuV-LyivImtaa-BZchRmmkQ&rqh=1&gir=yes&clen=944487&dur=58.305&lmt=1720282189721482&mt=1745881730&fvip=3&keepalive=yes&lmw=1&c=TVHTML5&sefc=1&txp=6308224&n=a2U4hokxn3C6Kw&sparams=expire%2Cei%2Cip%2Cid%2Citag%2Csource%2Crequiressl%2Cxpc%2Cbui%2Cvprv%2Csvpuc%2Cmime%2Cns%2Crqh%2Cgir%2Cclen%2Cdur%2Clmt&sig=AJfQdSswRQIhANTSmhjJ7E9eY3xy3YzP1H58wI5SFAfqpJ7zoEqXaQjiAiADXqqXX_kUdg-QFN5QCbMo_9nZA9HfXC1L3thguhu-Hg%3D%3D&lsparams=met%2Cmh%2Cmm%2Cmn%2Cms%2Cmv%2Cmvi%2Cpl%2Crms%2Cinitcwndbps&lsig=ACuhMU0wRgIhAJ6qP-QToEYDE561VIFgoC2VpbFZQOjciLUEAepoCs4_AiEAzRC6MHzk2w1af6Z4NDPgTUvm6qzPAZsXfj6TGTN0ot8%3D\"\n"
          ]
        },
        {
          "metadata": {
            "tags": null
          },
          "name": "stdout",
          "output_type": "stream",
          "text": [
            "[download] Destination: /content/MyYoutubeDLs/Surviving Pregnancy with Zopiclone Withdrawal #zopiclone #shareyourdrugstory #psychmeds [Blp_kwDqBk8].f140.m4a\n",
            "[download] 100% of  922.35KiB in 00:00:02 at 450.07KiB/s \n",
            "[Merger] Merging formats into \"/content/MyYoutubeDLs/Surviving Pregnancy with Zopiclone Withdrawal #zopiclone #shareyourdrugstory #psychmeds [Blp_kwDqBk8].mp4\"\n"
          ]
        },
        {
          "metadata": {
            "tags": null
          },
          "name": "stderr",
          "output_type": "stream",
          "text": [
            "[debug] ffmpeg command line: ffmpeg -y -loglevel repeat+info -i 'file:/content/MyYoutubeDLs/Surviving Pregnancy with Zopiclone Withdrawal #zopiclone #shareyourdrugstory #psychmeds [Blp_kwDqBk8].f614.mp4' -i 'file:/content/MyYoutubeDLs/Surviving Pregnancy with Zopiclone Withdrawal #zopiclone #shareyourdrugstory #psychmeds [Blp_kwDqBk8].f140.m4a' -c copy -map 0:v:0 -map 1:a:0 -movflags +faststart 'file:/content/MyYoutubeDLs/Surviving Pregnancy with Zopiclone Withdrawal #zopiclone #shareyourdrugstory #psychmeds [Blp_kwDqBk8].temp.mp4'\n"
          ]
        },
        {
          "metadata": {
            "tags": null
          },
          "name": "stdout",
          "output_type": "stream",
          "text": [
            "Deleting original file /content/MyYoutubeDLs/Surviving Pregnancy with Zopiclone Withdrawal #zopiclone #shareyourdrugstory #psychmeds [Blp_kwDqBk8].f614.mp4 (pass -k to keep)\n",
            "Deleting original file /content/MyYoutubeDLs/Surviving Pregnancy with Zopiclone Withdrawal #zopiclone #shareyourdrugstory #psychmeds [Blp_kwDqBk8].f140.m4a (pass -k to keep)\n",
            "-> Success or skipped (due to existing file/error ignored): https://www.youtube.com/shorts/Blp_kwDqBk8\n",
            "\n",
            "[15/48] Attempting to download: https://www.youtube.com/shorts/-fzITFKH8ec\n",
            "[youtube] Extracting URL: https://www.youtube.com/shorts/-fzITFKH8ec\n",
            "[youtube] -fzITFKH8ec: Downloading webpage\n",
            "[youtube] -fzITFKH8ec: Downloading tv client config\n",
            "[youtube] -fzITFKH8ec: Downloading tv player API JSON\n",
            "[youtube] -fzITFKH8ec: Downloading ios player API JSON\n"
          ]
        },
        {
          "metadata": {
            "tags": null
          },
          "name": "stderr",
          "output_type": "stream",
          "text": [
            "[debug] [youtube] Decrypted nsig _cScf_fs8jUe-Vxf => jPZWTC5e9eFJOw\n",
            "[debug] [youtube] Decrypted nsig wOwenCXmPr499NeI => bi4c4efvFeL6lQ\n",
            "[debug] [youtube] -fzITFKH8ec: ios client https formats require a GVS PO Token which was not provided. They will be skipped as they may yield HTTP Error 403. You can manually pass a GVS PO Token for this client with --extractor-args \"youtube:po_token=ios.gvs+XXX\". For more information, refer to  https://github.com/yt-dlp/yt-dlp/wiki/PO-Token-Guide . To enable these broken formats anyway, pass --extractor-args \"youtube:formats=missing_pot\"\n"
          ]
        },
        {
          "metadata": {
            "tags": null
          },
          "name": "stdout",
          "output_type": "stream",
          "text": [
            "[youtube] -fzITFKH8ec: Downloading m3u8 information\n"
          ]
        },
        {
          "metadata": {
            "tags": null
          },
          "name": "stderr",
          "output_type": "stream",
          "text": [
            "[debug] Sort order given by extractor: quality, res, fps, hdr:12, source, vcodec, channels, acodec, lang, proto\n",
            "[debug] Formats sorted by: hasvid, ie_pref, quality, res, fps, hdr:12(7), source, vcodec, channels, acodec, lang, proto, size, br, asr, vext, aext, hasaud, id\n"
          ]
        },
        {
          "metadata": {
            "tags": null
          },
          "name": "stdout",
          "output_type": "stream",
          "text": [
            "[info] -fzITFKH8ec: Downloading 1 format(s): 614+140\n"
          ]
        },
        {
          "metadata": {
            "tags": null
          },
          "name": "stderr",
          "output_type": "stream",
          "text": [
            "[debug] Invoking hlsnative downloader on \"https://manifest.googlevideo.com/api/manifest/hls_playlist/expire/1745903774/ei/PgwQaKmmI8W0sfIPg_nzsAw/ip/34.168.94.101/id/f9fcc84c5287f1e7/itag/614/source/youtube/requiressl/yes/ratebypass/yes/pfa/1/wft/1/sgovp/clen%3D15375730%3Bdur%3D58.166%3Bgir%3Dyes%3Bitag%3D248%3Blmt%3D1713541864808676/rqh/1/hls_chunk_host/rr3---sn-qxo7rn7k.googlevideo.com/xpc/EgVo2aDSNQ%3D%3D/met/1745882174,/mh/AW/mm/31,29/mn/sn-qxo7rn7k,sn-qxoedne7/ms/au,rdu/mv/u/mvi/3/pl/18/rms/au,au/bui/AecWEAbRfRUl2rT33PXdkTlet0t8HF0slxJgbe9-rx9eXF96eFheN4ytbYFKTyWATvFty7EgynO0i1NB/spc/wk1kZtcppxj3p0JdTSgEx0TCtz4-gJS0YTUxa8PrnlcXgYsxB9_fz79OqiNOat2FabE/vprv/1/playlist_type/DVR/dover/13/txp/630A224/cmsv/s/mt/1745851452/fvip/5/short_key/1/keepalive/yes/sparams/expire,ei,ip,id,itag,source,requiressl,ratebypass,pfa,wft,sgovp,rqh,xpc,bui,spc,vprv,playlist_type/sig/AJfQdSswRgIhALUdXyZK5ycRk-RxxfaowJUrypy3A2b-vszUtVqgpZERAiEApW3tJDSPNZhq12jgNgoHlQwo1VmpOpq744tvYWN0yCI%3D/lsparams/hls_chunk_host,met,mh,mm,mn,ms,mv,mvi,pl,rms/lsig/ACuhMU0wRAIgdR7DW1LjiBhmVLfTyiAR4ahbQilcGhYW7dROFfLgC1sCIFSvwsYoaHrIoP3Nm9NfReTRFdzLpoZBqZOquyFEJoZ0/playlist/index.m3u8\"\n"
          ]
        },
        {
          "metadata": {
            "tags": null
          },
          "name": "stdout",
          "output_type": "stream",
          "text": [
            "[hlsnative] Downloading m3u8 manifest\n",
            "[hlsnative] Total fragments: 11\n",
            "[download] Destination: /content/MyYoutubeDLs/How I REDUCED my PSYCH MEDS by 60% in 3 months [-fzITFKH8ec].f614.mp4\n",
            "[download] 100% of   14.67MiB in 00:00:30 at 486.69KiB/s               \n"
          ]
        },
        {
          "metadata": {
            "tags": null
          },
          "name": "stderr",
          "output_type": "stream",
          "text": [
            "[debug] Invoking http downloader on \"https://rr5---sn-qxoedne7.googlevideo.com/videoplayback?expire=1745903774&ei=PgwQaPulHPfPsfIPqZGyoQ8&ip=34.168.94.101&id=o-AHWokOxfNtcKHqGToefDwl1GD8uIH2RVoZjVV6--c7sE&itag=140&source=youtube&requiressl=yes&xpc=EgVo2aDSNQ%3D%3D&met=1745882174%2C&mh=AW&mm=31%2C26&mn=sn-qxoedne7%2Csn-a5m7lnl6&ms=au%2Conr&mv=m&mvi=5&pl=18&rms=au%2Cau&initcwndbps=2045000&bui=AecWEAbXQtKD0kPjY8NcMjteGe4TnC4S0lCH3niB0B-P2TpKNDiVlzeb9lxHkUpKCqWADkgKAULJ-u8d&vprv=1&svpuc=1&mime=audio%2Fmp4&ns=5mXVWcOvgRWPNv3niLPB-hcQ&rqh=1&gir=yes&clen=943599&dur=58.235&lmt=1713541837509443&mt=1745881730&fvip=2&keepalive=yes&lmw=1&c=TVHTML5&sefc=1&txp=6308224&n=bi4c4efvFeL6lQ&sparams=expire%2Cei%2Cip%2Cid%2Citag%2Csource%2Crequiressl%2Cxpc%2Cbui%2Cvprv%2Csvpuc%2Cmime%2Cns%2Crqh%2Cgir%2Cclen%2Cdur%2Clmt&sig=AJfQdSswRQIga6GenKim3zSRHAt3UOi6QOVzo-zNStMyAE6mMj7jHTUCIQCP1bDnR1KNEqQmXD5OBvU0Wea3TOJZjGMbSF8cylbK9w%3D%3D&lsparams=met%2Cmh%2Cmm%2Cmn%2Cms%2Cmv%2Cmvi%2Cpl%2Crms%2Cinitcwndbps&lsig=ACuhMU0wRgIhAIX-JrIH0x-b8N6JrYKsyQDlKzRxGoyacl56I-uWPHX6AiEAl_PLDp0ivIHKUrguitP2W2ZfrKZpe9BpylHJI4dAzkU%3D\"\n"
          ]
        },
        {
          "metadata": {
            "tags": null
          },
          "name": "stdout",
          "output_type": "stream",
          "text": [
            "[download] Destination: /content/MyYoutubeDLs/How I REDUCED my PSYCH MEDS by 60% in 3 months [-fzITFKH8ec].f140.m4a\n",
            "[download] 100% of  921.48KiB in 00:00:01 at 476.79KiB/s \n",
            "[Merger] Merging formats into \"/content/MyYoutubeDLs/How I REDUCED my PSYCH MEDS by 60% in 3 months [-fzITFKH8ec].mp4\"\n"
          ]
        },
        {
          "metadata": {
            "tags": null
          },
          "name": "stderr",
          "output_type": "stream",
          "text": [
            "[debug] ffmpeg command line: ffmpeg -y -loglevel repeat+info -i 'file:/content/MyYoutubeDLs/How I REDUCED my PSYCH MEDS by 60% in 3 months [-fzITFKH8ec].f614.mp4' -i 'file:/content/MyYoutubeDLs/How I REDUCED my PSYCH MEDS by 60% in 3 months [-fzITFKH8ec].f140.m4a' -c copy -map 0:v:0 -map 1:a:0 -movflags +faststart 'file:/content/MyYoutubeDLs/How I REDUCED my PSYCH MEDS by 60% in 3 months [-fzITFKH8ec].temp.mp4'\n"
          ]
        },
        {
          "metadata": {
            "tags": null
          },
          "name": "stdout",
          "output_type": "stream",
          "text": [
            "Deleting original file /content/MyYoutubeDLs/How I REDUCED my PSYCH MEDS by 60% in 3 months [-fzITFKH8ec].f140.m4a (pass -k to keep)\n",
            "Deleting original file /content/MyYoutubeDLs/How I REDUCED my PSYCH MEDS by 60% in 3 months [-fzITFKH8ec].f614.mp4 (pass -k to keep)\n",
            "-> Success or skipped (due to existing file/error ignored): https://www.youtube.com/shorts/-fzITFKH8ec\n",
            "\n",
            "[16/48] Attempting to download: https://www.youtube.com/shorts/-6z7eaUiDis\n",
            "[youtube] Extracting URL: https://www.youtube.com/shorts/-6z7eaUiDis\n",
            "[youtube] -6z7eaUiDis: Downloading webpage\n",
            "[youtube] -6z7eaUiDis: Downloading tv client config\n",
            "[youtube] -6z7eaUiDis: Downloading tv player API JSON\n",
            "[youtube] -6z7eaUiDis: Downloading ios player API JSON\n"
          ]
        },
        {
          "metadata": {
            "tags": null
          },
          "name": "stderr",
          "output_type": "stream",
          "text": [
            "[debug] [youtube] Decrypted nsig PBHUx3mh3jdzn34B => FY3455CFuwu_Jw\n",
            "[debug] [youtube] Decrypted nsig q-2OYLorwjp0DADy => -A41EXpX_zRAyw\n",
            "[debug] [youtube] -6z7eaUiDis: ios client https formats require a GVS PO Token which was not provided. They will be skipped as they may yield HTTP Error 403. You can manually pass a GVS PO Token for this client with --extractor-args \"youtube:po_token=ios.gvs+XXX\". For more information, refer to  https://github.com/yt-dlp/yt-dlp/wiki/PO-Token-Guide . To enable these broken formats anyway, pass --extractor-args \"youtube:formats=missing_pot\"\n"
          ]
        },
        {
          "metadata": {
            "tags": null
          },
          "name": "stdout",
          "output_type": "stream",
          "text": [
            "[youtube] -6z7eaUiDis: Downloading m3u8 information\n"
          ]
        },
        {
          "metadata": {
            "tags": null
          },
          "name": "stderr",
          "output_type": "stream",
          "text": [
            "[debug] Sort order given by extractor: quality, res, fps, hdr:12, source, vcodec, channels, acodec, lang, proto\n",
            "[debug] Formats sorted by: hasvid, ie_pref, quality, res, fps, hdr:12(7), source, vcodec, channels, acodec, lang, proto, size, br, asr, vext, aext, hasaud, id\n"
          ]
        },
        {
          "metadata": {
            "tags": null
          },
          "name": "stdout",
          "output_type": "stream",
          "text": [
            "[info] -6z7eaUiDis: Downloading 1 format(s): 609+140\n"
          ]
        },
        {
          "metadata": {
            "tags": null
          },
          "name": "stderr",
          "output_type": "stream",
          "text": [
            "[debug] Invoking hlsnative downloader on \"https://manifest.googlevideo.com/api/manifest/hls_playlist/expire/1745903817/ei/aQwQaJ6uBYqTsfIP1dKymQ4/ip/34.168.94.101/id/fbacfb79a5220e2b/itag/609/source/youtube/requiressl/yes/ratebypass/yes/pfa/1/wft/1/sgovp/clen%3D1809077%3Bdur%3D15.267%3Bgir%3Dyes%3Bitag%3D247%3Blmt%3D1673097792506778/rqh/1/hls_chunk_host/rr1---sn-qxo7rn7y.googlevideo.com/xpc/EgVo2aDSNQ%3D%3D/met/1745882217,/mh/2H/mm/31,26/mn/sn-qxo7rn7y,sn-a5mekn6r/ms/au,onr/mv/m/mvi/1/pl/18/rms/au,au/initcwndbps/2573750/bui/AecWEAa2dZF2O9V_5-fYlxNWE83nrL8zFzpsYeHCZr5j_lPaZbtJPI0xhfxhCU7FDku6Od147w-EVV81/spc/wk1kZjE1-P-XTq8EVLNzhtxPDoKAlIrq2z6W63ZY3cOOKCBVbOhWeujgLOAfnEXTPqU/vprv/1/playlist_type/DVR/dover/13/txp/631A224/mt/1745881974/fvip/4/short_key/1/keepalive/yes/sparams/expire,ei,ip,id,itag,source,requiressl,ratebypass,pfa,wft,sgovp,rqh,xpc,bui,spc,vprv,playlist_type/sig/AJfQdSswRQIhAJPTgbgc9iNH5VjzOUg_Ko9nxI_5rjrf3Q_wUUfx6bYmAiBSmfjVbWSO0bRwsvJitMvjQtqjxKk80KOjOUbx_MEuEA%3D%3D/lsparams/hls_chunk_host,met,mh,mm,mn,ms,mv,mvi,pl,rms,initcwndbps/lsig/ACuhMU0wRAIgFMKlWlhLB1aTUjD7DvBtroqRCXo-EFQHbFMaQ1qlU5cCIBOOy9UO5ih38dSMghGPv7KWVXuU4Cd3e-GgSNs_kdHV/playlist/index.m3u8\"\n"
          ]
        },
        {
          "metadata": {
            "tags": null
          },
          "name": "stdout",
          "output_type": "stream",
          "text": [
            "[hlsnative] Downloading m3u8 manifest\n",
            "[hlsnative] Total fragments: 3\n",
            "[download] Destination: /content/MyYoutubeDLs/First day on ADHD meds #mentalhealth #adhd #adhdwomen #anxious [-6z7eaUiDis].f609.mp4\n",
            "[download] 100% of    1.73MiB in 00:00:03 at 478.83KiB/s             \n"
          ]
        },
        {
          "metadata": {
            "tags": null
          },
          "name": "stderr",
          "output_type": "stream",
          "text": [
            "[debug] Invoking http downloader on \"https://rr1---sn-qxo7rn7y.googlevideo.com/videoplayback?expire=1745903817&ei=aAwQaKTJO67BsfIPp4OwwA4&ip=34.168.94.101&id=o-AAgBHWtSaUzhAL8woP-GxG7ycFQmnsj8DxvXzieablPw&itag=140&source=youtube&requiressl=yes&xpc=EgVo2aDSNQ%3D%3D&met=1745882217%2C&mh=2H&mm=31%2C26&mn=sn-qxo7rn7y%2Csn-a5mekn6r&ms=au%2Conr&mv=m&mvi=1&pl=18&rms=au%2Cau&initcwndbps=2573750&bui=AecWEAb8SQMoJnissZsfCJ6ApO96OecEQqUZys_90S50MwWP-UEEfDFniHMeuVNfmqfy9o-FFvyIqQP6&vprv=1&svpuc=1&mime=audio%2Fmp4&ns=YURWMKHLRzgr7jd18bfvCDcQ&rqh=1&gir=yes&clen=248738&dur=15.325&lmt=1673097789641813&mt=1745881974&fvip=4&keepalive=yes&lmw=1&c=TVHTML5&sefc=1&txp=6318224&n=-A41EXpX_zRAyw&sparams=expire%2Cei%2Cip%2Cid%2Citag%2Csource%2Crequiressl%2Cxpc%2Cbui%2Cvprv%2Csvpuc%2Cmime%2Cns%2Crqh%2Cgir%2Cclen%2Cdur%2Clmt&sig=AJfQdSswRQIhANqk8viY2PYgErQAJQlbYcag2QXRpVAnlTmC17ybfJGjAiB6DFg5Oscu3tPYqQPwVwjRiIOSR-t1Kkpkw-hfqaGmBA%3D%3D&lsparams=met%2Cmh%2Cmm%2Cmn%2Cms%2Cmv%2Cmvi%2Cpl%2Crms%2Cinitcwndbps&lsig=ACuhMU0wRQIgXh9gVzEDjDDz8Jzf4auXJC4ix-yCRYAG79axGa4y_FUCIQCINWmQBKlYvuK1V2T92jQplReqVTFxIhFR05aZU-klVA%3D%3D\"\n"
          ]
        },
        {
          "metadata": {
            "tags": null
          },
          "name": "stdout",
          "output_type": "stream",
          "text": [
            "[download] Destination: /content/MyYoutubeDLs/First day on ADHD meds #mentalhealth #adhd #adhdwomen #anxious [-6z7eaUiDis].f140.m4a\n",
            "[download] 100% of  242.91KiB in 00:00:00 at 276.29KiB/s \n",
            "[Merger] Merging formats into \"/content/MyYoutubeDLs/First day on ADHD meds #mentalhealth #adhd #adhdwomen #anxious [-6z7eaUiDis].mp4\"\n"
          ]
        },
        {
          "metadata": {
            "tags": null
          },
          "name": "stderr",
          "output_type": "stream",
          "text": [
            "[debug] ffmpeg command line: ffmpeg -y -loglevel repeat+info -i 'file:/content/MyYoutubeDLs/First day on ADHD meds #mentalhealth #adhd #adhdwomen #anxious [-6z7eaUiDis].f609.mp4' -i 'file:/content/MyYoutubeDLs/First day on ADHD meds #mentalhealth #adhd #adhdwomen #anxious [-6z7eaUiDis].f140.m4a' -c copy -map 0:v:0 -map 1:a:0 -movflags +faststart 'file:/content/MyYoutubeDLs/First day on ADHD meds #mentalhealth #adhd #adhdwomen #anxious [-6z7eaUiDis].temp.mp4'\n"
          ]
        },
        {
          "metadata": {
            "tags": null
          },
          "name": "stdout",
          "output_type": "stream",
          "text": [
            "Deleting original file /content/MyYoutubeDLs/First day on ADHD meds #mentalhealth #adhd #adhdwomen #anxious [-6z7eaUiDis].f140.m4a (pass -k to keep)\n",
            "Deleting original file /content/MyYoutubeDLs/First day on ADHD meds #mentalhealth #adhd #adhdwomen #anxious [-6z7eaUiDis].f609.mp4 (pass -k to keep)\n",
            "-> Success or skipped (due to existing file/error ignored): https://www.youtube.com/shorts/-6z7eaUiDis\n",
            "\n",
            "[17/48] Attempting to download: https://www.youtube.com/shorts/CLJ3sIyaWro\n",
            "[youtube] Extracting URL: https://www.youtube.com/shorts/CLJ3sIyaWro\n",
            "[youtube] CLJ3sIyaWro: Downloading webpage\n",
            "[youtube] CLJ3sIyaWro: Downloading tv client config\n",
            "[youtube] CLJ3sIyaWro: Downloading tv player API JSON\n",
            "[youtube] CLJ3sIyaWro: Downloading ios player API JSON\n"
          ]
        },
        {
          "metadata": {
            "tags": null
          },
          "name": "stderr",
          "output_type": "stream",
          "text": [
            "[debug] [youtube] Decrypted nsig KqHC826NO_6165Y3 => H_CUabCjzfuFhA\n",
            "[debug] [youtube] Decrypted nsig h3O8vTey5jOb6uTr => wjU1ZSnituBt2w\n",
            "[debug] [youtube] CLJ3sIyaWro: ios client https formats require a GVS PO Token which was not provided. They will be skipped as they may yield HTTP Error 403. You can manually pass a GVS PO Token for this client with --extractor-args \"youtube:po_token=ios.gvs+XXX\". For more information, refer to  https://github.com/yt-dlp/yt-dlp/wiki/PO-Token-Guide . To enable these broken formats anyway, pass --extractor-args \"youtube:formats=missing_pot\"\n"
          ]
        },
        {
          "metadata": {
            "tags": null
          },
          "name": "stdout",
          "output_type": "stream",
          "text": [
            "[youtube] CLJ3sIyaWro: Downloading m3u8 information\n"
          ]
        },
        {
          "metadata": {
            "tags": null
          },
          "name": "stderr",
          "output_type": "stream",
          "text": [
            "[debug] Sort order given by extractor: quality, res, fps, hdr:12, source, vcodec, channels, acodec, lang, proto\n",
            "[debug] Formats sorted by: hasvid, ie_pref, quality, res, fps, hdr:12(7), source, vcodec, channels, acodec, lang, proto, size, br, asr, vext, aext, hasaud, id\n"
          ]
        },
        {
          "metadata": {
            "tags": null
          },
          "name": "stdout",
          "output_type": "stream",
          "text": [
            "[info] CLJ3sIyaWro: Downloading 1 format(s): 614+140\n"
          ]
        },
        {
          "metadata": {
            "tags": null
          },
          "name": "stderr",
          "output_type": "stream",
          "text": [
            "[debug] Invoking hlsnative downloader on \"https://manifest.googlevideo.com/api/manifest/hls_playlist/expire/1745903832/ei/eAwQaM7iGoLWsfIP-bqLqQw/ip/34.168.94.101/id/08b277b08c9a5aba/itag/614/source/youtube/requiressl/yes/ratebypass/yes/pfa/1/wft/1/sgovp/clen%3D13604031%3Bdur%3D53.233%3Bgir%3Dyes%3Bitag%3D248%3Blmt%3D1713384497141013/rqh/1/hls_chunk_host/rr3---sn-qxoednee.googlevideo.com/xpc/EgVo2aDSNQ%3D%3D/met/1745882232,/mh/y9/mm/31,29/mn/sn-qxoednee,sn-qxo7rn7k/ms/au,rdu/mv/m/mvi/3/pl/18/rms/au,au/initcwndbps/2045000/bui/AecWEAZ-CLRRcEtndGDRSvrx_WJLNhG0Itdioknr4AHSJ9r4xaGoZffEUPnDw7wc3P8OvpYLpVxCrAM-/spc/wk1kZv4XHU66R7D9pvHDAuFeJ0wMXZbP9ZqqHi8w8xWVeTJ4Xh9p2YGePvx8e3nHBcY/vprv/1/playlist_type/DVR/dover/13/txp/630A224/mt/1745881730/fvip/3/short_key/1/keepalive/yes/sparams/expire,ei,ip,id,itag,source,requiressl,ratebypass,pfa,wft,sgovp,rqh,xpc,bui,spc,vprv,playlist_type/sig/AJfQdSswRgIhAIKrbUHNo1aJ2MZ50tTKSwtrJoI1UCHmax0L2AgJh0wlAiEAzUhCq-hIrd8XAcfGsFMprSt-5y_XU5s5h7fU4ctJWZM%3D/lsparams/hls_chunk_host,met,mh,mm,mn,ms,mv,mvi,pl,rms,initcwndbps/lsig/ACuhMU0wRQIhAPDDDsuNJUUkIZl94Ve94l_zR-CmdL29mBuWJm88tnsfAiAgUWsi5h8ZG1C_sqjWtjZ-C5oFIP6nuM8kzUeuDE2VDw%3D%3D/playlist/index.m3u8\"\n"
          ]
        },
        {
          "metadata": {
            "tags": null
          },
          "name": "stdout",
          "output_type": "stream",
          "text": [
            "[hlsnative] Downloading m3u8 manifest\n",
            "[hlsnative] Total fragments: 10\n",
            "[download] Destination: /content/MyYoutubeDLs/Side effects I’ve experienced from antipsychotics [CLJ3sIyaWro].f614.mp4\n",
            "[download] 100% of   12.98MiB in 00:00:27 at 477.89KiB/s               \n"
          ]
        },
        {
          "metadata": {
            "tags": null
          },
          "name": "stderr",
          "output_type": "stream",
          "text": [
            "[debug] Invoking http downloader on \"https://rr3---sn-qxoednee.googlevideo.com/videoplayback?expire=1745903832&ei=eAwQaNfKFYGasfIPucy_qAw&ip=34.168.94.101&id=o-AIdf0YJzAqY9h_UCTbjYF6_W8w6TmyDZtLvCvlLktXeG&itag=140&source=youtube&requiressl=yes&xpc=EgVo2aDSNQ%3D%3D&met=1745882232%2C&mh=y9&mm=31%2C26&mn=sn-qxoednee%2Csn-a5mlrnl6&ms=au%2Conr&mv=m&mvi=3&pl=18&rms=au%2Cau&initcwndbps=2573750&bui=AecWEAZ3JPP3NPk7rv8HxnWHkQq20i8YUmmfRrSE1XFdXaFlt3cRZEvC0ESsy0KkhBNVuDZE6nAkFgQ5&vprv=1&svpuc=1&mime=audio%2Fmp4&ns=1Flsmnmz6wA0uedB_WR5ngYQ&rqh=1&gir=yes&clen=863531&dur=53.289&lmt=1713384478547776&mt=1745881974&fvip=4&keepalive=yes&lmw=1&c=TVHTML5&sefc=1&txp=6308224&n=wjU1ZSnituBt2w&sparams=expire%2Cei%2Cip%2Cid%2Citag%2Csource%2Crequiressl%2Cxpc%2Cbui%2Cvprv%2Csvpuc%2Cmime%2Cns%2Crqh%2Cgir%2Cclen%2Cdur%2Clmt&sig=AJfQdSswRAIgL0QQtyzWtPqpaCcfC1TlW5yneGuWBd_sL0gdeCrjEyACIG_pAuXQxjrZOQVm4AToaFV-4lvOcL34yjxrxXDqVJmB&lsparams=met%2Cmh%2Cmm%2Cmn%2Cms%2Cmv%2Cmvi%2Cpl%2Crms%2Cinitcwndbps&lsig=ACuhMU0wRAIgUcO-Tv92Kc71RMeUhEkLMfv9Ey4VRB9u67vokNKoh0sCIBocXqzSh4UczOQgn09SZD_Mz2K0ohdrfPLlb1IPM16m\"\n"
          ]
        },
        {
          "metadata": {
            "tags": null
          },
          "name": "stdout",
          "output_type": "stream",
          "text": [
            "[download] Destination: /content/MyYoutubeDLs/Side effects I’ve experienced from antipsychotics [CLJ3sIyaWro].f140.m4a\n",
            "[download] 100% of  843.29KiB in 00:00:01 at 441.96KiB/s \n",
            "[Merger] Merging formats into \"/content/MyYoutubeDLs/Side effects I’ve experienced from antipsychotics [CLJ3sIyaWro].mp4\"\n"
          ]
        },
        {
          "metadata": {
            "tags": null
          },
          "name": "stderr",
          "output_type": "stream",
          "text": [
            "[debug] ffmpeg command line: ffmpeg -y -loglevel repeat+info -i 'file:/content/MyYoutubeDLs/Side effects I’ve experienced from antipsychotics [CLJ3sIyaWro].f614.mp4' -i 'file:/content/MyYoutubeDLs/Side effects I’ve experienced from antipsychotics [CLJ3sIyaWro].f140.m4a' -c copy -map 0:v:0 -map 1:a:0 -movflags +faststart 'file:/content/MyYoutubeDLs/Side effects I’ve experienced from antipsychotics [CLJ3sIyaWro].temp.mp4'\n"
          ]
        },
        {
          "metadata": {
            "tags": null
          },
          "name": "stdout",
          "output_type": "stream",
          "text": [
            "Deleting original file /content/MyYoutubeDLs/Side effects I’ve experienced from antipsychotics [CLJ3sIyaWro].f140.m4a (pass -k to keep)\n",
            "Deleting original file /content/MyYoutubeDLs/Side effects I’ve experienced from antipsychotics [CLJ3sIyaWro].f614.mp4 (pass -k to keep)\n",
            "-> Success or skipped (due to existing file/error ignored): https://www.youtube.com/shorts/CLJ3sIyaWro\n",
            "\n",
            "[18/48] Attempting to download: https://www.youtube.com/shorts/X8LcDYt9TR4\n",
            "[youtube] Extracting URL: https://www.youtube.com/shorts/X8LcDYt9TR4\n",
            "[youtube] X8LcDYt9TR4: Downloading webpage\n",
            "[youtube] X8LcDYt9TR4: Downloading tv client config\n",
            "[youtube] X8LcDYt9TR4: Downloading tv player API JSON\n",
            "[youtube] X8LcDYt9TR4: Downloading ios player API JSON\n"
          ]
        },
        {
          "metadata": {
            "tags": null
          },
          "name": "stderr",
          "output_type": "stream",
          "text": [
            "[debug] [youtube] Decrypted nsig AdTD0BCI4TKxB7b2 => JC2b3gVDD_GE4g\n",
            "[debug] [youtube] Decrypted nsig XYjFY4JvJ_IvXF2B => 33yLbe_8BT6_WA\n",
            "[debug] [youtube] X8LcDYt9TR4: ios client https formats require a GVS PO Token which was not provided. They will be skipped as they may yield HTTP Error 403. You can manually pass a GVS PO Token for this client with --extractor-args \"youtube:po_token=ios.gvs+XXX\". For more information, refer to  https://github.com/yt-dlp/yt-dlp/wiki/PO-Token-Guide . To enable these broken formats anyway, pass --extractor-args \"youtube:formats=missing_pot\"\n"
          ]
        },
        {
          "metadata": {
            "tags": null
          },
          "name": "stdout",
          "output_type": "stream",
          "text": [
            "[youtube] X8LcDYt9TR4: Downloading m3u8 information\n"
          ]
        },
        {
          "metadata": {
            "tags": null
          },
          "name": "stderr",
          "output_type": "stream",
          "text": [
            "[debug] Sort order given by extractor: quality, res, fps, hdr:12, source, vcodec, channels, acodec, lang, proto\n",
            "[debug] Formats sorted by: hasvid, ie_pref, quality, res, fps, hdr:12(7), source, vcodec, channels, acodec, lang, proto, size, br, asr, vext, aext, hasaud, id\n"
          ]
        },
        {
          "metadata": {
            "tags": null
          },
          "name": "stdout",
          "output_type": "stream",
          "text": [
            "[info] X8LcDYt9TR4: Downloading 1 format(s): 614+140\n"
          ]
        },
        {
          "metadata": {
            "tags": null
          },
          "name": "stderr",
          "output_type": "stream",
          "text": [
            "[debug] Invoking hlsnative downloader on \"https://manifest.googlevideo.com/api/manifest/hls_playlist/expire/1745903872/ei/oAwQaMTCHMjtsfIP_uHh6QI/ip/34.168.94.101/id/5fc2dc0d8b7d4d1e/itag/614/source/youtube/requiressl/yes/ratebypass/yes/pfa/1/wft/1/sgovp/clen%3D6814869%3Bdur%3D50.216%3Bgir%3Dyes%3Bitag%3D248%3Blmt%3D1669752758870408/rqh/1/hls_chunk_host/rr4---sn-qxo7rn7k.googlevideo.com/xpc/EgVo2aDSNQ%3D%3D/met/1745882272,/mh/mY/mm/31,26/mn/sn-qxo7rn7k,sn-a5mekndl/ms/au,onr/mv/m/mvi/4/pl/18/rms/au,au/initcwndbps/2573750/bui/AecWEAbxxokL9O5G3BNb6MZ5SagqhEwL4vlf0lbD2O6PaZzNlFhrPjcgWB6t7-HWZgtfnHXmEyz5sr6w/spc/wk1kZpRTkbJxN6_DQsZPOupitwXrg8d9tzZb_HR_rNdH21MXFd7TodTyHDPU2TGhSGY/vprv/1/playlist_type/DVR/dover/13/txp/631A224/mt/1745881974/fvip/5/short_key/1/keepalive/yes/sparams/expire,ei,ip,id,itag,source,requiressl,ratebypass,pfa,wft,sgovp,rqh,xpc,bui,spc,vprv,playlist_type/sig/AJfQdSswRAIgeZjViuf8kLO8RQz3wdFP9_CRD2pv9E1vY0VJw8Hk9EUCIDti4kAMA0GmQUpXaldrSb6eTG_1THtIP3pDUsnB-4TH/lsparams/hls_chunk_host,met,mh,mm,mn,ms,mv,mvi,pl,rms,initcwndbps/lsig/ACuhMU0wRQIgd56SXr_yecrER1GOlNqOuDNvYze5_VbphFfW2XHv0BMCIQCfGrY5U2dSVPY2h9guv_dx6k1Y0fqD2ggTP6yknp2gZA%3D%3D/playlist/index.m3u8\"\n"
          ]
        },
        {
          "metadata": {
            "tags": null
          },
          "name": "stdout",
          "output_type": "stream",
          "text": [
            "[hlsnative] Downloading m3u8 manifest\n",
            "[hlsnative] Total fragments: 10\n",
            "[download] Destination: /content/MyYoutubeDLs/Jordan Peterson's Akathisia From Psych Meds [X8LcDYt9TR4].f614.mp4\n",
            "[download] 100% of    6.51MiB in 00:00:14 at 465.50KiB/s               \n"
          ]
        },
        {
          "metadata": {
            "tags": null
          },
          "name": "stderr",
          "output_type": "stream",
          "text": [
            "[debug] Invoking http downloader on \"https://rr4---sn-qxo7rn7k.googlevideo.com/videoplayback?expire=1745903872&ei=oAwQaMyqF5KGt7EPyt3vwQ4&ip=34.168.94.101&id=o-AE1Qsa3W5vPe1OBaphzTy_hKgx1GMmZyjS_mRK0DsfVs&itag=140&source=youtube&requiressl=yes&xpc=EgVo2aDSNQ%3D%3D&met=1745882272%2C&mh=mY&mm=31%2C29&mn=sn-qxo7rn7k%2Csn-qxoedne7&ms=au%2Crdu&mv=m&mvi=4&pl=18&rms=au%2Cau&initcwndbps=2573750&bui=AecWEAYYt_XEeosxdLBYIRlaqY8qt4mQ91hJxmYF2cY51jSf5lgZOtYaVVOp79vdtuBq1W1EFt2Ivzr1&vprv=1&svpuc=1&mime=audio%2Fmp4&ns=ysdbXdSxVwWbNfdH6cf1JKMQ&rqh=1&gir=yes&clen=814359&dur=50.271&lmt=1669752731597360&mt=1745881974&fvip=4&keepalive=yes&lmw=1&c=TVHTML5&sefc=1&txp=6318224&n=33yLbe_8BT6_WA&sparams=expire%2Cei%2Cip%2Cid%2Citag%2Csource%2Crequiressl%2Cxpc%2Cbui%2Cvprv%2Csvpuc%2Cmime%2Cns%2Crqh%2Cgir%2Cclen%2Cdur%2Clmt&sig=AJfQdSswRAIgKC4tIyvR_xWPdrABE7OleZdUiui8eoW6f47MTNzCEB4CIBzcZYTp2nX6zXny2UvqvewBUEn5iey_zaEKB6gC_KXH&lsparams=met%2Cmh%2Cmm%2Cmn%2Cms%2Cmv%2Cmvi%2Cpl%2Crms%2Cinitcwndbps&lsig=ACuhMU0wRgIhAM7TYCfb2WAEIEQKXPJdUadBJ0ljR6iN7alcae6yQPKVAiEA96X-yCrVdlDVLIX1JI4n0D3uj9arh-11HwzFFnhk3Fw%3D\"\n"
          ]
        },
        {
          "metadata": {
            "tags": null
          },
          "name": "stdout",
          "output_type": "stream",
          "text": [
            "[download] Destination: /content/MyYoutubeDLs/Jordan Peterson's Akathisia From Psych Meds [X8LcDYt9TR4].f140.m4a\n",
            "[download] 100% of  795.27KiB in 00:00:01 at 441.51KiB/s \n",
            "[Merger] Merging formats into \"/content/MyYoutubeDLs/Jordan Peterson's Akathisia From Psych Meds [X8LcDYt9TR4].mp4\"\n"
          ]
        },
        {
          "metadata": {
            "tags": null
          },
          "name": "stderr",
          "output_type": "stream",
          "text": [
            "[debug] ffmpeg command line: ffmpeg -y -loglevel repeat+info -i 'file:/content/MyYoutubeDLs/Jordan Peterson'\"'\"'s Akathisia From Psych Meds [X8LcDYt9TR4].f614.mp4' -i 'file:/content/MyYoutubeDLs/Jordan Peterson'\"'\"'s Akathisia From Psych Meds [X8LcDYt9TR4].f140.m4a' -c copy -map 0:v:0 -map 1:a:0 -movflags +faststart 'file:/content/MyYoutubeDLs/Jordan Peterson'\"'\"'s Akathisia From Psych Meds [X8LcDYt9TR4].temp.mp4'\n"
          ]
        },
        {
          "metadata": {
            "tags": null
          },
          "name": "stdout",
          "output_type": "stream",
          "text": [
            "Deleting original file /content/MyYoutubeDLs/Jordan Peterson's Akathisia From Psych Meds [X8LcDYt9TR4].f614.mp4 (pass -k to keep)\n",
            "Deleting original file /content/MyYoutubeDLs/Jordan Peterson's Akathisia From Psych Meds [X8LcDYt9TR4].f140.m4a (pass -k to keep)\n",
            "-> Success or skipped (due to existing file/error ignored): https://www.youtube.com/shorts/X8LcDYt9TR4\n",
            "\n",
            "[19/48] Attempting to download: https://www.youtube.com/watch?v=vhplkMnVkA8\n",
            "[youtube] Extracting URL: https://www.youtube.com/watch?v=vhplkMnVkA8\n",
            "[youtube] vhplkMnVkA8: Downloading webpage\n",
            "[youtube] vhplkMnVkA8: Downloading tv client config\n",
            "[youtube] vhplkMnVkA8: Downloading tv player API JSON\n",
            "[youtube] vhplkMnVkA8: Downloading ios player API JSON\n"
          ]
        },
        {
          "metadata": {
            "tags": null
          },
          "name": "stderr",
          "output_type": "stream",
          "text": [
            "[debug] [youtube] Decrypted nsig OyzCO0EstTJUn9F- => XZb86WY1mdOY0g\n",
            "[debug] [youtube] Decrypted nsig dP4y_Ve0KrazWWsH => kqObNnzJfOT5-Q\n",
            "[debug] [youtube] vhplkMnVkA8: ios client https formats require a GVS PO Token which was not provided. They will be skipped as they may yield HTTP Error 403. You can manually pass a GVS PO Token for this client with --extractor-args \"youtube:po_token=ios.gvs+XXX\". For more information, refer to  https://github.com/yt-dlp/yt-dlp/wiki/PO-Token-Guide . To enable these broken formats anyway, pass --extractor-args \"youtube:formats=missing_pot\"\n"
          ]
        },
        {
          "metadata": {
            "tags": null
          },
          "name": "stdout",
          "output_type": "stream",
          "text": [
            "[youtube] vhplkMnVkA8: Downloading m3u8 information\n"
          ]
        },
        {
          "metadata": {
            "tags": null
          },
          "name": "stderr",
          "output_type": "stream",
          "text": [
            "[debug] Sort order given by extractor: quality, res, fps, hdr:12, source, vcodec, channels, acodec, lang, proto\n",
            "[debug] Formats sorted by: hasvid, ie_pref, quality, res, fps, hdr:12(7), source, vcodec, channels, acodec, lang, proto, size, br, asr, vext, aext, hasaud, id\n"
          ]
        },
        {
          "metadata": {
            "tags": null
          },
          "name": "stdout",
          "output_type": "stream",
          "text": [
            "[info] vhplkMnVkA8: Downloading 1 format(s): 137+140\n"
          ]
        },
        {
          "metadata": {
            "tags": null
          },
          "name": "stderr",
          "output_type": "stream",
          "text": [
            "[debug] Invoking http downloader on \"https://rr5---sn-qxo7rn7r.googlevideo.com/videoplayback?expire=1745903898&ei=ugwQaJ21E6-psfIPrtOv-Q4&ip=34.168.94.101&id=o-AFiBsj_qNaG-y7vv7uFZwpmfJa5LJU71DOU1-9H3AC1o&itag=137&aitags=134%2C136%2C137%2C160%2C243&source=youtube&requiressl=yes&xpc=EgVo2aDSNQ%3D%3D&met=1745882298%2C&mh=Sh&mm=31%2C29&mn=sn-qxo7rn7r%2Csn-qxoednee&ms=au%2Crdu&mv=m&mvi=5&pl=18&rms=au%2Cau&initcwndbps=2573750&bui=AecWEAYwq4w0uErme2nARqe3yC7mhZbziaZeBV8WpaWtYOliynCtg6dg2TWQEQkA9AFGgzVtWjfzP-VF&vprv=1&svpuc=1&mime=video%2Fmp4&ns=evwIrP_YrItU6Jk51gI-_0MQ&rqh=1&gir=yes&clen=29130181&dur=79.320&lmt=1644939472034002&mt=1745881974&fvip=5&keepalive=yes&lmw=1&c=TVHTML5&sefc=1&txp=5319224&n=kqObNnzJfOT5-Q&sparams=expire%2Cei%2Cip%2Cid%2Caitags%2Csource%2Crequiressl%2Cxpc%2Cbui%2Cvprv%2Csvpuc%2Cmime%2Cns%2Crqh%2Cgir%2Cclen%2Cdur%2Clmt&sig=AJfQdSswRAIgXgcZkVcjp_avwhhNH8iejr6TYkArt07_dyQXQdeW-6sCIGyJwgV2wz_nTJgDV1k4wvEt8NQV0YCt7S6NK6ATiAHi&lsparams=met%2Cmh%2Cmm%2Cmn%2Cms%2Cmv%2Cmvi%2Cpl%2Crms%2Cinitcwndbps&lsig=ACuhMU0wRAIgP2B2tkvLPF2I4uJFkCoxYQ4JJBgm31dI5R2qV3rrmOYCIEVJcmk3W4OPSUFwrCWj3LGiJ1SSgB-_3PI8cecVOC5a\"\n"
          ]
        },
        {
          "metadata": {
            "tags": null
          },
          "name": "stdout",
          "output_type": "stream",
          "text": [
            "[download] Destination: /content/MyYoutubeDLs/‘Being put on antidepressants as a teen made me feel more suicidal’ [vhplkMnVkA8].f137.mp4\n",
            "[download] 100% of   27.78MiB in 00:00:56 at 507.12KiB/s \n"
          ]
        },
        {
          "metadata": {
            "tags": null
          },
          "name": "stderr",
          "output_type": "stream",
          "text": [
            "[debug] Invoking http downloader on \"https://rr5---sn-qxo7rn7r.googlevideo.com/videoplayback?expire=1745903898&ei=ugwQaJ21E6-psfIPrtOv-Q4&ip=34.168.94.101&id=o-AFiBsj_qNaG-y7vv7uFZwpmfJa5LJU71DOU1-9H3AC1o&itag=140&source=youtube&requiressl=yes&xpc=EgVo2aDSNQ%3D%3D&met=1745882298%2C&mh=Sh&mm=31%2C29&mn=sn-qxo7rn7r%2Csn-qxoednee&ms=au%2Crdu&mv=m&mvi=5&pl=18&rms=au%2Cau&initcwndbps=2573750&bui=AecWEAYwq4w0uErme2nARqe3yC7mhZbziaZeBV8WpaWtYOliynCtg6dg2TWQEQkA9AFGgzVtWjfzP-VF&vprv=1&svpuc=1&mime=audio%2Fmp4&ns=evwIrP_YrItU6Jk51gI-_0MQ&rqh=1&gir=yes&clen=1285492&dur=79.389&lmt=1644939469709623&mt=1745881974&fvip=5&keepalive=yes&lmw=1&c=TVHTML5&sefc=1&txp=5318224&n=kqObNnzJfOT5-Q&sparams=expire%2Cei%2Cip%2Cid%2Citag%2Csource%2Crequiressl%2Cxpc%2Cbui%2Cvprv%2Csvpuc%2Cmime%2Cns%2Crqh%2Cgir%2Cclen%2Cdur%2Clmt&sig=AJfQdSswRQIgdUY0rw6xquq4cc8ZSdLHHYG14rFFiNUSHXQakeUqHPECIQDqJBfIFWB4WiT0DUkAvKTZk3gA_nn0C8-yY0j80YaZ8g%3D%3D&lsparams=met%2Cmh%2Cmm%2Cmn%2Cms%2Cmv%2Cmvi%2Cpl%2Crms%2Cinitcwndbps&lsig=ACuhMU0wRAIgP2B2tkvLPF2I4uJFkCoxYQ4JJBgm31dI5R2qV3rrmOYCIEVJcmk3W4OPSUFwrCWj3LGiJ1SSgB-_3PI8cecVOC5a\"\n"
          ]
        },
        {
          "metadata": {
            "tags": null
          },
          "name": "stdout",
          "output_type": "stream",
          "text": [
            "[download] Destination: /content/MyYoutubeDLs/‘Being put on antidepressants as a teen made me feel more suicidal’ [vhplkMnVkA8].f140.m4a\n",
            "[download] 100% of    1.23MiB in 00:00:02 at 478.24KiB/s \n",
            "[Merger] Merging formats into \"/content/MyYoutubeDLs/‘Being put on antidepressants as a teen made me feel more suicidal’ [vhplkMnVkA8].mp4\"\n"
          ]
        },
        {
          "metadata": {
            "tags": null
          },
          "name": "stderr",
          "output_type": "stream",
          "text": [
            "[debug] ffmpeg command line: ffmpeg -y -loglevel repeat+info -i 'file:/content/MyYoutubeDLs/‘Being put on antidepressants as a teen made me feel more suicidal’ [vhplkMnVkA8].f137.mp4' -i 'file:/content/MyYoutubeDLs/‘Being put on antidepressants as a teen made me feel more suicidal’ [vhplkMnVkA8].f140.m4a' -c copy -map 0:v:0 -map 1:a:0 -movflags +faststart 'file:/content/MyYoutubeDLs/‘Being put on antidepressants as a teen made me feel more suicidal’ [vhplkMnVkA8].temp.mp4'\n"
          ]
        },
        {
          "metadata": {
            "tags": null
          },
          "name": "stdout",
          "output_type": "stream",
          "text": [
            "Deleting original file /content/MyYoutubeDLs/‘Being put on antidepressants as a teen made me feel more suicidal’ [vhplkMnVkA8].f137.mp4 (pass -k to keep)\n",
            "Deleting original file /content/MyYoutubeDLs/‘Being put on antidepressants as a teen made me feel more suicidal’ [vhplkMnVkA8].f140.m4a (pass -k to keep)\n",
            "-> Success or skipped (due to existing file/error ignored): https://www.youtube.com/watch?v=vhplkMnVkA8\n",
            "\n",
            "[20/48] Attempting to download: https://www.youtube.com/shorts/r_m3nz2MAJQ\n",
            "[youtube] Extracting URL: https://www.youtube.com/shorts/r_m3nz2MAJQ\n",
            "[youtube] r_m3nz2MAJQ: Downloading webpage\n",
            "[youtube] r_m3nz2MAJQ: Downloading tv client config\n",
            "[youtube] r_m3nz2MAJQ: Downloading tv player API JSON\n",
            "[youtube] r_m3nz2MAJQ: Downloading ios player API JSON\n"
          ]
        },
        {
          "metadata": {
            "tags": null
          },
          "name": "stderr",
          "output_type": "stream",
          "text": [
            "[debug] [youtube] Decrypted nsig vKpBZY7LlrJVClt8 => nnjbGp-HgEcWsQ\n",
            "[debug] [youtube] Decrypted nsig 6hAvQFaCPr9XnksC => mDdGk_Lp53n0aQ\n",
            "[debug] [youtube] r_m3nz2MAJQ: ios client https formats require a GVS PO Token which was not provided. They will be skipped as they may yield HTTP Error 403. You can manually pass a GVS PO Token for this client with --extractor-args \"youtube:po_token=ios.gvs+XXX\". For more information, refer to  https://github.com/yt-dlp/yt-dlp/wiki/PO-Token-Guide . To enable these broken formats anyway, pass --extractor-args \"youtube:formats=missing_pot\"\n"
          ]
        },
        {
          "metadata": {
            "tags": null
          },
          "name": "stdout",
          "output_type": "stream",
          "text": [
            "[youtube] r_m3nz2MAJQ: Downloading m3u8 information\n"
          ]
        },
        {
          "metadata": {
            "tags": null
          },
          "name": "stderr",
          "output_type": "stream",
          "text": [
            "[debug] Sort order given by extractor: quality, res, fps, hdr:12, source, vcodec, channels, acodec, lang, proto\n",
            "[debug] Formats sorted by: hasvid, ie_pref, quality, res, fps, hdr:12(7), source, vcodec, channels, acodec, lang, proto, size, br, asr, vext, aext, hasaud, id\n"
          ]
        },
        {
          "metadata": {
            "tags": null
          },
          "name": "stdout",
          "output_type": "stream",
          "text": [
            "[info] r_m3nz2MAJQ: Downloading 1 format(s): 614+140\n"
          ]
        },
        {
          "metadata": {
            "tags": null
          },
          "name": "stderr",
          "output_type": "stream",
          "text": [
            "[debug] Invoking hlsnative downloader on \"https://manifest.googlevideo.com/api/manifest/hls_playlist/expire/1745903967/ei/_wwQaMymFeGGt7EPiLb4oA4/ip/34.168.94.101/id/aff9b79f3d8c0094/itag/614/source/youtube/requiressl/yes/ratebypass/yes/pfa/1/wft/1/sgovp/clen%3D9267782%3Bdur%3D59.492%3Bgir%3Dyes%3Bitag%3D248%3Blmt%3D1722306255492610/rqh/1/hls_chunk_host/rr5---sn-qxo7rn7r.googlevideo.com/xpc/EgVo2aDSNQ%3D%3D/met/1745882367,/mh/b_/mm/31,29/mn/sn-qxo7rn7r,sn-qxoednee/ms/au,rdu/mv/m/mvi/5/pl/18/rms/au,au/initcwndbps/2573750/bui/AecWEAaBHL92j_86RATuxCcv37oFf5tDxEeksurF2mUsaHLiVyHuJ-0aQHYNIrMbmppdxH4dxJPhhrL9/spc/wk1kZkmzSM9LJdti4ISHpIrk34wfE1PauHZRZVowBBd2Iopu6Hgja6izeIHa3S_MyaE/vprv/1/playlist_type/DVR/dover/13/txp/630A224/mt/1745881974/fvip/5/short_key/1/keepalive/yes/sparams/expire,ei,ip,id,itag,source,requiressl,ratebypass,pfa,wft,sgovp,rqh,xpc,bui,spc,vprv,playlist_type/sig/AJfQdSswRAIgduxISzfzpjajhRNcQw-k3NVqW_CIg_z1O8zrJFpgFrcCIFEgA7iiZuOTSlHhAdhIypkghd1d1jqHB9zIR_XfJEQs/lsparams/hls_chunk_host,met,mh,mm,mn,ms,mv,mvi,pl,rms,initcwndbps/lsig/ACuhMU0wRgIhAM-wrNJMUqJGEqthMJ57bkCKck3VDo-k-oZnFRImB56BAiEAlygSbKKxldPCtUwcVuABL8sDcIlJVOzIkx_ChvQDfkc%3D/playlist/index.m3u8\"\n"
          ]
        },
        {
          "metadata": {
            "tags": null
          },
          "name": "stdout",
          "output_type": "stream",
          "text": [
            "[hlsnative] Downloading m3u8 manifest\n",
            "[hlsnative] Total fragments: 12\n",
            "[download] Destination: /content/MyYoutubeDLs/How Xanax Ruined My Life #benzodiazepine #xanax #shareyourdrugstory [r_m3nz2MAJQ].f614.mp4\n",
            "[download] 100% of    8.85MiB in 00:00:18 at 477.20KiB/s               \n"
          ]
        },
        {
          "metadata": {
            "tags": null
          },
          "name": "stderr",
          "output_type": "stream",
          "text": [
            "[debug] Invoking http downloader on \"https://rr5---sn-qxo7rn7r.googlevideo.com/videoplayback?expire=1745903967&ei=_wwQaI2VEKqUsfIPyt6awQ4&ip=34.168.94.101&id=o-AOlNHU42hSmuWkLo-7IRW6dAQh6s_Abk_VjtmwBvUPaf&itag=140&source=youtube&requiressl=yes&xpc=EgVo2aDSNQ%3D%3D&met=1745882367%2C&mh=b_&mm=31%2C29&mn=sn-qxo7rn7r%2Csn-qxoednee&ms=au%2Crdu&mv=m&mvi=5&pl=18&rms=au%2Cau&initcwndbps=2573750&bui=AecWEAYDCFZZ8q-zNkOGZ8PO3peprfMwGfezGPBvI5dsPOEdnFjhQGH34XlKtjz_fQPalX48IGk2yAqT&vprv=1&svpuc=1&mime=audio%2Fmp4&ns=ef6XhzVarFmpoDPfqCshZE8Q&rqh=1&gir=yes&clen=964455&dur=59.535&lmt=1722306229189215&mt=1745881974&fvip=5&keepalive=yes&lmw=1&c=TVHTML5&sefc=1&txp=6318224&n=mDdGk_Lp53n0aQ&sparams=expire%2Cei%2Cip%2Cid%2Citag%2Csource%2Crequiressl%2Cxpc%2Cbui%2Cvprv%2Csvpuc%2Cmime%2Cns%2Crqh%2Cgir%2Cclen%2Cdur%2Clmt&sig=AJfQdSswRgIhAJN70KHvEP_zAd6zY-kkeSV3xuXqQDFPqyE3r0oaZAByAiEAjNAaEwVmX8Sf4oyt38lCbYaRBv1ow-MTVM9PYIZA2G8%3D&lsparams=met%2Cmh%2Cmm%2Cmn%2Cms%2Cmv%2Cmvi%2Cpl%2Crms%2Cinitcwndbps&lsig=ACuhMU0wRAIgVOtEKNg5WS9tBt-zUCOi0FSRTt6Q4ca8WuUUHdHkmrsCIDnVlxwXSJd5veVwEHwOAgk-r7KSne71C5EwnuzCR2p3\"\n"
          ]
        },
        {
          "metadata": {
            "tags": null
          },
          "name": "stdout",
          "output_type": "stream",
          "text": [
            "[download] Destination: /content/MyYoutubeDLs/How Xanax Ruined My Life #benzodiazepine #xanax #shareyourdrugstory [r_m3nz2MAJQ].f140.m4a\n",
            "[download] 100% of  941.85KiB in 00:00:02 at 451.03KiB/s \n",
            "[Merger] Merging formats into \"/content/MyYoutubeDLs/How Xanax Ruined My Life #benzodiazepine #xanax #shareyourdrugstory [r_m3nz2MAJQ].mp4\"\n"
          ]
        },
        {
          "metadata": {
            "tags": null
          },
          "name": "stderr",
          "output_type": "stream",
          "text": [
            "[debug] ffmpeg command line: ffmpeg -y -loglevel repeat+info -i 'file:/content/MyYoutubeDLs/How Xanax Ruined My Life #benzodiazepine #xanax #shareyourdrugstory [r_m3nz2MAJQ].f614.mp4' -i 'file:/content/MyYoutubeDLs/How Xanax Ruined My Life #benzodiazepine #xanax #shareyourdrugstory [r_m3nz2MAJQ].f140.m4a' -c copy -map 0:v:0 -map 1:a:0 -movflags +faststart 'file:/content/MyYoutubeDLs/How Xanax Ruined My Life #benzodiazepine #xanax #shareyourdrugstory [r_m3nz2MAJQ].temp.mp4'\n"
          ]
        },
        {
          "metadata": {
            "tags": null
          },
          "name": "stdout",
          "output_type": "stream",
          "text": [
            "Deleting original file /content/MyYoutubeDLs/How Xanax Ruined My Life #benzodiazepine #xanax #shareyourdrugstory [r_m3nz2MAJQ].f614.mp4 (pass -k to keep)\n",
            "Deleting original file /content/MyYoutubeDLs/How Xanax Ruined My Life #benzodiazepine #xanax #shareyourdrugstory [r_m3nz2MAJQ].f140.m4a (pass -k to keep)\n",
            "-> Success or skipped (due to existing file/error ignored): https://www.youtube.com/shorts/r_m3nz2MAJQ\n",
            "\n",
            "[21/48] Attempting to download: https://www.youtube.com/shorts/vfS1VcUgbDU\n",
            "[youtube] Extracting URL: https://www.youtube.com/shorts/vfS1VcUgbDU\n",
            "[youtube] vfS1VcUgbDU: Downloading webpage\n",
            "[youtube] vfS1VcUgbDU: Downloading tv client config\n",
            "[youtube] vfS1VcUgbDU: Downloading tv player API JSON\n",
            "[youtube] vfS1VcUgbDU: Downloading ios player API JSON\n"
          ]
        },
        {
          "metadata": {
            "tags": null
          },
          "name": "stderr",
          "output_type": "stream",
          "text": [
            "[debug] [youtube] Decrypted nsig Fa_esOWdqrWQ5KOz => 8lmfvtgRujmBcQ\n",
            "[debug] [youtube] Decrypted nsig PZgWoH5TtjCOvlFr => nPAoBPZ1xn3t-w\n",
            "[debug] [youtube] vfS1VcUgbDU: ios client https formats require a GVS PO Token which was not provided. They will be skipped as they may yield HTTP Error 403. You can manually pass a GVS PO Token for this client with --extractor-args \"youtube:po_token=ios.gvs+XXX\". For more information, refer to  https://github.com/yt-dlp/yt-dlp/wiki/PO-Token-Guide . To enable these broken formats anyway, pass --extractor-args \"youtube:formats=missing_pot\"\n"
          ]
        },
        {
          "metadata": {
            "tags": null
          },
          "name": "stdout",
          "output_type": "stream",
          "text": [
            "[youtube] vfS1VcUgbDU: Downloading m3u8 information\n"
          ]
        },
        {
          "metadata": {
            "tags": null
          },
          "name": "stderr",
          "output_type": "stream",
          "text": [
            "[debug] Sort order given by extractor: quality, res, fps, hdr:12, source, vcodec, channels, acodec, lang, proto\n",
            "[debug] Formats sorted by: hasvid, ie_pref, quality, res, fps, hdr:12(7), source, vcodec, channels, acodec, lang, proto, size, br, asr, vext, aext, hasaud, id\n"
          ]
        },
        {
          "metadata": {
            "tags": null
          },
          "name": "stdout",
          "output_type": "stream",
          "text": [
            "[info] vfS1VcUgbDU: Downloading 1 format(s): 614+140\n"
          ]
        },
        {
          "metadata": {
            "tags": null
          },
          "name": "stderr",
          "output_type": "stream",
          "text": [
            "[debug] Invoking hlsnative downloader on \"https://manifest.googlevideo.com/api/manifest/hls_playlist/expire/1745903998/ei/Hg0QaKDiHMrZsfIP2YLyqAU/ip/34.168.94.101/id/bdf4b555c5206c35/itag/614/source/youtube/requiressl/yes/ratebypass/yes/pfa/1/wft/1/sgovp/clen%3D3938164%3Bdur%3D53.453%3Bgir%3Dyes%3Bitag%3D248%3Blmt%3D1725030197244185/rqh/1/hls_chunk_host/rr4---sn-qxoedne7.googlevideo.com/xpc/EgVo2aDSNQ%3D%3D/met/1745882398,/mh/i4/mm/31,26/mn/sn-qxoedne7,sn-a5mlrnll/ms/au,onr/mv/m/mvi/4/pl/18/rms/au,au/initcwndbps/2573750/bui/AecWEAaNQ2YG5blqsL1rq15n-L8LTQDUmCHt9dEeWoa4IDLkvuYYguHk8OTQkWMhuvfjBDFgaBEEGQdy/spc/wk1kZl9aFkkSiymM6quXx92YwYae3LoKB5ZsH4hhvsOcrn75p-lGOxLXSad186m5MQ8/vprv/1/playlist_type/DVR/dover/13/txp/630A224/mt/1745881974/fvip/4/short_key/1/keepalive/yes/sparams/expire,ei,ip,id,itag,source,requiressl,ratebypass,pfa,wft,sgovp,rqh,xpc,bui,spc,vprv,playlist_type/sig/AJfQdSswRgIhAIRVquZWV58mpDzk2OfXovQNFLtjBot4sHEiqxWqlhrvAiEA5D8ohYVHk-uJQbLtIU0N4ajLEydX01P2XrB0Ch04nNQ%3D/lsparams/hls_chunk_host,met,mh,mm,mn,ms,mv,mvi,pl,rms,initcwndbps/lsig/ACuhMU0wRgIhANj7r2tNQGPY7D1GlES4zG7c6ut54Yxn70ShfwNC3V3-AiEAsYJA9hgpmU6Zpm0ili0UQk0NLOPMhVfrJ5D6uYWghHo%3D/playlist/index.m3u8\"\n"
          ]
        },
        {
          "metadata": {
            "tags": null
          },
          "name": "stdout",
          "output_type": "stream",
          "text": [
            "[hlsnative] Downloading m3u8 manifest\n",
            "[hlsnative] Total fragments: 11\n",
            "[download] Destination: /content/MyYoutubeDLs/What I Would Have Done Differently #shareyourdrugstory   #mentalhealthawareness #psychmeds [vfS1VcUgbDU].f614.mp4\n",
            "[download] 100% of    3.76MiB in 00:00:08 at 445.97KiB/s               \n"
          ]
        },
        {
          "metadata": {
            "tags": null
          },
          "name": "stderr",
          "output_type": "stream",
          "text": [
            "[debug] Invoking http downloader on \"https://rr1---sn-qxo7rn7k.googlevideo.com/videoplayback?expire=1745903998&ei=Hg0QaKCvFMCUsfIP6qbl8Q4&ip=34.168.94.101&id=o-AJtHvFPnV5UB2yLaBnwH-PwsUA87BhHGAOqux4WXVTWM&itag=140&source=youtube&requiressl=yes&xpc=EgVo2aDSNQ%3D%3D&met=1745882398%2C&mh=i4&mm=31%2C29&mn=sn-qxo7rn7k%2Csn-qxoedne7&ms=au%2Crdu&mv=m&mvi=1&pl=18&rms=au%2Cau&initcwndbps=2573750&bui=AecWEAbmbAjXolJYu0npKyLC_V7HS48foOLGcCkEwL6t-YhYuC2rH8UL8Bk6CQqHlt-Bys58ixTs6nOQ&vprv=1&svpuc=1&mime=audio%2Fmp4&ns=17G_eYbe7RCIvkyck1NKSJQQ&rqh=1&gir=yes&clen=866744&dur=53.498&lmt=1725030192652207&mt=1745881974&fvip=4&keepalive=yes&lmw=1&c=TVHTML5&sefc=1&txp=6318224&n=nPAoBPZ1xn3t-w&sparams=expire%2Cei%2Cip%2Cid%2Citag%2Csource%2Crequiressl%2Cxpc%2Cbui%2Cvprv%2Csvpuc%2Cmime%2Cns%2Crqh%2Cgir%2Cclen%2Cdur%2Clmt&sig=AJfQdSswRAIgYOu1kZju96PL7aHMlFmP-Q0XfAY74GxqSmmFvEWRaIcCIEocG2Hh-g8TvnVv1eHrUPY26crirmLcq-kJyOSZ83wq&lsparams=met%2Cmh%2Cmm%2Cmn%2Cms%2Cmv%2Cmvi%2Cpl%2Crms%2Cinitcwndbps&lsig=ACuhMU0wRgIhANzREOvayGqy2VFPJYJvV5rT3sL35iQOvu6mybORlf5jAiEApXeZLsss9aYVPVVg9bK3hVNiFGsAxonwxCeoTcJJxwA%3D\"\n"
          ]
        },
        {
          "metadata": {
            "tags": null
          },
          "name": "stdout",
          "output_type": "stream",
          "text": [
            "[download] Destination: /content/MyYoutubeDLs/What I Would Have Done Differently #shareyourdrugstory   #mentalhealthawareness #psychmeds [vfS1VcUgbDU].f140.m4a\n",
            "[download] 100% of  846.43KiB in 00:00:01 at 431.87KiB/s \n",
            "[Merger] Merging formats into \"/content/MyYoutubeDLs/What I Would Have Done Differently #shareyourdrugstory   #mentalhealthawareness #psychmeds [vfS1VcUgbDU].mp4\"\n"
          ]
        },
        {
          "metadata": {
            "tags": null
          },
          "name": "stderr",
          "output_type": "stream",
          "text": [
            "[debug] ffmpeg command line: ffmpeg -y -loglevel repeat+info -i 'file:/content/MyYoutubeDLs/What I Would Have Done Differently #shareyourdrugstory   #mentalhealthawareness #psychmeds [vfS1VcUgbDU].f614.mp4' -i 'file:/content/MyYoutubeDLs/What I Would Have Done Differently #shareyourdrugstory   #mentalhealthawareness #psychmeds [vfS1VcUgbDU].f140.m4a' -c copy -map 0:v:0 -map 1:a:0 -movflags +faststart 'file:/content/MyYoutubeDLs/What I Would Have Done Differently #shareyourdrugstory   #mentalhealthawareness #psychmeds [vfS1VcUgbDU].temp.mp4'\n"
          ]
        },
        {
          "metadata": {
            "tags": null
          },
          "name": "stdout",
          "output_type": "stream",
          "text": [
            "Deleting original file /content/MyYoutubeDLs/What I Would Have Done Differently #shareyourdrugstory   #mentalhealthawareness #psychmeds [vfS1VcUgbDU].f614.mp4 (pass -k to keep)\n",
            "Deleting original file /content/MyYoutubeDLs/What I Would Have Done Differently #shareyourdrugstory   #mentalhealthawareness #psychmeds [vfS1VcUgbDU].f140.m4a (pass -k to keep)\n",
            "-> Success or skipped (due to existing file/error ignored): https://www.youtube.com/shorts/vfS1VcUgbDU\n",
            "\n",
            "[22/48] Attempting to download: https://www.youtube.com/shorts/EJpo2jjaXlA\n",
            "[youtube] Extracting URL: https://www.youtube.com/shorts/EJpo2jjaXlA\n",
            "[youtube] EJpo2jjaXlA: Downloading webpage\n",
            "[youtube] EJpo2jjaXlA: Downloading tv client config\n",
            "[youtube] EJpo2jjaXlA: Downloading tv player API JSON\n",
            "[youtube] EJpo2jjaXlA: Downloading ios player API JSON\n"
          ]
        },
        {
          "metadata": {
            "tags": null
          },
          "name": "stderr",
          "output_type": "stream",
          "text": [
            "[debug] [youtube] Decrypted nsig ILZCwiSFD_9od-8h => YSbPitcljHYjcA\n",
            "[debug] [youtube] Decrypted nsig SqposrI1q_s6s-vf => YGsdyC9KXDcJHA\n",
            "[debug] [youtube] EJpo2jjaXlA: ios client https formats require a GVS PO Token which was not provided. They will be skipped as they may yield HTTP Error 403. You can manually pass a GVS PO Token for this client with --extractor-args \"youtube:po_token=ios.gvs+XXX\". For more information, refer to  https://github.com/yt-dlp/yt-dlp/wiki/PO-Token-Guide . To enable these broken formats anyway, pass --extractor-args \"youtube:formats=missing_pot\"\n"
          ]
        },
        {
          "metadata": {
            "tags": null
          },
          "name": "stdout",
          "output_type": "stream",
          "text": [
            "[youtube] EJpo2jjaXlA: Downloading m3u8 information\n"
          ]
        },
        {
          "metadata": {
            "tags": null
          },
          "name": "stderr",
          "output_type": "stream",
          "text": [
            "[debug] Sort order given by extractor: quality, res, fps, hdr:12, source, vcodec, channels, acodec, lang, proto\n",
            "[debug] Formats sorted by: hasvid, ie_pref, quality, res, fps, hdr:12(7), source, vcodec, channels, acodec, lang, proto, size, br, asr, vext, aext, hasaud, id\n"
          ]
        },
        {
          "metadata": {
            "tags": null
          },
          "name": "stdout",
          "output_type": "stream",
          "text": [
            "[info] EJpo2jjaXlA: Downloading 1 format(s): 616+140\n"
          ]
        },
        {
          "metadata": {
            "tags": null
          },
          "name": "stderr",
          "output_type": "stream",
          "text": [
            "[debug] Invoking hlsnative downloader on \"https://manifest.googlevideo.com/api/manifest/hls_playlist/expire/1745904019/ei/Mg0QaIjRO_GXsfIP5sPx8QQ/ip/34.168.94.101/id/109a68da38da5e50/itag/616/source/youtube/requiressl/yes/ratebypass/yes/pfa/1/wft/1/sgovp/clen%3D34027094%3Bdur%3D59.666%3Bgir%3Dyes%3Bitag%3D356%3Blmt%3D1730770695851198/rqh/1/hls_chunk_host/rr5---sn-qxo7rn7k.googlevideo.com/xpc/EgVo2aDSNQ%3D%3D/met/1745882418,/mh/Bb/mm/31,26/mn/sn-qxo7rn7k,sn-a5mekn6d/ms/au,onr/mv/m/mvi/5/pl/18/rms/au,au/initcwndbps/2573750/bui/AecWEAY1ji7_7alv6V-ML0pEcqTKSodaRJYzdv3Y7XES_FiByrrc3QCoya2QoWGCb9n1apHJOkGcmYeG/spc/wk1kZjnWH4FaCX0gJiRRc4SHmW5VuEdQSuYehZIrif4sKdEvdz6Mi3J7nZftQZkSBsg/vprv/1/playlist_type/DVR/dover/13/txp/543C434/mt/1745881974/fvip/1/short_key/1/keepalive/yes/sparams/expire,ei,ip,id,itag,source,requiressl,ratebypass,pfa,wft,sgovp,rqh,xpc,bui,spc,vprv,playlist_type/sig/AJfQdSswRQIhAM1xo9N3plrN7KgCPPoyrldYx7lnPS8dwquPgT_g_sQgAiAkk70VmNiIkDDgMgBamb7Gok-VM_r8gruByTjY9o99wQ%3D%3D/lsparams/hls_chunk_host,met,mh,mm,mn,ms,mv,mvi,pl,rms,initcwndbps/lsig/ACuhMU0wRQIgHIcgGwK5o-aLt9-3KrNlzZYHdbB-qouIspmtN4RAv0QCIQDqDURiqyjXH354cLlSf4BzP6wxG3aQfuEvHMhWpl2YRQ%3D%3D/playlist/index.m3u8\"\n"
          ]
        },
        {
          "metadata": {
            "tags": null
          },
          "name": "stdout",
          "output_type": "stream",
          "text": [
            "[hlsnative] Downloading m3u8 manifest\n",
            "[hlsnative] Total fragments: 12\n",
            "[download] Destination: /content/MyYoutubeDLs/Psych meds were never going to let me thrive [EJpo2jjaXlA].f616.mp4\n",
            "[download] 100% of   32.46MiB in 00:01:10 at 474.07KiB/s               \n"
          ]
        },
        {
          "metadata": {
            "tags": null
          },
          "name": "stderr",
          "output_type": "stream",
          "text": [
            "[debug] Invoking http downloader on \"https://rr5---sn-qxo7rn7k.googlevideo.com/videoplayback?expire=1745904018&ei=Mg0QaNqSNcqFt7EPmdbSuQw&ip=34.168.94.101&id=o-ABZTGSOQVBbzyMCDU2FrXaUcAQ_lXhUIL242wBseSXkl&itag=140&source=youtube&requiressl=yes&xpc=EgVo2aDSNQ%3D%3D&met=1745882418%2C&mh=Bb&mm=31%2C26&mn=sn-qxo7rn7k%2Csn-a5mekn6d&ms=au%2Conr&mv=m&mvi=5&pl=18&rms=au%2Cau&initcwndbps=2573750&bui=AecWEAaiuauzcqPMMdPQ6nkaXywalAFSNsjWoRZ2-Cm20xPMhZYET7TGL8YgHl4lbNUtU1is4-PBXzfc&vprv=1&svpuc=1&mime=audio%2Fmp4&ns=MSS4t90E3f2vKmju2mZNmX4Q&rqh=1&gir=yes&clen=967286&dur=59.721&lmt=1730765985777814&mt=1745882212&fvip=1&keepalive=yes&lmw=1&c=TVHTML5&sefc=1&txp=5432434&n=YGsdyC9KXDcJHA&sparams=expire%2Cei%2Cip%2Cid%2Citag%2Csource%2Crequiressl%2Cxpc%2Cbui%2Cvprv%2Csvpuc%2Cmime%2Cns%2Crqh%2Cgir%2Cclen%2Cdur%2Clmt&sig=AJfQdSswRQIhAOPbr_m6CGjXUETT6sokhi5cWLa6GXDKLmB_YEXDFRKVAiBZgxHeOmou3Ea1UBsjGLvV54CfcrJzQXfu-ewzo9Mo1g%3D%3D&lsparams=met%2Cmh%2Cmm%2Cmn%2Cms%2Cmv%2Cmvi%2Cpl%2Crms%2Cinitcwndbps&lsig=ACuhMU0wRgIhAOTx_LJxigpKUp-twUd_zzcRLgbVqLvoklfecIxhBuf4AiEA8kJ5EHEo_m9THK7DaQj2wgNo34YalFafcxUWVNynhEw%3D\"\n"
          ]
        },
        {
          "metadata": {
            "tags": null
          },
          "name": "stdout",
          "output_type": "stream",
          "text": [
            "[download] Destination: /content/MyYoutubeDLs/Psych meds were never going to let me thrive [EJpo2jjaXlA].f140.m4a\n",
            "[download] 100% of  944.62KiB in 00:00:02 at 456.80KiB/s \n",
            "[Merger] Merging formats into \"/content/MyYoutubeDLs/Psych meds were never going to let me thrive [EJpo2jjaXlA].mp4\"\n"
          ]
        },
        {
          "metadata": {
            "tags": null
          },
          "name": "stderr",
          "output_type": "stream",
          "text": [
            "[debug] ffmpeg command line: ffmpeg -y -loglevel repeat+info -i 'file:/content/MyYoutubeDLs/Psych meds were never going to let me thrive [EJpo2jjaXlA].f616.mp4' -i 'file:/content/MyYoutubeDLs/Psych meds were never going to let me thrive [EJpo2jjaXlA].f140.m4a' -c copy -map 0:v:0 -map 1:a:0 -movflags +faststart 'file:/content/MyYoutubeDLs/Psych meds were never going to let me thrive [EJpo2jjaXlA].temp.mp4'\n"
          ]
        },
        {
          "metadata": {
            "tags": null
          },
          "name": "stdout",
          "output_type": "stream",
          "text": [
            "Deleting original file /content/MyYoutubeDLs/Psych meds were never going to let me thrive [EJpo2jjaXlA].f140.m4a (pass -k to keep)\n",
            "Deleting original file /content/MyYoutubeDLs/Psych meds were never going to let me thrive [EJpo2jjaXlA].f616.mp4 (pass -k to keep)\n",
            "-> Success or skipped (due to existing file/error ignored): https://www.youtube.com/shorts/EJpo2jjaXlA\n",
            "\n",
            "[23/48] Attempting to download: https://www.youtube.com/shorts/zL7kerPHYXQ\n",
            "[youtube] Extracting URL: https://www.youtube.com/shorts/zL7kerPHYXQ\n",
            "[youtube] zL7kerPHYXQ: Downloading webpage\n",
            "[youtube] zL7kerPHYXQ: Downloading tv client config\n",
            "[youtube] zL7kerPHYXQ: Downloading tv player API JSON\n",
            "[youtube] zL7kerPHYXQ: Downloading ios player API JSON\n"
          ]
        },
        {
          "metadata": {
            "tags": null
          },
          "name": "stderr",
          "output_type": "stream",
          "text": [
            "[debug] [youtube] Decrypted nsig pNq5yDnJWrKYkkjQ => mb1gm-HZWpdeNQ\n",
            "[debug] [youtube] Decrypted nsig hPqHW1vVd_kXzaI7 => QmoglMaHmRdVAA\n",
            "[debug] [youtube] zL7kerPHYXQ: ios client https formats require a GVS PO Token which was not provided. They will be skipped as they may yield HTTP Error 403. You can manually pass a GVS PO Token for this client with --extractor-args \"youtube:po_token=ios.gvs+XXX\". For more information, refer to  https://github.com/yt-dlp/yt-dlp/wiki/PO-Token-Guide . To enable these broken formats anyway, pass --extractor-args \"youtube:formats=missing_pot\"\n"
          ]
        },
        {
          "metadata": {
            "tags": null
          },
          "name": "stdout",
          "output_type": "stream",
          "text": [
            "[youtube] zL7kerPHYXQ: Downloading m3u8 information\n"
          ]
        },
        {
          "metadata": {
            "tags": null
          },
          "name": "stderr",
          "output_type": "stream",
          "text": [
            "[debug] Sort order given by extractor: quality, res, fps, hdr:12, source, vcodec, channels, acodec, lang, proto\n",
            "[debug] Formats sorted by: hasvid, ie_pref, quality, res, fps, hdr:12(7), source, vcodec, channels, acodec, lang, proto, size, br, asr, vext, aext, hasaud, id\n"
          ]
        },
        {
          "metadata": {
            "tags": null
          },
          "name": "stdout",
          "output_type": "stream",
          "text": [
            "[info] zL7kerPHYXQ: Downloading 1 format(s): 616+140\n"
          ]
        },
        {
          "metadata": {
            "tags": null
          },
          "name": "stderr",
          "output_type": "stream",
          "text": [
            "[debug] Invoking hlsnative downloader on \"https://manifest.googlevideo.com/api/manifest/hls_playlist/expire/1745904101/ei/hQ0QaOKEI_ycsfIP3P3u8Qw/ip/34.168.94.101/id/ccbee47ab3c76174/itag/616/source/youtube/requiressl/yes/ratebypass/yes/pfa/1/wft/1/sgovp/clen%3D14367258%3Bdur%3D44.085%3Bgir%3Dyes%3Bitag%3D356%3Blmt%3D1728691616585740/rqh/1/hls_chunk_host/rr1---sn-qxoedne7.googlevideo.com/xpc/EgVo2aDSNQ%3D%3D/met/1745882501,/mh/Ez/mm/31,29/mn/sn-qxoedne7,sn-qxo7rn7y/ms/au,rdu/mv/m/mvi/1/pl/18/rms/au,au/initcwndbps/2573750/bui/AecWEAYeVxAGrb-sfQKg6U5q0t8RGIgd_mu0_bnG89zcVG4WuxkomnJ0ioYbmAe5Cm730Cnsb7s9tioJ/spc/wk1kZpjM29RbZWEhqQUwIAcZ1xNds36VrpYx_Ll1ysc6d_2OSIzGinTTqFz9_7TZtfA/vprv/1/playlist_type/DVR/dover/13/txp/543C434/mt/1745881974/fvip/5/short_key/1/keepalive/yes/sparams/expire,ei,ip,id,itag,source,requiressl,ratebypass,pfa,wft,sgovp,rqh,xpc,bui,spc,vprv,playlist_type/sig/AJfQdSswRAIgZFxfTrTg1aZDx4qZQ1dgN4yTqbou08Zz9m6eihRIMLQCIA0zfhK0Sjtv-Ft0EDxhy2xF_woHqI0vZlnOCVSmPF76/lsparams/hls_chunk_host,met,mh,mm,mn,ms,mv,mvi,pl,rms,initcwndbps/lsig/ACuhMU0wRgIhAJzZXIIweOTD2zSEdkoPAYETRXsZp5Hvb-atBsuv6F6vAiEAqjrpvEWmWmX0i_tIJfCFGMcp3iP5iJnMiIMlTyq_Yv0%3D/playlist/index.m3u8\"\n"
          ]
        },
        {
          "metadata": {
            "tags": null
          },
          "name": "stdout",
          "output_type": "stream",
          "text": [
            "[hlsnative] Downloading m3u8 manifest\n",
            "[hlsnative] Total fragments: 9\n",
            "[download] Destination: /content/MyYoutubeDLs/Xanax Induced Brain Damage [zL7kerPHYXQ].f616.mp4\n",
            "[download] 100% of   13.71MiB in 00:00:28 at 486.49KiB/s              \n"
          ]
        },
        {
          "metadata": {
            "tags": null
          },
          "name": "stderr",
          "output_type": "stream",
          "text": [
            "[debug] Invoking http downloader on \"https://rr5---sn-qxo7rn7y.googlevideo.com/videoplayback?expire=1745904101&ei=hQ0QaNybHYz3sfIPt4bZ-QI&ip=34.168.94.101&id=o-AKpfeIRO_Q_CzYPPHZFK-T46w455wottY5wTTzEQMPfE&itag=140&source=youtube&requiressl=yes&xpc=EgVo2aDSNQ%3D%3D&met=1745882501%2C&mh=Ez&mm=31%2C29&mn=sn-qxo7rn7y%2Csn-qxoedne7&ms=au%2Crdu&mv=m&mvi=5&pl=18&rms=au%2Cau&initcwndbps=2573750&bui=AecWEAazKcu89etg7DpiPTCeqUYJwgKzofdhK6gWs0tAz5VioSGEdr6QoUw687Dt56mjAQize-zVOgca&vprv=1&svpuc=1&mime=audio%2Fmp4&ns=w8RT1Cdk1k3sScCCZnCXSuQQ&rqh=1&gir=yes&clen=715311&dur=44.141&lmt=1728686085511484&mt=1745882212&fvip=1&keepalive=yes&lmw=1&c=TVHTML5&sefc=1&txp=5432434&n=QmoglMaHmRdVAA&sparams=expire%2Cei%2Cip%2Cid%2Citag%2Csource%2Crequiressl%2Cxpc%2Cbui%2Cvprv%2Csvpuc%2Cmime%2Cns%2Crqh%2Cgir%2Cclen%2Cdur%2Clmt&sig=AJfQdSswRgIhAPrKYD5GP1ggwx_UDS4oqfQ1LVfVQc80yVZ-87PiG0MrAiEAzmqTy_utnBo9C0Zol9gv4_1puYii9YPFpqcGu8_UFVY%3D&lsparams=met%2Cmh%2Cmm%2Cmn%2Cms%2Cmv%2Cmvi%2Cpl%2Crms%2Cinitcwndbps&lsig=ACuhMU0wRAIgS8xvJ41qupv05u-BKV9kfGy8LH1XuTiukRA5OgdfaM8CIEoasiVsIaXTRySTCu5BQBMDhDZoIaZD-PjPUNlPiwEn\"\n"
          ]
        },
        {
          "metadata": {
            "tags": null
          },
          "name": "stdout",
          "output_type": "stream",
          "text": [
            "[download] Destination: /content/MyYoutubeDLs/Xanax Induced Brain Damage [zL7kerPHYXQ].f140.m4a\n",
            "[download] 100% of  698.55KiB in 00:00:01 at 463.49KiB/s \n",
            "[Merger] Merging formats into \"/content/MyYoutubeDLs/Xanax Induced Brain Damage [zL7kerPHYXQ].mp4\"\n"
          ]
        },
        {
          "metadata": {
            "tags": null
          },
          "name": "stderr",
          "output_type": "stream",
          "text": [
            "[debug] ffmpeg command line: ffmpeg -y -loglevel repeat+info -i 'file:/content/MyYoutubeDLs/Xanax Induced Brain Damage [zL7kerPHYXQ].f616.mp4' -i 'file:/content/MyYoutubeDLs/Xanax Induced Brain Damage [zL7kerPHYXQ].f140.m4a' -c copy -map 0:v:0 -map 1:a:0 -movflags +faststart 'file:/content/MyYoutubeDLs/Xanax Induced Brain Damage [zL7kerPHYXQ].temp.mp4'\n"
          ]
        },
        {
          "metadata": {
            "tags": null
          },
          "name": "stdout",
          "output_type": "stream",
          "text": [
            "Deleting original file /content/MyYoutubeDLs/Xanax Induced Brain Damage [zL7kerPHYXQ].f140.m4a (pass -k to keep)\n",
            "Deleting original file /content/MyYoutubeDLs/Xanax Induced Brain Damage [zL7kerPHYXQ].f616.mp4 (pass -k to keep)\n",
            "-> Success or skipped (due to existing file/error ignored): https://www.youtube.com/shorts/zL7kerPHYXQ\n",
            "\n",
            "[24/48] Attempting to download: https://www.youtube.com/shorts/0TPHDeaHGJU\n",
            "[youtube] Extracting URL: https://www.youtube.com/shorts/0TPHDeaHGJU\n",
            "[youtube] 0TPHDeaHGJU: Downloading webpage\n",
            "[youtube] 0TPHDeaHGJU: Downloading tv client config\n",
            "[youtube] 0TPHDeaHGJU: Downloading tv player API JSON\n",
            "[youtube] 0TPHDeaHGJU: Downloading ios player API JSON\n"
          ]
        },
        {
          "metadata": {
            "tags": null
          },
          "name": "stderr",
          "output_type": "stream",
          "text": [
            "[debug] [youtube] Decrypted nsig kyWN8Mo4Fja5Mt1r => vxv70vOl2TVtLw\n",
            "[debug] [youtube] Decrypted nsig zkkxnFF9CTkPAs5p => udJ8FAFQKO7rgg\n",
            "[debug] [youtube] 0TPHDeaHGJU: ios client https formats require a GVS PO Token which was not provided. They will be skipped as they may yield HTTP Error 403. You can manually pass a GVS PO Token for this client with --extractor-args \"youtube:po_token=ios.gvs+XXX\". For more information, refer to  https://github.com/yt-dlp/yt-dlp/wiki/PO-Token-Guide . To enable these broken formats anyway, pass --extractor-args \"youtube:formats=missing_pot\"\n"
          ]
        },
        {
          "metadata": {
            "tags": null
          },
          "name": "stdout",
          "output_type": "stream",
          "text": [
            "[youtube] 0TPHDeaHGJU: Downloading m3u8 information\n"
          ]
        },
        {
          "metadata": {
            "tags": null
          },
          "name": "stderr",
          "output_type": "stream",
          "text": [
            "[debug] Sort order given by extractor: quality, res, fps, hdr:12, source, vcodec, channels, acodec, lang, proto\n",
            "[debug] Formats sorted by: hasvid, ie_pref, quality, res, fps, hdr:12(7), source, vcodec, channels, acodec, lang, proto, size, br, asr, vext, aext, hasaud, id\n"
          ]
        },
        {
          "metadata": {
            "tags": null
          },
          "name": "stdout",
          "output_type": "stream",
          "text": [
            "[info] 0TPHDeaHGJU: Downloading 1 format(s): 616+140\n"
          ]
        },
        {
          "metadata": {
            "tags": null
          },
          "name": "stderr",
          "output_type": "stream",
          "text": [
            "[debug] Invoking hlsnative downloader on \"https://manifest.googlevideo.com/api/manifest/hls_playlist/expire/1745904142/ei/rg0QaMKBAcjasfIPovPouAI/ip/34.168.94.101/id/d133c70de6871895/itag/616/source/youtube/requiressl/yes/ratebypass/yes/pfa/1/wft/1/sgovp/clen%3D16587854%3Bdur%3D53.899%3Bgir%3Dyes%3Bitag%3D356%3Blmt%3D1733956766626694/rqh/1/hls_chunk_host/rr3---sn-qxo7rn7k.googlevideo.com/xpc/EgVo2aDSNQ%3D%3D/met/1745882542,/mh/7H/mm/31,26/mn/sn-qxo7rn7k,sn-a5meknzr/ms/au,onr/mv/m/mvi/3/pl/18/rms/au,au/initcwndbps/2573750/bui/AecWEAZC41cONXN8PXmO-VaFcz07i8aiJs1ezbxlCI0GKReyr75ZKm0z3VJrsh11TAPQrCgXIPlWcDFD/spc/wk1kZtYpi5hv5FZBK09HazCgfFc2uiYO8IkFoknjKzEwkrcJ53dMGPLZINI-yJ_vIf8/vprv/1/playlist_type/DVR/dover/13/txp/543C434/mt/1745882212/fvip/2/short_key/1/keepalive/yes/sparams/expire,ei,ip,id,itag,source,requiressl,ratebypass,pfa,wft,sgovp,rqh,xpc,bui,spc,vprv,playlist_type/sig/AJfQdSswRAIgbfF6bQ3iI_4CSIEBbyh2pCigAHyeICwqjXJQ1PU9OScCIFNuLjfGMexBqABuL6QU8iXsPEn2lSiRU0ybl0voYLpS/lsparams/hls_chunk_host,met,mh,mm,mn,ms,mv,mvi,pl,rms,initcwndbps/lsig/ACuhMU0wRQIgYtH137dFMXzts470wT_KLlKJmWg_SLNpvKSCn1EIC50CIQD5qSD_vBq3Kv5BXcF_uyy2fIEqilwpcShxwn755vEu8g%3D%3D/playlist/index.m3u8\"\n"
          ]
        },
        {
          "metadata": {
            "tags": null
          },
          "name": "stdout",
          "output_type": "stream",
          "text": [
            "[hlsnative] Downloading m3u8 manifest\n",
            "[hlsnative] Total fragments: 10\n",
            "[download] Destination: /content/MyYoutubeDLs/I didn’t know this could happen [0TPHDeaHGJU].f616.mp4\n",
            "[download] 100% of   15.83MiB in 00:00:32 at 496.07KiB/s               \n"
          ]
        },
        {
          "metadata": {
            "tags": null
          },
          "name": "stderr",
          "output_type": "stream",
          "text": [
            "[debug] Invoking http downloader on \"https://rr2---sn-qxoednee.googlevideo.com/videoplayback?expire=1745904141&ei=rQ0QaMqsONPysfIPr9HnuQg&ip=34.168.94.101&id=o-AIK0p-MIHjkg2r6N0fNdLemZy0gcDIIqZGYkJT4O3nT2&itag=140&source=youtube&requiressl=yes&xpc=EgVo2aDSNQ%3D%3D&met=1745882541%2C&mh=7H&mm=31%2C26&mn=sn-qxoednee%2Csn-a5mlrnlz&ms=au%2Conr&mv=m&mvi=2&pl=18&rms=au%2Cau&initcwndbps=2573750&bui=AecWEAZBGg2rsrdIdz9Zy1A446uoRm6WgB2wgP_Dnpmg6ijFIFmjurdbPUINz2TSU5985biYr1L3U8FF&vprv=1&svpuc=1&mime=audio%2Fmp4&ns=Y1LqwGcXCdZ5e4Jgik6D8ukQ&rqh=1&gir=yes&clen=874157&dur=53.963&lmt=1733956019380441&mt=1745882212&fvip=4&keepalive=yes&lmw=1&c=TVHTML5&sefc=1&txp=5432434&n=udJ8FAFQKO7rgg&sparams=expire%2Cei%2Cip%2Cid%2Citag%2Csource%2Crequiressl%2Cxpc%2Cbui%2Cvprv%2Csvpuc%2Cmime%2Cns%2Crqh%2Cgir%2Cclen%2Cdur%2Clmt&sig=AJfQdSswRAIgRgjsbPXYjai7BHnaJJQCgx80P1dRwM_wJ_5ZAOTjE7ICICqFz5PT7_7o4j0UmWABQ08052UND9O4rjxXHl7Sy3RB&lsparams=met%2Cmh%2Cmm%2Cmn%2Cms%2Cmv%2Cmvi%2Cpl%2Crms%2Cinitcwndbps&lsig=ACuhMU0wRAIgelGCeIPYui-nJ-jmzfWjKPGlEz0kXBa2SQ2SKb27wCsCIEVJ3--WKDKYvMqagC6xrNGwkDFbR8x5iXl7Rt9ynbSP\"\n"
          ]
        },
        {
          "metadata": {
            "tags": null
          },
          "name": "stdout",
          "output_type": "stream",
          "text": [
            "[download] Destination: /content/MyYoutubeDLs/I didn’t know this could happen [0TPHDeaHGJU].f140.m4a\n",
            "[download] 100% of  853.67KiB in 00:00:02 at 424.18KiB/s \n",
            "[Merger] Merging formats into \"/content/MyYoutubeDLs/I didn’t know this could happen [0TPHDeaHGJU].mp4\"\n"
          ]
        },
        {
          "metadata": {
            "tags": null
          },
          "name": "stderr",
          "output_type": "stream",
          "text": [
            "[debug] ffmpeg command line: ffmpeg -y -loglevel repeat+info -i 'file:/content/MyYoutubeDLs/I didn’t know this could happen [0TPHDeaHGJU].f616.mp4' -i 'file:/content/MyYoutubeDLs/I didn’t know this could happen [0TPHDeaHGJU].f140.m4a' -c copy -map 0:v:0 -map 1:a:0 -movflags +faststart 'file:/content/MyYoutubeDLs/I didn’t know this could happen [0TPHDeaHGJU].temp.mp4'\n"
          ]
        },
        {
          "metadata": {
            "tags": null
          },
          "name": "stdout",
          "output_type": "stream",
          "text": [
            "Deleting original file /content/MyYoutubeDLs/I didn’t know this could happen [0TPHDeaHGJU].f140.m4a (pass -k to keep)\n",
            "Deleting original file /content/MyYoutubeDLs/I didn’t know this could happen [0TPHDeaHGJU].f616.mp4 (pass -k to keep)\n",
            "-> Success or skipped (due to existing file/error ignored): https://www.youtube.com/shorts/0TPHDeaHGJU\n",
            "\n",
            "[25/48] Attempting to download: https://www.youtube.com/shorts/jGNe-UIBT4I\n",
            "[youtube] Extracting URL: https://www.youtube.com/shorts/jGNe-UIBT4I\n",
            "[youtube] jGNe-UIBT4I: Downloading webpage\n",
            "[youtube] jGNe-UIBT4I: Downloading tv client config\n",
            "[youtube] jGNe-UIBT4I: Downloading tv player API JSON\n",
            "[youtube] jGNe-UIBT4I: Downloading ios player API JSON\n"
          ]
        },
        {
          "metadata": {
            "tags": null
          },
          "name": "stderr",
          "output_type": "stream",
          "text": [
            "[debug] [youtube] Decrypted nsig EasjAtonqjSrRfbO => VJeTTC81NXfcMw\n",
            "[debug] [youtube] Decrypted nsig 4h890abtwT3qNCoG => 0hd-M-Wg0_j4Eg\n",
            "[debug] [youtube] jGNe-UIBT4I: ios client https formats require a GVS PO Token which was not provided. They will be skipped as they may yield HTTP Error 403. You can manually pass a GVS PO Token for this client with --extractor-args \"youtube:po_token=ios.gvs+XXX\". For more information, refer to  https://github.com/yt-dlp/yt-dlp/wiki/PO-Token-Guide . To enable these broken formats anyway, pass --extractor-args \"youtube:formats=missing_pot\"\n"
          ]
        },
        {
          "metadata": {
            "tags": null
          },
          "name": "stdout",
          "output_type": "stream",
          "text": [
            "[youtube] jGNe-UIBT4I: Downloading m3u8 information\n"
          ]
        },
        {
          "metadata": {
            "tags": null
          },
          "name": "stderr",
          "output_type": "stream",
          "text": [
            "[debug] Sort order given by extractor: quality, res, fps, hdr:12, source, vcodec, channels, acodec, lang, proto\n",
            "[debug] Formats sorted by: hasvid, ie_pref, quality, res, fps, hdr:12(7), source, vcodec, channels, acodec, lang, proto, size, br, asr, vext, aext, hasaud, id\n"
          ]
        },
        {
          "metadata": {
            "tags": null
          },
          "name": "stdout",
          "output_type": "stream",
          "text": [
            "[info] jGNe-UIBT4I: Downloading 1 format(s): 609+140\n"
          ]
        },
        {
          "metadata": {
            "tags": null
          },
          "name": "stderr",
          "output_type": "stream",
          "text": [
            "[debug] Invoking hlsnative downloader on \"https://manifest.googlevideo.com/api/manifest/hls_playlist/expire/1745904186/ei/2g0QaIaUILW9sfIPouC-SQ/ip/34.168.94.101/id/8c635ef942014f82/itag/609/source/youtube/requiressl/yes/ratebypass/yes/pfa/1/wft/1/sgovp/clen%3D2583720%3Bdur%3D60.041%3Bgir%3Dyes%3Bitag%3D247%3Blmt%3D1705496516265022/rqh/1/hls_chunk_host/rr1---sn-qxo7rn7k.googlevideo.com/xpc/EgVo2aDSNQ%3D%3D/met/1745882586,/mh/KI/mm/31,26/mn/sn-qxo7rn7k,sn-a5mekn6z/ms/au,onr/mv/m/mvi/1/pl/18/rms/au,au/initcwndbps/2573750/bui/AecWEAa4ntBOgzb23dry7VOBrFIxvuLCGp9nKRuq_wEay7k4HDhUyLwmM-APwbql3brc4RLCENRrfdq2/spc/wk1kZvgUBXUCcDD30SSBZoz99UjQPfuNV81ONXLVZ_urftSm3hMPsChy3YqhzktAkgQ/vprv/1/playlist_type/DVR/dover/13/txp/630A224/mt/1745882212/fvip/3/short_key/1/keepalive/yes/sparams/expire,ei,ip,id,itag,source,requiressl,ratebypass,pfa,wft,sgovp,rqh,xpc,bui,spc,vprv,playlist_type/sig/AJfQdSswRgIhALEf_lsm_fCZJLCu_3UY4GUk6keqLmUVStM8B25H_2vPAiEAvAMDAjsdQCh7lRMpomaYJxOvKe7IZQIR0P09CDXQoOo%3D/lsparams/hls_chunk_host,met,mh,mm,mn,ms,mv,mvi,pl,rms,initcwndbps/lsig/ACuhMU0wRQIhALiNXIebF1ZQfVUiMqQIHNV_X1U5T6BSJQs4SEC0qRtTAiApD9fBfHsIZWkzr999TLjBN5sxcjfjthQ2Z7qJnj9A9w%3D%3D/playlist/index.m3u8\"\n"
          ]
        },
        {
          "metadata": {
            "tags": null
          },
          "name": "stdout",
          "output_type": "stream",
          "text": [
            "[hlsnative] Downloading m3u8 manifest\n",
            "[hlsnative] Total fragments: 12\n",
            "[download] Destination: /content/MyYoutubeDLs/#akathisia #benzodiazepines #mentalhealth #psychiatry #medication #antidepressant #antipsychiatry [jGNe-UIBT4I].f609.mp4\n",
            "[download] 100% of    2.47MiB in 00:00:05 at 430.38KiB/s               \n"
          ]
        },
        {
          "metadata": {
            "tags": null
          },
          "name": "stderr",
          "output_type": "stream",
          "text": [
            "[debug] Invoking http downloader on \"https://rr1---sn-qxo7rn7k.googlevideo.com/videoplayback?expire=1745904186&ei=2g0QaJffGvWosfIPvoDL-A4&ip=34.168.94.101&id=o-AJFrDcBLW8epgPphCNq8RweRl6BQxiRcpbjQsB3HiSgt&itag=140&source=youtube&requiressl=yes&xpc=EgVo2aDSNQ%3D%3D&met=1745882586%2C&mh=KI&mm=31%2C29&mn=sn-qxo7rn7k%2Csn-qxoednee&ms=au%2Crdu&mv=m&mvi=1&pl=18&rms=au%2Cau&initcwndbps=2573750&bui=AecWEAZ_4BloBnHfKTPYsYs71jcsxsXfYxibne17KGBVwBGcJtnL_ie8DFr8-WC4S2m4-VOyuVuoDt01&vprv=1&svpuc=1&mime=audio%2Fmp4&ns=914t7P-PN8kmB1GGA_y0UgoQ&rqh=1&gir=yes&clen=973319&dur=60.093&lmt=1705496484795426&mt=1745882212&fvip=2&keepalive=yes&lmw=1&c=TVHTML5&sefc=1&txp=6308224&n=0hd-M-Wg0_j4Eg&sparams=expire%2Cei%2Cip%2Cid%2Citag%2Csource%2Crequiressl%2Cxpc%2Cbui%2Cvprv%2Csvpuc%2Cmime%2Cns%2Crqh%2Cgir%2Cclen%2Cdur%2Clmt&sig=AJfQdSswRAIgUNbAhU4WO7kVBBsFXAGqac_V1s-jJWIUEEworlqYMaYCIAopRp2qmMSiHdgBvsMILobOO2sxGTli0cIew6zisiQo&lsparams=met%2Cmh%2Cmm%2Cmn%2Cms%2Cmv%2Cmvi%2Cpl%2Crms%2Cinitcwndbps&lsig=ACuhMU0wRAIgc3c95xkvbQ7qjKM57_3_Tlmb-Yp2yXiICc552efjF0ICIAV1pktMIdGcA8Du58EArwNW67AC7LkQiYnwvMJr2Sl5\"\n"
          ]
        },
        {
          "metadata": {
            "tags": null
          },
          "name": "stdout",
          "output_type": "stream",
          "text": [
            "[download] Destination: /content/MyYoutubeDLs/#akathisia #benzodiazepines #mentalhealth #psychiatry #medication #antidepressant #antipsychiatry [jGNe-UIBT4I].f140.m4a\n",
            "[download] 100% of  950.51KiB in 00:00:02 at 433.06KiB/s \n",
            "[Merger] Merging formats into \"/content/MyYoutubeDLs/#akathisia #benzodiazepines #mentalhealth #psychiatry #medication #antidepressant #antipsychiatry [jGNe-UIBT4I].mp4\"\n"
          ]
        },
        {
          "metadata": {
            "tags": null
          },
          "name": "stderr",
          "output_type": "stream",
          "text": [
            "[debug] ffmpeg command line: ffmpeg -y -loglevel repeat+info -i 'file:/content/MyYoutubeDLs/#akathisia #benzodiazepines #mentalhealth #psychiatry #medication #antidepressant #antipsychiatry [jGNe-UIBT4I].f609.mp4' -i 'file:/content/MyYoutubeDLs/#akathisia #benzodiazepines #mentalhealth #psychiatry #medication #antidepressant #antipsychiatry [jGNe-UIBT4I].f140.m4a' -c copy -map 0:v:0 -map 1:a:0 -movflags +faststart 'file:/content/MyYoutubeDLs/#akathisia #benzodiazepines #mentalhealth #psychiatry #medication #antidepressant #antipsychiatry [jGNe-UIBT4I].temp.mp4'\n"
          ]
        },
        {
          "metadata": {
            "tags": null
          },
          "name": "stdout",
          "output_type": "stream",
          "text": [
            "Deleting original file /content/MyYoutubeDLs/#akathisia #benzodiazepines #mentalhealth #psychiatry #medication #antidepressant #antipsychiatry [jGNe-UIBT4I].f609.mp4 (pass -k to keep)\n",
            "Deleting original file /content/MyYoutubeDLs/#akathisia #benzodiazepines #mentalhealth #psychiatry #medication #antidepressant #antipsychiatry [jGNe-UIBT4I].f140.m4a (pass -k to keep)\n",
            "-> Success or skipped (due to existing file/error ignored): https://www.youtube.com/shorts/jGNe-UIBT4I\n",
            "\n",
            "[26/48] Attempting to download: https://www.youtube.com/shorts/gspQDuWNA3I\n",
            "[youtube] Extracting URL: https://www.youtube.com/shorts/gspQDuWNA3I\n",
            "[youtube] gspQDuWNA3I: Downloading webpage\n",
            "[youtube] gspQDuWNA3I: Downloading tv client config\n",
            "[youtube] gspQDuWNA3I: Downloading tv player API JSON\n",
            "[youtube] gspQDuWNA3I: Downloading ios player API JSON\n"
          ]
        },
        {
          "metadata": {
            "tags": null
          },
          "name": "stderr",
          "output_type": "stream",
          "text": [
            "[debug] [youtube] Decrypted nsig jwIooPYSLr-C4fyL => V8bEgKjfGfv9fQ\n",
            "[debug] [youtube] Decrypted nsig hBt8I2Fwhr3QLpnW => rL4eKCgQsXgMGQ\n",
            "[debug] [youtube] gspQDuWNA3I: ios client https formats require a GVS PO Token which was not provided. They will be skipped as they may yield HTTP Error 403. You can manually pass a GVS PO Token for this client with --extractor-args \"youtube:po_token=ios.gvs+XXX\". For more information, refer to  https://github.com/yt-dlp/yt-dlp/wiki/PO-Token-Guide . To enable these broken formats anyway, pass --extractor-args \"youtube:formats=missing_pot\"\n"
          ]
        },
        {
          "metadata": {
            "tags": null
          },
          "name": "stdout",
          "output_type": "stream",
          "text": [
            "[youtube] gspQDuWNA3I: Downloading m3u8 information\n"
          ]
        },
        {
          "metadata": {
            "tags": null
          },
          "name": "stderr",
          "output_type": "stream",
          "text": [
            "[debug] Sort order given by extractor: quality, res, fps, hdr:12, source, vcodec, channels, acodec, lang, proto\n",
            "[debug] Formats sorted by: hasvid, ie_pref, quality, res, fps, hdr:12(7), source, vcodec, channels, acodec, lang, proto, size, br, asr, vext, aext, hasaud, id\n"
          ]
        },
        {
          "metadata": {
            "tags": null
          },
          "name": "stdout",
          "output_type": "stream",
          "text": [
            "[info] gspQDuWNA3I: Downloading 1 format(s): 614+140\n"
          ]
        },
        {
          "metadata": {
            "tags": null
          },
          "name": "stderr",
          "output_type": "stream",
          "text": [
            "[debug] Invoking hlsnative downloader on \"https://manifest.googlevideo.com/api/manifest/hls_playlist/expire/1745904204/ei/7A0QaLKEA978sfIPq9WkyA8/ip/34.168.94.101/id/82ca500ee58d0372/itag/614/source/youtube/requiressl/yes/ratebypass/yes/pfa/1/wft/1/sgovp/clen%3D2011777%3Bdur%3D44.878%3Bgir%3Dyes%3Bitag%3D248%3Blmt%3D1726153484369349/rqh/1/hls_chunk_host/rr5---sn-qxoedne7.googlevideo.com/xpc/EgVo2aDSNQ%3D%3D/met/1745882604,/mh/2e/mm/31,26/mn/sn-qxoedne7,sn-a5msen76/ms/au,onr/mv/m/mvi/5/pl/18/rms/au,au/initcwndbps/2573750/bui/AecWEAaTdAbpNgn-1wSELtq_p_DCk9fwX9JuXBj6dg6fkFUa8AquuejZteI70uCjexVYxXNkIcsYrzl_/spc/wk1kZlLLhqzEj6E7l-3rXpx6BgZKZi5SmXpjHjBQp8MM8j8kepx4bNlChwYXQfXP2a0/vprv/1/playlist_type/DVR/dover/13/txp/630A224/mt/1745882212/fvip/1/short_key/1/keepalive/yes/sparams/expire,ei,ip,id,itag,source,requiressl,ratebypass,pfa,wft,sgovp,rqh,xpc,bui,spc,vprv,playlist_type/sig/AJfQdSswRgIhALu5oFqaHGbsvqYRQuUe5L9jIJHgSfUxHp2kvzr_oE1hAiEAsHiyHEHGXd4UBG6aQIm3hyKOKALa_C1xG5pzsQTLc1s%3D/lsparams/hls_chunk_host,met,mh,mm,mn,ms,mv,mvi,pl,rms,initcwndbps/lsig/ACuhMU0wRAIgNpnUgvTmVJEQeObwCm3Dcup7v3uglyWs1fxFY--UT-8CIAoXbDSHqeQV-HtAEKmdBQ0M4qgvCeLTFj9JS_jwoUUV/playlist/index.m3u8\"\n"
          ]
        },
        {
          "metadata": {
            "tags": null
          },
          "name": "stdout",
          "output_type": "stream",
          "text": [
            "[hlsnative] Downloading m3u8 manifest\n",
            "[hlsnative] Total fragments: 9\n",
            "[download] Destination: /content/MyYoutubeDLs/One Dose Changed Everything #lexapro #pssd #psychmeds #Informedconsent #shareyourdrugstory [gspQDuWNA3I].f614.mp4\n",
            "[download] 100% of    1.93MiB in 00:00:04 at 448.69KiB/s              \n"
          ]
        },
        {
          "metadata": {
            "tags": null
          },
          "name": "stderr",
          "output_type": "stream",
          "text": [
            "[debug] Invoking http downloader on \"https://rr5---sn-qxoedne7.googlevideo.com/videoplayback?expire=1745904203&ei=6w0QaOuyOPSfsfIP1fXHYQ&ip=34.168.94.101&id=o-ANzcEbag8dnkUCOf_0dqzVKpHBkwPi5ti6yaNVcM2xu5&itag=140&source=youtube&requiressl=yes&xpc=EgVo2aDSNQ%3D%3D&met=1745882603%2C&mh=2e&mm=31%2C29&mn=sn-qxoedne7%2Csn-qxo7rn7y&ms=au%2Crdu&mv=m&mvi=5&pl=18&rms=au%2Cau&initcwndbps=2573750&bui=AecWEAbRKowg-xJrwXhCHjC9qMkdRob5viCicNBm4BalxlPnLUwdCeq0P0wn4YzaUixgNfazRboA5GHT&vprv=1&svpuc=1&mime=audio%2Fmp4&ns=pQS_W75Yog73SpQsgU9L2rEQ&rqh=1&gir=yes&clen=728085&dur=44.930&lmt=1726153476091334&mt=1745882212&fvip=1&keepalive=yes&lmw=1&c=TVHTML5&sefc=1&txp=6318224&n=rL4eKCgQsXgMGQ&sparams=expire%2Cei%2Cip%2Cid%2Citag%2Csource%2Crequiressl%2Cxpc%2Cbui%2Cvprv%2Csvpuc%2Cmime%2Cns%2Crqh%2Cgir%2Cclen%2Cdur%2Clmt&sig=AJfQdSswRQIhAPwyl2y0BrMlM9WZyAGFskqma-9AfMYDGZu7iEpYdVxmAiA7p6ar7NF71HuaD47twdmRyxT1x2xXQ_YJk4MrU1zHXg%3D%3D&lsparams=met%2Cmh%2Cmm%2Cmn%2Cms%2Cmv%2Cmvi%2Cpl%2Crms%2Cinitcwndbps&lsig=ACuhMU0wRQIhANmEe9L6fAmhuCvyuArJUl8ew1vOeH3h1CeX5XZ3s-m_AiAYpR8SQLOrDgATiilbFmla2qWGn2GWlf5bAkGfDF7V4Q%3D%3D\"\n"
          ]
        },
        {
          "metadata": {
            "tags": null
          },
          "name": "stdout",
          "output_type": "stream",
          "text": [
            "[download] Destination: /content/MyYoutubeDLs/One Dose Changed Everything #lexapro #pssd #psychmeds #Informedconsent #shareyourdrugstory [gspQDuWNA3I].f140.m4a\n",
            "[download] 100% of  711.02KiB in 00:00:01 at 433.04KiB/s \n",
            "[Merger] Merging formats into \"/content/MyYoutubeDLs/One Dose Changed Everything #lexapro #pssd #psychmeds #Informedconsent #shareyourdrugstory [gspQDuWNA3I].mp4\"\n"
          ]
        },
        {
          "metadata": {
            "tags": null
          },
          "name": "stderr",
          "output_type": "stream",
          "text": [
            "[debug] ffmpeg command line: ffmpeg -y -loglevel repeat+info -i 'file:/content/MyYoutubeDLs/One Dose Changed Everything #lexapro #pssd #psychmeds #Informedconsent #shareyourdrugstory [gspQDuWNA3I].f614.mp4' -i 'file:/content/MyYoutubeDLs/One Dose Changed Everything #lexapro #pssd #psychmeds #Informedconsent #shareyourdrugstory [gspQDuWNA3I].f140.m4a' -c copy -map 0:v:0 -map 1:a:0 -movflags +faststart 'file:/content/MyYoutubeDLs/One Dose Changed Everything #lexapro #pssd #psychmeds #Informedconsent #shareyourdrugstory [gspQDuWNA3I].temp.mp4'\n"
          ]
        },
        {
          "metadata": {
            "tags": null
          },
          "name": "stdout",
          "output_type": "stream",
          "text": [
            "Deleting original file /content/MyYoutubeDLs/One Dose Changed Everything #lexapro #pssd #psychmeds #Informedconsent #shareyourdrugstory [gspQDuWNA3I].f140.m4a (pass -k to keep)\n",
            "Deleting original file /content/MyYoutubeDLs/One Dose Changed Everything #lexapro #pssd #psychmeds #Informedconsent #shareyourdrugstory [gspQDuWNA3I].f614.mp4 (pass -k to keep)\n",
            "-> Success or skipped (due to existing file/error ignored): https://www.youtube.com/shorts/gspQDuWNA3I\n",
            "\n",
            "[27/48] Attempting to download: https://www.youtube.com/shorts/lyjtbZOyk1k\n",
            "[youtube] Extracting URL: https://www.youtube.com/shorts/lyjtbZOyk1k\n",
            "[youtube] lyjtbZOyk1k: Downloading webpage\n",
            "[youtube] lyjtbZOyk1k: Downloading tv client config\n",
            "[youtube] lyjtbZOyk1k: Downloading tv player API JSON\n",
            "[youtube] lyjtbZOyk1k: Downloading ios player API JSON\n"
          ]
        },
        {
          "metadata": {
            "tags": null
          },
          "name": "stderr",
          "output_type": "stream",
          "text": [
            "[debug] [youtube] Decrypted nsig 0GIjUWz_X_D8Hocv => qVBGGaKUAPvxmA\n",
            "[debug] [youtube] Decrypted nsig cUDu3rDA8jLQmF8h => 3augK9r1WOqjqw\n",
            "[debug] [youtube] lyjtbZOyk1k: ios client https formats require a GVS PO Token which was not provided. They will be skipped as they may yield HTTP Error 403. You can manually pass a GVS PO Token for this client with --extractor-args \"youtube:po_token=ios.gvs+XXX\". For more information, refer to  https://github.com/yt-dlp/yt-dlp/wiki/PO-Token-Guide . To enable these broken formats anyway, pass --extractor-args \"youtube:formats=missing_pot\"\n"
          ]
        },
        {
          "metadata": {
            "tags": null
          },
          "name": "stdout",
          "output_type": "stream",
          "text": [
            "[youtube] lyjtbZOyk1k: Downloading m3u8 information\n"
          ]
        },
        {
          "metadata": {
            "tags": null
          },
          "name": "stderr",
          "output_type": "stream",
          "text": [
            "[debug] Sort order given by extractor: quality, res, fps, hdr:12, source, vcodec, channels, acodec, lang, proto\n",
            "[debug] Formats sorted by: hasvid, ie_pref, quality, res, fps, hdr:12(7), source, vcodec, channels, acodec, lang, proto, size, br, asr, vext, aext, hasaud, id\n"
          ]
        },
        {
          "metadata": {
            "tags": null
          },
          "name": "stdout",
          "output_type": "stream",
          "text": [
            "[info] lyjtbZOyk1k: Downloading 1 format(s): 614+140\n"
          ]
        },
        {
          "metadata": {
            "tags": null
          },
          "name": "stderr",
          "output_type": "stream",
          "text": [
            "[debug] Invoking hlsnative downloader on \"https://manifest.googlevideo.com/api/manifest/hls_playlist/expire/1745904220/ei/_A0QaPu6LZ_CsfIP3JShkQU/ip/34.168.94.101/id/9728ed6d93b29359/itag/614/source/youtube/requiressl/yes/ratebypass/yes/pfa/1/wft/1/sgovp/clen%3D3430892%3Bdur%3D44.377%3Bgir%3Dyes%3Bitag%3D248%3Blmt%3D1725894180911474/rqh/1/hls_chunk_host/rr5---sn-qxoedn7k.googlevideo.com/xpc/EgVo2aDSNQ%3D%3D/met/1745882620,/mh/75/mm/31,29/mn/sn-qxoedn7k,sn-qxo7rn7y/ms/au,rdu/mv/m/mvi/5/pl/18/rms/au,au/initcwndbps/2573750/bui/AecWEAYnNh8Rybgm_YOpNgPO04T6BxWzk_vTJDYtCIJnUrRQi-boYEvkkxleT6V_hiyYluHZg_7IiBQ7/spc/wk1kZu4GUi6LSp6kri-8QYeOX1Qa0IxeP1BkB-YDgOVbm_XuPe_Cz38L7cPH3q8WR9A/vprv/1/playlist_type/DVR/dover/13/txp/630A224/mt/1745882212/fvip/3/short_key/1/keepalive/yes/sparams/expire,ei,ip,id,itag,source,requiressl,ratebypass,pfa,wft,sgovp,rqh,xpc,bui,spc,vprv,playlist_type/sig/AJfQdSswRAIgMTEqd35bcYcim3sSI7i2g1cjx0hIHc7hBIHP-jCgZ1sCIHXNwdN1RW4NuB75uWBpwihGCFrd-RkmoeSCBPzejhch/lsparams/hls_chunk_host,met,mh,mm,mn,ms,mv,mvi,pl,rms,initcwndbps/lsig/ACuhMU0wRAIgL5mFkUz6rShKyJsTkZFi_wDB8dyMLy2Sfn09Gv5xMB0CIGfZBWSAkb39AAjA5vb1pfj7O0kgF-8gN3P8yN8ndJtS/playlist/index.m3u8\"\n"
          ]
        },
        {
          "metadata": {
            "tags": null
          },
          "name": "stdout",
          "output_type": "stream",
          "text": [
            "[hlsnative] Downloading m3u8 manifest\n",
            "[hlsnative] Total fragments: 9\n",
            "[download] Destination: /content/MyYoutubeDLs/I Was Able to Control My Sleep After Tapering #shareyourdrugstory #lithium #seroquel [lyjtbZOyk1k].f614.mp4\n",
            "[download] 100% of    3.28MiB in 00:00:07 at 452.92KiB/s              \n"
          ]
        },
        {
          "metadata": {
            "tags": null
          },
          "name": "stderr",
          "output_type": "stream",
          "text": [
            "[debug] Invoking http downloader on \"https://rr3---sn-qxo7rn7y.googlevideo.com/videoplayback?expire=1745904220&ei=_A0QaNyLJ8WCt7EP3u6BuAs&ip=34.168.94.101&id=o-AJo1mnIaKOmokI1Br6H3xanMaxwciO3j1XOKWnoHOWgD&itag=140&source=youtube&requiressl=yes&xpc=EgVo2aDSNQ%3D%3D&met=1745882620%2C&mh=75&mm=31%2C26&mn=sn-qxo7rn7y%2Csn-a5mekn6z&ms=au%2Conr&mv=m&mvi=3&pl=18&rms=au%2Cau&initcwndbps=2573750&bui=AecWEAbdWIhy-bxwVHKa3BfMBt29rusaE6CpGxKst2iaNz4BSmGrT76b771KFuJsTZ7QVtQI9CKgWBBd&vprv=1&svpuc=1&mime=audio%2Fmp4&ns=jvC9n-1KwayxY2VtUWo42IwQ&rqh=1&gir=yes&clen=720111&dur=44.442&lmt=1725894157432166&mt=1745882212&fvip=2&keepalive=yes&lmw=1&c=TVHTML5&sefc=1&txp=6318224&n=3augK9r1WOqjqw&sparams=expire%2Cei%2Cip%2Cid%2Citag%2Csource%2Crequiressl%2Cxpc%2Cbui%2Cvprv%2Csvpuc%2Cmime%2Cns%2Crqh%2Cgir%2Cclen%2Cdur%2Clmt&sig=AJfQdSswRQIgGeknCPWIABeC9Vu8pJaR8CQ21d_zxiG25bhvu6aZBNwCIQDIH5eEiyeC7lp9vpJhqsMGiJoyLcntghuMXyd0vYZ2OA%3D%3D&lsparams=met%2Cmh%2Cmm%2Cmn%2Cms%2Cmv%2Cmvi%2Cpl%2Crms%2Cinitcwndbps&lsig=ACuhMU0wRQIgOVcj9LgZESWcdoGeUIPkLi_8v-tIPipDKl_AKemnmjUCIQDixEJvFSZroamsncDBdQzmmliecG8jqMp-Aqoz-JCzQQ%3D%3D\"\n"
          ]
        },
        {
          "metadata": {
            "tags": null
          },
          "name": "stdout",
          "output_type": "stream",
          "text": [
            "[download] Destination: /content/MyYoutubeDLs/I Was Able to Control My Sleep After Tapering #shareyourdrugstory #lithium #seroquel [lyjtbZOyk1k].f140.m4a\n",
            "[download] 100% of  703.23KiB in 00:00:01 at 463.29KiB/s \n",
            "[Merger] Merging formats into \"/content/MyYoutubeDLs/I Was Able to Control My Sleep After Tapering #shareyourdrugstory #lithium #seroquel [lyjtbZOyk1k].mp4\"\n"
          ]
        },
        {
          "metadata": {
            "tags": null
          },
          "name": "stderr",
          "output_type": "stream",
          "text": [
            "[debug] ffmpeg command line: ffmpeg -y -loglevel repeat+info -i 'file:/content/MyYoutubeDLs/I Was Able to Control My Sleep After Tapering #shareyourdrugstory #lithium #seroquel [lyjtbZOyk1k].f614.mp4' -i 'file:/content/MyYoutubeDLs/I Was Able to Control My Sleep After Tapering #shareyourdrugstory #lithium #seroquel [lyjtbZOyk1k].f140.m4a' -c copy -map 0:v:0 -map 1:a:0 -movflags +faststart 'file:/content/MyYoutubeDLs/I Was Able to Control My Sleep After Tapering #shareyourdrugstory #lithium #seroquel [lyjtbZOyk1k].temp.mp4'\n"
          ]
        },
        {
          "metadata": {
            "tags": null
          },
          "name": "stdout",
          "output_type": "stream",
          "text": [
            "Deleting original file /content/MyYoutubeDLs/I Was Able to Control My Sleep After Tapering #shareyourdrugstory #lithium #seroquel [lyjtbZOyk1k].f614.mp4 (pass -k to keep)\n",
            "Deleting original file /content/MyYoutubeDLs/I Was Able to Control My Sleep After Tapering #shareyourdrugstory #lithium #seroquel [lyjtbZOyk1k].f140.m4a (pass -k to keep)\n",
            "-> Success or skipped (due to existing file/error ignored): https://www.youtube.com/shorts/lyjtbZOyk1k\n",
            "\n",
            "[28/48] Attempting to download: https://www.youtube.com/shorts/4fSphjYIqig\n",
            "[youtube] Extracting URL: https://www.youtube.com/shorts/4fSphjYIqig\n",
            "[youtube] 4fSphjYIqig: Downloading webpage\n",
            "[youtube] 4fSphjYIqig: Downloading tv client config\n",
            "[youtube] 4fSphjYIqig: Downloading tv player API JSON\n",
            "[youtube] 4fSphjYIqig: Downloading ios player API JSON\n"
          ]
        },
        {
          "metadata": {
            "tags": null
          },
          "name": "stderr",
          "output_type": "stream",
          "text": [
            "[debug] [youtube] Decrypted nsig yYa0OcFcY_sRKNjz => bJxaaueXxxZB3A\n",
            "[debug] [youtube] Decrypted nsig yZsFn8NEvjjO8V29 => j3unIZBPrmfXcw\n",
            "[debug] [youtube] 4fSphjYIqig: ios client https formats require a GVS PO Token which was not provided. They will be skipped as they may yield HTTP Error 403. You can manually pass a GVS PO Token for this client with --extractor-args \"youtube:po_token=ios.gvs+XXX\". For more information, refer to  https://github.com/yt-dlp/yt-dlp/wiki/PO-Token-Guide . To enable these broken formats anyway, pass --extractor-args \"youtube:formats=missing_pot\"\n"
          ]
        },
        {
          "metadata": {
            "tags": null
          },
          "name": "stdout",
          "output_type": "stream",
          "text": [
            "[youtube] 4fSphjYIqig: Downloading m3u8 information\n"
          ]
        },
        {
          "metadata": {
            "tags": null
          },
          "name": "stderr",
          "output_type": "stream",
          "text": [
            "[debug] Sort order given by extractor: quality, res, fps, hdr:12, source, vcodec, channels, acodec, lang, proto\n",
            "[debug] Formats sorted by: hasvid, ie_pref, quality, res, fps, hdr:12(7), source, vcodec, channels, acodec, lang, proto, size, br, asr, vext, aext, hasaud, id\n"
          ]
        },
        {
          "metadata": {
            "tags": null
          },
          "name": "stdout",
          "output_type": "stream",
          "text": [
            "[info] 4fSphjYIqig: Downloading 1 format(s): 614+140\n"
          ]
        },
        {
          "metadata": {
            "tags": null
          },
          "name": "stderr",
          "output_type": "stream",
          "text": [
            "[debug] Invoking hlsnative downloader on \"https://manifest.googlevideo.com/api/manifest/hls_playlist/expire/1745904239/ei/Dw4QaJ7tEqaBsfIPq5jusAw/ip/34.168.94.101/id/e1f4a9863608aa28/itag/614/source/youtube/requiressl/yes/ratebypass/yes/pfa/1/wft/1/sgovp/clen%3D11800146%3Bdur%3D53.678%3Bgir%3Dyes%3Bitag%3D248%3Blmt%3D1721491677648790/rqh/1/hls_chunk_host/rr1---sn-qxoedn7k.googlevideo.com/xpc/EgVo2aDSNQ%3D%3D/met/1745882639,/mh/7F/mm/31,26/mn/sn-qxoedn7k,sn-a5msen7l/ms/au,onr/mv/m/mvi/1/pl/18/rms/au,au/initcwndbps/2573750/bui/AecWEAZzfTZv7VogBesITpTdjFyKI7Kr6NJfUsUSITCR611esu9qM_qVO4eK-T1u8TlMC8Ptrm7pGfdf/spc/wk1kZqZnPJztm1ZPDGmS76-wgpm5JVHFQvcZxS733C2i34CZkTCN_4l8fI_yXCKGzCg/vprv/1/playlist_type/DVR/dover/13/txp/630A224/mt/1745882212/fvip/2/short_key/1/keepalive/yes/sparams/expire,ei,ip,id,itag,source,requiressl,ratebypass,pfa,wft,sgovp,rqh,xpc,bui,spc,vprv,playlist_type/sig/AJfQdSswRQIgJm7y9_fSP2-QMCKsYoefC5IyCPF8ArWpvImsxijd6U4CIQDSNFgmk0RAgUX0lz4Hn6U20IHQlagFjM77_r6407d11g%3D%3D/lsparams/hls_chunk_host,met,mh,mm,mn,ms,mv,mvi,pl,rms,initcwndbps/lsig/ACuhMU0wRgIhAK4hK9yIjeUHnKBZKRPSCGayQ9lmSlLTBR3sNYGBVlz7AiEAp6kPTVicV8C26yDMjaHdVvalP437jZUvgph9wh4hCWs%3D/playlist/index.m3u8\"\n"
          ]
        },
        {
          "metadata": {
            "tags": null
          },
          "name": "stdout",
          "output_type": "stream",
          "text": [
            "[hlsnative] Downloading m3u8 manifest\n",
            "[hlsnative] Total fragments: 9\n",
            "[download] Destination: /content/MyYoutubeDLs/Living with Lexapro Side Effects as a Therapist #shareyourdrugstory #lexapro #psychmeds [4fSphjYIqig].f614.mp4\n",
            "[download] 100% of   11.26MiB in 00:00:23 at 496.96KiB/s              \n"
          ]
        },
        {
          "metadata": {
            "tags": null
          },
          "name": "stderr",
          "output_type": "stream",
          "text": [
            "[debug] Invoking http downloader on \"https://rr1---sn-qxoedn7k.googlevideo.com/videoplayback?expire=1745904239&ei=Dw4QaK74DKnzsfIPrrWDwA4&ip=34.168.94.101&id=o-AKosrQ5CAsplUa6vsoP3mRSiPWBXahZJCnA5Qiyhi9MF&itag=140&source=youtube&requiressl=yes&xpc=EgVo2aDSNQ%3D%3D&met=1745882639%2C&mh=7F&mm=31%2C29&mn=sn-qxoedn7k%2Csn-qxo7rn7y&ms=au%2Crdu&mv=m&mvi=1&pl=18&rms=au%2Cau&initcwndbps=2573750&bui=AecWEAZkIt8OFhnMbJ67RyljnRFC3EUbPT-NLXiCN6-wZcy0xNxnmZDoVt3vI2Rw0wdq9Ro3NRsTwWue&vprv=1&svpuc=1&mime=audio%2Fmp4&ns=8GbyKNV5KcQszyJDYNe87qEQ&rqh=1&gir=yes&clen=870837&dur=53.754&lmt=1721491684648109&mt=1745882212&fvip=1&keepalive=yes&lmw=1&c=TVHTML5&sefc=1&txp=6308224&n=j3unIZBPrmfXcw&sparams=expire%2Cei%2Cip%2Cid%2Citag%2Csource%2Crequiressl%2Cxpc%2Cbui%2Cvprv%2Csvpuc%2Cmime%2Cns%2Crqh%2Cgir%2Cclen%2Cdur%2Clmt&sig=AJfQdSswRAIgUhTQUIAbWxUq4AmZvI__0SaWcH9_POcurWDyfNmCNwQCIDM8-ra0tGg-qLOq1Ban5W1bTGNUrlMyOgCeYNXBgRUW&lsparams=met%2Cmh%2Cmm%2Cmn%2Cms%2Cmv%2Cmvi%2Cpl%2Crms%2Cinitcwndbps&lsig=ACuhMU0wRgIhAINRM1f_0sjDF3UTq3BJ0W3ct2SXxs1KNoPwPdrUtKzZAiEAkZ0n5St27TUihDwsGM-9ni85iwd3k219TEe0g-RSENA%3D\"\n"
          ]
        },
        {
          "metadata": {
            "tags": null
          },
          "name": "stdout",
          "output_type": "stream",
          "text": [
            "[download] Destination: /content/MyYoutubeDLs/Living with Lexapro Side Effects as a Therapist #shareyourdrugstory #lexapro #psychmeds [4fSphjYIqig].f140.m4a\n",
            "[download] 100% of  850.43KiB in 00:00:01 at 467.54KiB/s \n",
            "[Merger] Merging formats into \"/content/MyYoutubeDLs/Living with Lexapro Side Effects as a Therapist #shareyourdrugstory #lexapro #psychmeds [4fSphjYIqig].mp4\"\n"
          ]
        },
        {
          "metadata": {
            "tags": null
          },
          "name": "stderr",
          "output_type": "stream",
          "text": [
            "[debug] ffmpeg command line: ffmpeg -y -loglevel repeat+info -i 'file:/content/MyYoutubeDLs/Living with Lexapro Side Effects as a Therapist #shareyourdrugstory #lexapro #psychmeds [4fSphjYIqig].f614.mp4' -i 'file:/content/MyYoutubeDLs/Living with Lexapro Side Effects as a Therapist #shareyourdrugstory #lexapro #psychmeds [4fSphjYIqig].f140.m4a' -c copy -map 0:v:0 -map 1:a:0 -movflags +faststart 'file:/content/MyYoutubeDLs/Living with Lexapro Side Effects as a Therapist #shareyourdrugstory #lexapro #psychmeds [4fSphjYIqig].temp.mp4'\n"
          ]
        },
        {
          "metadata": {
            "tags": null
          },
          "name": "stdout",
          "output_type": "stream",
          "text": [
            "Deleting original file /content/MyYoutubeDLs/Living with Lexapro Side Effects as a Therapist #shareyourdrugstory #lexapro #psychmeds [4fSphjYIqig].f140.m4a (pass -k to keep)\n",
            "Deleting original file /content/MyYoutubeDLs/Living with Lexapro Side Effects as a Therapist #shareyourdrugstory #lexapro #psychmeds [4fSphjYIqig].f614.mp4 (pass -k to keep)\n",
            "-> Success or skipped (due to existing file/error ignored): https://www.youtube.com/shorts/4fSphjYIqig\n",
            "\n",
            "[29/48] Attempting to download: https://www.youtube.com/shorts/WkV-wULXwxg\n",
            "[youtube] Extracting URL: https://www.youtube.com/shorts/WkV-wULXwxg\n",
            "[youtube] WkV-wULXwxg: Downloading webpage\n",
            "[youtube] WkV-wULXwxg: Downloading tv client config\n",
            "[youtube] WkV-wULXwxg: Downloading tv player API JSON\n",
            "[youtube] WkV-wULXwxg: Downloading ios player API JSON\n"
          ]
        },
        {
          "metadata": {
            "tags": null
          },
          "name": "stderr",
          "output_type": "stream",
          "text": [
            "[debug] [youtube] Decrypted nsig 6TdvuCHj0T-k33Tn => Fk9XXaDGOV0pAg\n",
            "[debug] [youtube] Decrypted nsig fOWjSfCRjTgwClLI => ndW12OxrNhV6Pg\n",
            "[debug] [youtube] WkV-wULXwxg: ios client https formats require a GVS PO Token which was not provided. They will be skipped as they may yield HTTP Error 403. You can manually pass a GVS PO Token for this client with --extractor-args \"youtube:po_token=ios.gvs+XXX\". For more information, refer to  https://github.com/yt-dlp/yt-dlp/wiki/PO-Token-Guide . To enable these broken formats anyway, pass --extractor-args \"youtube:formats=missing_pot\"\n"
          ]
        },
        {
          "metadata": {
            "tags": null
          },
          "name": "stdout",
          "output_type": "stream",
          "text": [
            "[youtube] WkV-wULXwxg: Downloading m3u8 information\n"
          ]
        },
        {
          "metadata": {
            "tags": null
          },
          "name": "stderr",
          "output_type": "stream",
          "text": [
            "[debug] Sort order given by extractor: quality, res, fps, hdr:12, source, vcodec, channels, acodec, lang, proto\n",
            "[debug] Formats sorted by: hasvid, ie_pref, quality, res, fps, hdr:12(7), source, vcodec, channels, acodec, lang, proto, size, br, asr, vext, aext, hasaud, id\n"
          ]
        },
        {
          "metadata": {
            "tags": null
          },
          "name": "stdout",
          "output_type": "stream",
          "text": [
            "[info] WkV-wULXwxg: Downloading 1 format(s): 614+140\n"
          ]
        },
        {
          "metadata": {
            "tags": null
          },
          "name": "stderr",
          "output_type": "stream",
          "text": [
            "[debug] Invoking hlsnative downloader on \"https://manifest.googlevideo.com/api/manifest/hls_playlist/expire/1745904275/ei/Mw4QaPHtA_mYsfIPkL3vuQI/ip/34.168.94.101/id/5a457ec142d7c318/itag/614/source/youtube/requiressl/yes/ratebypass/yes/pfa/1/wft/1/sgovp/clen%3D6947150%3Bdur%3D46.755%3Bgir%3Dyes%3Bitag%3D248%3Blmt%3D1723306060170267/rqh/1/hls_chunk_host/rr4---sn-qxoedne7.googlevideo.com/xpc/EgVo2aDSNQ%3D%3D/met/1745882675,/mh/-b/mm/31,29/mn/sn-qxoedne7,sn-qxo7rn7r/ms/au,rdu/mv/m/mvi/4/pl/18/rms/au,au/initcwndbps/2573750/bui/AecWEAZotw01s4ERqJ6D0KDwnj9IGGDADsC6HbCWys-0P1jtoT_sAZCdb1MXpA2574iwT1ToMf8Pe5mr/spc/wk1kZuG6dGcrf1iCbiKiLoDmmpcRwkFuHAWYhKVPYrjNcCAfJbOrK4-DydcekxbETUU/vprv/1/playlist_type/DVR/dover/13/txp/630A224/mt/1745882212/fvip/1/short_key/1/keepalive/yes/sparams/expire,ei,ip,id,itag,source,requiressl,ratebypass,pfa,wft,sgovp,rqh,xpc,bui,spc,vprv,playlist_type/sig/AJfQdSswRAIgVYgwBDNJUxSP8wKP-1As4I8V9ajSLNm35l3xETJ9xVkCIAjO36-OZm-GoqOWeYe7EQfPRXkKOR3_8b81osPHWHNr/lsparams/hls_chunk_host,met,mh,mm,mn,ms,mv,mvi,pl,rms,initcwndbps/lsig/ACuhMU0wRgIhANyfnGSWoEA78346No-AsqGrto02TAdVRdK5HjKt_5HuAiEA0oaeEkh1FFDsWEb9abVmuJIaUFtKBGR4w8ikQJ7LSqE%3D/playlist/index.m3u8\"\n"
          ]
        },
        {
          "metadata": {
            "tags": null
          },
          "name": "stdout",
          "output_type": "stream",
          "text": [
            "[hlsnative] Downloading m3u8 manifest\n",
            "[hlsnative] Total fragments: 7\n",
            "[download] Destination: /content/MyYoutubeDLs/What Did Taking Multiple Medication Cost Me？ #shareyourdrugstory #dexedrine #xanax [WkV-wULXwxg].f614.mp4\n",
            "[download] 100% of    6.63MiB in 00:00:13 at 488.20KiB/s             \n"
          ]
        },
        {
          "metadata": {
            "tags": null
          },
          "name": "stderr",
          "output_type": "stream",
          "text": [
            "[debug] Invoking http downloader on \"https://rr1---sn-qxo7rn7r.googlevideo.com/videoplayback?expire=1745904274&ei=Mg4QaKv_NOWQsfIPjrKEqAw&ip=34.168.94.101&id=o-APH0taXg0cWliM0fy5GEXs7XqBVd39vG7mcMLzOBoxoE&itag=140&source=youtube&requiressl=yes&xpc=EgVo2aDSNQ%3D%3D&met=1745882674%2C&mh=-b&mm=31%2C26&mn=sn-qxo7rn7r%2Csn-qxoedne7&ms=au%2Conr&mv=m&mvi=1&pl=18&rms=au%2Cau&initcwndbps=2387500&bui=AecWEAa-Z7KaB6t1pmw35Gj1CQQa3ZB6yuN0Hu0O9gZa4BLIwuY5TMdtCQY9lOtNqG_tEbtg8cyP6cW5&vprv=1&svpuc=1&mime=audio%2Fmp4&ns=djHCfyzBMJ61grEVFGsTLfIQ&rqh=1&gir=yes&clen=758612&dur=46.811&lmt=1723306039269955&mt=1745882459&fvip=4&keepalive=yes&lmw=1&c=TVHTML5&sefc=1&txp=6318224&n=ndW12OxrNhV6Pg&sparams=expire%2Cei%2Cip%2Cid%2Citag%2Csource%2Crequiressl%2Cxpc%2Cbui%2Cvprv%2Csvpuc%2Cmime%2Cns%2Crqh%2Cgir%2Cclen%2Cdur%2Clmt&sig=AJfQdSswRQIgDr0gBUwPYQjTar6PQ4TFykQVTEx7MIJeRmHCng7mRcYCIQCXA8tlWmMrzlyDB2PmBlBn4OUN7Fx1wQW7YF7G0UCT-g%3D%3D&lsparams=met%2Cmh%2Cmm%2Cmn%2Cms%2Cmv%2Cmvi%2Cpl%2Crms%2Cinitcwndbps&lsig=ACuhMU0wRAIgPXXogVbVTunhHn5FpzBp_uT9bZbwRq3pLQ1hGwpV3UACICZ2McoUe4OAZZxDIypKrBSW-PnAQ_BcXsJGMfeXqkDz\"\n"
          ]
        },
        {
          "metadata": {
            "tags": null
          },
          "name": "stdout",
          "output_type": "stream",
          "text": [
            "[download] Destination: /content/MyYoutubeDLs/What Did Taking Multiple Medication Cost Me？ #shareyourdrugstory #dexedrine #xanax [WkV-wULXwxg].f140.m4a\n",
            "[download] 100% of  740.83KiB in 00:00:01 at 403.01KiB/s \n",
            "[Merger] Merging formats into \"/content/MyYoutubeDLs/What Did Taking Multiple Medication Cost Me？ #shareyourdrugstory #dexedrine #xanax [WkV-wULXwxg].mp4\"\n"
          ]
        },
        {
          "metadata": {
            "tags": null
          },
          "name": "stderr",
          "output_type": "stream",
          "text": [
            "[debug] ffmpeg command line: ffmpeg -y -loglevel repeat+info -i 'file:/content/MyYoutubeDLs/What Did Taking Multiple Medication Cost Me？ #shareyourdrugstory #dexedrine #xanax [WkV-wULXwxg].f614.mp4' -i 'file:/content/MyYoutubeDLs/What Did Taking Multiple Medication Cost Me？ #shareyourdrugstory #dexedrine #xanax [WkV-wULXwxg].f140.m4a' -c copy -map 0:v:0 -map 1:a:0 -movflags +faststart 'file:/content/MyYoutubeDLs/What Did Taking Multiple Medication Cost Me？ #shareyourdrugstory #dexedrine #xanax [WkV-wULXwxg].temp.mp4'\n"
          ]
        },
        {
          "metadata": {
            "tags": null
          },
          "name": "stdout",
          "output_type": "stream",
          "text": [
            "Deleting original file /content/MyYoutubeDLs/What Did Taking Multiple Medication Cost Me？ #shareyourdrugstory #dexedrine #xanax [WkV-wULXwxg].f614.mp4 (pass -k to keep)\n",
            "Deleting original file /content/MyYoutubeDLs/What Did Taking Multiple Medication Cost Me？ #shareyourdrugstory #dexedrine #xanax [WkV-wULXwxg].f140.m4a (pass -k to keep)\n",
            "-> Success or skipped (due to existing file/error ignored): https://www.youtube.com/shorts/WkV-wULXwxg\n",
            "\n",
            "[30/48] Attempting to download: https://www.youtube.com/shorts/6siIqEAZD0A\n",
            "[youtube] Extracting URL: https://www.youtube.com/shorts/6siIqEAZD0A\n",
            "[youtube] 6siIqEAZD0A: Downloading webpage\n",
            "[youtube] 6siIqEAZD0A: Downloading tv client config\n",
            "[youtube] 6siIqEAZD0A: Downloading tv player API JSON\n",
            "[youtube] 6siIqEAZD0A: Downloading ios player API JSON\n"
          ]
        },
        {
          "metadata": {
            "tags": null
          },
          "name": "stderr",
          "output_type": "stream",
          "text": [
            "[debug] [youtube] Decrypted nsig A668li23WTK7Qfdh => VBRkd31DWMJjWg\n",
            "[debug] [youtube] Decrypted nsig v6PYBRFRPjbKvzOH => B0icnljvfYC5pw\n",
            "[debug] [youtube] 6siIqEAZD0A: ios client https formats require a GVS PO Token which was not provided. They will be skipped as they may yield HTTP Error 403. You can manually pass a GVS PO Token for this client with --extractor-args \"youtube:po_token=ios.gvs+XXX\". For more information, refer to  https://github.com/yt-dlp/yt-dlp/wiki/PO-Token-Guide . To enable these broken formats anyway, pass --extractor-args \"youtube:formats=missing_pot\"\n"
          ]
        },
        {
          "metadata": {
            "tags": null
          },
          "name": "stdout",
          "output_type": "stream",
          "text": [
            "[youtube] 6siIqEAZD0A: Downloading m3u8 information\n"
          ]
        },
        {
          "metadata": {
            "tags": null
          },
          "name": "stderr",
          "output_type": "stream",
          "text": [
            "[debug] Sort order given by extractor: quality, res, fps, hdr:12, source, vcodec, channels, acodec, lang, proto\n",
            "[debug] Formats sorted by: hasvid, ie_pref, quality, res, fps, hdr:12(7), source, vcodec, channels, acodec, lang, proto, size, br, asr, vext, aext, hasaud, id\n"
          ]
        },
        {
          "metadata": {
            "tags": null
          },
          "name": "stdout",
          "output_type": "stream",
          "text": [
            "[info] 6siIqEAZD0A: Downloading 1 format(s): 614+140\n"
          ]
        },
        {
          "metadata": {
            "tags": null
          },
          "name": "stderr",
          "output_type": "stream",
          "text": [
            "[debug] Invoking hlsnative downloader on \"https://manifest.googlevideo.com/api/manifest/hls_playlist/expire/1745904301/ei/TQ4QaLuoF-f4sfIPjui5sA8/ip/34.168.94.101/id/eac888a840190f40/itag/614/source/youtube/requiressl/yes/ratebypass/yes/pfa/1/wft/1/sgovp/clen%3D12803369%3Bdur%3D66.600%3Bgir%3Dyes%3Bitag%3D248%3Blmt%3D1737582742532997/rqh/1/hls_chunk_host/rr4---sn-qxoednee.googlevideo.com/xpc/EgVo2aDSNQ%3D%3D/met/1745882701,/mh/dI/mm/31/mn/sn-qxoednee/ms/au/mv/m/mvi/4/pl/18/rms/au,au/initcwndbps/2573750/bui/AecWEAaXugJEFNY7CHdVPjKByvhqD9WISNzL7cX9iwLuZviRMKVy9wA72qP0HaXtyZxk0GT1l6__p5j_/spc/wk1kZo6bpD-9LoYcrcUv5LwUSk8N3Myty-aOPFSZyIFQP2hyVBGexA9TXGumNSxcW1o/vprv/1/playlist_type/DVR/dover/13/txp/630A224/mt/1745882212/short_key/1/keepalive/yes/sparams/expire,ei,ip,id,itag,source,requiressl,ratebypass,pfa,wft,sgovp,rqh,xpc,bui,spc,vprv,playlist_type/sig/AJfQdSswRQIgZsu8FwUHnylcBliLQgTXgi_Sus4dkcncS4fy1YlH9oYCIQD7aINWg2TNVWYr4EOU_DS-ThU-Two1aUCFZMIHaNMacA%3D%3D/lsparams/hls_chunk_host,met,mh,mm,mn,ms,mv,mvi,pl,rms,initcwndbps/lsig/ACuhMU0wRQIhAJr_rZJrB-vRhpKEa1i-_lB--kBDrAg05MQbZCndiqSfAiAKsytO7RT6Gbr_wLYhfvKWWYP7GRg8912fv3piq0YrtQ%3D%3D/playlist/index.m3u8\"\n"
          ]
        },
        {
          "metadata": {
            "tags": null
          },
          "name": "stdout",
          "output_type": "stream",
          "text": [
            "[hlsnative] Downloading m3u8 manifest\n",
            "[hlsnative] Total fragments: 12\n",
            "[download] Destination: /content/MyYoutubeDLs/What is the most therapeutic level of ketones for managing mental illness？ [6siIqEAZD0A].f614.mp4\n",
            "[download] 100% of   12.22MiB in 00:00:25 at 486.66KiB/s               \n"
          ]
        },
        {
          "metadata": {
            "tags": null
          },
          "name": "stderr",
          "output_type": "stream",
          "text": [
            "[debug] Invoking http downloader on \"https://rr1---sn-qxo7rn7r.googlevideo.com/videoplayback?expire=1745904301&ei=TQ4QaIiYEJH4sfIPysfLkA8&ip=34.168.94.101&id=o-AFKO7fOaWUTuFkBfNp-edrbH67mhkP6kLf7KZts8V6Bx&itag=140&source=youtube&requiressl=yes&xpc=EgVo2aDSNQ%3D%3D&met=1745882701%2C&mh=dI&mm=31%2C29&mn=sn-qxo7rn7r%2Csn-qxoednee&ms=au%2Crdu&mv=m&mvi=1&pl=18&rms=au%2Cau&initcwndbps=2573750&bui=AecWEAbu2UbtUL1D31yRRpZQ6m-V8lYhX3ssjIdgexeRok7MGIAcgNx9DW5vaeyoBkcTD_hDmfcEoikY&vprv=1&svpuc=1&mime=audio%2Fmp4&ns=JthXlsQtwCNzhbRMWkyfqY4Q&rqh=1&gir=yes&clen=1080037&dur=66.664&lmt=1737582731689426&mt=1745882212&fvip=4&keepalive=yes&lmw=1&c=TVHTML5&sefc=1&txp=6308224&n=B0icnljvfYC5pw&sparams=expire%2Cei%2Cip%2Cid%2Citag%2Csource%2Crequiressl%2Cxpc%2Cbui%2Cvprv%2Csvpuc%2Cmime%2Cns%2Crqh%2Cgir%2Cclen%2Cdur%2Clmt&sig=AJfQdSswRQIgMTQptrDLqfnKzNRZyFQCqoDn3mUwiq8PcGqI4G2NrJsCIQCbec8yAo4sIVLi1SCMmQv_q2agJ9QXVoDx7WP1oVsJNw%3D%3D&lsparams=met%2Cmh%2Cmm%2Cmn%2Cms%2Cmv%2Cmvi%2Cpl%2Crms%2Cinitcwndbps&lsig=ACuhMU0wRQIgLL07OTIr1l3LILDRiVsDRKfZmI7fekMbi2Dg4jCIpOsCIQCmq-THkMeC_YHtG6b95oAoTOdq_Y5iENLeatOwLydD8A%3D%3D\"\n"
          ]
        },
        {
          "metadata": {
            "tags": null
          },
          "name": "stdout",
          "output_type": "stream",
          "text": [
            "[download] Destination: /content/MyYoutubeDLs/What is the most therapeutic level of ketones for managing mental illness？ [6siIqEAZD0A].f140.m4a\n",
            "[download] 100% of    1.03MiB in 00:00:02 at 416.74KiB/s \n",
            "[Merger] Merging formats into \"/content/MyYoutubeDLs/What is the most therapeutic level of ketones for managing mental illness？ [6siIqEAZD0A].mp4\"\n"
          ]
        },
        {
          "metadata": {
            "tags": null
          },
          "name": "stderr",
          "output_type": "stream",
          "text": [
            "[debug] ffmpeg command line: ffmpeg -y -loglevel repeat+info -i 'file:/content/MyYoutubeDLs/What is the most therapeutic level of ketones for managing mental illness？ [6siIqEAZD0A].f614.mp4' -i 'file:/content/MyYoutubeDLs/What is the most therapeutic level of ketones for managing mental illness？ [6siIqEAZD0A].f140.m4a' -c copy -map 0:v:0 -map 1:a:0 -movflags +faststart 'file:/content/MyYoutubeDLs/What is the most therapeutic level of ketones for managing mental illness？ [6siIqEAZD0A].temp.mp4'\n"
          ]
        },
        {
          "metadata": {
            "tags": null
          },
          "name": "stdout",
          "output_type": "stream",
          "text": [
            "Deleting original file /content/MyYoutubeDLs/What is the most therapeutic level of ketones for managing mental illness？ [6siIqEAZD0A].f614.mp4 (pass -k to keep)\n",
            "Deleting original file /content/MyYoutubeDLs/What is the most therapeutic level of ketones for managing mental illness？ [6siIqEAZD0A].f140.m4a (pass -k to keep)\n",
            "-> Success or skipped (due to existing file/error ignored): https://www.youtube.com/shorts/6siIqEAZD0A\n",
            "\n",
            "[31/48] Attempting to download: https://www.youtube.com/shorts/pdlhRKIvtwU\n",
            "[youtube] Extracting URL: https://www.youtube.com/shorts/pdlhRKIvtwU\n",
            "[youtube] pdlhRKIvtwU: Downloading webpage\n",
            "[youtube] pdlhRKIvtwU: Downloading tv client config\n",
            "[youtube] pdlhRKIvtwU: Downloading tv player API JSON\n",
            "[youtube] pdlhRKIvtwU: Downloading ios player API JSON\n"
          ]
        },
        {
          "metadata": {
            "tags": null
          },
          "name": "stderr",
          "output_type": "stream",
          "text": [
            "[debug] [youtube] Decrypted nsig 5PIN-TSkFT4hv1UU => DYVTFufJJBvKMg\n",
            "[debug] [youtube] Decrypted nsig aO07KayqoT5O4WHo => kqws5pmuB9Pqlg\n",
            "[debug] [youtube] pdlhRKIvtwU: ios client https formats require a GVS PO Token which was not provided. They will be skipped as they may yield HTTP Error 403. You can manually pass a GVS PO Token for this client with --extractor-args \"youtube:po_token=ios.gvs+XXX\". For more information, refer to  https://github.com/yt-dlp/yt-dlp/wiki/PO-Token-Guide . To enable these broken formats anyway, pass --extractor-args \"youtube:formats=missing_pot\"\n"
          ]
        },
        {
          "metadata": {
            "tags": null
          },
          "name": "stdout",
          "output_type": "stream",
          "text": [
            "[youtube] pdlhRKIvtwU: Downloading m3u8 information\n"
          ]
        },
        {
          "metadata": {
            "tags": null
          },
          "name": "stderr",
          "output_type": "stream",
          "text": [
            "[debug] Sort order given by extractor: quality, res, fps, hdr:12, source, vcodec, channels, acodec, lang, proto\n",
            "[debug] Formats sorted by: hasvid, ie_pref, quality, res, fps, hdr:12(7), source, vcodec, channels, acodec, lang, proto, size, br, asr, vext, aext, hasaud, id\n"
          ]
        },
        {
          "metadata": {
            "tags": null
          },
          "name": "stdout",
          "output_type": "stream",
          "text": [
            "[info] pdlhRKIvtwU: Downloading 1 format(s): 614+140\n"
          ]
        },
        {
          "metadata": {
            "tags": null
          },
          "name": "stderr",
          "output_type": "stream",
          "text": [
            "[debug] Invoking hlsnative downloader on \"https://manifest.googlevideo.com/api/manifest/hls_playlist/expire/1745904339/ei/cw4QaP6UHNaFt7EPlrbemQI/ip/34.168.94.101/id/a5d96144a22fb705/itag/614/source/youtube/requiressl/yes/ratebypass/yes/pfa/1/wft/1/sgovp/clen%3D4687836%3Bdur%3D32.080%3Bgir%3Dyes%3Bitag%3D248%3Blmt%3D1743192450840328/rqh/1/hls_chunk_host/rr3---sn-qxo7rn7r.googlevideo.com/xpc/EgVo2aDSNQ%3D%3D/met/1745882739,/mh/XG/mm/31,26/mn/sn-qxo7rn7r,sn-qxoednee/ms/au,onr/mv/m/mvi/3/pl/18/rms/au,au/initcwndbps/2573750/bui/AecWEAaf_Y9YSfWWF2fp_nXlwvoY5MWHZDTTF-UymkScunIHrPOflUKGEd250qictGX9dFqRpFaLpdlo/spc/wk1kZmDCDVNqIKVDxGzWaqGJR1T2eUUJrrgX24DtIf7aQhl6c9X_VQRL-N-LztihkPY/vprv/1/playlist_type/DVR/dover/13/txp/630A224/mt/1745882212/fvip/1/short_key/1/keepalive/yes/sparams/expire,ei,ip,id,itag,source,requiressl,ratebypass,pfa,wft,sgovp,rqh,xpc,bui,spc,vprv,playlist_type/sig/AJfQdSswRQIhAL7vRA1exwXWXRLol4Q5a18VVzImENHEQgSgWsT3U9NdAiBmouQeOpBuH937nRYU2RXUFXjUQ2WW44IIyqWuxyLnng%3D%3D/lsparams/hls_chunk_host,met,mh,mm,mn,ms,mv,mvi,pl,rms,initcwndbps/lsig/ACuhMU0wRgIhANivU0KDR8-rjtH9pSWioyUxfoxuhYVM4ULgXOrndCWEAiEA3wZKII_-W21tTKvv5Dl1s68f-c8XWC8JjtoglHboGv0%3D/playlist/index.m3u8\"\n"
          ]
        },
        {
          "metadata": {
            "tags": null
          },
          "name": "stdout",
          "output_type": "stream",
          "text": [
            "[hlsnative] Downloading m3u8 manifest\n",
            "[hlsnative] Total fragments: 5\n",
            "[download] Destination: /content/MyYoutubeDLs/How Psilocybin Helped Me Heal My Depression [pdlhRKIvtwU].f614.mp4\n",
            "[download] 100% of    4.47MiB in 00:00:10 at 450.66KiB/s             \n"
          ]
        },
        {
          "metadata": {
            "tags": null
          },
          "name": "stderr",
          "output_type": "stream",
          "text": [
            "[debug] Invoking http downloader on \"https://rr3---sn-qxo7rn7r.googlevideo.com/videoplayback?expire=1745904339&ei=cw4QaNqwFIz2sfIPi_ymUQ&ip=34.168.94.101&id=o-AGpt1ERTu52Gvcrm_cQlhyY13XvKdUG_oSe1ajJsGsgb&itag=140&source=youtube&requiressl=yes&xpc=EgVo2aDSNQ%3D%3D&met=1745882739%2C&mh=XG&mm=31%2C29&mn=sn-qxo7rn7r%2Csn-qxoednee&ms=au%2Crdu&mv=m&mvi=3&pl=18&rms=au%2Cau&initcwndbps=2573750&bui=AecWEAYWUcXCzS0TgyoAGwz1urpgozfY1RZm48tvFqwhYMIhQmMWpoJiNQ9bJE64HNp0qI6iyGS-rnri&vprv=1&svpuc=1&mime=audio%2Fmp4&ns=Vl-PjpsAhL3H933tDLPwAoIQ&rqh=1&gir=yes&clen=520937&dur=32.136&lmt=1743192438439525&mt=1745882212&fvip=1&keepalive=yes&lmw=1&c=TVHTML5&sefc=1&txp=6318224&n=kqws5pmuB9Pqlg&sparams=expire%2Cei%2Cip%2Cid%2Citag%2Csource%2Crequiressl%2Cxpc%2Cbui%2Cvprv%2Csvpuc%2Cmime%2Cns%2Crqh%2Cgir%2Cclen%2Cdur%2Clmt&sig=AJfQdSswRgIhAIDULH1bTR56e82MJU2jhLJnKl3mAmtJIQHJvfeWDdCeAiEAr9lpPdBnHwAefHlPSftQwUmpAcB4MqU_4d-phRBihVI%3D&lsparams=met%2Cmh%2Cmm%2Cmn%2Cms%2Cmv%2Cmvi%2Cpl%2Crms%2Cinitcwndbps&lsig=ACuhMU0wRQIhAO31H768dqwDWQXAcRi15Ljk02EwE1S3XTM3lNurEw2rAiBhNc3BqSvrNLBCSWjxxA9TcILNry0QgsysL4ek7LZT1Q%3D%3D\"\n"
          ]
        },
        {
          "metadata": {
            "tags": null
          },
          "name": "stdout",
          "output_type": "stream",
          "text": [
            "[download] Destination: /content/MyYoutubeDLs/How Psilocybin Helped Me Heal My Depression [pdlhRKIvtwU].f140.m4a\n",
            "[download] 100% of  508.73KiB in 00:00:01 at 328.93KiB/s \n",
            "[Merger] Merging formats into \"/content/MyYoutubeDLs/How Psilocybin Helped Me Heal My Depression [pdlhRKIvtwU].mp4\"\n"
          ]
        },
        {
          "metadata": {
            "tags": null
          },
          "name": "stderr",
          "output_type": "stream",
          "text": [
            "[debug] ffmpeg command line: ffmpeg -y -loglevel repeat+info -i 'file:/content/MyYoutubeDLs/How Psilocybin Helped Me Heal My Depression [pdlhRKIvtwU].f614.mp4' -i 'file:/content/MyYoutubeDLs/How Psilocybin Helped Me Heal My Depression [pdlhRKIvtwU].f140.m4a' -c copy -map 0:v:0 -map 1:a:0 -movflags +faststart 'file:/content/MyYoutubeDLs/How Psilocybin Helped Me Heal My Depression [pdlhRKIvtwU].temp.mp4'\n"
          ]
        },
        {
          "metadata": {
            "tags": null
          },
          "name": "stdout",
          "output_type": "stream",
          "text": [
            "Deleting original file /content/MyYoutubeDLs/How Psilocybin Helped Me Heal My Depression [pdlhRKIvtwU].f614.mp4 (pass -k to keep)\n",
            "Deleting original file /content/MyYoutubeDLs/How Psilocybin Helped Me Heal My Depression [pdlhRKIvtwU].f140.m4a (pass -k to keep)\n",
            "-> Success or skipped (due to existing file/error ignored): https://www.youtube.com/shorts/pdlhRKIvtwU\n",
            "\n",
            "[32/48] Attempting to download: https://www.youtube.com/shorts/k8qL4VwE_wQ\n",
            "[youtube] Extracting URL: https://www.youtube.com/shorts/k8qL4VwE_wQ\n",
            "[youtube] k8qL4VwE_wQ: Downloading webpage\n",
            "[youtube] k8qL4VwE_wQ: Downloading tv client config\n",
            "[youtube] k8qL4VwE_wQ: Downloading tv player API JSON\n",
            "[youtube] k8qL4VwE_wQ: Downloading ios player API JSON\n"
          ]
        },
        {
          "metadata": {
            "tags": null
          },
          "name": "stderr",
          "output_type": "stream",
          "text": [
            "[debug] [youtube] Decrypted nsig eHzdtAtEajMKY1oR => DFBfP1aecsOfmw\n",
            "[debug] [youtube] Decrypted nsig vi1Yq2yRf_J3nR9Y => fPDSuUAyjBQOEA\n",
            "[debug] [youtube] k8qL4VwE_wQ: ios client https formats require a GVS PO Token which was not provided. They will be skipped as they may yield HTTP Error 403. You can manually pass a GVS PO Token for this client with --extractor-args \"youtube:po_token=ios.gvs+XXX\". For more information, refer to  https://github.com/yt-dlp/yt-dlp/wiki/PO-Token-Guide . To enable these broken formats anyway, pass --extractor-args \"youtube:formats=missing_pot\"\n"
          ]
        },
        {
          "metadata": {
            "tags": null
          },
          "name": "stdout",
          "output_type": "stream",
          "text": [
            "[youtube] k8qL4VwE_wQ: Downloading m3u8 information\n"
          ]
        },
        {
          "metadata": {
            "tags": null
          },
          "name": "stderr",
          "output_type": "stream",
          "text": [
            "[debug] Sort order given by extractor: quality, res, fps, hdr:12, source, vcodec, channels, acodec, lang, proto\n",
            "[debug] Formats sorted by: hasvid, ie_pref, quality, res, fps, hdr:12(7), source, vcodec, channels, acodec, lang, proto, size, br, asr, vext, aext, hasaud, id\n"
          ]
        },
        {
          "metadata": {
            "tags": null
          },
          "name": "stdout",
          "output_type": "stream",
          "text": [
            "[info] k8qL4VwE_wQ: Downloading 1 format(s): 614+140\n"
          ]
        },
        {
          "metadata": {
            "tags": null
          },
          "name": "stderr",
          "output_type": "stream",
          "text": [
            "[debug] Invoking hlsnative downloader on \"https://manifest.googlevideo.com/api/manifest/hls_playlist/expire/1745904360/ei/iA4QaIuDLd6WsfIP3OHRqAw/ip/34.168.94.101/id/93ca8be15c04ff04/itag/614/source/youtube/requiressl/yes/ratebypass/yes/pfa/1/wft/1/sgovp/clen%3D6715938%3Bdur%3D54.921%3Bgir%3Dyes%3Bitag%3D248%3Blmt%3D1724252802173166/rqh/1/hls_chunk_host/rr4---sn-qxo7rn7y.googlevideo.com/xpc/EgVo2aDSNQ%3D%3D/met/1745882760,/mh/Ii/mm/31,26/mn/sn-qxo7rn7y,sn-qxoedne7/ms/au,onr/mv/m/mvi/4/pl/18/rms/au,au/initcwndbps/2387500/bui/AecWEAbeFWOYGZG7fjTK7HxN4fzYBq8LUgWiAhsaDGTs-79N5f9whSbFsk_GPaJxSEVxodYmQjzc1wtK/spc/wk1kZj0-bALGVHjyRJnT1VV-Q77YLCuYLjl1YutlEVFEKD8OQW15v6nw_OYFlQx1ylk/vprv/1/playlist_type/DVR/dover/13/txp/630A224/mt/1745882459/fvip/5/short_key/1/keepalive/yes/sparams/expire,ei,ip,id,itag,source,requiressl,ratebypass,pfa,wft,sgovp,rqh,xpc,bui,spc,vprv,playlist_type/sig/AJfQdSswRAIgXhaDZGzIaPAh_Lm1fqaKvQStn5SjudENW9xtgXXjJKMCIGw3WLcWdjN10nQlWescI2Hxzbj4FR8RVdiz9L6L8-d-/lsparams/hls_chunk_host,met,mh,mm,mn,ms,mv,mvi,pl,rms,initcwndbps/lsig/ACuhMU0wRAIgOMHpT5Fyw3CxXX2Wr7rhuQxhzKlC1EC4GZxc2hHvfqYCIBuwtE2kmrfnM2gkskgVbmQapt2paUMXtsDSLM0HbCM1/playlist/index.m3u8\"\n"
          ]
        },
        {
          "metadata": {
            "tags": null
          },
          "name": "stdout",
          "output_type": "stream",
          "text": [
            "[hlsnative] Downloading m3u8 manifest\n",
            "[hlsnative] Total fragments: 11\n",
            "[download] Destination: /content/MyYoutubeDLs/Understanding the Risks Before Medication #akathisia #informedconsent #psychmeds [k8qL4VwE_wQ].f614.mp4\n",
            "[download] 100% of    6.41MiB in 00:00:14 at 465.93KiB/s               \n"
          ]
        },
        {
          "metadata": {
            "tags": null
          },
          "name": "stderr",
          "output_type": "stream",
          "text": [
            "[debug] Invoking http downloader on \"https://rr4---sn-qxo7rn7y.googlevideo.com/videoplayback?expire=1745904360&ei=iA4QaKS3JomYsfIPt-KFsAg&ip=34.168.94.101&id=o-ADtHB3kYNSp3BKeEXPn4-npVRT0SEMatztP4cizHbJe4&itag=140&source=youtube&requiressl=yes&xpc=EgVo2aDSNQ%3D%3D&met=1745882760%2C&mh=Ii&mm=31%2C29&mn=sn-qxo7rn7y%2Csn-qxoedne7&ms=au%2Crdu&mv=m&mvi=4&pl=18&rms=au%2Cau&initcwndbps=2387500&bui=AecWEAabpVLj3TuiTmlZZrvPdeCCGyTc7DAbOTk1jB12ZKyw2Yi-zgSiC2Bmja26ifNakXNUi0SP02uA&vprv=1&svpuc=1&mime=audio%2Fmp4&ns=_a5s1ST7-9J10y3ZwWJnTNoQ&rqh=1&gir=yes&clen=890680&dur=54.984&lmt=1724252796793279&mt=1745882459&fvip=5&keepalive=yes&lmw=1&c=TVHTML5&sefc=1&txp=6318224&n=fPDSuUAyjBQOEA&sparams=expire%2Cei%2Cip%2Cid%2Citag%2Csource%2Crequiressl%2Cxpc%2Cbui%2Cvprv%2Csvpuc%2Cmime%2Cns%2Crqh%2Cgir%2Cclen%2Cdur%2Clmt&sig=AJfQdSswRAIgFeoWE3LWJ64v6e6oTlEwMFnsW1kM0VcqlkeORpY0XnkCIFiwlFhdcCvJ78JwwO88NGn_6mlhlWy706JV7CjpulGK&lsparams=met%2Cmh%2Cmm%2Cmn%2Cms%2Cmv%2Cmvi%2Cpl%2Crms%2Cinitcwndbps&lsig=ACuhMU0wRAIgIP_4AO3IW8ed9Gmbr-LXmGYBHWY2BvnzAQivGFEdcCoCIEbDW5Z88L4anAB5sVn_80t-RIDmlR_c8-0c0RRpv5eF\"\n"
          ]
        },
        {
          "metadata": {
            "tags": null
          },
          "name": "stdout",
          "output_type": "stream",
          "text": [
            "[download] Destination: /content/MyYoutubeDLs/Understanding the Risks Before Medication #akathisia #informedconsent #psychmeds [k8qL4VwE_wQ].f140.m4a\n",
            "[download] 100% of  869.80KiB in 00:00:01 at 476.88KiB/s \n",
            "[Merger] Merging formats into \"/content/MyYoutubeDLs/Understanding the Risks Before Medication #akathisia #informedconsent #psychmeds [k8qL4VwE_wQ].mp4\"\n"
          ]
        },
        {
          "metadata": {
            "tags": null
          },
          "name": "stderr",
          "output_type": "stream",
          "text": [
            "[debug] ffmpeg command line: ffmpeg -y -loglevel repeat+info -i 'file:/content/MyYoutubeDLs/Understanding the Risks Before Medication #akathisia #informedconsent #psychmeds [k8qL4VwE_wQ].f614.mp4' -i 'file:/content/MyYoutubeDLs/Understanding the Risks Before Medication #akathisia #informedconsent #psychmeds [k8qL4VwE_wQ].f140.m4a' -c copy -map 0:v:0 -map 1:a:0 -movflags +faststart 'file:/content/MyYoutubeDLs/Understanding the Risks Before Medication #akathisia #informedconsent #psychmeds [k8qL4VwE_wQ].temp.mp4'\n"
          ]
        },
        {
          "metadata": {
            "tags": null
          },
          "name": "stdout",
          "output_type": "stream",
          "text": [
            "Deleting original file /content/MyYoutubeDLs/Understanding the Risks Before Medication #akathisia #informedconsent #psychmeds [k8qL4VwE_wQ].f140.m4a (pass -k to keep)\n",
            "Deleting original file /content/MyYoutubeDLs/Understanding the Risks Before Medication #akathisia #informedconsent #psychmeds [k8qL4VwE_wQ].f614.mp4 (pass -k to keep)\n",
            "-> Success or skipped (due to existing file/error ignored): https://www.youtube.com/shorts/k8qL4VwE_wQ\n",
            "\n",
            "[33/48] Attempting to download: https://www.youtube.com/shorts/6Hi8WlF0LK0\n",
            "[youtube] Extracting URL: https://www.youtube.com/shorts/6Hi8WlF0LK0\n",
            "[youtube] 6Hi8WlF0LK0: Downloading webpage\n",
            "[youtube] 6Hi8WlF0LK0: Downloading tv client config\n",
            "[youtube] 6Hi8WlF0LK0: Downloading tv player API JSON\n",
            "[youtube] 6Hi8WlF0LK0: Downloading ios player API JSON\n"
          ]
        },
        {
          "metadata": {
            "tags": null
          },
          "name": "stderr",
          "output_type": "stream",
          "text": [
            "[debug] [youtube] Decrypted nsig 0lBiAJLctT6qFVP8 => jYmgX1vFbDoWwg\n",
            "[debug] [youtube] Decrypted nsig iUgUMWumBjaHjuP3 => wBTdVzPR573FSw\n",
            "[debug] [youtube] 6Hi8WlF0LK0: ios client https formats require a GVS PO Token which was not provided. They will be skipped as they may yield HTTP Error 403. You can manually pass a GVS PO Token for this client with --extractor-args \"youtube:po_token=ios.gvs+XXX\". For more information, refer to  https://github.com/yt-dlp/yt-dlp/wiki/PO-Token-Guide . To enable these broken formats anyway, pass --extractor-args \"youtube:formats=missing_pot\"\n"
          ]
        },
        {
          "metadata": {
            "tags": null
          },
          "name": "stdout",
          "output_type": "stream",
          "text": [
            "[youtube] 6Hi8WlF0LK0: Downloading m3u8 information\n"
          ]
        },
        {
          "metadata": {
            "tags": null
          },
          "name": "stderr",
          "output_type": "stream",
          "text": [
            "[debug] Sort order given by extractor: quality, res, fps, hdr:12, source, vcodec, channels, acodec, lang, proto\n",
            "[debug] Formats sorted by: hasvid, ie_pref, quality, res, fps, hdr:12(7), source, vcodec, channels, acodec, lang, proto, size, br, asr, vext, aext, hasaud, id\n"
          ]
        },
        {
          "metadata": {
            "tags": null
          },
          "name": "stdout",
          "output_type": "stream",
          "text": [
            "[info] 6Hi8WlF0LK0: Downloading 1 format(s): 614+140\n"
          ]
        },
        {
          "metadata": {
            "tags": null
          },
          "name": "stderr",
          "output_type": "stream",
          "text": [
            "[debug] Invoking hlsnative downloader on \"https://manifest.googlevideo.com/api/manifest/hls_playlist/expire/1745904386/ei/og4QaIzwDcz4sfIP4d6oUA/ip/34.168.94.101/id/e878bc5a51742cad/itag/614/source/youtube/requiressl/yes/ratebypass/yes/pfa/1/wft/1/sgovp/clen%3D15352368%3Bdur%3D110.375%3Bgir%3Dyes%3Bitag%3D248%3Blmt%3D1737676334730485/rqh/1/hls_chunk_host/rr1---sn-qxo7rn7k.googlevideo.com/xpc/EgVo2aDSNQ%3D%3D/met/1745882786,/mh/M0/mm/31,26/mn/sn-qxo7rn7k,sn-qxoedne7/ms/au,onr/mv/m/mvi/1/pl/18/rms/au,au/initcwndbps/2387500/bui/AecWEAbIGS-2co_wmyadPn-urSf5cPFuIg6IlKfkxXKXD0niYquqoG1cHUvjIwp3qncLVytWrq_a529w/spc/wk1kZnsW4H9Q2tVpVQ4VL1diOHdLryC4DZO7ub15769CBXnnULYzZsEB-Nn9nnSVRWw/vprv/1/playlist_type/DVR/dover/13/txp/630A224/mt/1745882459/fvip/4/short_key/1/keepalive/yes/sparams/expire,ei,ip,id,itag,source,requiressl,ratebypass,pfa,wft,sgovp,rqh,xpc,bui,spc,vprv,playlist_type/sig/AJfQdSswRAIgLMd3ORFYwivOkOH8P1CblhnfXyLrgjQrlAvMPZsoS_4CICNjGtRNVSIJkQKyPbCSC5GsCyHtH2CrBSXgyeaxVqlF/lsparams/hls_chunk_host,met,mh,mm,mn,ms,mv,mvi,pl,rms,initcwndbps/lsig/ACuhMU0wRgIhANd27Dbv9TA0qnU_9fmEQZmtH2gcaiIbhtv8YqJfbXqzAiEAq-WnK7Pu8Zw_pqcJcw2BTc6cyOfT65xja_-votO4Kwg%3D/playlist/index.m3u8\"\n"
          ]
        },
        {
          "metadata": {
            "tags": null
          },
          "name": "stdout",
          "output_type": "stream",
          "text": [
            "[hlsnative] Downloading m3u8 manifest\n",
            "[hlsnative] Total fragments: 19\n",
            "[download] Destination: /content/MyYoutubeDLs/The severity of the pain Joey had gone through was so hard to see him go through this. [6Hi8WlF0LK0].f614.mp4\n",
            "[download] 100% of   14.66MiB in 00:00:38 at 394.23KiB/s               \n"
          ]
        },
        {
          "metadata": {
            "tags": null
          },
          "name": "stderr",
          "output_type": "stream",
          "text": [
            "[debug] Invoking http downloader on \"https://rr4---sn-qxoedne7.googlevideo.com/videoplayback?expire=1745904386&ei=og4QaKWZCITBsfIPvsafqQw&ip=34.168.94.101&id=o-AAA_DtvWQTdr_zoqo1ekTRZg7Rc8U-3vZGk7L1i1CBVj&itag=140&source=youtube&requiressl=yes&xpc=EgVo2aDSNQ%3D%3D&met=1745882786%2C&mh=M0&mm=31%2C29&mn=sn-qxoedne7%2Csn-qxo7rn7k&ms=au%2Crdu&mv=m&mvi=4&pl=18&rms=au%2Cau&initcwndbps=2387500&bui=AecWEAaehqkfyDYvsr5u2zFwbMTstyjfuAT0kkBRiTSyFiix2R-2h0eC7AWkjBCRabo0QaXOmIgizOBd&vprv=1&svpuc=1&mime=audio%2Fmp4&ns=n2KHDVlIzyOn9rCPo38e7N8Q&rqh=1&gir=yes&clen=1788492&dur=110.457&lmt=1737676315914921&mt=1745882459&fvip=1&keepalive=yes&lmw=1&c=TVHTML5&sefc=1&txp=6308224&n=wBTdVzPR573FSw&sparams=expire%2Cei%2Cip%2Cid%2Citag%2Csource%2Crequiressl%2Cxpc%2Cbui%2Cvprv%2Csvpuc%2Cmime%2Cns%2Crqh%2Cgir%2Cclen%2Cdur%2Clmt&sig=AJfQdSswRAIgIdG88Vepdz418BZcctD_kBzSFx7hita34r0I3CVFpywCID0kXz6H2cNmCa7sny4SMoouEp9mvI6JtABqy4f4loDc&lsparams=met%2Cmh%2Cmm%2Cmn%2Cms%2Cmv%2Cmvi%2Cpl%2Crms%2Cinitcwndbps&lsig=ACuhMU0wRAIgKzNAe_hTVLiHLhhTRIOeF_CeF-ASyVwYfzXPkfKGHA4CIDytMGPgd0Pr7h9VxFMZ9YM13ez_b7AvUBKr0uAXFLkI\"\n"
          ]
        },
        {
          "metadata": {
            "tags": null
          },
          "name": "stdout",
          "output_type": "stream",
          "text": [
            "[download] Destination: /content/MyYoutubeDLs/The severity of the pain Joey had gone through was so hard to see him go through this. [6Hi8WlF0LK0].f140.m4a\n",
            "[download] 100% of    1.71MiB in 00:00:03 at 474.58KiB/s \n",
            "[Merger] Merging formats into \"/content/MyYoutubeDLs/The severity of the pain Joey had gone through was so hard to see him go through this. [6Hi8WlF0LK0].mp4\"\n"
          ]
        },
        {
          "metadata": {
            "tags": null
          },
          "name": "stderr",
          "output_type": "stream",
          "text": [
            "[debug] ffmpeg command line: ffmpeg -y -loglevel repeat+info -i 'file:/content/MyYoutubeDLs/The severity of the pain Joey had gone through was so hard to see him go through this. [6Hi8WlF0LK0].f614.mp4' -i 'file:/content/MyYoutubeDLs/The severity of the pain Joey had gone through was so hard to see him go through this. [6Hi8WlF0LK0].f140.m4a' -c copy -map 0:v:0 -map 1:a:0 -movflags +faststart 'file:/content/MyYoutubeDLs/The severity of the pain Joey had gone through was so hard to see him go through this. [6Hi8WlF0LK0].temp.mp4'\n"
          ]
        },
        {
          "metadata": {
            "tags": null
          },
          "name": "stdout",
          "output_type": "stream",
          "text": [
            "Deleting original file /content/MyYoutubeDLs/The severity of the pain Joey had gone through was so hard to see him go through this. [6Hi8WlF0LK0].f614.mp4 (pass -k to keep)\n",
            "Deleting original file /content/MyYoutubeDLs/The severity of the pain Joey had gone through was so hard to see him go through this. [6Hi8WlF0LK0].f140.m4a (pass -k to keep)\n",
            "-> Success or skipped (due to existing file/error ignored): https://www.youtube.com/shorts/6Hi8WlF0LK0\n",
            "\n",
            "[34/48] Attempting to download: https://www.youtube.com/shorts/Kjq1JqxQBmU\n",
            "[youtube] Extracting URL: https://www.youtube.com/shorts/Kjq1JqxQBmU\n",
            "[youtube] Kjq1JqxQBmU: Downloading webpage\n",
            "[youtube] Kjq1JqxQBmU: Downloading tv client config\n",
            "[youtube] Kjq1JqxQBmU: Downloading tv player API JSON\n",
            "[youtube] Kjq1JqxQBmU: Downloading ios player API JSON\n"
          ]
        },
        {
          "metadata": {
            "tags": null
          },
          "name": "stderr",
          "output_type": "stream",
          "text": [
            "[debug] [youtube] Decrypted nsig zoS4a-ewJTwweTkP => h-FsOyTdCpFdvg\n",
            "[debug] [youtube] Decrypted nsig OtUljBf1l_6Dn4gP => GmIggKHqj2HdbA\n",
            "[debug] [youtube] Kjq1JqxQBmU: ios client https formats require a GVS PO Token which was not provided. They will be skipped as they may yield HTTP Error 403. You can manually pass a GVS PO Token for this client with --extractor-args \"youtube:po_token=ios.gvs+XXX\". For more information, refer to  https://github.com/yt-dlp/yt-dlp/wiki/PO-Token-Guide . To enable these broken formats anyway, pass --extractor-args \"youtube:formats=missing_pot\"\n"
          ]
        },
        {
          "metadata": {
            "tags": null
          },
          "name": "stdout",
          "output_type": "stream",
          "text": [
            "[youtube] Kjq1JqxQBmU: Downloading m3u8 information\n"
          ]
        },
        {
          "metadata": {
            "tags": null
          },
          "name": "stderr",
          "output_type": "stream",
          "text": [
            "[debug] Sort order given by extractor: quality, res, fps, hdr:12, source, vcodec, channels, acodec, lang, proto\n",
            "[debug] Formats sorted by: hasvid, ie_pref, quality, res, fps, hdr:12(7), source, vcodec, channels, acodec, lang, proto, size, br, asr, vext, aext, hasaud, id\n"
          ]
        },
        {
          "metadata": {
            "tags": null
          },
          "name": "stdout",
          "output_type": "stream",
          "text": [
            "[info] Kjq1JqxQBmU: Downloading 1 format(s): 609+140\n"
          ]
        },
        {
          "metadata": {
            "tags": null
          },
          "name": "stderr",
          "output_type": "stream",
          "text": [
            "[debug] Invoking hlsnative downloader on \"https://manifest.googlevideo.com/api/manifest/hls_playlist/expire/1745904437/ei/1Q4QaJW2IMjasfIPovPouAI/ip/34.168.94.101/id/2a3ab526ac500665/itag/609/source/youtube/requiressl/yes/ratebypass/yes/pfa/1/wft/1/sgovp/clen%3D1051660%3Bdur%3D26.733%3Bgir%3Dyes%3Bitag%3D247%3Blmt%3D1683223391459903/rqh/1/hls_chunk_host/rr2---sn-qxo7rn7r.googlevideo.com/xpc/EgVo2aDSNQ%3D%3D/met/1745882837,/mh/pj/mm/31,26/mn/sn-qxo7rn7r,sn-qxoedne7/ms/au,onr/mv/m/mvi/2/pl/18/rms/au,au/initcwndbps/2387500/bui/AecWEAZ2whWGea2Q0N_4qF3hnyYNtUWf1BNdAsic2y2Fyu5t0pbM2PzvUovCB85gmcKsywMNhUj_Ls_x/spc/wk1kZpd7KzUOTlqvknw7n5sF6CIPlkwF3u2g-rpQQz3802UzGsjb8wt3ftSI-FrX_rU/vprv/1/playlist_type/DVR/dover/13/txp/631A224/mt/1745882459/fvip/1/short_key/1/keepalive/yes/sparams/expire,ei,ip,id,itag,source,requiressl,ratebypass,pfa,wft,sgovp,rqh,xpc,bui,spc,vprv,playlist_type/sig/AJfQdSswRAIgbwY7zybCDyt-h8sLvIhQlCmyIJyQ0CdrTpmM1hoRqlICIBcKvkvEHnLtB12qVMSsDy2DMZc5fDiXBbt6z4Djlxrf/lsparams/hls_chunk_host,met,mh,mm,mn,ms,mv,mvi,pl,rms,initcwndbps/lsig/ACuhMU0wRQIgM2U_fkl4Pnedu-a4L02Z5ToMahI4NPXWdb4IoEtG_4UCIQDyOIa3pKjuVlawpR8BeUrw4EE1-1yydyr3KimXFOlHOQ%3D%3D/playlist/index.m3u8\"\n"
          ]
        },
        {
          "metadata": {
            "tags": null
          },
          "name": "stdout",
          "output_type": "stream",
          "text": [
            "[hlsnative] Downloading m3u8 manifest\n",
            "[hlsnative] Total fragments: 6\n",
            "[download] Destination: /content/MyYoutubeDLs/Benzos Why I Never Got them prescribed #benzodiazepines #shorts [Kjq1JqxQBmU].f609.mp4\n",
            "[download] 100% of    1.01MiB in 00:00:02 at 399.40KiB/s             \n"
          ]
        },
        {
          "metadata": {
            "tags": null
          },
          "name": "stderr",
          "output_type": "stream",
          "text": [
            "[debug] Invoking http downloader on \"https://rr2---sn-qxo7rn7r.googlevideo.com/videoplayback?expire=1745904437&ei=1Q4QaOLSGofWsfIP8fjWuQw&ip=34.168.94.101&id=o-AM32SXmcI8NbOlCK14vwA0ektABKmCO0sVR29IAwELiZ&itag=140&source=youtube&requiressl=yes&xpc=EgVo2aDSNQ%3D%3D&met=1745882837%2C&mh=pj&mm=31%2C26&mn=sn-qxo7rn7r%2Csn-qxoedne7&ms=au%2Conr&mv=m&mvi=2&pl=18&rms=au%2Cau&initcwndbps=2387500&bui=AecWEAYnOVl8C9gfxuykOxMFgZJvgqNsfWbZw3xpscrx2D-UGj6fWUfIONw0b0wg281hwH0dSPnZyANt&vprv=1&svpuc=1&mime=audio%2Fmp4&ns=CxEUAZNuxUL-gSqFB5C7t4UQ&rqh=1&gir=yes&clen=433985&dur=26.772&lmt=1683223381043363&mt=1745882459&fvip=1&keepalive=yes&lmw=1&c=TVHTML5&sefc=1&txp=6318224&n=GmIggKHqj2HdbA&sparams=expire%2Cei%2Cip%2Cid%2Citag%2Csource%2Crequiressl%2Cxpc%2Cbui%2Cvprv%2Csvpuc%2Cmime%2Cns%2Crqh%2Cgir%2Cclen%2Cdur%2Clmt&sig=AJfQdSswRgIhAPnhGiq36zyFIO6OzOYdn6OrsGeUMudRdujQ_oYXyKFaAiEAhaEDDVFXQSbKaSMw6mKpBkg7rlXtzOWMlNd64nu4xi8%3D&lsparams=met%2Cmh%2Cmm%2Cmn%2Cms%2Cmv%2Cmvi%2Cpl%2Crms%2Cinitcwndbps&lsig=ACuhMU0wRQIgFcW_EtLH-_NfeK39vMurXFxvwBLzl0fraZpNwFBQCewCIQCoWMSLKxs4B8MZHHEIJfpMol-LDgZyDCxf13HmrlJ9nQ%3D%3D\"\n"
          ]
        },
        {
          "metadata": {
            "tags": null
          },
          "name": "stdout",
          "output_type": "stream",
          "text": [
            "[download] Destination: /content/MyYoutubeDLs/Benzos Why I Never Got them prescribed #benzodiazepines #shorts [Kjq1JqxQBmU].f140.m4a\n",
            "[download] 100% of  423.81KiB in 00:00:01 at 396.39KiB/s \n",
            "[Merger] Merging formats into \"/content/MyYoutubeDLs/Benzos Why I Never Got them prescribed #benzodiazepines #shorts [Kjq1JqxQBmU].mp4\"\n"
          ]
        },
        {
          "metadata": {
            "tags": null
          },
          "name": "stderr",
          "output_type": "stream",
          "text": [
            "[debug] ffmpeg command line: ffmpeg -y -loglevel repeat+info -i 'file:/content/MyYoutubeDLs/Benzos Why I Never Got them prescribed #benzodiazepines #shorts [Kjq1JqxQBmU].f609.mp4' -i 'file:/content/MyYoutubeDLs/Benzos Why I Never Got them prescribed #benzodiazepines #shorts [Kjq1JqxQBmU].f140.m4a' -c copy -map 0:v:0 -map 1:a:0 -movflags +faststart 'file:/content/MyYoutubeDLs/Benzos Why I Never Got them prescribed #benzodiazepines #shorts [Kjq1JqxQBmU].temp.mp4'\n"
          ]
        },
        {
          "metadata": {
            "tags": null
          },
          "name": "stdout",
          "output_type": "stream",
          "text": [
            "Deleting original file /content/MyYoutubeDLs/Benzos Why I Never Got them prescribed #benzodiazepines #shorts [Kjq1JqxQBmU].f140.m4a (pass -k to keep)\n",
            "Deleting original file /content/MyYoutubeDLs/Benzos Why I Never Got them prescribed #benzodiazepines #shorts [Kjq1JqxQBmU].f609.mp4 (pass -k to keep)\n",
            "-> Success or skipped (due to existing file/error ignored): https://www.youtube.com/shorts/Kjq1JqxQBmU\n",
            "\n",
            "[35/48] Attempting to download: https://www.youtube.com/shorts/ogHJ0QdoXMg\n",
            "[youtube] Extracting URL: https://www.youtube.com/shorts/ogHJ0QdoXMg\n",
            "[youtube] ogHJ0QdoXMg: Downloading webpage\n",
            "[youtube] ogHJ0QdoXMg: Downloading tv client config\n",
            "[youtube] ogHJ0QdoXMg: Downloading tv player API JSON\n",
            "[youtube] ogHJ0QdoXMg: Downloading ios player API JSON\n"
          ]
        },
        {
          "metadata": {
            "tags": null
          },
          "name": "stderr",
          "output_type": "stream",
          "text": [
            "[debug] [youtube] Decrypted nsig l-aQKqd7VTeR5-3q => YrQNtdYlL9Zsmg\n",
            "[debug] [youtube] Decrypted nsig 7cZvWn4s1r1KW1fT => D9Kpbho4iBYhbQ\n",
            "[debug] [youtube] ogHJ0QdoXMg: ios client https formats require a GVS PO Token which was not provided. They will be skipped as they may yield HTTP Error 403. You can manually pass a GVS PO Token for this client with --extractor-args \"youtube:po_token=ios.gvs+XXX\". For more information, refer to  https://github.com/yt-dlp/yt-dlp/wiki/PO-Token-Guide . To enable these broken formats anyway, pass --extractor-args \"youtube:formats=missing_pot\"\n"
          ]
        },
        {
          "metadata": {
            "tags": null
          },
          "name": "stdout",
          "output_type": "stream",
          "text": [
            "[youtube] ogHJ0QdoXMg: Downloading m3u8 information\n"
          ]
        },
        {
          "metadata": {
            "tags": null
          },
          "name": "stderr",
          "output_type": "stream",
          "text": [
            "[debug] Sort order given by extractor: quality, res, fps, hdr:12, source, vcodec, channels, acodec, lang, proto\n",
            "[debug] Formats sorted by: hasvid, ie_pref, quality, res, fps, hdr:12(7), source, vcodec, channels, acodec, lang, proto, size, br, asr, vext, aext, hasaud, id\n"
          ]
        },
        {
          "metadata": {
            "tags": null
          },
          "name": "stdout",
          "output_type": "stream",
          "text": [
            "[info] ogHJ0QdoXMg: Downloading 1 format(s): 614+140\n"
          ]
        },
        {
          "metadata": {
            "tags": null
          },
          "name": "stderr",
          "output_type": "stream",
          "text": [
            "[debug] Invoking hlsnative downloader on \"https://manifest.googlevideo.com/api/manifest/hls_playlist/expire/1745904450/ei/4g4QaOTKMcedsfIPz8yvQQ/ip/34.168.94.101/id/a201c9d107685cc8/itag/614/source/youtube/requiressl/yes/ratebypass/yes/pfa/1/wft/1/sgovp/clen%3D12618248%3Bdur%3D58.067%3Bgir%3Dyes%3Bitag%3D248%3Blmt%3D1718989952473827/rqh/1/hls_chunk_host/rr3---sn-qxo7rn7k.googlevideo.com/xpc/EgVo2aDSNQ%3D%3D/met/1745882850,/mh/Lt/mm/31,29/mn/sn-qxo7rn7k,sn-qxoedn7k/ms/au,rdu/mv/m/mvi/3/pl/18/rms/au,au/initcwndbps/2387500/bui/AecWEAZJcInnM8iD-DK3ApSUjsY3w-muZfnoU5ydE3PAqBgns6dDEzyM-2Qw4XoyL7OlQkA3FnO5BTFZ/spc/wk1kZtNW9VZhwZ8QqpZzwzRSg05Y7rt9vJzv0iNqIz4kCyJzVwPTz1d4_bNxAvm7r9Q/vprv/1/playlist_type/DVR/dover/13/txp/630A224/mt/1745882459/fvip/1/short_key/1/keepalive/yes/sparams/expire,ei,ip,id,itag,source,requiressl,ratebypass,pfa,wft,sgovp,rqh,xpc,bui,spc,vprv,playlist_type/sig/AJfQdSswRQIhAPJUU7p0e5Wg_B57lG2N-l4JQtiQ_hwRShugvHCyBP8fAiBzaLD3tw2wWMk53hwceUK2KxLcSQnaq-UQnoWvm53SHg%3D%3D/lsparams/hls_chunk_host,met,mh,mm,mn,ms,mv,mvi,pl,rms,initcwndbps/lsig/ACuhMU0wRQIgGK4prXWNdodLDZRmLcKPwSUrX4q70J_ens2KZA2gr1YCIQCsK4Vip1ydc8nRJiyNkIDamfnMZq2WHZ8U_40hkv4WNg%3D%3D/playlist/index.m3u8\"\n"
          ]
        },
        {
          "metadata": {
            "tags": null
          },
          "name": "stdout",
          "output_type": "stream",
          "text": [
            "[hlsnative] Downloading m3u8 manifest\n",
            "[hlsnative] Total fragments: 11\n",
            "[download] Destination: /content/MyYoutubeDLs/I’ve gotten smarter？？ [ogHJ0QdoXMg].f614.mp4\n",
            "[download] 100% of   12.04MiB in 00:00:25 at 476.77KiB/s               \n"
          ]
        },
        {
          "metadata": {
            "tags": null
          },
          "name": "stderr",
          "output_type": "stream",
          "text": [
            "[debug] Invoking http downloader on \"https://rr1---sn-qxoedn7k.googlevideo.com/videoplayback?expire=1745904450&ei=4g4QaOPdJKXDsfIPxKHzsAw&ip=34.168.94.101&id=o-AJfijcHu3-HKVcSNqj6CgG_I4_5Fe1uUQHa91S8liiEs&itag=140&source=youtube&requiressl=yes&xpc=EgVo2aDSNQ%3D%3D&met=1745882850%2C&mh=Lt&mm=31&mn=sn-qxoedn7k&ms=au&mv=m&mvi=1&pl=18&rms=au%2Cau&initcwndbps=2387500&bui=AecWEAZVghKnybici3n0njXyXYcF_MVuGEcSFl8GTL3KTiUYBe9IBJa7JF4zTLtXHUcIIBjjtjDhwQnD&vprv=1&svpuc=1&mime=audio%2Fmp4&ns=deU5OI76uDgCfALjJM5XaWUQ&rqh=1&gir=yes&clen=941375&dur=58.119&lmt=1718989935721971&mt=1745882459&keepalive=yes&lmw=1&c=TVHTML5&sefc=1&txp=6308224&n=D9Kpbho4iBYhbQ&sparams=expire%2Cei%2Cip%2Cid%2Citag%2Csource%2Crequiressl%2Cxpc%2Cbui%2Cvprv%2Csvpuc%2Cmime%2Cns%2Crqh%2Cgir%2Cclen%2Cdur%2Clmt&sig=AJfQdSswRAIgbxptwNxEUFvtSLeXJW0iIilRIM2zlZ-3-s-FGd3nGTACIB_bgO8E56eSBFu34oos_WzV4Hn84CcbEqkK51d3adHF&lsparams=met%2Cmh%2Cmm%2Cmn%2Cms%2Cmv%2Cmvi%2Cpl%2Crms%2Cinitcwndbps&lsig=ACuhMU0wRgIhANNIJIwxri4IOMzsukVuFbJINZvv-JlWtPbYDepplviBAiEA7N4qCvf7SotDcW563warupVenHRhjxEChGMaODsLRxg%3D\"\n"
          ]
        },
        {
          "metadata": {
            "tags": null
          },
          "name": "stdout",
          "output_type": "stream",
          "text": [
            "[download] Destination: /content/MyYoutubeDLs/I’ve gotten smarter？？ [ogHJ0QdoXMg].f140.m4a\n",
            "[download] 100% of  919.31KiB in 00:00:02 at 438.94KiB/s \n",
            "[Merger] Merging formats into \"/content/MyYoutubeDLs/I’ve gotten smarter？？ [ogHJ0QdoXMg].mp4\"\n"
          ]
        },
        {
          "metadata": {
            "tags": null
          },
          "name": "stderr",
          "output_type": "stream",
          "text": [
            "[debug] ffmpeg command line: ffmpeg -y -loglevel repeat+info -i 'file:/content/MyYoutubeDLs/I’ve gotten smarter？？ [ogHJ0QdoXMg].f614.mp4' -i 'file:/content/MyYoutubeDLs/I’ve gotten smarter？？ [ogHJ0QdoXMg].f140.m4a' -c copy -map 0:v:0 -map 1:a:0 -movflags +faststart 'file:/content/MyYoutubeDLs/I’ve gotten smarter？？ [ogHJ0QdoXMg].temp.mp4'\n"
          ]
        },
        {
          "metadata": {
            "tags": null
          },
          "name": "stdout",
          "output_type": "stream",
          "text": [
            "Deleting original file /content/MyYoutubeDLs/I’ve gotten smarter？？ [ogHJ0QdoXMg].f614.mp4 (pass -k to keep)\n",
            "Deleting original file /content/MyYoutubeDLs/I’ve gotten smarter？？ [ogHJ0QdoXMg].f140.m4a (pass -k to keep)\n",
            "-> Success or skipped (due to existing file/error ignored): https://www.youtube.com/shorts/ogHJ0QdoXMg\n",
            "\n",
            "[36/48] Attempting to download: https://www.youtube.com/shorts/V1SxCSfRL9A\n",
            "[youtube] Extracting URL: https://www.youtube.com/shorts/V1SxCSfRL9A\n",
            "[youtube] V1SxCSfRL9A: Downloading webpage\n",
            "[youtube] V1SxCSfRL9A: Downloading tv client config\n",
            "[youtube] V1SxCSfRL9A: Downloading tv player API JSON\n",
            "[youtube] V1SxCSfRL9A: Downloading ios player API JSON\n"
          ]
        },
        {
          "metadata": {
            "tags": null
          },
          "name": "stderr",
          "output_type": "stream",
          "text": [
            "[debug] [youtube] Decrypted nsig 7AuZcuMqlTRpU2n0 => E4cqjbtA0rhCjg\n",
            "[debug] [youtube] Decrypted nsig LHJx07ZiS_S-aB_v => _EBjmEfD5zwxhA\n",
            "[debug] [youtube] V1SxCSfRL9A: ios client https formats require a GVS PO Token which was not provided. They will be skipped as they may yield HTTP Error 403. You can manually pass a GVS PO Token for this client with --extractor-args \"youtube:po_token=ios.gvs+XXX\". For more information, refer to  https://github.com/yt-dlp/yt-dlp/wiki/PO-Token-Guide . To enable these broken formats anyway, pass --extractor-args \"youtube:formats=missing_pot\"\n"
          ]
        },
        {
          "metadata": {
            "tags": null
          },
          "name": "stdout",
          "output_type": "stream",
          "text": [
            "[youtube] V1SxCSfRL9A: Downloading m3u8 information\n"
          ]
        },
        {
          "metadata": {
            "tags": null
          },
          "name": "stderr",
          "output_type": "stream",
          "text": [
            "[debug] Sort order given by extractor: quality, res, fps, hdr:12, source, vcodec, channels, acodec, lang, proto\n",
            "[debug] Formats sorted by: hasvid, ie_pref, quality, res, fps, hdr:12(7), source, vcodec, channels, acodec, lang, proto, size, br, asr, vext, aext, hasaud, id\n"
          ]
        },
        {
          "metadata": {
            "tags": null
          },
          "name": "stdout",
          "output_type": "stream",
          "text": [
            "[info] V1SxCSfRL9A: Downloading 1 format(s): 614+140\n"
          ]
        },
        {
          "metadata": {
            "tags": null
          },
          "name": "stderr",
          "output_type": "stream",
          "text": [
            "[debug] Invoking hlsnative downloader on \"https://manifest.googlevideo.com/api/manifest/hls_playlist/expire/1745904489/ei/CQ8QaOTZEJeXsfIPlvOOsAI/ip/34.168.94.101/id/5754b10927d12fd0/itag/614/source/youtube/requiressl/yes/ratebypass/yes/pfa/1/wft/1/sgovp/clen%3D7336496%3Bdur%3D55.655%3Bgir%3Dyes%3Bitag%3D248%3Blmt%3D1727881990377859/rqh/1/hls_chunk_host/rr1---sn-qxo7rn7y.googlevideo.com/xpc/EgVo2aDSNQ%3D%3D/met/1745882889,/mh/EM/mm/31,26/mn/sn-qxo7rn7y,sn-qxoedn7k/ms/au,onr/mv/m/mvi/1/pl/18/rms/au,au/initcwndbps/1741250/bui/AecWEAaoIYSRI4zgk0GjGsuNp-cA5N4zg1mA3k9wXSwNo6BA1J48-P-w-qUVoyIIS-jOQqngjYQl03dk/spc/wk1kZloGc_2NPOKER5NtCqGo60v97wR1A-1K0JqRqdgjVQJ4riKX5_xxRoFOzxMHS7E/vprv/1/playlist_type/DVR/dover/13/txp/630A224/mt/1745882696/fvip/4/short_key/1/keepalive/yes/sparams/expire,ei,ip,id,itag,source,requiressl,ratebypass,pfa,wft,sgovp,rqh,xpc,bui,spc,vprv,playlist_type/sig/AJfQdSswRQIgBbTw_kcWM6ffaFGsL97x9E7et7FpEL5WjKJPjz3oMHACIQD_rHexcXwJ_Jl6UPETVNdSGLLenA7Xdb5cOMuwqxMIew%3D%3D/lsparams/hls_chunk_host,met,mh,mm,mn,ms,mv,mvi,pl,rms,initcwndbps/lsig/ACuhMU0wRQIgImVB2N09hrOXFXVrU1GfM2hH70AS9MncgKtEG__ByrwCIQCSvjOh6vWrQ-FYfWhSBMdh2wMjoNvnWMMG8Cren7Rzxw%3D%3D/playlist/index.m3u8\"\n"
          ]
        },
        {
          "output_type": "stream",
          "name": "stdout",
          "text": [
            "[hlsnative] Downloading m3u8 manifest\n",
            "[hlsnative] Total fragments: 11\n",
            "[download] Destination: /content/MyYoutubeDLs/Did you know about the black box warning before starting an antidepressant？ [V1SxCSfRL9A].f614.mp4\n",
            "[download] 100% of    7.01MiB in 00:00:14 at 488.18KiB/s               \n"
          ]
        },
        {
          "output_type": "stream",
          "name": "stderr",
          "text": [
            "[debug] Invoking http downloader on \"https://rr4---sn-qxoedn7k.googlevideo.com/videoplayback?expire=1745904489&ei=CQ8QaLzWCaORsfIPocKE-Q4&ip=34.168.94.101&id=o-AFYCkgVuhbkdCkY_GJav56DNEXPoXbVg0Q4UBaXNJXz8&itag=140&source=youtube&requiressl=yes&xpc=EgVo2aDSNQ%3D%3D&met=1745882889%2C&mh=EM&mm=31&mn=sn-qxoedn7k&ms=au&mv=m&mvi=4&pl=18&rms=au%2Cau&initcwndbps=2387500&bui=AecWEAbOOocyqamQqg8U-wfI3GJF88iBeqYLaf0slfTupKWIKSoTxyVsQ4VAtZrmE6NJZMNfkpiI_TNd&vprv=1&svpuc=1&mime=audio%2Fmp4&ns=NGVNC6hbyMGY8N0jXzvFbSMQ&rqh=1&gir=yes&clen=902412&dur=55.704&lmt=1727881986083003&mt=1745882459&keepalive=yes&lmw=1&c=TVHTML5&sefc=1&txp=6318224&n=_EBjmEfD5zwxhA&sparams=expire%2Cei%2Cip%2Cid%2Citag%2Csource%2Crequiressl%2Cxpc%2Cbui%2Cvprv%2Csvpuc%2Cmime%2Cns%2Crqh%2Cgir%2Cclen%2Cdur%2Clmt&sig=AJfQdSswRgIhAI0-5GMvq_UQTGdOteIT4-0rosv4CRw1qxNZAzOyEsc4AiEA6b0T19_bfg-LV_dMpanYNvTgHjdDtdgSIQhAlcm-d9E%3D&lsparams=met%2Cmh%2Cmm%2Cmn%2Cms%2Cmv%2Cmvi%2Cpl%2Crms%2Cinitcwndbps&lsig=ACuhMU0wRAIgQRCWSPEMGPeCzs8LZ3-Ait48MR__eptyqdJKhdUl6ckCIAjuPSl3NTH4G1hijB9Z-C_VyYDrLu-vnQgTg2J8Q8tS\"\n"
          ]
        },
        {
          "output_type": "stream",
          "name": "stdout",
          "text": [
            "[download] Destination: /content/MyYoutubeDLs/Did you know about the black box warning before starting an antidepressant？ [V1SxCSfRL9A].f140.m4a\n",
            "[download] 100% of  881.26KiB in 00:00:02 at 415.52KiB/s \n",
            "[Merger] Merging formats into \"/content/MyYoutubeDLs/Did you know about the black box warning before starting an antidepressant？ [V1SxCSfRL9A].mp4\"\n"
          ]
        },
        {
          "output_type": "stream",
          "name": "stderr",
          "text": [
            "[debug] ffmpeg command line: ffmpeg -y -loglevel repeat+info -i 'file:/content/MyYoutubeDLs/Did you know about the black box warning before starting an antidepressant？ [V1SxCSfRL9A].f614.mp4' -i 'file:/content/MyYoutubeDLs/Did you know about the black box warning before starting an antidepressant？ [V1SxCSfRL9A].f140.m4a' -c copy -map 0:v:0 -map 1:a:0 -movflags +faststart 'file:/content/MyYoutubeDLs/Did you know about the black box warning before starting an antidepressant？ [V1SxCSfRL9A].temp.mp4'\n"
          ]
        },
        {
          "output_type": "stream",
          "name": "stdout",
          "text": [
            "Deleting original file /content/MyYoutubeDLs/Did you know about the black box warning before starting an antidepressant？ [V1SxCSfRL9A].f140.m4a (pass -k to keep)\n",
            "Deleting original file /content/MyYoutubeDLs/Did you know about the black box warning before starting an antidepressant？ [V1SxCSfRL9A].f614.mp4 (pass -k to keep)\n",
            "-> Success or skipped (due to existing file/error ignored): https://www.youtube.com/shorts/V1SxCSfRL9A\n",
            "\n",
            "[37/48] Attempting to download: https://www.youtube.com/shorts/FTQElJQcfrQ\n",
            "[youtube] Extracting URL: https://www.youtube.com/shorts/FTQElJQcfrQ\n",
            "[youtube] FTQElJQcfrQ: Downloading webpage\n",
            "[youtube] FTQElJQcfrQ: Downloading tv client config\n",
            "[youtube] FTQElJQcfrQ: Downloading tv player API JSON\n",
            "[youtube] FTQElJQcfrQ: Downloading ios player API JSON\n"
          ]
        },
        {
          "output_type": "stream",
          "name": "stderr",
          "text": [
            "[debug] [youtube] Decrypted nsig RmxJf0qlAj-hiRT0 => fAXHNL6YVeMCKw\n",
            "[debug] [youtube] Decrypted nsig yQZba7Cjn_kFKt6u => vp3heaHmOVYwHA\n",
            "[debug] [youtube] FTQElJQcfrQ: ios client https formats require a GVS PO Token which was not provided. They will be skipped as they may yield HTTP Error 403. You can manually pass a GVS PO Token for this client with --extractor-args \"youtube:po_token=ios.gvs+XXX\". For more information, refer to  https://github.com/yt-dlp/yt-dlp/wiki/PO-Token-Guide . To enable these broken formats anyway, pass --extractor-args \"youtube:formats=missing_pot\"\n"
          ]
        },
        {
          "output_type": "stream",
          "name": "stdout",
          "text": [
            "[youtube] FTQElJQcfrQ: Downloading m3u8 information\n"
          ]
        },
        {
          "output_type": "stream",
          "name": "stderr",
          "text": [
            "[debug] Sort order given by extractor: quality, res, fps, hdr:12, source, vcodec, channels, acodec, lang, proto\n",
            "[debug] Formats sorted by: hasvid, ie_pref, quality, res, fps, hdr:12(7), source, vcodec, channels, acodec, lang, proto, size, br, asr, vext, aext, hasaud, id\n"
          ]
        },
        {
          "output_type": "stream",
          "name": "stdout",
          "text": [
            "[info] FTQElJQcfrQ: Downloading 1 format(s): 614+140\n"
          ]
        },
        {
          "output_type": "stream",
          "name": "stderr",
          "text": [
            "[debug] Invoking hlsnative downloader on \"https://manifest.googlevideo.com/api/manifest/hls_playlist/expire/1745904515/ei/Iw8QaIGwNsL7sfIPpfWqoQI/ip/34.168.94.101/id/15340494941c7eb4/itag/614/source/youtube/requiressl/yes/ratebypass/yes/pfa/1/wft/1/sgovp/clen%3D11881042%3Bdur%3D49.783%3Bgir%3Dyes%3Bitag%3D248%3Blmt%3D1719414302375734/rqh/1/hls_chunk_host/rr2---sn-qxoedne7.googlevideo.com/xpc/EgVo2aDSNQ%3D%3D/met/1745882915,/mh/fS/mm/31/mn/sn-qxoedne7/ms/au/mv/m/mvi/2/pl/18/rms/au,au/initcwndbps/2387500/bui/AecWEAZ14kQfsCS5HJ6zcf6FzXA-zkkmJke0mKAxuZjlBSpeMgIGnxydmr6--7Dcou2L4KZ_NigbJGjV/spc/wk1kZrCiIEUsap1BMVK1zjGpJWDcU4M_LYlUO-XuJ5vf956PUeBf_QraDc9yB5yK8iE/vprv/1/playlist_type/DVR/dover/13/txp/630A224/mt/1745882459/short_key/1/keepalive/yes/sparams/expire,ei,ip,id,itag,source,requiressl,ratebypass,pfa,wft,sgovp,rqh,xpc,bui,spc,vprv,playlist_type/sig/AJfQdSswRgIhAMHnIKaVe0CvljomGLFtb3sbjElyrbBb0PAeQm_uobddAiEArroRI1Dzxz4p2sD0QHq6XA_nYHCSEJUDnMl-pn8UVMg%3D/lsparams/hls_chunk_host,met,mh,mm,mn,ms,mv,mvi,pl,rms,initcwndbps/lsig/ACuhMU0wRQIgCFvFmAvfbpa-iNHApuq4dqRzUJ0mLbb_Smg_LffFCdICIQD93acjORxFHEcfS7pp49ohG_qD77UPdQuH5rCPf8LgcQ%3D%3D/playlist/index.m3u8\"\n"
          ]
        },
        {
          "output_type": "stream",
          "name": "stdout",
          "text": [
            "[hlsnative] Downloading m3u8 manifest\n",
            "[hlsnative] Total fragments: 10\n",
            "[download] Destination: /content/MyYoutubeDLs/His Life Would Have Been Awful #accutane #mentalhealth #psychmeds [FTQElJQcfrQ].f614.mp4\n",
            "[download] 100% of   11.34MiB in 00:00:23 at 492.57KiB/s               \n"
          ]
        },
        {
          "output_type": "stream",
          "name": "stderr",
          "text": [
            "[debug] Invoking http downloader on \"https://rr2---sn-qxoedne7.googlevideo.com/videoplayback?expire=1745904515&ei=Iw8QaMPrL5e9sfIP_7el-Qg&ip=34.168.94.101&id=o-APYMy04QAHjQfDHdJAyaJbNRfj1xaWgTsYmG77o0jhQF&itag=140&source=youtube&requiressl=yes&xpc=EgVo2aDSNQ%3D%3D&met=1745882915%2C&mh=fS&mm=31&mn=sn-qxoedne7&ms=au&mv=m&mvi=2&pl=18&rms=au%2Cau&initcwndbps=2387500&bui=AecWEAamqC2x_VUs2wOcSWb1jQ5MVbgyLtGiRPxr6DSXVPmen96XuK0yiCULjhvfKt6paiBwyP1BBDW-&vprv=1&svpuc=1&mime=audio%2Fmp4&ns=Eh5AUxky-4gmVdM_xKGzrRUQ&rqh=1&gir=yes&clen=807199&dur=49.830&lmt=1719414298354284&mt=1745882459&keepalive=yes&lmw=1&c=TVHTML5&sefc=1&txp=6308224&n=vp3heaHmOVYwHA&sparams=expire%2Cei%2Cip%2Cid%2Citag%2Csource%2Crequiressl%2Cxpc%2Cbui%2Cvprv%2Csvpuc%2Cmime%2Cns%2Crqh%2Cgir%2Cclen%2Cdur%2Clmt&sig=AJfQdSswRQIgNZC6YL4YacOwmQ3gTmF0MvXTujXHzJW_WupUek9yOUICIQDO7YqVzeQiyIaiQWMn_mbTovD6nlYEgBIGVqDE91yKLA%3D%3D&lsparams=met%2Cmh%2Cmm%2Cmn%2Cms%2Cmv%2Cmvi%2Cpl%2Crms%2Cinitcwndbps&lsig=ACuhMU0wRQIhANpRrN2Y6pBgOmGK81HqYe-K-jdLCRRPzm487HBTGtizAiBQMPInAoDYbjXhm9a7rcIPv8s2_HkJqXq1fXq_OxH5bg%3D%3D\"\n"
          ]
        },
        {
          "output_type": "stream",
          "name": "stdout",
          "text": [
            "[download] Destination: /content/MyYoutubeDLs/His Life Would Have Been Awful #accutane #mentalhealth #psychmeds [FTQElJQcfrQ].f140.m4a\n",
            "[download] 100% of  788.28KiB in 00:00:01 at 425.39KiB/s \n",
            "[Merger] Merging formats into \"/content/MyYoutubeDLs/His Life Would Have Been Awful #accutane #mentalhealth #psychmeds [FTQElJQcfrQ].mp4\"\n"
          ]
        },
        {
          "output_type": "stream",
          "name": "stderr",
          "text": [
            "[debug] ffmpeg command line: ffmpeg -y -loglevel repeat+info -i 'file:/content/MyYoutubeDLs/His Life Would Have Been Awful #accutane #mentalhealth #psychmeds [FTQElJQcfrQ].f614.mp4' -i 'file:/content/MyYoutubeDLs/His Life Would Have Been Awful #accutane #mentalhealth #psychmeds [FTQElJQcfrQ].f140.m4a' -c copy -map 0:v:0 -map 1:a:0 -movflags +faststart 'file:/content/MyYoutubeDLs/His Life Would Have Been Awful #accutane #mentalhealth #psychmeds [FTQElJQcfrQ].temp.mp4'\n"
          ]
        },
        {
          "output_type": "stream",
          "name": "stdout",
          "text": [
            "Deleting original file /content/MyYoutubeDLs/His Life Would Have Been Awful #accutane #mentalhealth #psychmeds [FTQElJQcfrQ].f614.mp4 (pass -k to keep)\n",
            "Deleting original file /content/MyYoutubeDLs/His Life Would Have Been Awful #accutane #mentalhealth #psychmeds [FTQElJQcfrQ].f140.m4a (pass -k to keep)\n",
            "-> Success or skipped (due to existing file/error ignored): https://www.youtube.com/shorts/FTQElJQcfrQ\n",
            "\n",
            "[38/48] Attempting to download: https://www.youtube.com/shorts/XHEwNCds79U\n",
            "[youtube] Extracting URL: https://www.youtube.com/shorts/XHEwNCds79U\n",
            "[youtube] XHEwNCds79U: Downloading webpage\n",
            "[youtube] XHEwNCds79U: Downloading tv client config\n",
            "[youtube] XHEwNCds79U: Downloading tv player API JSON\n",
            "[youtube] XHEwNCds79U: Downloading ios player API JSON\n"
          ]
        },
        {
          "output_type": "stream",
          "name": "stderr",
          "text": [
            "[debug] [youtube] Decrypted nsig PLEJPzbFW_PvpxK_ => zjGz3bFPZKrZxA\n",
            "[debug] [youtube] Decrypted nsig uqiZ4HDzC_9zclvF => nwBnP19Kpb53HA\n",
            "[debug] [youtube] XHEwNCds79U: ios client https formats require a GVS PO Token which was not provided. They will be skipped as they may yield HTTP Error 403. You can manually pass a GVS PO Token for this client with --extractor-args \"youtube:po_token=ios.gvs+XXX\". For more information, refer to  https://github.com/yt-dlp/yt-dlp/wiki/PO-Token-Guide . To enable these broken formats anyway, pass --extractor-args \"youtube:formats=missing_pot\"\n"
          ]
        },
        {
          "output_type": "stream",
          "name": "stdout",
          "text": [
            "[youtube] XHEwNCds79U: Downloading m3u8 information\n"
          ]
        },
        {
          "output_type": "stream",
          "name": "stderr",
          "text": [
            "[debug] Sort order given by extractor: quality, res, fps, hdr:12, source, vcodec, channels, acodec, lang, proto\n",
            "[debug] Formats sorted by: hasvid, ie_pref, quality, res, fps, hdr:12(7), source, vcodec, channels, acodec, lang, proto, size, br, asr, vext, aext, hasaud, id\n"
          ]
        },
        {
          "output_type": "stream",
          "name": "stdout",
          "text": [
            "[info] XHEwNCds79U: Downloading 1 format(s): 401+140\n"
          ]
        },
        {
          "output_type": "stream",
          "name": "stderr",
          "text": [
            "[debug] Invoking http downloader on \"https://rr2---sn-qxo7rn7y.googlevideo.com/videoplayback?expire=1745904551&ei=Rg8QaK_ROpbzsfIPs8LBSQ&ip=34.168.94.101&id=o-AKd8ze02PRPWcAx4twYFAZqC0vlZyIXc6rsN6f61ec8m&itag=401&aitags=133%2C134%2C135%2C136%2C137%2C160%2C242%2C243%2C247%2C248%2C271%2C313%2C394%2C395%2C396%2C397%2C398%2C399%2C400%2C401%2C779%2C780&source=youtube&requiressl=yes&xpc=EgVo2aDSNQ%3D%3D&met=1745882951%2C&mh=KW&mm=31%2C26&mn=sn-qxo7rn7y%2Csn-qxoednee&ms=au%2Conr&mv=m&mvi=2&pl=18&rms=au%2Cau&initcwndbps=2387500&bui=AecWEAa3OOEuXkFJYd6oIWX3akKgl4jShu7G1S-as-_yf-NZr7dYtb-4le0vdhxxg6VDH6Nk4QmHa3Jf&vprv=1&svpuc=1&mime=video%2Fmp4&ns=ILIdier63f-bYpu4JTjBqcwQ&rqh=1&gir=yes&clen=93924568&dur=101.299&lmt=1732327925275589&mt=1745882459&fvip=1&keepalive=yes&lmw=1&c=TVHTML5&sefc=1&txp=543C434&n=nwBnP19Kpb53HA&sparams=expire%2Cei%2Cip%2Cid%2Caitags%2Csource%2Crequiressl%2Cxpc%2Cbui%2Cvprv%2Csvpuc%2Cmime%2Cns%2Crqh%2Cgir%2Cclen%2Cdur%2Clmt&sig=AJfQdSswRgIhAMWMf8xr-t31D_28ceB3wWe0DSUcv14prNHMcuUUBbsaAiEAimnS7aQ2l5Lkw4YWQ26Ye0HgtE6rydWcL5SaI42Y3Fc%3D&lsparams=met%2Cmh%2Cmm%2Cmn%2Cms%2Cmv%2Cmvi%2Cpl%2Crms%2Cinitcwndbps&lsig=ACuhMU0wRgIhAPeBXrW-91u3qg9UJn8-OyWaato89EtmysH12EabBaLiAiEA2zxn4VWcpUzBhtDwo7xPAB9rMKLYuRbxbnXyGI8to04%3D\"\n"
          ]
        },
        {
          "output_type": "stream",
          "name": "stdout",
          "text": [
            "[download] Destination: /content/MyYoutubeDLs/How I Got Off Psych Meds in 10 Months [XHEwNCds79U].f401.mp4\n",
            "[download] 100% of   89.57MiB in 00:02:59 at 510.66KiB/s \n"
          ]
        },
        {
          "output_type": "stream",
          "name": "stderr",
          "text": [
            "[debug] Invoking http downloader on \"https://rr2---sn-qxo7rn7y.googlevideo.com/videoplayback?expire=1745904551&ei=Rg8QaK_ROpbzsfIPs8LBSQ&ip=34.168.94.101&id=o-AKd8ze02PRPWcAx4twYFAZqC0vlZyIXc6rsN6f61ec8m&itag=140&source=youtube&requiressl=yes&xpc=EgVo2aDSNQ%3D%3D&met=1745882951%2C&mh=KW&mm=31%2C26&mn=sn-qxo7rn7y%2Csn-qxoednee&ms=au%2Conr&mv=m&mvi=2&pl=18&rms=au%2Cau&initcwndbps=2387500&bui=AecWEAa3OOEuXkFJYd6oIWX3akKgl4jShu7G1S-as-_yf-NZr7dYtb-4le0vdhxxg6VDH6Nk4QmHa3Jf&vprv=1&svpuc=1&mime=audio%2Fmp4&ns=ILIdier63f-bYpu4JTjBqcwQ&rqh=1&gir=yes&clen=1641172&dur=101.355&lmt=1732323338977383&mt=1745882459&fvip=1&keepalive=yes&lmw=1&c=TVHTML5&sefc=1&txp=5432434&n=nwBnP19Kpb53HA&sparams=expire%2Cei%2Cip%2Cid%2Citag%2Csource%2Crequiressl%2Cxpc%2Cbui%2Cvprv%2Csvpuc%2Cmime%2Cns%2Crqh%2Cgir%2Cclen%2Cdur%2Clmt&sig=AJfQdSswRgIhAJkwoeqzvWciSydeBut-XYaQ1wpDzBySedsQDtEBusOSAiEAoZgwNHLDShEiTArdmZSYbBSc1AHUoPpyVB5REUxXzOg%3D&lsparams=met%2Cmh%2Cmm%2Cmn%2Cms%2Cmv%2Cmvi%2Cpl%2Crms%2Cinitcwndbps&lsig=ACuhMU0wRgIhAPeBXrW-91u3qg9UJn8-OyWaato89EtmysH12EabBaLiAiEA2zxn4VWcpUzBhtDwo7xPAB9rMKLYuRbxbnXyGI8to04%3D\"\n"
          ]
        },
        {
          "output_type": "stream",
          "name": "stdout",
          "text": [
            "[download] Destination: /content/MyYoutubeDLs/How I Got Off Psych Meds in 10 Months [XHEwNCds79U].f140.m4a\n",
            "[download] 100% of    1.57MiB in 00:00:03 at 455.37KiB/s \n",
            "[Merger] Merging formats into \"/content/MyYoutubeDLs/How I Got Off Psych Meds in 10 Months [XHEwNCds79U].mp4\"\n"
          ]
        },
        {
          "output_type": "stream",
          "name": "stderr",
          "text": [
            "[debug] ffmpeg command line: ffmpeg -y -loglevel repeat+info -i 'file:/content/MyYoutubeDLs/How I Got Off Psych Meds in 10 Months [XHEwNCds79U].f401.mp4' -i 'file:/content/MyYoutubeDLs/How I Got Off Psych Meds in 10 Months [XHEwNCds79U].f140.m4a' -c copy -map 0:v:0 -map 1:a:0 -movflags +faststart 'file:/content/MyYoutubeDLs/How I Got Off Psych Meds in 10 Months [XHEwNCds79U].temp.mp4'\n"
          ]
        },
        {
          "output_type": "stream",
          "name": "stdout",
          "text": [
            "Deleting original file /content/MyYoutubeDLs/How I Got Off Psych Meds in 10 Months [XHEwNCds79U].f401.mp4 (pass -k to keep)\n",
            "Deleting original file /content/MyYoutubeDLs/How I Got Off Psych Meds in 10 Months [XHEwNCds79U].f140.m4a (pass -k to keep)\n",
            "-> Success or skipped (due to existing file/error ignored): https://www.youtube.com/shorts/XHEwNCds79U\n",
            "\n",
            "[39/48] Attempting to download: https://www.youtube.com/shorts/US8Bd1wbraI\n",
            "[youtube] Extracting URL: https://www.youtube.com/shorts/US8Bd1wbraI\n",
            "[youtube] US8Bd1wbraI: Downloading webpage\n",
            "[youtube] US8Bd1wbraI: Downloading tv client config\n",
            "[youtube] US8Bd1wbraI: Downloading tv player API JSON\n",
            "[youtube] US8Bd1wbraI: Downloading ios player API JSON\n"
          ]
        },
        {
          "output_type": "stream",
          "name": "stderr",
          "text": [
            "[debug] [youtube] Decrypted nsig UVW1e1BdzjXGB1rv => DqCPSEgHtdVxSw\n",
            "[debug] [youtube] Decrypted nsig ecA4GoyAwr_MOzg2 => B9kANihQzVnELQ\n",
            "[debug] [youtube] US8Bd1wbraI: ios client https formats require a GVS PO Token which was not provided. They will be skipped as they may yield HTTP Error 403. You can manually pass a GVS PO Token for this client with --extractor-args \"youtube:po_token=ios.gvs+XXX\". For more information, refer to  https://github.com/yt-dlp/yt-dlp/wiki/PO-Token-Guide . To enable these broken formats anyway, pass --extractor-args \"youtube:formats=missing_pot\"\n"
          ]
        },
        {
          "output_type": "stream",
          "name": "stdout",
          "text": [
            "[youtube] US8Bd1wbraI: Downloading m3u8 information\n"
          ]
        },
        {
          "output_type": "stream",
          "name": "stderr",
          "text": [
            "[debug] Sort order given by extractor: quality, res, fps, hdr:12, source, vcodec, channels, acodec, lang, proto\n",
            "[debug] Formats sorted by: hasvid, ie_pref, quality, res, fps, hdr:12(7), source, vcodec, channels, acodec, lang, proto, size, br, asr, vext, aext, hasaud, id\n"
          ]
        },
        {
          "output_type": "stream",
          "name": "stdout",
          "text": [
            "[info] US8Bd1wbraI: Downloading 1 format(s): 614+140\n"
          ]
        },
        {
          "output_type": "stream",
          "name": "stderr",
          "text": [
            "[debug] Invoking hlsnative downloader on \"https://manifest.googlevideo.com/api/manifest/hls_playlist/expire/1745904744/ei/CBAQaNqeD5POsfIP5eTK8A8/ip/34.168.94.101/id/512f01775c1bada2/itag/614/source/youtube/requiressl/yes/ratebypass/yes/pfa/1/wft/1/sgovp/clen%3D8819121%3Bdur%3D59.500%3Bgir%3Dyes%3Bitag%3D248%3Blmt%3D1713039376533307/rqh/1/hls_chunk_host/rr2---sn-qxoedne7.googlevideo.com/xpc/EgVo2aDSNQ%3D%3D/met/1745883144,/mh/_m/mm/31,29/mn/sn-qxoedne7,sn-qxo7rn7r/ms/au,rdu/mv/m/mvi/2/pl/18/rms/au,au/initcwndbps/3878750/bui/AecWEAb1yAV9J8B_2SU8SZtgfplb5SCtNAaW4Ajmc_pJBysftyzaaeKUGJ356tml1i8ueZ5ckzj2Dg54/spc/wk1kZk9UxvklTCS-Qb2jXYnkbYtqCeZQ038H4RCyIbttcnLi82dsx7rdOHoMF3mN-vs/vprv/1/playlist_type/DVR/dover/13/txp/630A224/mt/1745882934/fvip/3/short_key/1/keepalive/yes/sparams/expire,ei,ip,id,itag,source,requiressl,ratebypass,pfa,wft,sgovp,rqh,xpc,bui,spc,vprv,playlist_type/sig/AJfQdSswRgIhAO69EcTO5ThQkh8SvEkU4HLhZxAZZwE8TIUtz8jmEI52AiEAiWBRxfnSFhfeMlsRJRXyV6fzci9ytTIz7J4IsJ2AwlM%3D/lsparams/hls_chunk_host,met,mh,mm,mn,ms,mv,mvi,pl,rms,initcwndbps/lsig/ACuhMU0wRgIhANe7Qd-ys-dvcVPHmN1iWSPhMm8LER-w0VCVd_Id0rd1AiEAhZxuoJym2JmkgqXzsflHFfEN0r5l6gbHprj3Vm6jWKc%3D/playlist/index.m3u8\"\n"
          ]
        },
        {
          "output_type": "stream",
          "name": "stdout",
          "text": [
            "[hlsnative] Downloading m3u8 manifest\n",
            "[hlsnative] Total fragments: 10\n",
            "[download] Destination: /content/MyYoutubeDLs/What antidepressants do to your brain [US8Bd1wbraI].f614.mp4\n",
            "[download] 100% of    8.42MiB in 00:00:17 at 482.90KiB/s               \n"
          ]
        },
        {
          "output_type": "stream",
          "name": "stderr",
          "text": [
            "[debug] Invoking http downloader on \"https://rr3---sn-qxo7rn7r.googlevideo.com/videoplayback?expire=1745904744&ei=CBAQaNjQCLupsfIPmM2lgAM&ip=34.168.94.101&id=o-AFCExiJKSEuDKewTbSGyp8VLgW6fn392-ycjxqDnSJnf&itag=140&source=youtube&requiressl=yes&xpc=EgVo2aDSNQ%3D%3D&met=1745883144%2C&mh=_m&mm=31%2C26&mn=sn-qxo7rn7r%2Csn-a5meknzl&ms=au%2Conr&mv=m&mvi=3&pl=18&rms=au%2Cau&initcwndbps=1741250&bui=AecWEAZcEMeIZWJQTyS3ZbeTswo05UcpCsRds8JlBZjWScyM-RezQ-hQhJkhS9oE-2tNfxDcovMVD_DR&vprv=1&svpuc=1&mime=audio%2Fmp4&ns=7ix8vRSyK93uOXsMtkE0jjsQ&rqh=1&gir=yes&clen=964566&dur=59.559&lmt=1713039364627793&mt=1745882696&fvip=5&keepalive=yes&lmw=1&c=TVHTML5&sefc=1&txp=6308224&n=B9kANihQzVnELQ&sparams=expire%2Cei%2Cip%2Cid%2Citag%2Csource%2Crequiressl%2Cxpc%2Cbui%2Cvprv%2Csvpuc%2Cmime%2Cns%2Crqh%2Cgir%2Cclen%2Cdur%2Clmt&sig=AJfQdSswRQIgJxxLIjkD1G1yn2ef3di744L-ce9PO-moaYWoOrwPu_cCIQCaJa9WHxALLkaY0CoxKxM-8vvxytlunAz5AS2ZZmrUaw%3D%3D&lsparams=met%2Cmh%2Cmm%2Cmn%2Cms%2Cmv%2Cmvi%2Cpl%2Crms%2Cinitcwndbps&lsig=ACuhMU0wRQIhAOhCgHM38W3rxRL7Y3nv2QOKvc7m--CeUiir3JxOyYDfAiANNckiE6FprEtGxLE3TTPs-YLPkkfDUSAZbLaQkDN_1A%3D%3D\"\n"
          ]
        },
        {
          "output_type": "stream",
          "name": "stdout",
          "text": [
            "[download] Destination: /content/MyYoutubeDLs/What antidepressants do to your brain [US8Bd1wbraI].f140.m4a\n",
            "[download] 100% of  941.96KiB in 00:00:02 at 426.20KiB/s \n",
            "[Merger] Merging formats into \"/content/MyYoutubeDLs/What antidepressants do to your brain [US8Bd1wbraI].mp4\"\n"
          ]
        },
        {
          "output_type": "stream",
          "name": "stderr",
          "text": [
            "[debug] ffmpeg command line: ffmpeg -y -loglevel repeat+info -i 'file:/content/MyYoutubeDLs/What antidepressants do to your brain [US8Bd1wbraI].f614.mp4' -i 'file:/content/MyYoutubeDLs/What antidepressants do to your brain [US8Bd1wbraI].f140.m4a' -c copy -map 0:v:0 -map 1:a:0 -movflags +faststart 'file:/content/MyYoutubeDLs/What antidepressants do to your brain [US8Bd1wbraI].temp.mp4'\n"
          ]
        },
        {
          "output_type": "stream",
          "name": "stdout",
          "text": [
            "Deleting original file /content/MyYoutubeDLs/What antidepressants do to your brain [US8Bd1wbraI].f140.m4a (pass -k to keep)\n",
            "Deleting original file /content/MyYoutubeDLs/What antidepressants do to your brain [US8Bd1wbraI].f614.mp4 (pass -k to keep)\n",
            "-> Success or skipped (due to existing file/error ignored): https://www.youtube.com/shorts/US8Bd1wbraI\n",
            "\n",
            "[40/48] Attempting to download: https://www.youtube.com/watch?v=byFP0lZSdR4\n",
            "[youtube] Extracting URL: https://www.youtube.com/watch?v=byFP0lZSdR4\n",
            "[youtube] byFP0lZSdR4: Downloading webpage\n",
            "[youtube] byFP0lZSdR4: Downloading tv client config\n",
            "[youtube] byFP0lZSdR4: Downloading tv player API JSON\n",
            "[youtube] byFP0lZSdR4: Downloading ios player API JSON\n"
          ]
        },
        {
          "output_type": "stream",
          "name": "stderr",
          "text": [
            "[debug] [youtube] Decrypted nsig gBsVfHQeWTBpAevN => UWGW-d6pRufbAg\n",
            "[debug] [youtube] Decrypted nsig 6Dlu5g_t8_Ga1yaw => AbEHQA1bjc8yfA\n",
            "[debug] [youtube] byFP0lZSdR4: ios client https formats require a GVS PO Token which was not provided. They will be skipped as they may yield HTTP Error 403. You can manually pass a GVS PO Token for this client with --extractor-args \"youtube:po_token=ios.gvs+XXX\". For more information, refer to  https://github.com/yt-dlp/yt-dlp/wiki/PO-Token-Guide . To enable these broken formats anyway, pass --extractor-args \"youtube:formats=missing_pot\"\n"
          ]
        },
        {
          "output_type": "stream",
          "name": "stdout",
          "text": [
            "[youtube] byFP0lZSdR4: Downloading m3u8 information\n"
          ]
        },
        {
          "output_type": "stream",
          "name": "stderr",
          "text": [
            "[debug] Sort order given by extractor: quality, res, fps, hdr:12, source, vcodec, channels, acodec, lang, proto\n",
            "[debug] Formats sorted by: hasvid, ie_pref, quality, res, fps, hdr:12(7), source, vcodec, channels, acodec, lang, proto, size, br, asr, vext, aext, hasaud, id\n"
          ]
        },
        {
          "output_type": "stream",
          "name": "stdout",
          "text": [
            "[info] byFP0lZSdR4: Downloading 1 format(s): 606+140\n"
          ]
        },
        {
          "output_type": "stream",
          "name": "stderr",
          "text": [
            "[debug] Invoking hlsnative downloader on \"https://manifest.googlevideo.com/api/manifest/hls_playlist/expire/1745904774/ei/JhAQaKyYHNeSsfIP4ZHegA8/ip/34.168.94.101/id/6f214fd25652751e/itag/606/source/youtube/requiressl/yes/ratebypass/yes/pfa/1/wft/1/sgovp/clen%3D1725783%3Bdur%3D25.858%3Bgir%3Dyes%3Bitag%3D244%3Blmt%3D1745447549592591/rqh/1/hls_chunk_host/rr5---sn-qxoedne7.googlevideo.com/xpc/EgVo2aDSNQ%3D%3D/met/1745883174,/mh/1U/mm/31,29/mn/sn-qxoedne7,sn-qxo7rn7y/ms/au,rdu/mv/m/mvi/5/pl/18/rms/au,au/initcwndbps/1741250/bui/AecWEAa1gwwekW7F3_N7Jq745-21kpDJ1JWvRecWOhfTtcP0QsX3IZzjtdMN3_Fnd8nJD7NaPd_zfssn/spc/wk1kZq75d06y0Q84E7VRSdE8bdrBRRS0A1nIUnRma4pqxq6vXhWpuceUUXr0103RG34/vprv/1/playlist_type/DVR/dover/13/txp/530F224/mt/1745882696/fvip/1/short_key/1/keepalive/yes/sparams/expire,ei,ip,id,itag,source,requiressl,ratebypass,pfa,wft,sgovp,rqh,xpc,bui,spc,vprv,playlist_type/sig/AJfQdSswRQIhAID9tgRZMl74B62ovHm52ASRCxiWJiQQ55ucbW442lGJAiBJv_Z7V-CaajdOX0OvQItQBa0UgWfLMjZ_Jzz7tWX2Vg%3D%3D/lsparams/hls_chunk_host,met,mh,mm,mn,ms,mv,mvi,pl,rms,initcwndbps/lsig/ACuhMU0wRgIhAMybH6dEGWL0UmFSaki0wW-T4bYxM0QxzlfKcJz9o4DeAiEA4Fsk9U_cBqnwfBnTl2q3p-67Sn2fkTbItnzbKJGms5k%3D/playlist/index.m3u8\"\n"
          ]
        },
        {
          "output_type": "stream",
          "name": "stdout",
          "text": [
            "[hlsnative] Downloading m3u8 manifest\n",
            "[hlsnative] Total fragments: 4\n",
            "[download] Destination: /content/MyYoutubeDLs/Christine's Benzodiazepine Withdrawal Induced Akathisia [byFP0lZSdR4].f606.mp4\n",
            "[download] 100% of    1.65MiB in 00:00:03 at 455.15KiB/s             \n"
          ]
        },
        {
          "output_type": "stream",
          "name": "stderr",
          "text": [
            "[debug] Invoking http downloader on \"https://rr5---sn-qxoedne7.googlevideo.com/videoplayback?expire=1745904774&ei=JhAQaJWkFd_2sfIPqePWsQ8&ip=34.168.94.101&id=o-AEV0UE72vn4rVSAIHeY0_7kwW-TKhmq4pUmrBepxbQCG&itag=140&source=youtube&requiressl=yes&xpc=EgVo2aDSNQ%3D%3D&met=1745883174%2C&mh=1U&mm=31%2C29&mn=sn-qxoedne7%2Csn-qxo7rn7y&ms=au%2Crdu&mv=m&mvi=5&pl=18&rms=au%2Cau&initcwndbps=1741250&bui=AecWEAY0mDVnAeKPAai5pXrVenajrvzZS8ir9J4LxV3_2K9Ryxir_5N9cRfNnBk3gaKNNU_bqyzMMFzp&vprv=1&svpuc=1&mime=audio%2Fmp4&ns=_m_94VkJB9talLNokpkPOosQ&rqh=1&gir=yes&clen=420558&dur=25.936&lmt=1744476347139711&mt=1745882696&fvip=1&keepalive=yes&lmw=1&c=TVHTML5&sefc=1&txp=5308224&n=AbEHQA1bjc8yfA&sparams=expire%2Cei%2Cip%2Cid%2Citag%2Csource%2Crequiressl%2Cxpc%2Cbui%2Cvprv%2Csvpuc%2Cmime%2Cns%2Crqh%2Cgir%2Cclen%2Cdur%2Clmt&sig=AJfQdSswRgIhAMugY5qoBJFEcekhPsmYzAsHuLMGJMhfpXjkery6KXTbAiEA8Wr1UyOtFqfrI7_n1Cp4Ac4O1ORAyqUw13JX-N-3wCk%3D&lsparams=met%2Cmh%2Cmm%2Cmn%2Cms%2Cmv%2Cmvi%2Cpl%2Crms%2Cinitcwndbps&lsig=ACuhMU0wRgIhAJgAjWj49OKFEH_mfxA7Qd4vUtQcP72c--MxvdnEZRiKAiEAw9fAZGjsK30bWEIBQLyRMDJAcrGOCrQIgvZTQhsKUnU%3D\"\n"
          ]
        },
        {
          "output_type": "stream",
          "name": "stdout",
          "text": [
            "[download] Destination: /content/MyYoutubeDLs/Christine's Benzodiazepine Withdrawal Induced Akathisia [byFP0lZSdR4].f140.m4a\n",
            "[download] 100% of  410.70KiB in 00:00:01 at 386.67KiB/s \n",
            "[Merger] Merging formats into \"/content/MyYoutubeDLs/Christine's Benzodiazepine Withdrawal Induced Akathisia [byFP0lZSdR4].mp4\"\n"
          ]
        },
        {
          "output_type": "stream",
          "name": "stderr",
          "text": [
            "[debug] ffmpeg command line: ffmpeg -y -loglevel repeat+info -i 'file:/content/MyYoutubeDLs/Christine'\"'\"'s Benzodiazepine Withdrawal Induced Akathisia [byFP0lZSdR4].f606.mp4' -i 'file:/content/MyYoutubeDLs/Christine'\"'\"'s Benzodiazepine Withdrawal Induced Akathisia [byFP0lZSdR4].f140.m4a' -c copy -map 0:v:0 -map 1:a:0 -movflags +faststart 'file:/content/MyYoutubeDLs/Christine'\"'\"'s Benzodiazepine Withdrawal Induced Akathisia [byFP0lZSdR4].temp.mp4'\n"
          ]
        },
        {
          "output_type": "stream",
          "name": "stdout",
          "text": [
            "Deleting original file /content/MyYoutubeDLs/Christine's Benzodiazepine Withdrawal Induced Akathisia [byFP0lZSdR4].f140.m4a (pass -k to keep)\n",
            "Deleting original file /content/MyYoutubeDLs/Christine's Benzodiazepine Withdrawal Induced Akathisia [byFP0lZSdR4].f606.mp4 (pass -k to keep)\n",
            "-> Success or skipped (due to existing file/error ignored): https://www.youtube.com/watch?v=byFP0lZSdR4\n",
            "\n",
            "[41/48] Attempting to download: https://www.youtube.com/shorts/ssPg3089Kco\n",
            "[youtube] Extracting URL: https://www.youtube.com/shorts/ssPg3089Kco\n",
            "[youtube] ssPg3089Kco: Downloading webpage\n",
            "[youtube] ssPg3089Kco: Downloading tv client config\n",
            "[youtube] ssPg3089Kco: Downloading tv player API JSON\n",
            "[youtube] ssPg3089Kco: Downloading ios player API JSON\n"
          ]
        },
        {
          "output_type": "stream",
          "name": "stderr",
          "text": [
            "[debug] [youtube] Decrypted nsig HBCfBYrlvTHw0CAS => 0jTkisxSeEpgOg\n",
            "[debug] [youtube] Decrypted nsig OLxkK9_3-rjxMKkb => 845lfqy6NZMRFQ\n",
            "[debug] [youtube] ssPg3089Kco: ios client https formats require a GVS PO Token which was not provided. They will be skipped as they may yield HTTP Error 403. You can manually pass a GVS PO Token for this client with --extractor-args \"youtube:po_token=ios.gvs+XXX\". For more information, refer to  https://github.com/yt-dlp/yt-dlp/wiki/PO-Token-Guide . To enable these broken formats anyway, pass --extractor-args \"youtube:formats=missing_pot\"\n"
          ]
        },
        {
          "output_type": "stream",
          "name": "stdout",
          "text": [
            "[youtube] ssPg3089Kco: Downloading m3u8 information\n"
          ]
        },
        {
          "output_type": "stream",
          "name": "stderr",
          "text": [
            "[debug] Sort order given by extractor: quality, res, fps, hdr:12, source, vcodec, channels, acodec, lang, proto\n",
            "[debug] Formats sorted by: hasvid, ie_pref, quality, res, fps, hdr:12(7), source, vcodec, channels, acodec, lang, proto, size, br, asr, vext, aext, hasaud, id\n"
          ]
        },
        {
          "output_type": "stream",
          "name": "stdout",
          "text": [
            "[info] ssPg3089Kco: Downloading 1 format(s): 616+140\n"
          ]
        },
        {
          "output_type": "stream",
          "name": "stderr",
          "text": [
            "[debug] Invoking hlsnative downloader on \"https://manifest.googlevideo.com/api/manifest/hls_playlist/expire/1745904788/ei/NBAQaJ6mINGKsfIP3eP9qA8/ip/34.168.94.101/id/b2c3e0df4f3d29ca/itag/616/source/youtube/requiressl/yes/ratebypass/yes/pfa/1/wft/1/sgovp/clen%3D8834888%3Bdur%3D45.411%3Bgir%3Dyes%3Bitag%3D356%3Blmt%3D1727865421673087/rqh/1/hls_chunk_host/rr3---sn-qxo7rn7y.googlevideo.com/xpc/EgVo2aDSNQ%3D%3D/met/1745883188,/mh/Ii/mm/31,26/mn/sn-qxo7rn7y,sn-a5mekn6k/ms/au,onr/mv/m/mvi/3/pl/18/rms/au,au/initcwndbps/1741250/bui/AecWEAbgbsbVKX-pcgh1EVBTAfCgy1OXDbRJrQ12XT3FLykYh8Yh0823L8VZkS1evJKmQELVxplA8lH4/spc/wk1kZpEHWP6KTvf4nSc_1AfIXpKifY8crGuoItvJG6_Sc7VADZHGoxPRjrUZHnGosXw/vprv/1/playlist_type/DVR/dover/13/txp/543C434/mt/1745882696/fvip/3/short_key/1/keepalive/yes/sparams/expire,ei,ip,id,itag,source,requiressl,ratebypass,pfa,wft,sgovp,rqh,xpc,bui,spc,vprv,playlist_type/sig/AJfQdSswRQIhAK-01LTzwf1xGULYsZP4_lL0RiJ6eK0VwSqxwok3dgcFAiBGlnl-w78pncwQt79qP_hGgkQTlkNPqiIlSPwvDazNow%3D%3D/lsparams/hls_chunk_host,met,mh,mm,mn,ms,mv,mvi,pl,rms,initcwndbps/lsig/ACuhMU0wRAIgKcNuxCuSJqlrPSrFcotSfqLv93DUzD-Kjk89DglkaEwCIBbxwGWyHaBi8cqFxW9V_l21XZWi1lh6fDcErQyz6f7t/playlist/index.m3u8\"\n"
          ]
        },
        {
          "output_type": "stream",
          "name": "stdout",
          "text": [
            "[hlsnative] Downloading m3u8 manifest\n",
            "[hlsnative] Total fragments: 9\n",
            "[download] Destination: /content/MyYoutubeDLs/The Scary Truth Behind Antidepressant Withdrawal [ssPg3089Kco].f616.mp4\n",
            "[download] 100% of    8.43MiB in 00:00:18 at 458.43KiB/s              \n"
          ]
        },
        {
          "output_type": "stream",
          "name": "stderr",
          "text": [
            "[debug] Invoking http downloader on \"https://rr3---sn-qxo7rn7y.googlevideo.com/videoplayback?expire=1745904788&ei=NBAQaL7IGvmRsfIPrra8gAw&ip=34.168.94.101&id=o-AOa22DRuNvgnjbjHKhFwbwp84ktgs5ATFLDdGqbFTHNy&itag=140&source=youtube&requiressl=yes&xpc=EgVo2aDSNQ%3D%3D&met=1745883188%2C&mh=Ii&mm=31%2C29&mn=sn-qxo7rn7y%2Csn-qxoednee&ms=au%2Crdu&mv=m&mvi=3&pl=18&rms=au%2Cau&initcwndbps=1741250&bui=AecWEAZNjbSeaeJ35lfJyFA6AuXQ4_rqTT6iOzweXFfIsKhOB290_vjpQUBP1opIgBz9A4hfj4Mbgi1s&vprv=1&svpuc=1&mime=audio%2Fmp4&ns=CphejilVyHCvOoCtlwwn06YQ&rqh=1&gir=yes&clen=736938&dur=45.464&lmt=1669760895729365&mt=1745882696&fvip=2&keepalive=yes&lmw=1&c=TVHTML5&sefc=1&txp=5432434&n=845lfqy6NZMRFQ&sparams=expire%2Cei%2Cip%2Cid%2Citag%2Csource%2Crequiressl%2Cxpc%2Cbui%2Cvprv%2Csvpuc%2Cmime%2Cns%2Crqh%2Cgir%2Cclen%2Cdur%2Clmt&sig=AJfQdSswRQIhAPCP10okn7Kc_ae_tsVEnRYIuuhMvgQd4CE4ws4D1YwJAiA4aPSKyHeRsioPv1JrnOjpYMCnlCtY8zGqLGJu1aVlhw%3D%3D&lsparams=met%2Cmh%2Cmm%2Cmn%2Cms%2Cmv%2Cmvi%2Cpl%2Crms%2Cinitcwndbps&lsig=ACuhMU0wRQIgcXQPw2O-ALV3c0eccwSt0qSLlBw2CBYlExi-dL4-XwUCIQD03QcpgPhKeElkKTJKDRunoTFLgt5o_aFvImELkWSHhg%3D%3D\"\n"
          ]
        },
        {
          "output_type": "stream",
          "name": "stdout",
          "text": [
            "[download] Destination: /content/MyYoutubeDLs/The Scary Truth Behind Antidepressant Withdrawal [ssPg3089Kco].f140.m4a\n",
            "[download] 100% of  719.67KiB in 00:00:01 at 377.75KiB/s \n",
            "[Merger] Merging formats into \"/content/MyYoutubeDLs/The Scary Truth Behind Antidepressant Withdrawal [ssPg3089Kco].mp4\"\n"
          ]
        },
        {
          "output_type": "stream",
          "name": "stderr",
          "text": [
            "[debug] ffmpeg command line: ffmpeg -y -loglevel repeat+info -i 'file:/content/MyYoutubeDLs/The Scary Truth Behind Antidepressant Withdrawal [ssPg3089Kco].f616.mp4' -i 'file:/content/MyYoutubeDLs/The Scary Truth Behind Antidepressant Withdrawal [ssPg3089Kco].f140.m4a' -c copy -map 0:v:0 -map 1:a:0 -movflags +faststart 'file:/content/MyYoutubeDLs/The Scary Truth Behind Antidepressant Withdrawal [ssPg3089Kco].temp.mp4'\n"
          ]
        },
        {
          "output_type": "stream",
          "name": "stdout",
          "text": [
            "Deleting original file /content/MyYoutubeDLs/The Scary Truth Behind Antidepressant Withdrawal [ssPg3089Kco].f140.m4a (pass -k to keep)\n",
            "Deleting original file /content/MyYoutubeDLs/The Scary Truth Behind Antidepressant Withdrawal [ssPg3089Kco].f616.mp4 (pass -k to keep)\n",
            "-> Success or skipped (due to existing file/error ignored): https://www.youtube.com/shorts/ssPg3089Kco\n",
            "\n",
            "[42/48] Attempting to download: https://www.youtube.com/shorts/Pvk3AODN6Sc\n",
            "[youtube] Extracting URL: https://www.youtube.com/shorts/Pvk3AODN6Sc\n",
            "[youtube] Pvk3AODN6Sc: Downloading webpage\n",
            "[youtube] Pvk3AODN6Sc: Downloading tv client config\n",
            "[youtube] Pvk3AODN6Sc: Downloading tv player API JSON\n",
            "[youtube] Pvk3AODN6Sc: Downloading ios player API JSON\n"
          ]
        },
        {
          "output_type": "stream",
          "name": "stderr",
          "text": [
            "[debug] [youtube] Decrypted nsig usuCAKSXxji_0dYd => TofcoyzoHXhTvw\n",
            "[debug] [youtube] Decrypted nsig nSIRmDES3_MRd3dt => FNbBn9fEx5vvOA\n",
            "[debug] [youtube] Pvk3AODN6Sc: ios client https formats require a GVS PO Token which was not provided. They will be skipped as they may yield HTTP Error 403. You can manually pass a GVS PO Token for this client with --extractor-args \"youtube:po_token=ios.gvs+XXX\". For more information, refer to  https://github.com/yt-dlp/yt-dlp/wiki/PO-Token-Guide . To enable these broken formats anyway, pass --extractor-args \"youtube:formats=missing_pot\"\n"
          ]
        },
        {
          "output_type": "stream",
          "name": "stdout",
          "text": [
            "[youtube] Pvk3AODN6Sc: Downloading m3u8 information\n"
          ]
        },
        {
          "output_type": "stream",
          "name": "stderr",
          "text": [
            "[debug] Sort order given by extractor: quality, res, fps, hdr:12, source, vcodec, channels, acodec, lang, proto\n",
            "[debug] Formats sorted by: hasvid, ie_pref, quality, res, fps, hdr:12(7), source, vcodec, channels, acodec, lang, proto, size, br, asr, vext, aext, hasaud, id\n"
          ]
        },
        {
          "output_type": "stream",
          "name": "stdout",
          "text": [
            "[info] Pvk3AODN6Sc: Downloading 1 format(s): 609+140\n"
          ]
        },
        {
          "output_type": "stream",
          "name": "stderr",
          "text": [
            "[debug] Invoking hlsnative downloader on \"https://manifest.googlevideo.com/api/manifest/hls_playlist/expire/1745904819/ei/UxAQaOPcLtm-sfIPpZmFyQw/ip/34.168.94.101/id/3ef93700e0cde927/itag/609/source/youtube/requiressl/yes/ratebypass/yes/pfa/1/wft/1/sgovp/clen%3D10726423%3Bdur%3D104.000%3Bgir%3Dyes%3Bitag%3D247%3Blmt%3D1737155226620224/rqh/1/hls_chunk_host/rr4---sn-qxoedne7.googlevideo.com/xpc/EgVo2aDSNQ%3D%3D/met/1745883219,/mh/ls/mm/31,26/mn/sn-qxoedne7,sn-a5mlrnls/ms/au,onr/mv/m/mvi/4/pl/18/rms/au,au/initcwndbps/1741250/bui/AecWEAZK0Se4q7MeuaEAAR5gVkrzik0fYJrAxoixtU6ruRUlPlcX7DyhbTuZl-XPlNPei7RYR_kSgFZQ/spc/wk1kZgxIKp8EGdEKgeE90QWypuKVOvo-8clWFvQ64yDRwbgsPo-ko3AWYbISb7XeAaA/vprv/1/playlist_type/DVR/dover/13/txp/630A224/mt/1745882696/fvip/3/short_key/1/keepalive/yes/sparams/expire,ei,ip,id,itag,source,requiressl,ratebypass,pfa,wft,sgovp,rqh,xpc,bui,spc,vprv,playlist_type/sig/AJfQdSswRQIhANvp1WssCb-Ol7Ueah7fjXeMbbiF78YUhCgZtmU2gAuGAiAi7rMUO-b_ynKjC-1O-uoTrMFdIx9Z5ivJcxT0Oqk1UA%3D%3D/lsparams/hls_chunk_host,met,mh,mm,mn,ms,mv,mvi,pl,rms,initcwndbps/lsig/ACuhMU0wRQIgMEzipLqK8UaJgQkFpNRrUkFFMZ9aXmR94aU1QQvy9mgCIQDxknsHhBjv0RtunAAjgCotQhFysqvQ74DMR8-y0xcWBg%3D%3D/playlist/index.m3u8\"\n"
          ]
        },
        {
          "output_type": "stream",
          "name": "stdout",
          "text": [
            "[hlsnative] Downloading m3u8 manifest\n",
            "[hlsnative] Total fragments: 19\n",
            "[download] Destination: /content/MyYoutubeDLs/Akathisia [Pvk3AODN6Sc].f609.mp4\n",
            "[download] 100% of   10.25MiB in 00:00:26 at 391.89KiB/s               \n"
          ]
        },
        {
          "output_type": "stream",
          "name": "stderr",
          "text": [
            "[debug] Invoking http downloader on \"https://rr2---sn-qxo7rn7r.googlevideo.com/videoplayback?expire=1745904819&ei=UxAQaOnHJf-Ht7EP49--2Ag&ip=34.168.94.101&id=o-ABr-UNQGmlGMHtIqdibc1HQV067y2ojERSPX_ezoZ_J4&itag=140&source=youtube&requiressl=yes&xpc=EgVo2aDSNQ%3D%3D&met=1745883219%2C&mh=ls&mm=31%2C26&mn=sn-qxo7rn7r%2Csn-a5meknde&ms=au%2Conr&mv=m&mvi=2&pl=18&rms=au%2Cau&initcwndbps=1741250&bui=AecWEAZuimqmLMHkowD-aeWsdAStuGPwFHmz9EUoKrR-0lzFpJFkaMNGwnT0rv6I0hbE1qWbr3WdOb0C&vprv=1&svpuc=1&mime=audio%2Fmp4&ns=ZUFOCsely7bKRUr6txbJP-MQ&rqh=1&gir=yes&clen=1684732&dur=104.048&lmt=1737155217760478&mt=1745882696&fvip=4&keepalive=yes&lmw=1&c=TVHTML5&sefc=1&txp=6308224&n=FNbBn9fEx5vvOA&sparams=expire%2Cei%2Cip%2Cid%2Citag%2Csource%2Crequiressl%2Cxpc%2Cbui%2Cvprv%2Csvpuc%2Cmime%2Cns%2Crqh%2Cgir%2Cclen%2Cdur%2Clmt&sig=AJfQdSswRAIgOa4An5Fc1UEcv4deuVyerwQJGf8ENnkLFly6ksYPE84CIFRB8xuKmKy5rZFtkqEijxsGtCwLKTmYCNG-NzXVYnAQ&lsparams=met%2Cmh%2Cmm%2Cmn%2Cms%2Cmv%2Cmvi%2Cpl%2Crms%2Cinitcwndbps&lsig=ACuhMU0wRAIgCEqFDsTuyMLTw6wGjtLImQOvMVFCvPsWde9fNIWfl5oCIG-qhwN1Nc7UY33pZZzo1gZp9h5eOlUObAu8UoLn_09G\"\n"
          ]
        },
        {
          "output_type": "stream",
          "name": "stdout",
          "text": [
            "[download] Destination: /content/MyYoutubeDLs/Akathisia [Pvk3AODN6Sc].f140.m4a\n",
            "[download] 100% of    1.61MiB in 00:00:03 at 468.69KiB/s \n",
            "[Merger] Merging formats into \"/content/MyYoutubeDLs/Akathisia [Pvk3AODN6Sc].mp4\"\n"
          ]
        },
        {
          "output_type": "stream",
          "name": "stderr",
          "text": [
            "[debug] ffmpeg command line: ffmpeg -y -loglevel repeat+info -i 'file:/content/MyYoutubeDLs/Akathisia [Pvk3AODN6Sc].f609.mp4' -i 'file:/content/MyYoutubeDLs/Akathisia [Pvk3AODN6Sc].f140.m4a' -c copy -map 0:v:0 -map 1:a:0 -movflags +faststart 'file:/content/MyYoutubeDLs/Akathisia [Pvk3AODN6Sc].temp.mp4'\n"
          ]
        },
        {
          "output_type": "stream",
          "name": "stdout",
          "text": [
            "Deleting original file /content/MyYoutubeDLs/Akathisia [Pvk3AODN6Sc].f140.m4a (pass -k to keep)\n",
            "Deleting original file /content/MyYoutubeDLs/Akathisia [Pvk3AODN6Sc].f609.mp4 (pass -k to keep)\n",
            "-> Success or skipped (due to existing file/error ignored): https://www.youtube.com/shorts/Pvk3AODN6Sc\n",
            "\n",
            "[43/48] Attempting to download: https://www.youtube.com/shorts/dCq84gtJbN8\n",
            "[youtube] Extracting URL: https://www.youtube.com/shorts/dCq84gtJbN8\n",
            "[youtube] dCq84gtJbN8: Downloading webpage\n",
            "[youtube] dCq84gtJbN8: Downloading tv client config\n",
            "[youtube] dCq84gtJbN8: Downloading tv player API JSON\n",
            "[youtube] dCq84gtJbN8: Downloading ios player API JSON\n"
          ]
        },
        {
          "output_type": "stream",
          "name": "stderr",
          "text": [
            "[debug] [youtube] Decrypted nsig 4c7Ol8u4s_vDMnkR => pW-aKsVbn4KfyA\n",
            "[debug] [youtube] Decrypted nsig BPgORzMU1r0XsHqF => 5CoC7jinm433eQ\n",
            "[debug] [youtube] dCq84gtJbN8: ios client https formats require a GVS PO Token which was not provided. They will be skipped as they may yield HTTP Error 403. You can manually pass a GVS PO Token for this client with --extractor-args \"youtube:po_token=ios.gvs+XXX\". For more information, refer to  https://github.com/yt-dlp/yt-dlp/wiki/PO-Token-Guide . To enable these broken formats anyway, pass --extractor-args \"youtube:formats=missing_pot\"\n"
          ]
        },
        {
          "output_type": "stream",
          "name": "stdout",
          "text": [
            "[youtube] dCq84gtJbN8: Downloading m3u8 information\n"
          ]
        },
        {
          "output_type": "stream",
          "name": "stderr",
          "text": [
            "[debug] Sort order given by extractor: quality, res, fps, hdr:12, source, vcodec, channels, acodec, lang, proto\n",
            "[debug] Formats sorted by: hasvid, ie_pref, quality, res, fps, hdr:12(7), source, vcodec, channels, acodec, lang, proto, size, br, asr, vext, aext, hasaud, id\n"
          ]
        },
        {
          "output_type": "stream",
          "name": "stdout",
          "text": [
            "[info] dCq84gtJbN8: Downloading 1 format(s): 625+140\n"
          ]
        },
        {
          "output_type": "stream",
          "name": "stderr",
          "text": [
            "[debug] Invoking hlsnative downloader on \"https://manifest.googlevideo.com/api/manifest/hls_playlist/expire/1745904859/ei/exAQaJXMIYz5sfIP-cGxsQw/ip/34.168.94.101/id/742abce20b496cdf/itag/625/source/youtube/requiressl/yes/ratebypass/yes/pfa/1/wft/1/sgovp/clen%3D36137077%3Bdur%3D26.766%3Bgir%3Dyes%3Bitag%3D313%3Blmt%3D1741292965446556/rqh/1/hls_chunk_host/rr5---sn-qxoedne7.googlevideo.com/xpc/EgVo2aDSNQ%3D%3D/met/1745883259,/mh/vC/mm/31,29/mn/sn-qxoedne7,sn-qxo7rn7k/ms/au,rdu/mv/m/mvi/5/pl/18/rms/au,au/initcwndbps/3878750/bui/AecWEAbob84Wxbt5KYVVTizNHAkHKV46EqzXjrdlgLm_88thGHeZlvyhe4FintW8NxCtcwgx-8dv8sbB/spc/wk1kZoHVzqxh9a7za_k6EBEYVphAVy8ZugKTpxcnBXSObUhnJT1KqksXQsw3Xbil9EM/vprv/1/playlist_type/DVR/dover/13/txp/630A224/mt/1745882934/fvip/5/short_key/1/keepalive/yes/sparams/expire,ei,ip,id,itag,source,requiressl,ratebypass,pfa,wft,sgovp,rqh,xpc,bui,spc,vprv,playlist_type/sig/AJfQdSswRgIhAInKO6Ur5fwFK7ARqaRu_SoTVL3Ajr4bbrEuZvq2LzkkAiEA4TgV773xGakbLOseIWY82_qiTM5_DYTbBfWgQBUusVk%3D/lsparams/hls_chunk_host,met,mh,mm,mn,ms,mv,mvi,pl,rms,initcwndbps/lsig/ACuhMU0wRQIge7uSG73HHf4x54u0xHr_J7N7mHEyMRBFkpQ0UJn0WNcCIQDYE_Fin_V7yjN5JvAaso7fHDJb0IbWbh-4EopnMHrEEg%3D%3D/playlist/index.m3u8\"\n"
          ]
        },
        {
          "output_type": "stream",
          "name": "stdout",
          "text": [
            "[hlsnative] Downloading m3u8 manifest\n",
            "[hlsnative] Total fragments: 5\n",
            "[download] Destination: /content/MyYoutubeDLs/antidepressants changed everything for me. [dCq84gtJbN8].f625.mp4\n",
            "[download] 100% of   34.47MiB in 00:01:10 at 497.39KiB/s             \n"
          ]
        },
        {
          "output_type": "stream",
          "name": "stderr",
          "text": [
            "[debug] Invoking http downloader on \"https://rr5---sn-qxoedne7.googlevideo.com/videoplayback?expire=1745904859&ei=exAQaLyiG_WSsfIPiduSqQI&ip=34.168.94.101&id=o-AO4GHBJIw2d9T5G8hspMhQByNU4voryvxquLhMALFLFJ&itag=140&source=youtube&requiressl=yes&xpc=EgVo2aDSNQ%3D%3D&met=1745883259%2C&mh=vC&mm=31%2C29&mn=sn-qxoedne7%2Csn-qxo7rn7k&ms=au%2Crdu&mv=m&mvi=5&pl=18&rms=au%2Cau&initcwndbps=3878750&bui=AecWEAZy5cErT6O4iqJDmXJ0WBE6E445D9uJAxmDLZs2zqXaD7VGmE7FEdjn65eirnMvK9RhvpFfxuT8&vprv=1&svpuc=1&mime=audio%2Fmp4&ns=mTyIG9tFA8iq2a8sgm_FLBsQ&rqh=1&gir=yes&clen=434827&dur=26.819&lmt=1741292918905635&mt=1745882934&fvip=5&keepalive=yes&lmw=1&c=TVHTML5&sefc=1&txp=6308224&n=5CoC7jinm433eQ&sparams=expire%2Cei%2Cip%2Cid%2Citag%2Csource%2Crequiressl%2Cxpc%2Cbui%2Cvprv%2Csvpuc%2Cmime%2Cns%2Crqh%2Cgir%2Cclen%2Cdur%2Clmt&sig=AJfQdSswRQIgR2e9RIgYhdAP5ua7N7Et9XgdXMLt6sXSGlccINi9ydgCIQDVQ6G49-surFJZwXdwCG0fsg0C5kgqEiX92fyDsc0vWw%3D%3D&lsparams=met%2Cmh%2Cmm%2Cmn%2Cms%2Cmv%2Cmvi%2Cpl%2Crms%2Cinitcwndbps&lsig=ACuhMU0wRQIgBvUJGSSWBKHYO-HTVELl227PUAtGa-owyZyJLejroOQCIQC2voYb11FJvm31XberJNSClPaaUhORpcW8JOPWzmAt0Q%3D%3D\"\n"
          ]
        },
        {
          "output_type": "stream",
          "name": "stdout",
          "text": [
            "[download] Destination: /content/MyYoutubeDLs/antidepressants changed everything for me. [dCq84gtJbN8].f140.m4a\n",
            "[download] 100% of  424.64KiB in 00:00:01 at 392.25KiB/s \n",
            "[Merger] Merging formats into \"/content/MyYoutubeDLs/antidepressants changed everything for me. [dCq84gtJbN8].mp4\"\n"
          ]
        },
        {
          "output_type": "stream",
          "name": "stderr",
          "text": [
            "[debug] ffmpeg command line: ffmpeg -y -loglevel repeat+info -i 'file:/content/MyYoutubeDLs/antidepressants changed everything for me. [dCq84gtJbN8].f625.mp4' -i 'file:/content/MyYoutubeDLs/antidepressants changed everything for me. [dCq84gtJbN8].f140.m4a' -c copy -map 0:v:0 -map 1:a:0 -movflags +faststart 'file:/content/MyYoutubeDLs/antidepressants changed everything for me. [dCq84gtJbN8].temp.mp4'\n"
          ]
        },
        {
          "output_type": "stream",
          "name": "stdout",
          "text": [
            "Deleting original file /content/MyYoutubeDLs/antidepressants changed everything for me. [dCq84gtJbN8].f625.mp4 (pass -k to keep)\n",
            "Deleting original file /content/MyYoutubeDLs/antidepressants changed everything for me. [dCq84gtJbN8].f140.m4a (pass -k to keep)\n",
            "-> Success or skipped (due to existing file/error ignored): https://www.youtube.com/shorts/dCq84gtJbN8\n",
            "\n",
            "[44/48] Attempting to download: https://www.youtube.com/shorts/W0Y1SZrQ3JY\n",
            "[youtube] Extracting URL: https://www.youtube.com/shorts/W0Y1SZrQ3JY\n",
            "[youtube] W0Y1SZrQ3JY: Downloading webpage\n",
            "[youtube] W0Y1SZrQ3JY: Downloading tv client config\n",
            "[youtube] W0Y1SZrQ3JY: Downloading tv player API JSON\n",
            "[youtube] W0Y1SZrQ3JY: Downloading ios player API JSON\n"
          ]
        },
        {
          "output_type": "stream",
          "name": "stderr",
          "text": [
            "[debug] [youtube] Decrypted nsig EAMgCtjHJj5AK0TM => CSmjPMBeKZzaDw\n",
            "[debug] [youtube] Decrypted nsig zxpConp9GTSjc7xl => JihaASkOxPcn3g\n",
            "[debug] [youtube] W0Y1SZrQ3JY: ios client https formats require a GVS PO Token which was not provided. They will be skipped as they may yield HTTP Error 403. You can manually pass a GVS PO Token for this client with --extractor-args \"youtube:po_token=ios.gvs+XXX\". For more information, refer to  https://github.com/yt-dlp/yt-dlp/wiki/PO-Token-Guide . To enable these broken formats anyway, pass --extractor-args \"youtube:formats=missing_pot\"\n"
          ]
        },
        {
          "output_type": "stream",
          "name": "stdout",
          "text": [
            "[youtube] W0Y1SZrQ3JY: Downloading m3u8 information\n"
          ]
        },
        {
          "output_type": "stream",
          "name": "stderr",
          "text": [
            "[debug] Sort order given by extractor: quality, res, fps, hdr:12, source, vcodec, channels, acodec, lang, proto\n",
            "[debug] Formats sorted by: hasvid, ie_pref, quality, res, fps, hdr:12(7), source, vcodec, channels, acodec, lang, proto, size, br, asr, vext, aext, hasaud, id\n"
          ]
        },
        {
          "output_type": "stream",
          "name": "stdout",
          "text": [
            "[info] W0Y1SZrQ3JY: Downloading 1 format(s): 614+140\n"
          ]
        },
        {
          "output_type": "stream",
          "name": "stderr",
          "text": [
            "[debug] Invoking hlsnative downloader on \"https://manifest.googlevideo.com/api/manifest/hls_playlist/expire/1745904942/ei/zhAQaJTNFNOdsfIPlqa_mQ4/ip/34.168.94.101/id/5b4635499ad0dc96/itag/614/source/youtube/requiressl/yes/ratebypass/yes/pfa/1/wft/1/sgovp/clen%3D10372468%3Bdur%3D59.600%3Bgir%3Dyes%3Bitag%3D248%3Blmt%3D1720886706270149/rqh/1/hls_chunk_host/rr5---sn-qxoedne7.googlevideo.com/xpc/EgVo2aDSNQ%3D%3D/met/1745883342,/mh/Ym/mm/31,26/mn/sn-qxoedne7,sn-a5mlrnlz/ms/au,onr/mv/m/mvi/5/pl/18/rms/au,au/initcwndbps/3878750/bui/AecWEAYiJkp48ZOoQ7JgEIPImAVswHU89VOO5uji6smqOX-rLLrg6nMwwKVh6ZShpjYMVjcwvjjtaiYW/spc/wk1kZqkpO37rf744RPpTtW8fjBMzB1df2E4R9kB0-NFG2OCb7-9qn1wWxQzny2gQD6A/vprv/1/playlist_type/DVR/dover/13/txp/630A224/mt/1745882934/fvip/4/short_key/1/keepalive/yes/sparams/expire,ei,ip,id,itag,source,requiressl,ratebypass,pfa,wft,sgovp,rqh,xpc,bui,spc,vprv,playlist_type/sig/AJfQdSswRAIgRxqXeuIej10KufPbnMDqEb7pTBNbInIJoIcMWiXuZvYCIEc9LQu5Y8uN3VmnK9iwm4rncTQz11KzAJ61mvKqnfLI/lsparams/hls_chunk_host,met,mh,mm,mn,ms,mv,mvi,pl,rms,initcwndbps/lsig/ACuhMU0wRQIhAJA0HGWr2X8yKwvqAC27Ja6ONTJKOIL8mcPebd-VIsn-AiB2vBG7MG8EbKUDUfYaHHc8kjg96X4AE2XvwHI_AcZmcQ%3D%3D/playlist/index.m3u8\"\n"
          ]
        },
        {
          "output_type": "stream",
          "name": "stdout",
          "text": [
            "[hlsnative] Downloading m3u8 manifest\n",
            "[hlsnative] Total fragments: 10\n",
            "[download] Destination: /content/MyYoutubeDLs/The Emotional Cost of Lexapro #psychiatrictreatment #lexapro #antidepressant [W0Y1SZrQ3JY].f614.mp4\n",
            "[download] 100% of    9.90MiB in 00:00:20 at 485.09KiB/s               \n"
          ]
        },
        {
          "output_type": "stream",
          "name": "stderr",
          "text": [
            "[debug] Invoking http downloader on \"https://rr4---sn-qxo7rn7k.googlevideo.com/videoplayback?expire=1745904942&ei=zhAQaI-eD874sfIPzI7AwAI&ip=34.168.94.101&id=o-ANZ3dIfeS5iWuzmgx_ZwrWunNI3gWTQlDYB8qW9_AIs8&itag=140&source=youtube&requiressl=yes&xpc=EgVo2aDSNQ%3D%3D&met=1745883342%2C&mh=Ym&mm=31%2C29&mn=sn-qxo7rn7k%2Csn-qxoedne7&ms=au%2Crdu&mv=m&mvi=4&pl=18&rms=au%2Cau&initcwndbps=3878750&bui=AecWEAYnfOcLY1Kjr8Pb4J7uByxKnsZYtiKlAMoavAWEt-jZ2uSxf1XQCd8sDzC5B3tVO4Vbee_lWBSO&vprv=1&svpuc=1&mime=audio%2Fmp4&ns=6UeAi57RA-qglh-P4-kgtDwQ&rqh=1&gir=yes&clen=966214&dur=59.652&lmt=1720886702791567&mt=1745882934&fvip=5&keepalive=yes&lmw=1&c=TVHTML5&sefc=1&txp=6308224&n=JihaASkOxPcn3g&sparams=expire%2Cei%2Cip%2Cid%2Citag%2Csource%2Crequiressl%2Cxpc%2Cbui%2Cvprv%2Csvpuc%2Cmime%2Cns%2Crqh%2Cgir%2Cclen%2Cdur%2Clmt&sig=AJfQdSswRQIhANoc9C9FZNVER_Zq74u7stwWP9s4CY6N-qcC7YS6CHYsAiAZqD_ilyYN95hKnXmNJ3Oz3i-MN-FnzcBFrJIK1ioNDg%3D%3D&lsparams=met%2Cmh%2Cmm%2Cmn%2Cms%2Cmv%2Cmvi%2Cpl%2Crms%2Cinitcwndbps&lsig=ACuhMU0wRgIhAJwagEQbdf9vPiar1TODy2XkdEEWWNDRlRCbadw694kXAiEAz7SwL9OUIEVQntuZI2k673KhzrgqctBK8UuNR744Qwk%3D\"\n"
          ]
        },
        {
          "output_type": "stream",
          "name": "stdout",
          "text": [
            "[download] Destination: /content/MyYoutubeDLs/The Emotional Cost of Lexapro #psychiatrictreatment #lexapro #antidepressant [W0Y1SZrQ3JY].f140.m4a\n",
            "[download] 100% of  943.57KiB in 00:00:02 at 439.11KiB/s \n",
            "[Merger] Merging formats into \"/content/MyYoutubeDLs/The Emotional Cost of Lexapro #psychiatrictreatment #lexapro #antidepressant [W0Y1SZrQ3JY].mp4\"\n"
          ]
        },
        {
          "output_type": "stream",
          "name": "stderr",
          "text": [
            "[debug] ffmpeg command line: ffmpeg -y -loglevel repeat+info -i 'file:/content/MyYoutubeDLs/The Emotional Cost of Lexapro #psychiatrictreatment #lexapro #antidepressant [W0Y1SZrQ3JY].f614.mp4' -i 'file:/content/MyYoutubeDLs/The Emotional Cost of Lexapro #psychiatrictreatment #lexapro #antidepressant [W0Y1SZrQ3JY].f140.m4a' -c copy -map 0:v:0 -map 1:a:0 -movflags +faststart 'file:/content/MyYoutubeDLs/The Emotional Cost of Lexapro #psychiatrictreatment #lexapro #antidepressant [W0Y1SZrQ3JY].temp.mp4'\n"
          ]
        },
        {
          "output_type": "stream",
          "name": "stdout",
          "text": [
            "Deleting original file /content/MyYoutubeDLs/The Emotional Cost of Lexapro #psychiatrictreatment #lexapro #antidepressant [W0Y1SZrQ3JY].f140.m4a (pass -k to keep)\n",
            "Deleting original file /content/MyYoutubeDLs/The Emotional Cost of Lexapro #psychiatrictreatment #lexapro #antidepressant [W0Y1SZrQ3JY].f614.mp4 (pass -k to keep)\n",
            "-> Success or skipped (due to existing file/error ignored): https://www.youtube.com/shorts/W0Y1SZrQ3JY\n",
            "\n",
            "[45/48] Attempting to download: https://www.youtube.com/shorts/eGon3EKswo8\n",
            "[youtube] Extracting URL: https://www.youtube.com/shorts/eGon3EKswo8\n",
            "[youtube] eGon3EKswo8: Downloading webpage\n",
            "[youtube] eGon3EKswo8: Downloading tv client config\n",
            "[youtube] eGon3EKswo8: Downloading tv player API JSON\n",
            "[youtube] eGon3EKswo8: Downloading ios player API JSON\n"
          ]
        },
        {
          "output_type": "stream",
          "name": "stderr",
          "text": [
            "[debug] [youtube] Decrypted nsig PjNDHP6x7TCFoLN1 => 9CfXT1iGzyADIg\n",
            "[debug] [youtube] Decrypted nsig DsTR6921v_DEYgC0 => W8jkr5Hg5dGCBA\n",
            "[debug] [youtube] eGon3EKswo8: ios client https formats require a GVS PO Token which was not provided. They will be skipped as they may yield HTTP Error 403. You can manually pass a GVS PO Token for this client with --extractor-args \"youtube:po_token=ios.gvs+XXX\". For more information, refer to  https://github.com/yt-dlp/yt-dlp/wiki/PO-Token-Guide . To enable these broken formats anyway, pass --extractor-args \"youtube:formats=missing_pot\"\n"
          ]
        },
        {
          "output_type": "stream",
          "name": "stdout",
          "text": [
            "[youtube] eGon3EKswo8: Downloading m3u8 information\n"
          ]
        },
        {
          "output_type": "stream",
          "name": "stderr",
          "text": [
            "[debug] Sort order given by extractor: quality, res, fps, hdr:12, source, vcodec, channels, acodec, lang, proto\n",
            "[debug] Formats sorted by: hasvid, ie_pref, quality, res, fps, hdr:12(7), source, vcodec, channels, acodec, lang, proto, size, br, asr, vext, aext, hasaud, id\n"
          ]
        },
        {
          "output_type": "stream",
          "name": "stdout",
          "text": [
            "[info] eGon3EKswo8: Downloading 1 format(s): 614+140\n"
          ]
        },
        {
          "output_type": "stream",
          "name": "stderr",
          "text": [
            "[debug] Invoking hlsnative downloader on \"https://manifest.googlevideo.com/api/manifest/hls_playlist/expire/1745904976/ei/8BAQaKmhD8fDsfIP_f782Ag/ip/34.168.94.101/id/786a27dc42acc28f/itag/614/source/youtube/requiressl/yes/ratebypass/yes/pfa/1/wft/1/sgovp/clen%3D5802492%3Bdur%3D40.206%3Bgir%3Dyes%3Bitag%3D248%3Blmt%3D1725721504496470/rqh/1/hls_chunk_host/rr3---sn-qxo7rn7k.googlevideo.com/xpc/EgVo2aDSNQ%3D%3D/met/1745883376,/mh/h9/mm/31,29/mn/sn-qxo7rn7k,sn-qxoedne7/ms/au,rdu/mv/m/mvi/3/pl/18/rms/au,au/initcwndbps/3878750/bui/AecWEAYqB-Le8UNNhQaiFqY7DnonjKQJAaru0bFdcVC-A2-WBzEY6Q7AjYKOUHVxFRh4c-TRmQ9Yp3oq/spc/wk1kZpPZZBRqdOPPK2FP3M-nYGATNrSUk09AN7cbGhZZPYavkjFegufXhMHLVmOOYvA/vprv/1/playlist_type/DVR/dover/13/txp/630A224/mt/1745882934/fvip/1/short_key/1/keepalive/yes/sparams/expire,ei,ip,id,itag,source,requiressl,ratebypass,pfa,wft,sgovp,rqh,xpc,bui,spc,vprv,playlist_type/sig/AJfQdSswRQIgZupu5cYIOhXQGby2GnFdll8D3ZgbXVvPmUNAh5E4HgACIQDh6FbxoJT4Xh4JiralpdIE_JXxrMYXux_GicyxHjejzA%3D%3D/lsparams/hls_chunk_host,met,mh,mm,mn,ms,mv,mvi,pl,rms,initcwndbps/lsig/ACuhMU0wRgIhAPyubwHB52IF_2fftpxgEuFLxXTc2Vcu7ghlwfSLFEnoAiEArL2pOTMSka2XBUtl78JPr-w9MbDC5uR1sCejNRdZjZE%3D/playlist/index.m3u8\"\n"
          ]
        },
        {
          "output_type": "stream",
          "name": "stdout",
          "text": [
            "[hlsnative] Downloading m3u8 manifest\n",
            "[hlsnative] Total fragments: 8\n",
            "[download] Destination: /content/MyYoutubeDLs/The Worst Side Effect of Lithium #shareyourdrugstory #informedconsent #mentalhealthadvocate [eGon3EKswo8].f614.mp4\n",
            "[download] 100% of    5.54MiB in 00:00:11 at 488.58KiB/s             \n"
          ]
        },
        {
          "output_type": "stream",
          "name": "stderr",
          "text": [
            "[debug] Invoking http downloader on \"https://rr1---sn-qxoedne7.googlevideo.com/videoplayback?expire=1745904976&ei=8BAQaKLQCamRsfIPhbvvyAw&ip=34.168.94.101&id=o-AJGIxB_gHj-TIJfHK2ARFTVjeI-WVWxYBgiQY19-gbqx&itag=140&source=youtube&requiressl=yes&xpc=EgVo2aDSNQ%3D%3D&met=1745883376%2C&mh=h9&mm=31%2C26&mn=sn-qxoedne7%2Csn-a5msener&ms=au%2Conr&mv=m&mvi=1&pl=18&rms=au%2Cau&initcwndbps=3878750&bui=AecWEAbAUI6kwaOUvXsJ1ZQphhuMZNNSpUo9mT2tgBhskweSCk1Jd6K0SnizmNyfvZThF4yJZ9b6cnxv&vprv=1&svpuc=1&mime=audio%2Fmp4&ns=h3J79aXhZSOMDfcqElF-ctQQ&rqh=1&gir=yes&clen=652536&dur=40.263&lmt=1725721496859801&mt=1745883190&fvip=2&keepalive=yes&lmw=1&c=TVHTML5&sefc=1&txp=6318224&n=W8jkr5Hg5dGCBA&sparams=expire%2Cei%2Cip%2Cid%2Citag%2Csource%2Crequiressl%2Cxpc%2Cbui%2Cvprv%2Csvpuc%2Cmime%2Cns%2Crqh%2Cgir%2Cclen%2Cdur%2Clmt&sig=AJfQdSswRQIhAPi2L4CCxO9T8A_bEMFIPq0iqtD_lbqfrT0_gGtHcFIlAiApnUVbdQAJGoUiNXnauJDDLiM5xOqpXf5W11xNZ6g3Iw%3D%3D&lsparams=met%2Cmh%2Cmm%2Cmn%2Cms%2Cmv%2Cmvi%2Cpl%2Crms%2Cinitcwndbps&lsig=ACuhMU0wRgIhAOFBdQlhuBhVb4G_y4vErbO-SKZKF3zpGrR-JiaxTGE2AiEA0N-nw9ciFRgbxGoNGI2sUIo-sVnBUiXliMTwiszrPag%3D\"\n"
          ]
        },
        {
          "output_type": "stream",
          "name": "stdout",
          "text": [
            "[download] Destination: /content/MyYoutubeDLs/The Worst Side Effect of Lithium #shareyourdrugstory #informedconsent #mentalhealthadvocate [eGon3EKswo8].f140.m4a\n",
            "[download] 100% of  637.24KiB in 00:00:01 at 422.54KiB/s \n",
            "[Merger] Merging formats into \"/content/MyYoutubeDLs/The Worst Side Effect of Lithium #shareyourdrugstory #informedconsent #mentalhealthadvocate [eGon3EKswo8].mp4\"\n"
          ]
        },
        {
          "output_type": "stream",
          "name": "stderr",
          "text": [
            "[debug] ffmpeg command line: ffmpeg -y -loglevel repeat+info -i 'file:/content/MyYoutubeDLs/The Worst Side Effect of Lithium #shareyourdrugstory #informedconsent #mentalhealthadvocate [eGon3EKswo8].f614.mp4' -i 'file:/content/MyYoutubeDLs/The Worst Side Effect of Lithium #shareyourdrugstory #informedconsent #mentalhealthadvocate [eGon3EKswo8].f140.m4a' -c copy -map 0:v:0 -map 1:a:0 -movflags +faststart 'file:/content/MyYoutubeDLs/The Worst Side Effect of Lithium #shareyourdrugstory #informedconsent #mentalhealthadvocate [eGon3EKswo8].temp.mp4'\n"
          ]
        },
        {
          "output_type": "stream",
          "name": "stdout",
          "text": [
            "Deleting original file /content/MyYoutubeDLs/The Worst Side Effect of Lithium #shareyourdrugstory #informedconsent #mentalhealthadvocate [eGon3EKswo8].f140.m4a (pass -k to keep)\n",
            "Deleting original file /content/MyYoutubeDLs/The Worst Side Effect of Lithium #shareyourdrugstory #informedconsent #mentalhealthadvocate [eGon3EKswo8].f614.mp4 (pass -k to keep)\n",
            "-> Success or skipped (due to existing file/error ignored): https://www.youtube.com/shorts/eGon3EKswo8\n",
            "\n",
            "[46/48] Attempting to download: https://www.youtube.com/shorts/sYTGohF5XQk\n",
            "[youtube] Extracting URL: https://www.youtube.com/shorts/sYTGohF5XQk\n",
            "[youtube] sYTGohF5XQk: Downloading webpage\n",
            "[youtube] sYTGohF5XQk: Downloading tv client config\n",
            "[youtube] sYTGohF5XQk: Downloading tv player API JSON\n",
            "[youtube] sYTGohF5XQk: Downloading ios player API JSON\n"
          ]
        },
        {
          "output_type": "stream",
          "name": "stderr",
          "text": [
            "[debug] [youtube] Decrypted nsig HbNm2--_Nr8-HEMT => 2HtRNObgktAhIQ\n",
            "[debug] [youtube] Decrypted nsig brqW3qO9u_coIQhA => eHbRZXHK2ad-QA\n",
            "[debug] [youtube] sYTGohF5XQk: ios client https formats require a GVS PO Token which was not provided. They will be skipped as they may yield HTTP Error 403. You can manually pass a GVS PO Token for this client with --extractor-args \"youtube:po_token=ios.gvs+XXX\". For more information, refer to  https://github.com/yt-dlp/yt-dlp/wiki/PO-Token-Guide . To enable these broken formats anyway, pass --extractor-args \"youtube:formats=missing_pot\"\n"
          ]
        },
        {
          "output_type": "stream",
          "name": "stdout",
          "text": [
            "[youtube] sYTGohF5XQk: Downloading m3u8 information\n"
          ]
        },
        {
          "output_type": "stream",
          "name": "stderr",
          "text": [
            "[debug] Sort order given by extractor: quality, res, fps, hdr:12, source, vcodec, channels, acodec, lang, proto\n",
            "[debug] Formats sorted by: hasvid, ie_pref, quality, res, fps, hdr:12(7), source, vcodec, channels, acodec, lang, proto, size, br, asr, vext, aext, hasaud, id\n"
          ]
        },
        {
          "output_type": "stream",
          "name": "stdout",
          "text": [
            "[info] sYTGohF5XQk: Downloading 1 format(s): 614+140\n"
          ]
        },
        {
          "output_type": "stream",
          "name": "stderr",
          "text": [
            "[debug] Invoking hlsnative downloader on \"https://manifest.googlevideo.com/api/manifest/hls_playlist/expire/1745904999/ei/BhEQaP_AO8TzsfIPoOjCUA/ip/34.168.94.101/id/b184c6a211795d09/itag/614/source/youtube/requiressl/yes/ratebypass/yes/pfa/1/wft/1/sgovp/clen%3D7297702%3Bdur%3D58.766%3Bgir%3Dyes%3Bitag%3D248%3Blmt%3D1722096283393272/rqh/1/hls_chunk_host/rr5---sn-qxo7rn7r.googlevideo.com/xpc/EgVo2aDSNQ%3D%3D/met/1745883399,/mh/D8/mm/31,26/mn/sn-qxo7rn7r,sn-a5meknzr/ms/au,onr/mv/m/mvi/5/pl/18/rms/au,au/initcwndbps/3878750/bui/AecWEAYXWENRti1vuGyeFfy71ousQQ0nTFr0_nRYgAkyYAPTot1c6YI236Q3CUwnNgcur5oer3JlMDMB/spc/wk1kZs46ZFqBIpsVDUNEnvC_qOXk1cqj6kckW57YLAi895ptXh6Zwl2kXrQcSXUE0cM/vprv/1/playlist_type/DVR/dover/13/txp/630A224/mt/1745882934/fvip/4/short_key/1/keepalive/yes/sparams/expire,ei,ip,id,itag,source,requiressl,ratebypass,pfa,wft,sgovp,rqh,xpc,bui,spc,vprv,playlist_type/sig/AJfQdSswRQIhAIfLeEVsyvwLgzL-Bw_7wcDzq-fsLkpPjwWXcEp7MiccAiA9uCM-ouQUpvwC78BK4T4rwJS6I2VPex9MM56VECOtxA%3D%3D/lsparams/hls_chunk_host,met,mh,mm,mn,ms,mv,mvi,pl,rms,initcwndbps/lsig/ACuhMU0wRQIhAMSeIQxI6Svrcro0Sh_Z0sJWNMWy8wEQt1bcXcayE7vVAiAe2CU7LuJrr-HiKo3LhJavSLGnpeeGgJP06KcXDyH7xw%3D%3D/playlist/index.m3u8\"\n"
          ]
        },
        {
          "output_type": "stream",
          "name": "stdout",
          "text": [
            "[hlsnative] Downloading m3u8 manifest\n",
            "[hlsnative] Total fragments: 9\n",
            "[download] Destination: /content/MyYoutubeDLs/Misdiagnosed with Bipolar Due to Paxil #psychiatrictreatment #psychmeds #paxil #benzo [sYTGohF5XQk].f614.mp4\n",
            "[download] 100% of    6.97MiB in 00:00:15 at 467.26KiB/s              \n"
          ]
        },
        {
          "output_type": "stream",
          "name": "stderr",
          "text": [
            "[debug] Invoking http downloader on \"https://rr5---sn-qxo7rn7r.googlevideo.com/videoplayback?expire=1745904998&ei=BhEQaJrdNOzzsfIP96PVwAw&ip=34.168.94.101&id=o-AB9hoOF1UnD7EtyQuutJ8jnuAxAXHi615zYyTWdwpeAW&itag=140&source=youtube&requiressl=yes&xpc=EgVo2aDSNQ%3D%3D&met=1745883398%2C&mh=D8&mm=31%2C26&mn=sn-qxo7rn7r%2Csn-a5meknzr&ms=au%2Conr&mv=m&mvi=5&pl=18&rms=au%2Cau&initcwndbps=3878750&bui=AecWEAZlvGKhUc4oi_xIdLXGxv9K1Gx_uYx82vWmNTItV2KCrppPpLhGrb03Y-xVMmJ1bKcj4fpncbRt&vprv=1&svpuc=1&mime=audio%2Fmp4&ns=3XDcGtwT1XvbrGVoCwU7bpAQ&rqh=1&gir=yes&clen=952741&dur=58.816&lmt=1722096281864513&mt=1745882934&fvip=4&keepalive=yes&lmw=1&c=TVHTML5&sefc=1&txp=6318224&n=eHbRZXHK2ad-QA&sparams=expire%2Cei%2Cip%2Cid%2Citag%2Csource%2Crequiressl%2Cxpc%2Cbui%2Cvprv%2Csvpuc%2Cmime%2Cns%2Crqh%2Cgir%2Cclen%2Cdur%2Clmt&sig=AJfQdSswRgIhALRQVHAgPidsNirQXF3v_Btu7xX_70mtuWUspbYpdPUgAiEAmRJKgg-eVXjYEqQRocGc40BnGSsBDpVRI1rKJYi4l_0%3D&lsparams=met%2Cmh%2Cmm%2Cmn%2Cms%2Cmv%2Cmvi%2Cpl%2Crms%2Cinitcwndbps&lsig=ACuhMU0wRgIhALBnxF8rR4tAXVWW7n3jIZY36UhskswyHvZNbdeKK6NVAiEAx0Weu8lT5OG177xU26RoNPiG0RrcfVTUBJQugSwgQGw%3D\"\n"
          ]
        },
        {
          "output_type": "stream",
          "name": "stdout",
          "text": [
            "[download] Destination: /content/MyYoutubeDLs/Misdiagnosed with Bipolar Due to Paxil #psychiatrictreatment #psychmeds #paxil #benzo [sYTGohF5XQk].f140.m4a\n",
            "[download] 100% of  930.41KiB in 00:00:02 at 428.03KiB/s \n",
            "[Merger] Merging formats into \"/content/MyYoutubeDLs/Misdiagnosed with Bipolar Due to Paxil #psychiatrictreatment #psychmeds #paxil #benzo [sYTGohF5XQk].mp4\"\n"
          ]
        },
        {
          "output_type": "stream",
          "name": "stderr",
          "text": [
            "[debug] ffmpeg command line: ffmpeg -y -loglevel repeat+info -i 'file:/content/MyYoutubeDLs/Misdiagnosed with Bipolar Due to Paxil #psychiatrictreatment #psychmeds #paxil #benzo [sYTGohF5XQk].f614.mp4' -i 'file:/content/MyYoutubeDLs/Misdiagnosed with Bipolar Due to Paxil #psychiatrictreatment #psychmeds #paxil #benzo [sYTGohF5XQk].f140.m4a' -c copy -map 0:v:0 -map 1:a:0 -movflags +faststart 'file:/content/MyYoutubeDLs/Misdiagnosed with Bipolar Due to Paxil #psychiatrictreatment #psychmeds #paxil #benzo [sYTGohF5XQk].temp.mp4'\n"
          ]
        },
        {
          "output_type": "stream",
          "name": "stdout",
          "text": [
            "Deleting original file /content/MyYoutubeDLs/Misdiagnosed with Bipolar Due to Paxil #psychiatrictreatment #psychmeds #paxil #benzo [sYTGohF5XQk].f140.m4a (pass -k to keep)\n",
            "Deleting original file /content/MyYoutubeDLs/Misdiagnosed with Bipolar Due to Paxil #psychiatrictreatment #psychmeds #paxil #benzo [sYTGohF5XQk].f614.mp4 (pass -k to keep)\n",
            "-> Success or skipped (due to existing file/error ignored): https://www.youtube.com/shorts/sYTGohF5XQk\n",
            "\n",
            "[47/48] Attempting to download: https://www.youtube.com/shorts/59zcjtFoXzs\n",
            "[youtube] Extracting URL: https://www.youtube.com/shorts/59zcjtFoXzs\n",
            "[youtube] 59zcjtFoXzs: Downloading webpage\n",
            "[youtube] 59zcjtFoXzs: Downloading tv client config\n",
            "[youtube] 59zcjtFoXzs: Downloading tv player API JSON\n",
            "[youtube] 59zcjtFoXzs: Downloading ios player API JSON\n"
          ]
        },
        {
          "output_type": "stream",
          "name": "stderr",
          "text": [
            "[debug] [youtube] Decrypted nsig x2U0_5ExzrMYff5V => Vtvg2dEPeOHL7Q\n",
            "[debug] [youtube] Decrypted nsig Om2ig052gre-sx5M => zBi44x_WmzRaLQ\n",
            "[debug] [youtube] 59zcjtFoXzs: ios client https formats require a GVS PO Token which was not provided. They will be skipped as they may yield HTTP Error 403. You can manually pass a GVS PO Token for this client with --extractor-args \"youtube:po_token=ios.gvs+XXX\". For more information, refer to  https://github.com/yt-dlp/yt-dlp/wiki/PO-Token-Guide . To enable these broken formats anyway, pass --extractor-args \"youtube:formats=missing_pot\"\n"
          ]
        },
        {
          "output_type": "stream",
          "name": "stdout",
          "text": [
            "[youtube] 59zcjtFoXzs: Downloading m3u8 information\n"
          ]
        },
        {
          "output_type": "stream",
          "name": "stderr",
          "text": [
            "[debug] Sort order given by extractor: quality, res, fps, hdr:12, source, vcodec, channels, acodec, lang, proto\n",
            "[debug] Formats sorted by: hasvid, ie_pref, quality, res, fps, hdr:12(7), source, vcodec, channels, acodec, lang, proto, size, br, asr, vext, aext, hasaud, id\n"
          ]
        },
        {
          "output_type": "stream",
          "name": "stdout",
          "text": [
            "[info] 59zcjtFoXzs: Downloading 1 format(s): 609+140\n"
          ]
        },
        {
          "output_type": "stream",
          "name": "stderr",
          "text": [
            "[debug] Invoking hlsnative downloader on \"https://manifest.googlevideo.com/api/manifest/hls_playlist/expire/1745905025/ei/IREQaIH9L6WysfIPruWS4Ak/ip/34.168.94.101/id/e7dcdc8ed1685f3b/itag/609/source/youtube/requiressl/yes/ratebypass/yes/pfa/1/wft/1/sgovp/clen%3D272917%3Bdur%3D6.083%3Bgir%3Dyes%3Bitag%3D247%3Blmt%3D1675102290186237/rqh/1/hls_chunk_host/rr4---sn-qxo7rn7k.googlevideo.com/xpc/EgVo2aDSNQ%3D%3D/met/1745883425,/mh/rd/mm/31,29/mn/sn-qxo7rn7k,sn-qxoednee/ms/au,rdu/mv/m/mvi/4/pl/18/rms/au,au/initcwndbps/3878750/bui/AecWEAaXZ0L12wGKEJzynSRzNDFtP1TPmtCEA0N8lji8Cxy6mhT8HGys3lPSN86kL7d4VeqEil6st5SC/spc/wk1kZpfgkaXdkULMQOEaDiLOWMPB5oVlkV13wT35yuzMG0fiQP5JDeRQdrEyq-ph28Q/vprv/1/playlist_type/DVR/dover/13/txp/631A224/mt/1745882934/fvip/2/short_key/1/keepalive/yes/sparams/expire,ei,ip,id,itag,source,requiressl,ratebypass,pfa,wft,sgovp,rqh,xpc,bui,spc,vprv,playlist_type/sig/AJfQdSswRgIhAP96OdaDc3FsX57JiUsdnFK7CsVbPUWWPf7VxNwD7tc9AiEAzMLTKC3TQcDOKBe-KMbZCdybFGw_qChMGRUBrdvaCQc%3D/lsparams/hls_chunk_host,met,mh,mm,mn,ms,mv,mvi,pl,rms,initcwndbps/lsig/ACuhMU0wRQIhAIga1CmIyHtgL2abcm1y9LSakHorUo4V9dqL3kpPbWtiAiAi5PRmTRm4tiy_pQNSm-EUw30f2q9VyDCOiXKnDsEo1Q%3D%3D/playlist/index.m3u8\"\n"
          ]
        },
        {
          "output_type": "stream",
          "name": "stdout",
          "text": [
            "[hlsnative] Downloading m3u8 manifest\n",
            "[hlsnative] Total fragments: 1\n",
            "[download] Destination: /content/MyYoutubeDLs/medication is a tool, if it helps, that's fine. #psychmeds #takeyourmeds #mentalhealth [59zcjtFoXzs].f609.mp4\n",
            "[download] 100% of  267.96KiB in 00:00:00 at 300.09KiB/s               \n"
          ]
        },
        {
          "output_type": "stream",
          "name": "stderr",
          "text": [
            "[debug] Invoking http downloader on \"https://rr4---sn-qxo7rn7k.googlevideo.com/videoplayback?expire=1745905025&ei=IREQaOL1KciQsfIPwuDgoAw&ip=34.168.94.101&id=o-AAzZgEihQ8toXPgFv3W03ftf2L1w8rTwHtJroJUam9z7&itag=140&source=youtube&requiressl=yes&xpc=EgVo2aDSNQ%3D%3D&met=1745883425%2C&mh=rd&mm=31%2C29&mn=sn-qxo7rn7k%2Csn-qxoednee&ms=au%2Crdu&mv=m&mvi=4&pl=18&rms=au%2Cau&initcwndbps=3878750&bui=AecWEAbpDVTMRTAIA9HhIEUbllFCmjn-wCoiA8VejjWm00QzUqsbjFkLVRM_V2FP2MOvjcwitq9SjSGp&vprv=1&svpuc=1&mime=audio%2Fmp4&ns=oCu1fagiT7tNtElkwVoDJ9wQ&rqh=1&gir=yes&clen=100292&dur=6.153&lmt=1675102300645594&mt=1745882934&fvip=2&keepalive=yes&lmw=1&c=TVHTML5&sefc=1&txp=6318224&n=zBi44x_WmzRaLQ&sparams=expire%2Cei%2Cip%2Cid%2Citag%2Csource%2Crequiressl%2Cxpc%2Cbui%2Cvprv%2Csvpuc%2Cmime%2Cns%2Crqh%2Cgir%2Cclen%2Cdur%2Clmt&sig=AJfQdSswRAIgbLr-5zKP0YSuRzh0YAwO-Lo43QgXFpKigcyTLJddAlcCIFudqc37ftcLD8QmnpeQWrdZMSYirTjFjUYJpXyPVrIq&lsparams=met%2Cmh%2Cmm%2Cmn%2Cms%2Cmv%2Cmvi%2Cpl%2Crms%2Cinitcwndbps&lsig=ACuhMU0wRQIgboOLmdFz25yq7UDn7Cd86EAt_gQJrOr2EDXRcQI83UkCIQDxVZK6bE6rbzpNZ3f2Vaf2Lz1ChDfhhUbYbQztsf3Veg%3D%3D\"\n"
          ]
        },
        {
          "output_type": "stream",
          "name": "stdout",
          "text": [
            "[download] Destination: /content/MyYoutubeDLs/medication is a tool, if it helps, that's fine. #psychmeds #takeyourmeds #mentalhealth [59zcjtFoXzs].f140.m4a\n",
            "[download] 100% of   97.94KiB in 00:00:00 at 218.85KiB/s \n",
            "[Merger] Merging formats into \"/content/MyYoutubeDLs/medication is a tool, if it helps, that's fine. #psychmeds #takeyourmeds #mentalhealth [59zcjtFoXzs].mp4\"\n"
          ]
        },
        {
          "output_type": "stream",
          "name": "stderr",
          "text": [
            "[debug] ffmpeg command line: ffmpeg -y -loglevel repeat+info -i 'file:/content/MyYoutubeDLs/medication is a tool, if it helps, that'\"'\"'s fine. #psychmeds #takeyourmeds #mentalhealth [59zcjtFoXzs].f609.mp4' -i 'file:/content/MyYoutubeDLs/medication is a tool, if it helps, that'\"'\"'s fine. #psychmeds #takeyourmeds #mentalhealth [59zcjtFoXzs].f140.m4a' -c copy -map 0:v:0 -map 1:a:0 -movflags +faststart 'file:/content/MyYoutubeDLs/medication is a tool, if it helps, that'\"'\"'s fine. #psychmeds #takeyourmeds #mentalhealth [59zcjtFoXzs].temp.mp4'\n"
          ]
        },
        {
          "output_type": "stream",
          "name": "stdout",
          "text": [
            "Deleting original file /content/MyYoutubeDLs/medication is a tool, if it helps, that's fine. #psychmeds #takeyourmeds #mentalhealth [59zcjtFoXzs].f140.m4a (pass -k to keep)\n",
            "Deleting original file /content/MyYoutubeDLs/medication is a tool, if it helps, that's fine. #psychmeds #takeyourmeds #mentalhealth [59zcjtFoXzs].f609.mp4 (pass -k to keep)\n",
            "-> Success or skipped (due to existing file/error ignored): https://www.youtube.com/shorts/59zcjtFoXzs\n",
            "\n",
            "[48/48] Attempting to download: https://www.youtube.com/shorts/tgOeeJauA4g\n",
            "[youtube] Extracting URL: https://www.youtube.com/shorts/tgOeeJauA4g\n",
            "[youtube] tgOeeJauA4g: Downloading webpage\n",
            "[youtube] tgOeeJauA4g: Downloading tv client config\n",
            "[youtube] tgOeeJauA4g: Downloading tv player API JSON\n",
            "[youtube] tgOeeJauA4g: Downloading ios player API JSON\n"
          ]
        },
        {
          "output_type": "stream",
          "name": "stderr",
          "text": [
            "[debug] [youtube] Decrypted nsig lMITXZwDorXiV31V => F-RbzOMVMCvL9Q\n",
            "[debug] [youtube] Decrypted nsig TQT7arcCurWr5jiN => lxWjRHIpHFGbSQ\n",
            "[debug] [youtube] tgOeeJauA4g: ios client https formats require a GVS PO Token which was not provided. They will be skipped as they may yield HTTP Error 403. You can manually pass a GVS PO Token for this client with --extractor-args \"youtube:po_token=ios.gvs+XXX\". For more information, refer to  https://github.com/yt-dlp/yt-dlp/wiki/PO-Token-Guide . To enable these broken formats anyway, pass --extractor-args \"youtube:formats=missing_pot\"\n"
          ]
        },
        {
          "output_type": "stream",
          "name": "stdout",
          "text": [
            "[youtube] tgOeeJauA4g: Downloading m3u8 information\n"
          ]
        },
        {
          "output_type": "stream",
          "name": "stderr",
          "text": [
            "[debug] Sort order given by extractor: quality, res, fps, hdr:12, source, vcodec, channels, acodec, lang, proto\n",
            "[debug] Formats sorted by: hasvid, ie_pref, quality, res, fps, hdr:12(7), source, vcodec, channels, acodec, lang, proto, size, br, asr, vext, aext, hasaud, id\n"
          ]
        },
        {
          "output_type": "stream",
          "name": "stdout",
          "text": [
            "[info] tgOeeJauA4g: Downloading 1 format(s): 609+140\n"
          ]
        },
        {
          "output_type": "stream",
          "name": "stderr",
          "text": [
            "[debug] Invoking hlsnative downloader on \"https://manifest.googlevideo.com/api/manifest/hls_playlist/expire/1745905037/ei/LREQaK39HrGpsfIPsLX58AI/ip/34.168.94.101/id/b6039e7896ae0388/itag/609/source/youtube/requiressl/yes/ratebypass/yes/pfa/1/wft/1/sgovp/clen%3D1097850%3Bdur%3D13.966%3Bgir%3Dyes%3Bitag%3D247%3Blmt%3D1705496566468934/rqh/1/hls_chunk_host/rr2---sn-qxoedne7.googlevideo.com/xpc/EgVo2aDSNQ%3D%3D/met/1745883437,/mh/q6/mm/31,26/mn/sn-qxoedne7,sn-a5msen7l/ms/au,onr/mv/m/mvi/2/pl/18/rms/au,au/initcwndbps/3878750/bui/AecWEAakUrWhTmeeV8X6-zKMWQB0yNbBR3PnGP8m5HuUIcA-rpwx0EqtaLlNcmF8xyXG7W1YnBe7Mo7G/spc/wk1kZlYdHEuawn5Wx7s_zBNs8q_wogj8z277ZNte8iqUpZ4rExzx0xGTszSP7hP354U/vprv/1/playlist_type/DVR/dover/13/txp/630A224/mt/1745882934/fvip/1/short_key/1/keepalive/yes/sparams/expire,ei,ip,id,itag,source,requiressl,ratebypass,pfa,wft,sgovp,rqh,xpc,bui,spc,vprv,playlist_type/sig/AJfQdSswRAIgZ2zWtslF1AlaDPO8crNJEntlL7GH0SQc35ooMlTBhiUCIDM7iI7kDEjJDOkBjOYLF2yYJINUU531pl835k9_vOvE/lsparams/hls_chunk_host,met,mh,mm,mn,ms,mv,mvi,pl,rms,initcwndbps/lsig/ACuhMU0wRQIhAIFgnvAH9Fph2KQUzJR0kl-XR36N6mECDPvlDeflAiqdAiAyPg2T6I0y3o9opwOU0nZcUUNTFhhrwATdXxOeeUZ-Pg%3D%3D/playlist/index.m3u8\"\n"
          ]
        },
        {
          "output_type": "stream",
          "name": "stdout",
          "text": [
            "[hlsnative] Downloading m3u8 manifest\n",
            "[hlsnative] Total fragments: 3\n",
            "[download] Destination: /content/MyYoutubeDLs/#akathisia #antipsychiatry #benzodiazepines #antidepressant #antipsychotics [tgOeeJauA4g].f609.mp4\n",
            "[download] 100% of    1.05MiB in 00:00:02 at 381.41KiB/s             \n"
          ]
        },
        {
          "output_type": "stream",
          "name": "stderr",
          "text": [
            "[debug] Invoking http downloader on \"https://rr5---sn-qxo7rn7r.googlevideo.com/videoplayback?expire=1745905037&ei=LREQaPizGeiQsfIP07eqUQ&ip=34.168.94.101&id=o-AKW0Fo6AskH21QcCrM3oZyVHD2W9gTuDjhEVzpsT60Ct&itag=140&source=youtube&requiressl=yes&xpc=EgVo2aDSNQ%3D%3D&met=1745883437%2C&mh=q6&mm=31%2C26&mn=sn-qxo7rn7r%2Csn-a5mekn6d&ms=au%2Conr&mv=m&mvi=5&pl=18&rms=au%2Cau&initcwndbps=3878750&bui=AecWEAYwdORvEUiJ8jlj4yGP7TIc16w-QHcIwr4BXbkGWjSkq3AGTLzay_eweqW7lCLgP3VhpAb5F-eH&vprv=1&svpuc=1&mime=audio%2Fmp4&ns=xD20T9t_I6Qos8PB8GwiEt4Q&rqh=1&gir=yes&clen=227709&dur=14.024&lmt=1705496556725949&mt=1745882934&fvip=2&keepalive=yes&lmw=1&c=TVHTML5&sefc=1&txp=6308224&n=lxWjRHIpHFGbSQ&sparams=expire%2Cei%2Cip%2Cid%2Citag%2Csource%2Crequiressl%2Cxpc%2Cbui%2Cvprv%2Csvpuc%2Cmime%2Cns%2Crqh%2Cgir%2Cclen%2Cdur%2Clmt&sig=AJfQdSswRQIgPx4VFEK-j2FJZzXaOAWNGkC8t81GLYNs-cc4TAQ97ZcCIQCNWte9EWID7RkFm6iJMEIKnmTb_ff2V9DLZi4PMJNGyA%3D%3D&lsparams=met%2Cmh%2Cmm%2Cmn%2Cms%2Cmv%2Cmvi%2Cpl%2Crms%2Cinitcwndbps&lsig=ACuhMU0wRAIgcYX2Fs6VM6UpJNoGJX5JTiDsZgV_oCsrIlVSecMCJ4kCICrm38Xz-mDS4Wn36vOnJMO83ls0BU81ZalVTfqorGEg\"\n"
          ]
        },
        {
          "output_type": "stream",
          "name": "stdout",
          "text": [
            "[download] Destination: /content/MyYoutubeDLs/#akathisia #antipsychiatry #benzodiazepines #antidepressant #antipsychotics [tgOeeJauA4g].f140.m4a\n",
            "[download] 100% of  222.37KiB in 00:00:00 at 311.98KiB/s \n",
            "[Merger] Merging formats into \"/content/MyYoutubeDLs/#akathisia #antipsychiatry #benzodiazepines #antidepressant #antipsychotics [tgOeeJauA4g].mp4\"\n"
          ]
        },
        {
          "output_type": "stream",
          "name": "stderr",
          "text": [
            "[debug] ffmpeg command line: ffmpeg -y -loglevel repeat+info -i 'file:/content/MyYoutubeDLs/#akathisia #antipsychiatry #benzodiazepines #antidepressant #antipsychotics [tgOeeJauA4g].f609.mp4' -i 'file:/content/MyYoutubeDLs/#akathisia #antipsychiatry #benzodiazepines #antidepressant #antipsychotics [tgOeeJauA4g].f140.m4a' -c copy -map 0:v:0 -map 1:a:0 -movflags +faststart 'file:/content/MyYoutubeDLs/#akathisia #antipsychiatry #benzodiazepines #antidepressant #antipsychotics [tgOeeJauA4g].temp.mp4'\n"
          ]
        },
        {
          "output_type": "stream",
          "name": "stdout",
          "text": [
            "Deleting original file /content/MyYoutubeDLs/#akathisia #antipsychiatry #benzodiazepines #antidepressant #antipsychotics [tgOeeJauA4g].f609.mp4 (pass -k to keep)\n",
            "Deleting original file /content/MyYoutubeDLs/#akathisia #antipsychiatry #benzodiazepines #antidepressant #antipsychotics [tgOeeJauA4g].f140.m4a (pass -k to keep)\n",
            "-> Success or skipped (due to existing file/error ignored): https://www.youtube.com/shorts/tgOeeJauA4g\n",
            "\n",
            "--- Batch Download Summary ---\n",
            "Attempted: 48\n",
            "Successful Downloads / Skips / Ignored Errors: 48\n",
            "Detected Errors (before ignoring): 0\n",
            "\n",
            "--- Download Process Complete ---\n",
            "Files should be located in the '/content/MyYoutubeDLs' folder within the Colab file browser.\n"
          ]
        }
      ],
      "source": [
        "import os\n",
        "import time\n",
        "import yt_dlp # Make sure yt_dlp is imported\n",
        "\n",
        "# --- Input URLs ---\n",
        "original_urls = [\n",
        "\"https://www.youtube.com/shorts/-6z7eaUiDis\",\n",
        "    \"https://www.youtube.com/shorts/dCq84gtJbN8\",\n",
        "    \"https://www.youtube.com/shorts/FTQElJQcfrQ\",\n",
        "    \"https://www.youtube.com/shorts/5pcRzx3H1eg\",\n",
        "    \"https://www.youtube.com/shorts/4BtKixyFrlI\",\n",
        "    \"https://www.youtube.com/shorts/k8qL4VwE_wQ\",\n",
        "    \"https://www.youtube.com/shorts/59zcjtFoXzs\",\n",
        "    \"https://www.youtube.com/shorts/KWlRTHoUw-U\",\n",
        "    \"https://www.youtube.com/shorts/X8LcDYt9TR4\",\n",
        "    \"https://www.youtube.com/shorts/2ou0xXjD-Qw\",\n",
        "    \"https://www.youtube.com/shorts/Pvk3AODN6Sc\",\n",
        "    \"https://www.youtube.com/shorts/in0PRlZRmwc\",\n",
        "    \"https://www.youtube.com/shorts/tgOeeJauA4g\",\n",
        "    \"https://www.youtube.com/shorts/6Hi8WlF0LK0\",\n",
        "    \"https://www.youtube.com/shorts/jGNe-UIBT4I\",\n",
        "    \"https://www.youtube.com/shorts/Kjq1JqxQBmU\",\n",
        "    \"https://www.youtube.com/shorts/gspQDuWNA3I\",\n",
        "    \"https://www.youtube.com/shorts/eGon3EKswo8\",\n",
        "    \"https://www.youtube.com/shorts/zL7kerPHYXQ\",\n",
        "    \"https://www.youtube.com/shorts/CH8WVtr-W8Q\",\n",
        "    \"https://www.youtube.com/shorts/lyjtbZOyk1k\",\n",
        "    \"https://www.youtube.com/shorts/r_m3nz2MAJQ\",\n",
        "    \"https://www.youtube.com/shorts/vfS1VcUgbDU\",\n",
        "    \"https://www.youtube.com/shorts/4fSphjYIqig\",\n",
        "    \"https://www.youtube.com/shorts/9b5-CfvtTtg\",\n",
        "    \"https://www.youtube.com/shorts/EJpo2jjaXlA\",\n",
        "    \"https://www.youtube.com/shorts/XHEwNCds79U\",\n",
        "    \"https://www.youtube.com/shorts/-fzITFKH8ec\",\n",
        "    \"https://www.youtube.com/shorts/6siIqEAZD0A\",\n",
        "    \"https://www.youtube.com/shorts/0TPHDeaHGJU\",\n",
        "    \"https://www.youtube.com/shorts/ogHJ0QdoXMg\",\n",
        "    \"https://www.youtube.com/shorts/Rv8vX6t7HDQ\",\n",
        "    \"https://www.youtube.com/shorts/CLJ3sIyaWro\",\n",
        "    \"https://www.youtube.com/shorts/JXiqF9kiSis\",\n",
        "    \"https://www.youtube.com/shorts/BvcvzdJS5FM\",\n",
        "    \"https://www.youtube.com/shorts/Blp_kwDqBk8\",\n",
        "    \"https://www.youtube.com/shorts/W0Y1SZrQ3JY\",\n",
        "    \"https://www.youtube.com/shorts/pdlhRKIvtwU\",\n",
        "    \"https://www.youtube.com/watch?v=gP1i93Gh0Ng\",\n",
        "    \"https://www.youtube.com/shorts/WkV-wULXwxg\",\n",
        "    \"https://www.youtube.com/shorts/V1SxCSfRL9A\",\n",
        "    \"https://www.youtube.com/shorts/ssPg3089Kco\",\n",
        "    \"https://www.youtube.com/shorts/US8Bd1wbraI\",\n",
        "    \"https://www.youtube.com/watch?v=byFP0lZSdR4\",\n",
        "    \"https://www.youtube.com/shorts/262Jze4AhtI\",\n",
        "    \"https://www.youtube.com/shorts/WkV-wULXwxg\",\n",
        "    \"https://www.youtube.com/shorts/sYTGohF5XQk\",\n",
        "    \"https://www.youtube.com/watch?v=vhplkMnVkA8\",\n",
        "    \"https://www.youtube.com/watch?v=Ibwp6TvPF3g\"\n",
        "]\n",
        "\n",
        "new_urls_text = \"\"\"https://www.youtube.com/watch?v=vhplkMnVkA8\"\"\"\n",
        "new_urls_list = [url.strip() for url in new_urls_text.strip().split('\\n') if url.strip()]\n",
        "\n",
        "# Combine and deduplicate\n",
        "all_unique_urls = list(set(original_urls + new_urls_list))\n",
        "print(f\"Found {len(all_unique_urls)} unique URLs to download.\")\n",
        "\n",
        "# --- Colab Download Directory Setup ---\n",
        "# Define a target directory within the Colab environment's file system\n",
        "# Files saved here are temporary unless you mount Google Drive\n",
        "target_dir = '/content/MyYoutubeDLs'\n",
        "\n",
        "# Ensure the target directory exists\n",
        "os.makedirs(target_dir, exist_ok=True)\n",
        "print(f\"Target directory set to: '{target_dir}'\")\n",
        "\n",
        "# --- yt-dlp Options (using the verbose version) ---\n",
        "ydl_opts = {\n",
        "    'outtmpl': os.path.join(target_dir, '%(title)s [%(id)s].%(ext)s'),\n",
        "    'format': 'bestvideo[ext=mp4]+bestaudio[ext=m4a]/best[ext=mp4]/best', # Tries to get best mp4 video and m4a audio, merges them\n",
        "    'quiet': False, # Show yt-dlp output\n",
        "    'verbose': True, # Show detailed logs for debugging\n",
        "    'noplaylist': True, # Don't download playlists if a video URL is part of one\n",
        "    'no_warnings': False, # Show warnings (can be helpful)\n",
        "    'merge_output_format': 'mp4', # Ensure merged output is mp4 if merging happens\n",
        "    'ignoreerrors': True, # Continue batch even if one video fails\n",
        "    'retries': 5, # Number of times to retry on network errors\n",
        "    'ratelimit': 512 * 1024, # Limit download speed to 512 KB/s (optional)\n",
        "    'force_ipv4': True # Try using IPv4 (can sometimes help with connection issues)\n",
        "}\n",
        "\n",
        "# --- Batch Download ---\n",
        "print(f\"\\n--- Starting Batch Download to {target_dir} ---\")\n",
        "download_count = 0\n",
        "error_count = 0\n",
        "ydl = None # Initialize ydl outside the try block\n",
        "\n",
        "try:\n",
        "    # Initialize YoutubeDL with the options\n",
        "    ydl = yt_dlp.YoutubeDL(ydl_opts)\n",
        "except Exception as e:\n",
        "    print(f\"Fatal error initializing YoutubeDL: {e}\")\n",
        "    # ydl remains None\n",
        "\n",
        "if ydl:\n",
        "    for i, video_url in enumerate(all_unique_urls):\n",
        "        print(f\"\\n[{i+1}/{len(all_unique_urls)}] Attempting to download: {video_url}\")\n",
        "        try:\n",
        "            # Download the video information and the video itself\n",
        "            ydl.extract_info(video_url, download=True)\n",
        "            print(f\"-> Success or skipped (due to existing file/error ignored): {video_url}\")\n",
        "            download_count += 1\n",
        "        except yt_dlp.utils.DownloadError as e:\n",
        "            # Specific download errors from yt-dlp\n",
        "            print(f\"-> DownloadError for {video_url}: {e}\")\n",
        "            error_count += 1\n",
        "        except Exception as e:\n",
        "            # Catch any other unexpected errors during download attempt\n",
        "            print(f\"-> Unexpected error for {video_url}: {e}\")\n",
        "            error_count += 1\n",
        "\n",
        "        # Add a delay between downloads to be polite to servers and avoid potential rate limits\n",
        "        time.sleep(5)\n",
        "\n",
        "    print(\"\\n--- Batch Download Summary ---\")\n",
        "    print(f\"Attempted: {len(all_unique_urls)}\")\n",
        "    # Note: download_count includes successes and skips/ignored errors\n",
        "    print(f\"Successful Downloads / Skips / Ignored Errors: {download_count}\")\n",
        "    print(f\"Detected Errors (before ignoring): {error_count}\")\n",
        "else:\n",
        "    print(\"Download skipped: yt-dlp object could not be initialized.\")\n",
        "\n",
        "print(\"\\n--- Download Process Complete ---\")\n",
        "print(f\"Files should be located in the '{target_dir}' folder within the Colab file browser.\")"
      ]
    },
    {
      "cell_type": "code",
      "source": [
        "# Step 1: Ensure required libraries are installed (Run this cell if needed)\n",
        "# !pip install google-generativeai opencv-python pillow\n",
        "\n",
        "# Step 2: Import libraries\n",
        "import cv2\n",
        "import os\n",
        "from PIL import Image\n",
        "# from google.colab import files # No longer needed for upload\n",
        "import google.generativeai as genai\n",
        "import glob # Added for finding files\n",
        "\n",
        "# Step 3: Specify the video directory and find video files\n",
        "video_directory = '/content/MyYoutubeDLs' # Directory where videos were downloaded\n",
        "video_files = []\n",
        "supported_extensions = ('.mp4', '.mov', '.avi', '.mkv', '.webm') # Add more if needed\n",
        "\n",
        "print(f\"Looking for video files in: {video_directory}\")\n",
        "\n",
        "if not os.path.isdir(video_directory):\n",
        "    print(f\"❌ Error: Directory not found: {video_directory}\")\n",
        "    print(\"Please ensure the previous download script ran successfully and created this folder.\")\n",
        "else:\n",
        "    # Find all files with supported extensions in the directory\n",
        "    for extension in supported_extensions:\n",
        "        # Use glob to find files matching the pattern (case-insensitive)\n",
        "        video_files.extend(glob.glob(os.path.join(video_directory, f'*{extension}')))\n",
        "        video_files.extend(glob.glob(os.path.join(video_directory, f'*{extension.upper()}'))) # Check uppercase too\n",
        "\n",
        "    # Remove potential duplicates if extensions were found in both cases\n",
        "    video_files = list(set(video_files))\n",
        "\n",
        "    if not video_files:\n",
        "        print(f\"❌ No video files with extensions {supported_extensions} found in {video_directory}.\")\n",
        "    else:\n",
        "        print(f\"✅ Found {len(video_files)} video file(s):\")\n",
        "        for vf in video_files:\n",
        "            print(f\"  - {os.path.basename(vf)}\")\n",
        "\n",
        "# Proceed only if video files were found\n",
        "if video_files:\n",
        "    # Step 4: Extract N sample frames from each video\n",
        "    def extract_frames(video_path, num_frames=3):\n",
        "        # Check if the video file actually exists before processing\n",
        "        if not os.path.exists(video_path):\n",
        "            print(f\"⚠️ Warning: Video file not found at path: {video_path}. Skipping frame extraction.\")\n",
        "            return []\n",
        "\n",
        "        vidcap = cv2.VideoCapture(video_path)\n",
        "        if not vidcap.isOpened():\n",
        "            print(f\"⚠️ Warning: Could not open video file: {video_path}. Skipping.\")\n",
        "            return []\n",
        "\n",
        "        total_frames = int(vidcap.get(cv2.CAP_PROP_FRAME_COUNT))\n",
        "        # Ensure total_frames is positive to avoid division by zero or negative step\n",
        "        if total_frames <= 0:\n",
        "             print(f\"⚠️ Warning: Video file {video_path} has 0 or invalid frame count. Skipping.\")\n",
        "             vidcap.release()\n",
        "             return []\n",
        "\n",
        "        # Ensure num_frames doesn't exceed total_frames\n",
        "        actual_num_frames = min(num_frames, total_frames)\n",
        "        # Calculate step, ensuring it's at least 1 and avoids division by zero if actual_num_frames is 0 (though checked above)\n",
        "        step = max(1, total_frames // actual_num_frames if actual_num_frames > 0 else 1)\n",
        "\n",
        "        extracted = []\n",
        "        output_dir = os.path.dirname(video_path) # Save frames in the same dir as video\n",
        "\n",
        "        for i in range(actual_num_frames):\n",
        "            frame_num = i * step\n",
        "             # Ensure frame number is within valid range\n",
        "            if frame_num >= total_frames:\n",
        "                frame_num = total_frames - 1\n",
        "\n",
        "            vidcap.set(cv2.CAP_PROP_POS_FRAMES, frame_num)\n",
        "            success, image = vidcap.read()\n",
        "            if success:\n",
        "                # Create a more unique frame filename incorporating video name\n",
        "                base_name = os.path.splitext(os.path.basename(video_path))[0]\n",
        "                frame_file = os.path.join(output_dir, f\"{base_name}_frame_{i}.jpg\")\n",
        "                try:\n",
        "                    cv2.imwrite(frame_file, image)\n",
        "                    extracted.append(frame_file)\n",
        "                except Exception as e:\n",
        "                    print(f\"⚠️ Warning: Could not write frame {frame_file}. Error: {e}\")\n",
        "            else:\n",
        "                 # Try reading the next frame immediately if the specific one failed\n",
        "                 success, image = vidcap.read()\n",
        "                 if success:\n",
        "                     base_name = os.path.splitext(os.path.basename(video_path))[0]\n",
        "                     frame_file = os.path.join(output_dir, f\"{base_name}_frame_{i}_fallback.jpg\")\n",
        "                     try:\n",
        "                         cv2.imwrite(frame_file, image)\n",
        "                         extracted.append(frame_file)\n",
        "                     except Exception as e:\n",
        "                        print(f\"⚠️ Warning: Could not write fallback frame {frame_file}. Error: {e}\")\n",
        "                 else:\n",
        "                    print(f\"⚠️ Warning: Failed to read frame {i} (position {frame_num}) from {video_path}\")\n",
        "\n",
        "\n",
        "        vidcap.release()\n",
        "        # Clean up frame files after processing? (Optional - keep for inspection for now)\n",
        "        # print(f\"   Extracted {len(extracted)} frames for {os.path.basename(video_path)}\")\n",
        "        return extracted\n",
        "\n",
        "    # Step 5: Configure Gemini API\n",
        "    # --- IMPORTANT: Replace with your actual API key ---\n",
        "    # Note: Avoid hardcoding keys directly in scripts shared publicly.\n",
        "    # Consider using Colab Secrets or environment variables.\n",
        "    GEMINI_API_KEY = '' # <--- PASTE YOUR KEY HERE\n",
        "    try:\n",
        "        genai.configure(api_key=GEMINI_API_KEY)\n",
        "        model = genai.GenerativeModel(model_name=\"gemini-1.5-pro-latest\")\n",
        "        print(\"✅ Gemini API configured.\")\n",
        "    except Exception as e:\n",
        "        print(f\"❌ Error configuring Gemini API: {e}\")\n",
        "        model = None # Ensure model is None if configuration fails\n",
        "\n",
        "    # Step 6: Define the common prompt (Your detailed prompt remains the same)\n",
        "    prompt = \"\"\"\n",
        "    Q1:\n",
        "    function findBodilySideEffects(Video Transcript):\n",
        "    {Analyze the video transcript and answer whether the speaker in the video has experienced a bodily side effect by taking the antidepressant medication.}\n",
        "    return type {Bodily Side Effect: Followed by 1 to 3 words that refer to the bodily side effect. If no bodily side effects are mentioned return None}\n",
        "\n",
        "    Q2\n",
        "    function findPsychologicalSideEffects(Video Transcript):\n",
        "    {Analyze the video transcript and answer whether the speaker in the video has experienced a psychological side effect by taking the antidepressants medication.}\n",
        "    return type {Psychological Side Effect: Followed by 1 to 3 words that refer to the psychological side effect. If no psychological side effects are mentioned return None}\n",
        "    Q3\n",
        "    function assessOverallHealthChange(Video Transcript):\n",
        "    {Analyze the video transcript to determine if the speaker reports a change (improvement or decline) in their overall health while taking the medication.}\n",
        "    return type { Overall Health Change Integer: Return 1 if an improvement in overall health is mentioned. Return -1 if a decline in overall health is mentioned. Return 0 if neither improvement nor decline is explicitly mentioned.}\n",
        "\n",
        "    Q4\n",
        "    function determineMedicationStance(Video Transcript):\n",
        "    {Analyze the video transcript to determine if the speaker's overall message advocates for taking the medication, warns against taking it, or presents a neutral/unclear stance.}\n",
        "    return type {Medication Stance Integer: Return 1 if the speaker advocates for the medication. Return -1 if the speaker warns against or advocates against the medication. Return 0 if the speaker does not clearly advocate for or against the medication.}\n",
        "\n",
        "    Q5\n",
        "    function checkMedicationContinuationStatus(Video Transcript):\n",
        "    {Analyze the video transcript to determine if the speaker mentions stopping the medication, continuing the medication, or provides no information on this topic.}\n",
        "    return type {Medication Continuation Status Integer: Return 1 if the speaker mentions stopping the medication. Return -1 if the speaker mentions continuing the medication. Return 0 if the speaker does not mention either stopping or continuing the medication.}\n",
        "    Q6\n",
        "    function findWithdrawalSymptoms(Video Transcript):\n",
        "    {Analyze the video transcript to determine if the speaker mentions experiencing withdrawal symptoms after stopping antidepressant medication.}\n",
        "    return type {Withdrawal Symptom: Followed by 1 to 3 words that refer to the withdrawal symptom. If multiple symptoms are mentioned, list each one using 1 to 3 words. If no withdrawal symptoms are mentioned return None}\n",
        "\n",
        "    Q7\n",
        "    function listMentionedAntidepressants(Video Transcript):\n",
        "    {Analyze the video transcript and extract the specific names of any antidepressant medications the speaker explicitly mentions.}\n",
        "    return type {Medication Name: The specific name(s) of the antidepressant medication(s) mentioned. If multiple medications are mentioned, list all names. If no antidepressant medication names are explicitly mentioned, return None}\n",
        "\n",
        "    Q8\n",
        "    function listMedicationDosages(Video Transcript):\n",
        "    {Analyze the video transcript to identify specific antidepressant medications mentioned by the speaker and their corresponding dosages.}\n",
        "    return type {Medication Dosage Pair: For each medication where a dosage is explicitly mentioned, return the pair in the format \"Medication Name: [Name], Dosage: [Dosage]\". List all such pairs found in the transcript. If no medication dosages are mentioned (even if medication names are mentioned without dosages), return None}\n",
        "\n",
        "    Q9\n",
        "    function checkDosageChangeStatus(Video Transcript):\n",
        "    {Analyze the video transcript to determine if the speaker mentions a specific change (increase or decrease) in their antidepressant medication dosage, explicitly mentions continuing the same dosage, or makes no mention related to dosage changes.}\n",
        "    return type { Status Code: Integer. Return 1 if a specific dosage change is mentioned. Return -1 if the speaker explicitly mentions continuing the current dosage without change. Return 0 if no mention of dosage change or explicit continuation is found.\n",
        "    Dosage Change Details: String or None. If Status Code is 1, return a string detailing the change mentioned, formatted like \"[Medication Name, if mentioned]: [Old Dosage] to [New Dosage]\" (e.g., \"Sertraline: 50mg to 100mg\" or \"Unknown Medication: 10mg to 20mg\"). If Status Code is not 1, return None. }\n",
        "\n",
        "    Q10\n",
        "    function getMedicationUsageDurationInMonths(Video Transcript):\n",
        "    {Analyze the video transcript to identify the total length of time the speaker mentions having used an antidepressant medication. If a duration is mentioned, convert this duration into a total number of months.}\n",
        "    return type {Total Months: Integer. Return the total duration of medication usage expressed as an integer number of months, rounding to the nearest whole number if necessary (e.g., \"1 year\" returns 12, \"2 years and 3 months\" returns 27, \"8 weeks\" returns 2). If no duration of usage is explicitly mentioned, return 0. Return only the final integer number, no text or explanation.}\n",
        "    Q11\n",
        "    function listAlternativeTreatments(Video Transcript):\n",
        "    {Analyze the video transcript to identify any treatments or approaches the speaker mentions using for their mental health condition, other than or in addition to antidepressant medication. Examples include therapy, exercise, dietary changes, meditation, supplements, etc.}\n",
        "    return type {Alternative Treatment: Followed by 1 to 3 words describing the treatment type (e.g., \"Cognitive Behavioral Therapy\", \"Regular Exercise\", \"Diet Modification\", \"Mindfulness Meditation\"). List all distinct alternative treatments mentioned. If no alternative treatments are explicitly mentioned, return None.}\n",
        "    Q12\n",
        "    function getOverallEmotionRoBERTa(Video Transcript):\n",
        "    {Analyze the provided video transcript to determine the predominant emotional tone conveyed by the speaker throughout the text. This analysis must utilize a RoBERTa-based emotion classification model.}\n",
        "    return type {Dominant Emotion: A single word representing the overall emotion label assigned by the RoBERTa model's classification for the entire transcript (e.g., Positive, Negative, Neutral, Joy, Sadness, Anger - depending on the specific model's labels). Return only this single word.}\n",
        "\n",
        "\n",
        "\n",
        "    Q13\n",
        "    function determineApparentGender(Video Data, Audio Data):\n",
        "    {Analyze the provided video data (visual appearance of the speaker) and audio data (vocal characteristics of the speaker) to infer the apparent gender of the primary speaker.}\n",
        "    return type {Apparent Gender: String. Return one of the following exact strings based on the analysis: \"Male\", \"Female\", or \"Undetermined\".}\n",
        "\n",
        "    Q14\n",
        "    function determineApparentAgeGroup(Video Data, Audio Data):\n",
        "    {Analyze the provided video data (visual appearance of the speaker) and audio data (vocal characteristics, particularly pitch) to estimate the apparent age group of the primary speaker.}\n",
        "    return type {Apparent Age Group: String. Return one of the following exact strings based on the combined visual and auditory analysis: \"Child\", \"Teenager\", \"Adult\", or \"Elderly\".}\n",
        "\n",
        "    Q15\n",
        "    function classifySpeakerRole(Video Transcript):\n",
        "    {Analyze the video transcript (considering speaker's statements, self-description, and overall context) to determine if the speaker identifies primarily as a content creator/influencer or specifically as a medical doctor.}\n",
        "    return type {Speaker Role Code: Integer. Return 1 if the speaker mentions or clearly presents themselves as a content creator or influencer. Return -1 if the speaker mentions or clearly presents themselves specifically as a doctor or mental health professional. Return 0 if neither of these roles is clearly identified or mentioned.}\n",
        "\n",
        "    Q15 # Note: You have two Q15s, renaming the second one to Q16 logically\n",
        "    function detectSuicidalIdeationMention(Video Transcript):\n",
        "    {Analyze the video transcript to determine if there is any explicit mention or clear discussion of suicidal thoughts, ideation, or tendencies.}\n",
        "    return type {Mention Detected: Integer. Return 1 if any mention or clear discussion related to suicidal thoughts or tendencies is found. Return 0 if no such content is found.}\n",
        "\n",
        "    Q16 # Note: Renaming Q16 to Q17 logically\n",
        "    function getReasonForStartingMedication(Video Transcript):\n",
        "    {Analyze the video transcript to determine if the speaker explicitly mentions the reason(s) for initiating antidepressant medication.}\n",
        "    return type { Mention Status: Integer. Return 1 if a reason for starting the medication is mentioned. Return 0 if no specific reason is mentioned. Reason Summary: String or None. If Mention Status is 1, provide a concise summary (1 to 3 words) of the main reason stated (e.g., \"Major Depression\", \"Panic Attacks\", \"Generalized Anxiety\"). If Mention Status is 0, return None. }\n",
        "    \"\"\"\n",
        "\n",
        "    # Step 7: Analyze each video (only if model is configured)\n",
        "    all_responses = {}\n",
        "    if model:\n",
        "        for video_path in video_files:\n",
        "            print(f\"\\nAnalyzing {os.path.basename(video_path)}...\")\n",
        "            frame_paths = extract_frames(video_path)\n",
        "\n",
        "            # Only proceed if frames were successfully extracted\n",
        "            if not frame_paths:\n",
        "                 print(f\"   Skipping API call for {os.path.basename(video_path)} due to frame extraction issues.\")\n",
        "                 all_responses[os.path.basename(video_path)] = \"❌ Error: Could not extract frames for analysis.\"\n",
        "                 continue # Skip to the next video\n",
        "\n",
        "            images = []\n",
        "            valid_frame_paths = []\n",
        "            for path in frame_paths:\n",
        "                try:\n",
        "                    img = Image.open(path)\n",
        "                    images.append(img)\n",
        "                    valid_frame_paths.append(path) # Keep track of successfully opened images\n",
        "                except Exception as e:\n",
        "                    print(f\"⚠️ Warning: Could not open frame image {path}. Error: {e}. Skipping this frame.\")\n",
        "\n",
        "            # Only proceed if at least one frame image could be opened\n",
        "            if not images:\n",
        "                print(f\"   Skipping API call for {os.path.basename(video_path)} as no valid frames could be opened.\")\n",
        "                all_responses[os.path.basename(video_path)] = \"❌ Error: Could not open any extracted frames for analysis.\"\n",
        "                # Clean up potentially created but unopenable frame files\n",
        "                for path in frame_paths:\n",
        "                   if os.path.exists(path):\n",
        "                       try:\n",
        "                           os.remove(path)\n",
        "                       except Exception as e_rem:\n",
        "                           print(f\"  > Could not remove frame file {path}: {e_rem}\")\n",
        "                continue # Skip to the next video\n",
        "\n",
        "\n",
        "            try:\n",
        "                # Pass the prompt and the list of PIL Image objects\n",
        "                response = model.generate_content([prompt] + images)\n",
        "                all_responses[os.path.basename(video_path)] = response.text\n",
        "                print(f\"✅ Finished analysis for: {os.path.basename(video_path)}\")\n",
        "            except Exception as e:\n",
        "                error_message = f\"❌ Error analyzing this video ({os.path.basename(video_path)}): {e}\"\n",
        "                all_responses[os.path.basename(video_path)] = error_message\n",
        "                print(error_message)\n",
        "            finally:\n",
        "                 # Clean up frame files after analysis for this video\n",
        "                 # print(f\"   Cleaning up {len(valid_frame_paths)} frame files for {os.path.basename(video_path)}...\")\n",
        "                 for path in valid_frame_paths: # Only try to remove files we successfully opened\n",
        "                     if os.path.exists(path):\n",
        "                         try:\n",
        "                             os.remove(path)\n",
        "                         except Exception as e_rem:\n",
        "                             print(f\"  > Could not remove frame file {path}: {e_rem}\")\n",
        "\n",
        "    else:\n",
        "        print(\"\\n❌ Skipping video analysis because the Gemini model could not be configured.\")\n",
        "\n",
        "    # Step 8: Display all results\n",
        "    print(\"\\n📊 Final Analysis Results:\")\n",
        "    if not all_responses:\n",
        "        print(\"No analysis was performed.\")\n",
        "    else:\n",
        "        for video_name, result in all_responses.items():\n",
        "            print(f\"\\n=== {video_name} ===\\n{result}\\n\")\n",
        "\n",
        "# Add this final check at the very end if no videos were found initially\n",
        "elif not os.path.isdir(video_directory):\n",
        "    # Message already printed in Step 3\n",
        "    pass\n",
        "else: # Directory exists but no videos were found\n",
        "    print(\"\\nNo videos found to process. Make sure videos are present in the specified directory and have supported extensions.\")"
      ],
      "metadata": {
        "colab": {
          "base_uri": "https://localhost:8080/",
          "height": 1000
        },
        "id": "egH6zDDuqAhV",
        "outputId": "c5c8820b-fa2c-455e-ca70-ce3c9e98bad2"
      },
      "execution_count": null,
      "outputs": [
        {
          "output_type": "stream",
          "name": "stdout",
          "text": [
            "Looking for video files in: /content/MyYoutubeDLs\n",
            "✅ Found 2 video file(s):\n",
            "  - First day on ADHD meds #mentalhealth #adhd #adhdwomen #anxious [-6z7eaUiDis].mp4\n",
            "  - ‘Being put on antidepressants as a teen made me feel more suicidal’ [vhplkMnVkA8].mp4\n",
            "✅ Gemini API configured.\n",
            "\n",
            "Analyzing First day on ADHD meds #mentalhealth #adhd #adhdwomen #anxious [-6z7eaUiDis].mp4...\n",
            "✅ Finished analysis for: First day on ADHD meds #mentalhealth #adhd #adhdwomen #anxious [-6z7eaUiDis].mp4\n",
            "\n",
            "Analyzing ‘Being put on antidepressants as a teen made me feel more suicidal’ [vhplkMnVkA8].mp4...\n",
            "✅ Finished analysis for: ‘Being put on antidepressants as a teen made me feel more suicidal’ [vhplkMnVkA8].mp4\n",
            "\n",
            "📊 Final Analysis Results:\n",
            "\n",
            "=== First day on ADHD meds #mentalhealth #adhd #adhdwomen #anxious [-6z7eaUiDis].mp4 ===\n",
            "Here are the answers based on the provided video transcript and assuming access to visual/audio data where needed:\n",
            "\n",
            "* **Q1: findBodilySideEffects(Video Transcript):**  {Bodily Side Effect: Headache}\n",
            "\n",
            "* **Q2: findPsychologicalSideEffects(Video Transcript):** {Psychological Side Effect: None}\n",
            "\n",
            "* **Q3: assessOverallHealthChange(Video Transcript):** {Overall Health Change Integer: 0}  (No explicit mention of improvement or decline)\n",
            "\n",
            "* **Q4: determineMedicationStance(Video Transcript):** {Medication Stance Integer: 0} (Neutral stance - describes an experience but doesn't advocate for or against)\n",
            "\n",
            "* **Q5: checkMedicationContinuationStatus(Video Transcript):** {Medication Continuation Status Integer: 0}  (No mention of stopping or continuing)\n",
            "\n",
            "* **Q6: findWithdrawalSymptoms(Video Transcript):** {Withdrawal Symptom: None}\n",
            "\n",
            "* **Q7: listMentionedAntidepressants(Video Transcript):** {Medication Name: None}\n",
            "\n",
            "* **Q8: listMedicationDosages(Video Transcript):** {Medication Dosage Pair: None}\n",
            "\n",
            "* **Q9: checkDosageChangeStatus(Video Transcript):** {Status Code: 0, Dosage Change Details: None}\n",
            "\n",
            "* **Q10: getMedicationUsageDurationInMonths(Video Transcript):** {Total Months: 0}\n",
            "\n",
            "* **Q11: listAlternativeTreatments(Video Transcript):** {Alternative Treatment: None}\n",
            "\n",
            "* **Q12: getOverallEmotionRoBERTa(Video Transcript):** {Dominant Emotion: Neutral} (This would require running the transcript through a RoBERTa model. I'm providing a likely result based on the relatively neutral tone of the transcript.)\n",
            "\n",
            "* **Q13: determineApparentGender(Video Data, Audio Data):** {Apparent Gender: Female} (Based on visual and likely auditory cues. This needs the actual video/audio.)\n",
            "\n",
            "* **Q14: determineApparentAgeGroup(Video Data, Audio Data):** {Apparent Age Group: Adult} (Based on visual appearance.  Needs the actual video/audio).\n",
            "\n",
            "* **Q15: classifySpeakerRole(Video Transcript):** {Speaker Role Code: 0} (No clear mention of being a content creator or medical doctor.  She mentions clients, which could be a variety of professions.)\n",
            "\n",
            "* **Q16: detectSuicidalIdeationMention(Video Transcript):** {Mention Detected: 0}\n",
            "\n",
            "* **Q17: getReasonForStartingMedication(Video Transcript):** {Mention Status: 0, Reason Summary: None}\n",
            "\n",
            "\n",
            "Important Notes:\n",
            "\n",
            "* Several of these functions rely on having access to the video and audio. I've provided the best answers based on the *transcript alone* where possible and made assumptions where the video/audio is needed. \n",
            "* The RoBERTa analysis in Q12 requires an actual RoBERTa model to be run. I've provided a likely answer based on the transcript's content.\n",
            "\n",
            "\n",
            "Let me know if you have the video/audio data and I can give more accurate answers for those questions!\n",
            "\n",
            "\n",
            "\n",
            "=== ‘Being put on antidepressants as a teen made me feel more suicidal’ [vhplkMnVkA8].mp4 ===\n",
            "Based on the provided video transcript snippets, here are the answers to your questions.  It's important to note that these answers are based on *very limited information* and might be incomplete or inaccurate if more context were available.\n",
            "\n",
            "**Q1: findBodilySideEffects(Video Transcript)**\n",
            "{Bodily Side Effect: None}\n",
            "\n",
            "**Q2: findPsychologicalSideEffects(Video Transcript)**\n",
            "{Psychological Side Effect: Psychotic, Erratic} (These are how she was labelled, indicating a potential side effect depending on further context)\n",
            "\n",
            "**Q3: assessOverallHealthChange(Video Transcript)**\n",
            "{Overall Health Change Integer: 0} (No explicit mention of improvement or decline.)\n",
            "\n",
            "**Q4: determineMedicationStance(Video Transcript)**\n",
            "{Medication Stance Integer: 0}  (Unclear from this short clip.)\n",
            "\n",
            "**Q5: checkMedicationContinuationStatus(Video Transcript)**\n",
            "{Medication Continuation Status Integer: 0}  (No mention of stopping or continuing.)\n",
            "\n",
            "**Q6: findWithdrawalSymptoms(Video Transcript)**\n",
            "{Withdrawal Symptom: None}\n",
            "\n",
            "**Q7: listMentionedAntidepressants(Video Transcript)**\n",
            "{Medication Name: None}\n",
            "\n",
            "**Q8: listMedicationDosages(Video Transcript)**\n",
            "{Medication Dosage Pair: None}\n",
            "\n",
            "**Q9: checkDosageChangeStatus(Video Transcript)**\n",
            "{Status Code: 0, Dosage Change Details: None}\n",
            "\n",
            "\n",
            "**Q10: getMedicationUsageDurationInMonths(Video Transcript)**\n",
            "{Total Months: 0}\n",
            "\n",
            "**Q11: listAlternativeTreatments(Video Transcript)**\n",
            "{Alternative Treatment: None}\n",
            "\n",
            "**Q12: getOverallEmotionRoBERTa(Video Transcript)**\n",
            "Requires analyzing the audio and using a RoBERTa model.  I can't do this without access to that model and the audio.  Potentially \"Negative\" or \"Sadness\" based on the transcript snippets, but this is a guess.\n",
            "\n",
            "\n",
            "**Q13: determineApparentGender(Video Data, Audio Data)**\n",
            "{Apparent Gender: Female} (Based on visual appearance.)\n",
            "\n",
            "**Q14: determineApparentAgeGroup(Video Data, Audio Data)**\n",
            "{Apparent Age Group: Adult} (Based on visual appearance.)\n",
            "\n",
            "**Q15: classifySpeakerRole(Video Transcript)**\n",
            "{Speaker Role Code: 0} (Insufficient information to determine if she is a content creator or medical professional.)\n",
            "\n",
            "**Q16 (formerly Q15): detectSuicidalIdeationMention(Video Transcript)**\n",
            "{Mention Detected: 0}  (No mention of suicidal ideation in the provided snippets.)\n",
            "\n",
            "\n",
            "**Q17 (formerly Q16): getReasonForStartingMedication(Video Transcript)**\n",
            "{Mention Status: 0, Reason Summary: None} (No reason given in the clips.)\n",
            "\n",
            "\n",
            "It's crucial to emphasize that analyzing a very short video segment severely limits the ability to accurately answer these questions. More context is needed for a comprehensive analysis.\n",
            "\n",
            "\n"
          ]
        }
      ]
    },
    {
      "cell_type": "code",
      "source": [
        "# Step 1: Install required libraries (if needed)\n",
        "# !pip install google-generativeai opencv-python pillow\n",
        "\n",
        "# Step 2: Import libraries\n",
        "import cv2\n",
        "import os\n",
        "from PIL import Image\n",
        "# from google.colab import files # Using upload as per your code snippet\n",
        "import google.generativeai as genai\n",
        "import time # Added for potential cleanup delays\n",
        "import json # *** IMPORT JSON LIBRARY ***\n",
        "import shutil # For cleanup\n",
        "\n",
        "# Step 3: Specify the video directory and find video files (Using directory method)\n",
        "video_directory = '/content/MyYoutubeDLs' # Using the directory from previous examples\n",
        "video_files = []\n",
        "supported_extensions = ('.mp4', '.mov', '.avi', '.mkv', '.webm')\n",
        "\n",
        "print(f\"Looking for video files in: {video_directory}\")\n",
        "\n",
        "if not os.path.isdir(video_directory):\n",
        "    print(f\"❌ Error: Directory not found: {video_directory}\")\n",
        "else:\n",
        "    import glob\n",
        "    for extension in supported_extensions:\n",
        "        video_files.extend(glob.glob(os.path.join(video_directory, f'*{extension}')))\n",
        "        video_files.extend(glob.glob(os.path.join(video_directory, f'*{extension.upper()}')))\n",
        "    video_files = list(set(video_files))\n",
        "    if not video_files:\n",
        "        print(f\"❌ No video files with extensions {supported_extensions} found in {video_directory}.\")\n",
        "    else:\n",
        "        print(f\"✅ Found {len(video_files)} video file(s):\")\n",
        "        for vf in video_files:\n",
        "            print(f\"  - {os.path.basename(vf)}\")\n",
        "\n",
        "\n",
        "# Step 4: Extract N sample frames from each video\n",
        "def extract_frames(video_path, num_frames=3):\n",
        "    # Check if the video file actually exists before processing\n",
        "    if not os.path.exists(video_path):\n",
        "        print(f\"⚠️ Warning: Video file not found at path: {video_path}. Skipping frame extraction.\")\n",
        "        return [], None # Return empty list and None for dir path\n",
        "\n",
        "    # Create a temporary directory for frames specific to this video\n",
        "    # Make directory name more robust (e.g., remove special chars)\n",
        "    base_name = os.path.splitext(os.path.basename(video_path))[0]\n",
        "    safe_base_name = \"\".join(c if c.isalnum() else \"_\" for c in base_name)\n",
        "    frame_dir = f\"/content/{safe_base_name}_frames_{int(time.time())}\" # Add timestamp for uniqueness\n",
        "    try:\n",
        "        os.makedirs(frame_dir, exist_ok=True)\n",
        "    except OSError as e:\n",
        "        print(f\"⚠️ Error creating frame directory {frame_dir}: {e}. Skipping.\")\n",
        "        return [], None\n",
        "\n",
        "\n",
        "    vidcap = cv2.VideoCapture(video_path)\n",
        "    if not vidcap.isOpened():\n",
        "        print(f\"⚠️ Warning: Could not open video file: {video_path}. Skipping.\")\n",
        "        # Attempt cleanup if directory was created\n",
        "        if os.path.isdir(frame_dir):\n",
        "            shutil.rmtree(frame_dir, ignore_errors=True)\n",
        "        return [], None # Return empty list and None for dir path\n",
        "\n",
        "    total_frames = int(vidcap.get(cv2.CAP_PROP_FRAME_COUNT))\n",
        "    if total_frames <= 0:\n",
        "        print(f\"⚠️ Warning: Video file {video_path} has 0 or invalid frame count. Skipping.\")\n",
        "        vidcap.release()\n",
        "        if os.path.isdir(frame_dir):\n",
        "             shutil.rmtree(frame_dir, ignore_errors=True)\n",
        "        return [], None # Return empty list and None for dir path\n",
        "\n",
        "    actual_num_frames = min(num_frames, total_frames)\n",
        "    step = max(1, total_frames // actual_num_frames if actual_num_frames > 0 else 1)\n",
        "    extracted = []\n",
        "\n",
        "    for i in range(actual_num_frames):\n",
        "        frame_num = i * step\n",
        "        if frame_num >= total_frames:\n",
        "            frame_num = total_frames - 1\n",
        "\n",
        "        vidcap.set(cv2.CAP_PROP_POS_FRAMES, frame_num)\n",
        "        success, image = vidcap.read()\n",
        "        if success:\n",
        "            frame_file = os.path.join(frame_dir, f\"frame_{i}.jpg\")\n",
        "            try:\n",
        "                cv2.imwrite(frame_file, image)\n",
        "                extracted.append(frame_file)\n",
        "            except Exception as e:\n",
        "                print(f\"⚠️ Warning: Could not write frame {frame_file}. Error: {e}\")\n",
        "        else:\n",
        "            success, image = vidcap.read() # Fallback read\n",
        "            if success:\n",
        "                frame_file = os.path.join(frame_dir, f\"frame_{i}_fallback.jpg\")\n",
        "                try:\n",
        "                    cv2.imwrite(frame_file, image)\n",
        "                    extracted.append(frame_file)\n",
        "                except Exception as e:\n",
        "                    print(f\"⚠️ Warning: Could not write fallback frame {frame_file}. Error: {e}\")\n",
        "            else:\n",
        "                print(f\"⚠️ Warning: Failed to read frame {i} (position {frame_num}) from {video_path}\")\n",
        "\n",
        "    vidcap.release()\n",
        "    return extracted, frame_dir # Return paths and the directory they are in\n",
        "\n",
        "# Step 5: Configure Gemini API\n",
        "# --- IMPORTANT: Replace with your actual API key ---\n",
        "GEMINI_API_KEY = '' # <--- PASTE YOUR KEY HERE\n",
        "try:\n",
        "    genai.configure(api_key=GEMINI_API_KEY)\n",
        "    model = genai.GenerativeModel(model_name=\"gemini-1.5-pro-latest\")\n",
        "    print(\"✅ Gemini API configured.\")\n",
        "except Exception as e:\n",
        "    print(f\"❌ Error configuring Gemini API: {e}\")\n",
        "    model = None\n",
        "\n",
        "# Step 6: Define the common prompt\n",
        "# *** Added request for JSON object only at the end ***\n",
        "prompt = \"\"\"\n",
        "Analyze the video frames provided and respond based *only* on the visual and inferred audio information. Structure your response according to the fields below.\n",
        "\n",
        "Title: Add the title of the video based on its filename or content if obvious.\n",
        "Bodily Discomfort: Does the speaker appear to talk about or show signs of bodily discomforts/side effects from medication? Return 1 if yes, 0 if no. If yes, add a 'Details' field with 1-3 word descriptions (e.g., \"Details\": \"Nausea, Headaches\").\n",
        "Psychological Discomfort: Does the speaker appear to talk about or show signs of psychological side effects from medication? Return 1 if yes, 0 if no. If yes, add a 'Details' field with 1-3 word descriptions (e.g., \"Details\": \"Anxiety, Irritability\").\n",
        "Overall Health Change: Does the speaker's presentation suggest improvement (1), decline (-1), or no clear change (0) in overall health contextually related to medication?\n",
        "Support Use of Medication: Does the speaker's overall presentation seem to advocate for (1), warn against (-1), or show neutrality (0) regarding the medication?\n",
        "Stopping the medication: Does the speaker's context suggest they stopped (1), are continuing (-1), or give no indication (0) regarding the medication?\n",
        "Withdrawal: Does the speaker appear to talk about or show signs of withdrawal symptoms after stopping? Return 1 if yes, 0 if no. If yes, add a 'Details' field with 1-3 word descriptions (e.g., \"Details\": \"Dizziness, Brain Zaps\").\n",
        "Medication Name: What specific antidepressant medication names are mentioned or visually indicated (e.g., pill bottle)? List all found or return null if none.\n",
        "Dosage: Is a specific dosage mentioned or visually indicated? List pairs like \"Medication Name: Dosage\" (e.g., \"Sertraline: 50mg\"). Return null if none.\n",
        "Change in Medication: Does the context suggest a dosage change (1), explicitly continuing the same dosage (-1), or no mention (0)? If 1, add a 'Details' field describing the change (e.g., \"Details\": \"Sertraline: 50mg to 100mg\").\n",
        "Duration of Usage: Is a length of usage mentioned or clearly implied? Return the duration in months (integer, e.g., 18). Return 0 if not mentioned.\n",
        "Alternative Treatment: Are alternative treatments (therapy, exercise, diet) mentioned or visually implied? List types (1-3 words each) or return null if none.\n",
        "Emotional Tone: What is the predominant emotional tone conveyed (e.g., Positive, Negative, Neutral, Anxious, Hopeful)?\n",
        "Gender: Apparent gender based on visual/audio cues (Male, Female, Undetermined).\n",
        "Age: Apparent age group based on visual/audio cues (Child, Teenager, Adult, Elderly).\n",
        "Content Creator/Health Professional: Does the speaker seem to be a content creator/influencer (1), a health professional (-1), or neither/unclear (0)?\n",
        "Sucidal Tendency: Is there any explicit mention or strong visual implication of suicidal thoughts/tendencies? Return 1 if yes, 0 if no.\n",
        "\n",
        "Give the response as a single, valid JSON object only, without any introductory text or markdown formatting.\n",
        "\"\"\"\n",
        "\n",
        "# Step 6.5: Define Generation Configuration\n",
        "generation_config = {\n",
        "    \"temperature\": 0.1,\n",
        "    # Enforce JSON output format if the model supports it directly\n",
        "    # Note: Specific parameter name might vary (e.g., 'response_mime_type' or similar)\n",
        "    # Consult the latest Gemini API documentation for the exact parameter if available.\n",
        "    # As of early 2024, often relying on the prompt instruction is the main way.\n",
        "    # \"response_mime_type\": \"application/json\", # Example hypothetical parameter\n",
        "}\n",
        "print(f\"ℹ️ Using generation config: {generation_config}\")\n",
        "\n",
        "\n",
        "# Step 7: Analyze each video (only if model is configured and videos exist)\n",
        "all_responses = {} # This will store the final structured data\n",
        "processed_videos = 0\n",
        "\n",
        "if model and video_files:\n",
        "    for video_path in video_files:\n",
        "        video_basename = os.path.basename(video_path)\n",
        "        print(f\"\\nAnalyzing {video_basename}...\")\n",
        "        frame_paths, frame_dir = extract_frames(video_path) # Get frame paths and their directory\n",
        "\n",
        "        if not frame_paths:\n",
        "            print(f\"   Skipping analysis for {video_basename} due to frame extraction issues.\")\n",
        "            all_responses[video_basename] = {\"error\": \"Frame extraction failed\"}\n",
        "            if frame_dir and os.path.isdir(frame_dir): # Cleanup if dir exists\n",
        "                 shutil.rmtree(frame_dir, ignore_errors=True)\n",
        "            continue\n",
        "\n",
        "        images = []\n",
        "        valid_frame_paths = []\n",
        "        for path in frame_paths:\n",
        "            try:\n",
        "                img = Image.open(path)\n",
        "                images.append(img)\n",
        "                valid_frame_paths.append(path)\n",
        "            except Exception as e:\n",
        "                print(f\"⚠️ Warning: Could not open frame image {path}. Error: {e}. Skipping this frame.\")\n",
        "\n",
        "        if not images:\n",
        "            print(f\"   Skipping API call for {video_basename} as no valid frames could be opened.\")\n",
        "            all_responses[video_basename] = {\"error\": \"Could not open extracted frames\"}\n",
        "        else:\n",
        "            try:\n",
        "                response = model.generate_content(\n",
        "                    [prompt] + images,\n",
        "                    generation_config=generation_config\n",
        "                )\n",
        "\n",
        "                # *** PARSE RESPONSE AS JSON ***\n",
        "                if hasattr(response, 'text'):\n",
        "                    try:\n",
        "                        # Attempt to parse the text as JSON\n",
        "                        # Clean potential markdown fences (```json ... ```)\n",
        "                        clean_text = response.text.strip()\n",
        "                        if clean_text.startswith(\"```json\"):\n",
        "                            clean_text = clean_text[7:]\n",
        "                        if clean_text.endswith(\"```\"):\n",
        "                            clean_text = clean_text[:-3]\n",
        "                        clean_text = clean_text.strip()\n",
        "\n",
        "                        parsed_result = json.loads(clean_text)\n",
        "                        all_responses[video_basename] = parsed_result # Store the parsed dictionary\n",
        "                        print(f\"✅ Finished analysis and parsed JSON for: {video_basename}\")\n",
        "                        processed_videos += 1\n",
        "                    except json.JSONDecodeError as json_e:\n",
        "                        # Store error info if JSON parsing fails\n",
        "                        print(f\"❌ Error parsing Gemini response as JSON for {video_basename}: {json_e}\")\n",
        "                        all_responses[video_basename] = {\n",
        "                            \"error\": \"Failed to parse response as JSON\",\n",
        "                            \"raw_response\": response.text # Store the raw text for debugging\n",
        "                        }\n",
        "                else:\n",
        "                     # Handle blocked responses\n",
        "                     block_reason = \"Unknown reason\"\n",
        "                     try: # Accessing feedback might also fail\n",
        "                        if response.prompt_feedback and response.prompt_feedback.block_reason:\n",
        "                            block_reason = response.prompt_feedback.block_reason\n",
        "                     except Exception:\n",
        "                         pass\n",
        "                     error_message = f\"❌ Analysis blocked or failed for {video_basename}. Reason: {block_reason}\"\n",
        "                     print(error_message)\n",
        "                     all_responses[video_basename] = {\"error\": \"Analysis blocked/failed\", \"reason\": block_reason}\n",
        "\n",
        "            except Exception as e:\n",
        "                error_message = f\"❌ Error during API call for ({video_basename}): {e}\"\n",
        "                print(error_message)\n",
        "                all_responses[video_basename] = {\"error\": \"API call exception\", \"details\": str(e)}\n",
        "\n",
        "        # Clean up frame directory and files inside it for this video\n",
        "        if frame_dir and os.path.isdir(frame_dir):\n",
        "            try:\n",
        "                time.sleep(0.5) # Short delay\n",
        "                shutil.rmtree(frame_dir)\n",
        "                # print(f\"   Cleaned up frame directory: {frame_dir}\")\n",
        "            except Exception as e_rem:\n",
        "                print(f\"  > Could not remove frame directory {frame_dir}: {e_rem}\")\n",
        "\n",
        "elif not model:\n",
        "    print(\"\\n❌ Skipping video analysis because the Gemini model could not be configured.\")\n",
        "elif not video_files:\n",
        "    print(\"\\n❌ No video files were found in the specified directory.\")\n",
        "\n",
        "# Step 8: Display all results as a single JSON object\n",
        "print(f\"\\n📊 Final Combined Analysis Results (Processed {processed_videos} videos):\")\n",
        "\n",
        "if not all_responses:\n",
        "    print(\"{}\") # Print empty JSON object if no responses\n",
        "else:\n",
        "    # Convert the entire dictionary to a JSON string with indentation\n",
        "    final_json_output = json.dumps(all_responses, indent=4)\n",
        "    print(final_json_output)\n",
        "\n",
        "# Optional: Save the combined JSON to a file in Colab\n",
        "# json_output_path = '/content/combined_video_analysis.json'\n",
        "# try:\n",
        "#     with open(json_output_path, 'w') as f:\n",
        "#         json.dump(all_responses, f, indent=4)\n",
        "#     print(f\"\\n✅ Combined results saved to: {json_output_path}\")\n",
        "# except Exception as e:\n",
        "#     print(f\"\\n❌ Error saving combined JSON to file: {e}\")\n",
        "\n",
        "\n",
        "# Optional: Clean up original downloaded video files if using directory method\n",
        "# print(\"\\nCleaning up downloaded video files...\")\n",
        "# for video_path in video_files:\n",
        "#    if os.path.exists(video_path):\n",
        "#        try:\n",
        "#            os.remove(video_path)\n",
        "#            print(f\"  Removed: {video_path}\")\n",
        "#        except Exception as e:\n",
        "#            print(f\"  Could not remove {video_path}: {e}\")"
      ],
      "metadata": {
        "colab": {
          "base_uri": "https://localhost:8080/",
          "height": 1000
        },
        "id": "emCF_znpIXFX",
        "outputId": "589ec908-62b0-490d-df81-542d9a1598c2"
      },
      "execution_count": null,
      "outputs": [
        {
          "output_type": "stream",
          "name": "stdout",
          "text": [
            "Looking for video files in: /content/MyYoutubeDLs\n",
            "✅ Found 48 video file(s):\n",
            "  - The Emotional Cost of Lexapro #psychiatrictreatment #lexapro #antidepressant [W0Y1SZrQ3JY].mp4\n",
            "  - Misdiagnosed with Bipolar Due to Paxil #psychiatrictreatment #psychmeds #paxil #benzo [sYTGohF5XQk].mp4\n",
            "  - Jordan Peterson's Akathisia From Psych Meds [X8LcDYt9TR4].mp4\n",
            "  - Psych meds were never going to let me thrive [EJpo2jjaXlA].mp4\n",
            "  - Surviving Akathisia. 💔 Facebook memories 💔 [KWlRTHoUw-U].mp4\n",
            "  - Taking antidepressants for depression ｜ Rosie's Mental Health Story ｜ Mind [gP1i93Gh0Ng].mp4\n",
            "  - The Dangers of Psychiatric Pills #shareyourdrugstory #psychmeds #mentalhealthjourney [CH8WVtr-W8Q].mp4\n",
            "  - I Lived in Fear and Silence #shareyourdrugstory #mentalhealth #lamictal [262Jze4AhtI].mp4\n",
            "  - Xanax Induced Brain Damage [zL7kerPHYXQ].mp4\n",
            "  - Going through a storm of Akathisia and Tardive Dyskinesia [in0PRlZRmwc].mp4\n",
            "  - Side effects I’ve experienced from antipsychotics [CLJ3sIyaWro].mp4\n",
            "  - Have you been screened for Tardive Dyskinesia (TD)？ [JXiqF9kiSis].mp4\n",
            "  - It Was the Worst Suffering of Any Suffering  #akathisia #informedconsent #psychmeds [2ou0xXjD-Qw].mp4\n",
            "  - What is Akathisia？ [BvcvzdJS5FM].mp4\n",
            "  - Did you know about the black box warning before starting an antidepressant？ [V1SxCSfRL9A].mp4\n",
            "  - The severity of the pain Joey had gone through was so hard to see him go through this. [6Hi8WlF0LK0].mp4\n",
            "  - His Life Would Have Been Awful #accutane #mentalhealth #psychmeds [FTQElJQcfrQ].mp4\n",
            "  - How I REDUCED my PSYCH MEDS by 60% in 3 months [-fzITFKH8ec].mp4\n",
            "  - First day on ADHD meds #mentalhealth #adhd #adhdwomen #anxious [-6z7eaUiDis].mp4\n",
            "  - I’ve gotten smarter？？ [ogHJ0QdoXMg].mp4\n",
            "  - #akathisia #antipsychiatry #benzodiazepines #antidepressant #antipsychotics [tgOeeJauA4g].mp4\n",
            "  - I didn’t know this could happen [0TPHDeaHGJU].mp4\n",
            "  - How Psilocybin Helped Me Heal My Depression [pdlhRKIvtwU].mp4\n",
            "  - What is Akathisia？ #bind #akathisia #antidepressantsideeffects #medicalgaslighting [5pcRzx3H1eg].mp4\n",
            "  - Surviving Pregnancy with Zopiclone Withdrawal #zopiclone #shareyourdrugstory #psychmeds [Blp_kwDqBk8].mp4\n",
            "  - What Did Taking Multiple Medication Cost Me？ #shareyourdrugstory #dexedrine #xanax [WkV-wULXwxg].mp4\n",
            "  - Struggling with med withdrawal [Rv8vX6t7HDQ].mp4\n",
            "  - The Worst Side Effect of Lithium #shareyourdrugstory #informedconsent #mentalhealthadvocate [eGon3EKswo8].mp4\n",
            "  - #akathisia #benzodiazepines #mentalhealth #psychiatry #medication #antidepressant #antipsychiatry [jGNe-UIBT4I].mp4\n",
            "  - What is the most therapeutic level of ketones for managing mental illness？ [6siIqEAZD0A].mp4\n",
            "  - How Xanax Ruined My Life #benzodiazepine #xanax #shareyourdrugstory [r_m3nz2MAJQ].mp4\n",
            "  - antidepressants changed everything for me. [dCq84gtJbN8].mp4\n",
            "  - Living with Lexapro Side Effects as a Therapist #shareyourdrugstory #lexapro #psychmeds [4fSphjYIqig].mp4\n",
            "  - ‘Being put on antidepressants as a teen made me feel more suicidal’ [vhplkMnVkA8].mp4\n",
            "  - What I Would Have Done Differently #shareyourdrugstory   #mentalhealthawareness #psychmeds [vfS1VcUgbDU].mp4\n",
            "  - How I Got Off Psych Meds in 10 Months [XHEwNCds79U].mp4\n",
            "  - I Was Able to Control My Sleep After Tapering #shareyourdrugstory #lithium #seroquel [lyjtbZOyk1k].mp4\n",
            "  - What's different about suicidality with akathisia？ [4BtKixyFrlI].mp4\n",
            "  - Christine's Benzodiazepine Withdrawal Induced Akathisia [byFP0lZSdR4].mp4\n",
            "  - What antidepressants do to your brain [US8Bd1wbraI].mp4\n",
            "  - One Dose Changed Everything #lexapro #pssd #psychmeds #Informedconsent #shareyourdrugstory [gspQDuWNA3I].mp4\n",
            "  - Benzos Why I Never Got them prescribed #benzodiazepines #shorts [Kjq1JqxQBmU].mp4\n",
            "  - Why I Lost Trust in the Medical System for Mental Health Care #shareyourdrugstory [9b5-CfvtTtg].mp4\n",
            "  - The Scary Truth Behind Antidepressant Withdrawal [ssPg3089Kco].mp4\n",
            "  - Understanding the Risks Before Medication #akathisia #informedconsent #psychmeds [k8qL4VwE_wQ].mp4\n",
            "  - Akathisia [Pvk3AODN6Sc].mp4\n",
            "  - What He Did When an Antidepressant Made Him Sick ｜ Health [Ibwp6TvPF3g].mp4\n",
            "  - medication is a tool, if it helps, that's fine. #psychmeds #takeyourmeds #mentalhealth [59zcjtFoXzs].mp4\n",
            "✅ Gemini API configured.\n",
            "ℹ️ Using generation config: {'temperature': 0.1}\n",
            "\n",
            "Analyzing The Emotional Cost of Lexapro #psychiatrictreatment #lexapro #antidepressant [W0Y1SZrQ3JY].mp4...\n",
            "✅ Finished analysis and parsed JSON for: The Emotional Cost of Lexapro #psychiatrictreatment #lexapro #antidepressant [W0Y1SZrQ3JY].mp4\n",
            "\n",
            "Analyzing Misdiagnosed with Bipolar Due to Paxil #psychiatrictreatment #psychmeds #paxil #benzo [sYTGohF5XQk].mp4...\n",
            "✅ Finished analysis and parsed JSON for: Misdiagnosed with Bipolar Due to Paxil #psychiatrictreatment #psychmeds #paxil #benzo [sYTGohF5XQk].mp4\n",
            "\n",
            "Analyzing Jordan Peterson's Akathisia From Psych Meds [X8LcDYt9TR4].mp4...\n",
            "✅ Finished analysis and parsed JSON for: Jordan Peterson's Akathisia From Psych Meds [X8LcDYt9TR4].mp4\n",
            "\n",
            "Analyzing Psych meds were never going to let me thrive [EJpo2jjaXlA].mp4...\n",
            "✅ Finished analysis and parsed JSON for: Psych meds were never going to let me thrive [EJpo2jjaXlA].mp4\n",
            "\n",
            "Analyzing Surviving Akathisia. 💔 Facebook memories 💔 [KWlRTHoUw-U].mp4...\n",
            "✅ Finished analysis and parsed JSON for: Surviving Akathisia. 💔 Facebook memories 💔 [KWlRTHoUw-U].mp4\n",
            "\n",
            "Analyzing Taking antidepressants for depression ｜ Rosie's Mental Health Story ｜ Mind [gP1i93Gh0Ng].mp4...\n",
            "✅ Finished analysis and parsed JSON for: Taking antidepressants for depression ｜ Rosie's Mental Health Story ｜ Mind [gP1i93Gh0Ng].mp4\n",
            "\n",
            "Analyzing The Dangers of Psychiatric Pills #shareyourdrugstory #psychmeds #mentalhealthjourney [CH8WVtr-W8Q].mp4...\n",
            "✅ Finished analysis and parsed JSON for: The Dangers of Psychiatric Pills #shareyourdrugstory #psychmeds #mentalhealthjourney [CH8WVtr-W8Q].mp4\n",
            "\n",
            "Analyzing I Lived in Fear and Silence #shareyourdrugstory #mentalhealth #lamictal [262Jze4AhtI].mp4...\n",
            "✅ Finished analysis and parsed JSON for: I Lived in Fear and Silence #shareyourdrugstory #mentalhealth #lamictal [262Jze4AhtI].mp4\n",
            "\n",
            "Analyzing Xanax Induced Brain Damage [zL7kerPHYXQ].mp4...\n",
            "✅ Finished analysis and parsed JSON for: Xanax Induced Brain Damage [zL7kerPHYXQ].mp4\n",
            "\n",
            "Analyzing Going through a storm of Akathisia and Tardive Dyskinesia [in0PRlZRmwc].mp4...\n",
            "✅ Finished analysis and parsed JSON for: Going through a storm of Akathisia and Tardive Dyskinesia [in0PRlZRmwc].mp4\n",
            "\n",
            "Analyzing Side effects I’ve experienced from antipsychotics [CLJ3sIyaWro].mp4...\n",
            "✅ Finished analysis and parsed JSON for: Side effects I’ve experienced from antipsychotics [CLJ3sIyaWro].mp4\n",
            "\n",
            "Analyzing Have you been screened for Tardive Dyskinesia (TD)？ [JXiqF9kiSis].mp4...\n",
            "✅ Finished analysis and parsed JSON for: Have you been screened for Tardive Dyskinesia (TD)？ [JXiqF9kiSis].mp4\n",
            "\n",
            "Analyzing It Was the Worst Suffering of Any Suffering  #akathisia #informedconsent #psychmeds [2ou0xXjD-Qw].mp4...\n",
            "✅ Finished analysis and parsed JSON for: It Was the Worst Suffering of Any Suffering  #akathisia #informedconsent #psychmeds [2ou0xXjD-Qw].mp4\n",
            "\n",
            "Analyzing What is Akathisia？ [BvcvzdJS5FM].mp4...\n",
            "✅ Finished analysis and parsed JSON for: What is Akathisia？ [BvcvzdJS5FM].mp4\n",
            "\n",
            "Analyzing Did you know about the black box warning before starting an antidepressant？ [V1SxCSfRL9A].mp4...\n",
            "✅ Finished analysis and parsed JSON for: Did you know about the black box warning before starting an antidepressant？ [V1SxCSfRL9A].mp4\n",
            "\n",
            "Analyzing The severity of the pain Joey had gone through was so hard to see him go through this. [6Hi8WlF0LK0].mp4...\n",
            "✅ Finished analysis and parsed JSON for: The severity of the pain Joey had gone through was so hard to see him go through this. [6Hi8WlF0LK0].mp4\n",
            "\n",
            "Analyzing His Life Would Have Been Awful #accutane #mentalhealth #psychmeds [FTQElJQcfrQ].mp4...\n",
            "✅ Finished analysis and parsed JSON for: His Life Would Have Been Awful #accutane #mentalhealth #psychmeds [FTQElJQcfrQ].mp4\n",
            "\n",
            "Analyzing How I REDUCED my PSYCH MEDS by 60% in 3 months [-fzITFKH8ec].mp4...\n",
            "✅ Finished analysis and parsed JSON for: How I REDUCED my PSYCH MEDS by 60% in 3 months [-fzITFKH8ec].mp4\n",
            "\n",
            "Analyzing First day on ADHD meds #mentalhealth #adhd #adhdwomen #anxious [-6z7eaUiDis].mp4...\n",
            "✅ Finished analysis and parsed JSON for: First day on ADHD meds #mentalhealth #adhd #adhdwomen #anxious [-6z7eaUiDis].mp4\n",
            "\n",
            "Analyzing I’ve gotten smarter？？ [ogHJ0QdoXMg].mp4...\n",
            "✅ Finished analysis and parsed JSON for: I’ve gotten smarter？？ [ogHJ0QdoXMg].mp4\n",
            "\n",
            "Analyzing #akathisia #antipsychiatry #benzodiazepines #antidepressant #antipsychotics [tgOeeJauA4g].mp4...\n",
            "✅ Finished analysis and parsed JSON for: #akathisia #antipsychiatry #benzodiazepines #antidepressant #antipsychotics [tgOeeJauA4g].mp4\n",
            "\n",
            "Analyzing I didn’t know this could happen [0TPHDeaHGJU].mp4...\n",
            "✅ Finished analysis and parsed JSON for: I didn’t know this could happen [0TPHDeaHGJU].mp4\n",
            "\n",
            "Analyzing How Psilocybin Helped Me Heal My Depression [pdlhRKIvtwU].mp4...\n",
            "✅ Finished analysis and parsed JSON for: How Psilocybin Helped Me Heal My Depression [pdlhRKIvtwU].mp4\n",
            "\n",
            "Analyzing What is Akathisia？ #bind #akathisia #antidepressantsideeffects #medicalgaslighting [5pcRzx3H1eg].mp4...\n",
            "✅ Finished analysis and parsed JSON for: What is Akathisia？ #bind #akathisia #antidepressantsideeffects #medicalgaslighting [5pcRzx3H1eg].mp4\n",
            "\n",
            "Analyzing Surviving Pregnancy with Zopiclone Withdrawal #zopiclone #shareyourdrugstory #psychmeds [Blp_kwDqBk8].mp4...\n",
            "✅ Finished analysis and parsed JSON for: Surviving Pregnancy with Zopiclone Withdrawal #zopiclone #shareyourdrugstory #psychmeds [Blp_kwDqBk8].mp4\n",
            "\n",
            "Analyzing What Did Taking Multiple Medication Cost Me？ #shareyourdrugstory #dexedrine #xanax [WkV-wULXwxg].mp4...\n",
            "✅ Finished analysis and parsed JSON for: What Did Taking Multiple Medication Cost Me？ #shareyourdrugstory #dexedrine #xanax [WkV-wULXwxg].mp4\n",
            "\n",
            "Analyzing Struggling with med withdrawal [Rv8vX6t7HDQ].mp4...\n",
            "✅ Finished analysis and parsed JSON for: Struggling with med withdrawal [Rv8vX6t7HDQ].mp4\n",
            "\n",
            "Analyzing The Worst Side Effect of Lithium #shareyourdrugstory #informedconsent #mentalhealthadvocate [eGon3EKswo8].mp4...\n",
            "✅ Finished analysis and parsed JSON for: The Worst Side Effect of Lithium #shareyourdrugstory #informedconsent #mentalhealthadvocate [eGon3EKswo8].mp4\n",
            "\n",
            "Analyzing #akathisia #benzodiazepines #mentalhealth #psychiatry #medication #antidepressant #antipsychiatry [jGNe-UIBT4I].mp4...\n",
            "✅ Finished analysis and parsed JSON for: #akathisia #benzodiazepines #mentalhealth #psychiatry #medication #antidepressant #antipsychiatry [jGNe-UIBT4I].mp4\n",
            "\n",
            "Analyzing What is the most therapeutic level of ketones for managing mental illness？ [6siIqEAZD0A].mp4...\n",
            "✅ Finished analysis and parsed JSON for: What is the most therapeutic level of ketones for managing mental illness？ [6siIqEAZD0A].mp4\n",
            "\n",
            "Analyzing How Xanax Ruined My Life #benzodiazepine #xanax #shareyourdrugstory [r_m3nz2MAJQ].mp4...\n",
            "✅ Finished analysis and parsed JSON for: How Xanax Ruined My Life #benzodiazepine #xanax #shareyourdrugstory [r_m3nz2MAJQ].mp4\n",
            "\n",
            "Analyzing antidepressants changed everything for me. [dCq84gtJbN8].mp4...\n",
            "✅ Finished analysis and parsed JSON for: antidepressants changed everything for me. [dCq84gtJbN8].mp4\n",
            "\n",
            "Analyzing Living with Lexapro Side Effects as a Therapist #shareyourdrugstory #lexapro #psychmeds [4fSphjYIqig].mp4...\n",
            "✅ Finished analysis and parsed JSON for: Living with Lexapro Side Effects as a Therapist #shareyourdrugstory #lexapro #psychmeds [4fSphjYIqig].mp4\n",
            "\n",
            "Analyzing ‘Being put on antidepressants as a teen made me feel more suicidal’ [vhplkMnVkA8].mp4...\n",
            "✅ Finished analysis and parsed JSON for: ‘Being put on antidepressants as a teen made me feel more suicidal’ [vhplkMnVkA8].mp4\n",
            "\n",
            "Analyzing What I Would Have Done Differently #shareyourdrugstory   #mentalhealthawareness #psychmeds [vfS1VcUgbDU].mp4...\n",
            "✅ Finished analysis and parsed JSON for: What I Would Have Done Differently #shareyourdrugstory   #mentalhealthawareness #psychmeds [vfS1VcUgbDU].mp4\n",
            "\n",
            "Analyzing How I Got Off Psych Meds in 10 Months [XHEwNCds79U].mp4...\n",
            "⚠️ Warning: Failed to read frame 0 (position 0) from /content/MyYoutubeDLs/How I Got Off Psych Meds in 10 Months [XHEwNCds79U].mp4\n",
            "⚠️ Warning: Failed to read frame 1 (position 1013) from /content/MyYoutubeDLs/How I Got Off Psych Meds in 10 Months [XHEwNCds79U].mp4\n",
            "⚠️ Warning: Failed to read frame 2 (position 2026) from /content/MyYoutubeDLs/How I Got Off Psych Meds in 10 Months [XHEwNCds79U].mp4\n",
            "   Skipping analysis for How I Got Off Psych Meds in 10 Months [XHEwNCds79U].mp4 due to frame extraction issues.\n",
            "\n",
            "Analyzing I Was Able to Control My Sleep After Tapering #shareyourdrugstory #lithium #seroquel [lyjtbZOyk1k].mp4...\n",
            "✅ Finished analysis and parsed JSON for: I Was Able to Control My Sleep After Tapering #shareyourdrugstory #lithium #seroquel [lyjtbZOyk1k].mp4\n",
            "\n",
            "Analyzing What's different about suicidality with akathisia？ [4BtKixyFrlI].mp4...\n",
            "✅ Finished analysis and parsed JSON for: What's different about suicidality with akathisia？ [4BtKixyFrlI].mp4\n",
            "\n",
            "Analyzing Christine's Benzodiazepine Withdrawal Induced Akathisia [byFP0lZSdR4].mp4...\n",
            "✅ Finished analysis and parsed JSON for: Christine's Benzodiazepine Withdrawal Induced Akathisia [byFP0lZSdR4].mp4\n",
            "\n",
            "Analyzing What antidepressants do to your brain [US8Bd1wbraI].mp4...\n",
            "✅ Finished analysis and parsed JSON for: What antidepressants do to your brain [US8Bd1wbraI].mp4\n",
            "\n",
            "Analyzing One Dose Changed Everything #lexapro #pssd #psychmeds #Informedconsent #shareyourdrugstory [gspQDuWNA3I].mp4...\n",
            "✅ Finished analysis and parsed JSON for: One Dose Changed Everything #lexapro #pssd #psychmeds #Informedconsent #shareyourdrugstory [gspQDuWNA3I].mp4\n",
            "\n",
            "Analyzing Benzos Why I Never Got them prescribed #benzodiazepines #shorts [Kjq1JqxQBmU].mp4...\n",
            "✅ Finished analysis and parsed JSON for: Benzos Why I Never Got them prescribed #benzodiazepines #shorts [Kjq1JqxQBmU].mp4\n",
            "\n",
            "Analyzing Why I Lost Trust in the Medical System for Mental Health Care #shareyourdrugstory [9b5-CfvtTtg].mp4...\n",
            "✅ Finished analysis and parsed JSON for: Why I Lost Trust in the Medical System for Mental Health Care #shareyourdrugstory [9b5-CfvtTtg].mp4\n",
            "\n",
            "Analyzing The Scary Truth Behind Antidepressant Withdrawal [ssPg3089Kco].mp4...\n",
            "✅ Finished analysis and parsed JSON for: The Scary Truth Behind Antidepressant Withdrawal [ssPg3089Kco].mp4\n",
            "\n",
            "Analyzing Understanding the Risks Before Medication #akathisia #informedconsent #psychmeds [k8qL4VwE_wQ].mp4...\n",
            "✅ Finished analysis and parsed JSON for: Understanding the Risks Before Medication #akathisia #informedconsent #psychmeds [k8qL4VwE_wQ].mp4\n",
            "\n",
            "Analyzing Akathisia [Pvk3AODN6Sc].mp4...\n",
            "✅ Finished analysis and parsed JSON for: Akathisia [Pvk3AODN6Sc].mp4\n",
            "\n",
            "Analyzing What He Did When an Antidepressant Made Him Sick ｜ Health [Ibwp6TvPF3g].mp4...\n",
            "✅ Finished analysis and parsed JSON for: What He Did When an Antidepressant Made Him Sick ｜ Health [Ibwp6TvPF3g].mp4\n",
            "\n",
            "Analyzing medication is a tool, if it helps, that's fine. #psychmeds #takeyourmeds #mentalhealth [59zcjtFoXzs].mp4...\n",
            "✅ Finished analysis and parsed JSON for: medication is a tool, if it helps, that's fine. #psychmeds #takeyourmeds #mentalhealth [59zcjtFoXzs].mp4\n",
            "\n",
            "📊 Final Combined Analysis Results (Processed 47 videos):\n",
            "{\n",
            "    \"The Emotional Cost of Lexapro\\u00a0#psychiatrictreatment #lexapro #antidepressant [W0Y1SZrQ3JY].mp4\": {\n",
            "        \"Title\": \"The side effects of taking longterm medications\",\n",
            "        \"Bodily Discomfort\": 0,\n",
            "        \"Psychological Discomfort\": 0,\n",
            "        \"Overall Health Change\": 0,\n",
            "        \"Support Use of Medication\": 0,\n",
            "        \"Stopping the medication\": 0,\n",
            "        \"Withdrawal\": 0,\n",
            "        \"Medication Name\": null,\n",
            "        \"Dosage\": null,\n",
            "        \"Change in Medication\": 0,\n",
            "        \"Duration of Usage\": 0,\n",
            "        \"Alternative Treatment\": null,\n",
            "        \"Emotional Tone\": \"Neutral\",\n",
            "        \"Gender\": \"Female\",\n",
            "        \"Age\": \"Adult\",\n",
            "        \"Content Creator/Health Professional\": 1,\n",
            "        \"Sucidal Tendency\": 0\n",
            "    },\n",
            "    \"Misdiagnosed with Bipolar Due to Paxil\\u00a0#psychiatrictreatment #psychmeds #paxil #benzo [sYTGohF5XQk].mp4\": {\n",
            "        \"Title\": \"ShareYourDrugStory\",\n",
            "        \"Bodily Discomfort\": 0,\n",
            "        \"Psychological Discomfort\": 1,\n",
            "        \"Details\": \"Misdiagnosed Bipolar\",\n",
            "        \"Overall Health Change\": -1,\n",
            "        \"Support Use of Medication\": -1,\n",
            "        \"Stopping the medication\": 1,\n",
            "        \"Withdrawal\": 0,\n",
            "        \"Medication Name\": null,\n",
            "        \"Dosage\": null,\n",
            "        \"Change in Medication\": 0,\n",
            "        \"Duration of Usage\": 0,\n",
            "        \"Alternative Treatment\": null,\n",
            "        \"Emotional Tone\": \"Negative\",\n",
            "        \"Gender\": \"Male\",\n",
            "        \"Age\": \"Adult\",\n",
            "        \"Content Creator/Health Professional\": 1,\n",
            "        \"Sucidal Tendency\": 0\n",
            "    },\n",
            "    \"Jordan Peterson's Akathisia From Psych Meds [X8LcDYt9TR4].mp4\": {\n",
            "        \"Title\": null,\n",
            "        \"Bodily Discomfort\": 0,\n",
            "        \"Psychological Discomfort\": 1,\n",
            "        \"Details\": \"Suicidal thoughts\",\n",
            "        \"Overall Health Change\": -1,\n",
            "        \"Support Use of Medication\": -1,\n",
            "        \"Stopping the medication\": 1,\n",
            "        \"Withdrawal\": 0,\n",
            "        \"Medication Name\": null,\n",
            "        \"Dosage\": null,\n",
            "        \"Change in Medication\": 0,\n",
            "        \"Duration of Usage\": 0,\n",
            "        \"Alternative Treatment\": null,\n",
            "        \"Emotional Tone\": \"Negative\",\n",
            "        \"Gender\": \"Female\",\n",
            "        \"Age\": \"Adult\",\n",
            "        \"Content Creator/Health Professional\": 1,\n",
            "        \"Sucidal Tendency\": 1\n",
            "    },\n",
            "    \"Psych meds were never going to let me thrive [EJpo2jjaXlA].mp4\": {\n",
            "        \"Title\": null,\n",
            "        \"Bodily Discomfort\": 0,\n",
            "        \"Psychological Discomfort\": 0,\n",
            "        \"Overall Health Change\": 0,\n",
            "        \"Support Use of Medication\": -1,\n",
            "        \"Stopping the medication\": 0,\n",
            "        \"Withdrawal\": 0,\n",
            "        \"Medication Name\": null,\n",
            "        \"Dosage\": null,\n",
            "        \"Change in Medication\": 0,\n",
            "        \"Duration of Usage\": 0,\n",
            "        \"Alternative Treatment\": null,\n",
            "        \"Emotional Tone\": \"Neutral\",\n",
            "        \"Gender\": \"Female\",\n",
            "        \"Age\": \"Adult\",\n",
            "        \"Content Creator/Health Professional\": 0,\n",
            "        \"Sucidal Tendency\": 0\n",
            "    },\n",
            "    \"Surviving Akathisia. \\ud83d\\udc94 Facebook memories \\ud83d\\udc94 [KWlRTHoUw-U].mp4\": {\n",
            "        \"Title\": \"My Journey though Akathisia\",\n",
            "        \"Bodily Discomfort\": 1,\n",
            "        \"Details\": \"Akathisia\",\n",
            "        \"Psychological Discomfort\": 0,\n",
            "        \"Overall Health Change\": -1,\n",
            "        \"Support Use of Medication\": -1,\n",
            "        \"Stopping the medication\": 0,\n",
            "        \"Withdrawal\": 0,\n",
            "        \"Medication Name\": null,\n",
            "        \"Dosage\": null,\n",
            "        \"Change in Medication\": 0,\n",
            "        \"Duration of Usage\": 0,\n",
            "        \"Alternative Treatment\": null,\n",
            "        \"Emotional Tone\": \"Negative\",\n",
            "        \"Gender\": \"Female\",\n",
            "        \"Age\": \"Adult\",\n",
            "        \"Content Creator/Health Professional\": 1,\n",
            "        \"Sucidal Tendency\": 0\n",
            "    },\n",
            "    \"Taking antidepressants for depression \\uff5c Rosie's Mental Health Story \\uff5c Mind [gP1i93Gh0Ng].mp4\": {\n",
            "        \"Title\": null,\n",
            "        \"Bodily Discomfort\": 0,\n",
            "        \"Psychological Discomfort\": 1,\n",
            "        \"Details\": \"Anxiety, Depression\",\n",
            "        \"Overall Health Change\": 1,\n",
            "        \"Support Use of Medication\": 1,\n",
            "        \"Stopping the medication\": -1,\n",
            "        \"Withdrawal\": 0,\n",
            "        \"Medication Name\": \"Sertraline\",\n",
            "        \"Dosage\": [\n",
            "            \"Sertraline: 50mg\"\n",
            "        ],\n",
            "        \"Change in Medication\": -1,\n",
            "        \"Duration of Usage\": 2,\n",
            "        \"Alternative Treatment\": null,\n",
            "        \"Emotional Tone\": \"Positive\",\n",
            "        \"Gender\": \"Female\",\n",
            "        \"Age\": \"Adult\",\n",
            "        \"Content Creator/Health Professional\": 1,\n",
            "        \"Sucidal Tendency\": 0\n",
            "    },\n",
            "    \"The Dangers of Psychiatric Pills #shareyourdrugstory #psychmeds #mentalhealthjourney [CH8WVtr-W8Q].mp4\": {\n",
            "        \"Title\": \"ShareYourDrugStory\",\n",
            "        \"Bodily Discomfort\": 0,\n",
            "        \"Psychological Discomfort\": 0,\n",
            "        \"Overall Health Change\": 0,\n",
            "        \"Support Use of Medication\": -1,\n",
            "        \"Stopping the medication\": 0,\n",
            "        \"Withdrawal\": 0,\n",
            "        \"Medication Name\": null,\n",
            "        \"Dosage\": null,\n",
            "        \"Change in Medication\": 0,\n",
            "        \"Duration of Usage\": 0,\n",
            "        \"Alternative Treatment\": null,\n",
            "        \"Emotional Tone\": \"Negative\",\n",
            "        \"Gender\": \"Female\",\n",
            "        \"Age\": \"Adult\",\n",
            "        \"Content Creator/Health Professional\": 1,\n",
            "        \"Sucidal Tendency\": 0\n",
            "    },\n",
            "    \"I Lived in Fear and Silence\\u00a0#shareyourdrugstory #mentalhealth #lamictal [262Jze4AhtI].mp4\": {\n",
            "        \"Title\": \"Negative Side Effects of Long Term use of Lamictal\",\n",
            "        \"Bodily Discomfort\": 1,\n",
            "        \"Details\": \"Fatigue\",\n",
            "        \"Psychological Discomfort\": 0,\n",
            "        \"Overall Health Change\": -1,\n",
            "        \"Support Use of Medication\": -1,\n",
            "        \"Stopping the medication\": 0,\n",
            "        \"Withdrawal\": 0,\n",
            "        \"Medication Name\": \"Lamictal\",\n",
            "        \"Dosage\": null,\n",
            "        \"Change in Medication\": 0,\n",
            "        \"Duration of Usage\": 0,\n",
            "        \"Alternative Treatment\": null,\n",
            "        \"Emotional Tone\": \"Negative\",\n",
            "        \"Gender\": \"Female\",\n",
            "        \"Age\": \"Adult\",\n",
            "        \"Content Creator/Health Professional\": 1,\n",
            "        \"Sucidal Tendency\": 0\n",
            "    },\n",
            "    \"Xanax Induced Brain Damage [zL7kerPHYXQ].mp4\": {\n",
            "        \"Title\": \"Xanax induced brain damage\",\n",
            "        \"Bodily Discomfort\": 0,\n",
            "        \"Psychological Discomfort\": 1,\n",
            "        \"Details\": \"Brain Damage\",\n",
            "        \"Overall Health Change\": -1,\n",
            "        \"Support Use of Medication\": -1,\n",
            "        \"Stopping the medication\": 1,\n",
            "        \"Withdrawal\": 0,\n",
            "        \"Medication Name\": \"Xanax\",\n",
            "        \"Dosage\": null,\n",
            "        \"Change in Medication\": 0,\n",
            "        \"Duration of Usage\": 0,\n",
            "        \"Alternative Treatment\": null,\n",
            "        \"Emotional Tone\": \"Negative\",\n",
            "        \"Gender\": \"Male\",\n",
            "        \"Age\": \"Adult\",\n",
            "        \"Content Creator/Health Professional\": 1,\n",
            "        \"Sucidal Tendency\": 0\n",
            "    },\n",
            "    \"Going through a storm of Akathisia and Tardive Dyskinesia [in0PRlZRmwc].mp4\": {\n",
            "        \"Title\": null,\n",
            "        \"Bodily Discomfort\": 0,\n",
            "        \"Psychological Discomfort\": 0,\n",
            "        \"Overall Health Change\": 0,\n",
            "        \"Support Use of Medication\": 0,\n",
            "        \"Stopping the medication\": 0,\n",
            "        \"Withdrawal\": 0,\n",
            "        \"Medication Name\": null,\n",
            "        \"Dosage\": null,\n",
            "        \"Change in Medication\": 0,\n",
            "        \"Duration of Usage\": 0,\n",
            "        \"Alternative Treatment\": null,\n",
            "        \"Emotional Tone\": \"Neutral\",\n",
            "        \"Gender\": \"Male\",\n",
            "        \"Age\": \"Adult\",\n",
            "        \"Content Creator/Health Professional\": 0,\n",
            "        \"Sucidal Tendency\": 0\n",
            "    },\n",
            "    \"Side effects I\\u2019ve experienced from antipsychotics [CLJ3sIyaWro].mp4\": {\n",
            "        \"Title\": null,\n",
            "        \"Bodily Discomfort\": 0,\n",
            "        \"Psychological Discomfort\": 0,\n",
            "        \"Overall Health Change\": 0,\n",
            "        \"Support Use of Medication\": 0,\n",
            "        \"Stopping the medication\": 0,\n",
            "        \"Withdrawal\": 0,\n",
            "        \"Medication Name\": null,\n",
            "        \"Dosage\": null,\n",
            "        \"Change in Medication\": 0,\n",
            "        \"Duration of Usage\": 0,\n",
            "        \"Alternative Treatment\": \"Ketogenic Therapy\",\n",
            "        \"Emotional Tone\": \"Neutral\",\n",
            "        \"Gender\": \"Female\",\n",
            "        \"Age\": \"Adult\",\n",
            "        \"Content Creator/Health Professional\": 0,\n",
            "        \"Sucidal Tendency\": 0\n",
            "    },\n",
            "    \"Have you been screened for Tardive Dyskinesia (TD)\\uff1f [JXiqF9kiSis].mp4\": {\n",
            "        \"Title\": null,\n",
            "        \"Bodily Discomfort\": 0,\n",
            "        \"Psychological Discomfort\": 0,\n",
            "        \"Overall Health Change\": 0,\n",
            "        \"Support Use of Medication\": 0,\n",
            "        \"Stopping the medication\": 0,\n",
            "        \"Withdrawal\": 0,\n",
            "        \"Medication Name\": null,\n",
            "        \"Dosage\": null,\n",
            "        \"Change in Medication\": 0,\n",
            "        \"Duration of Usage\": 0,\n",
            "        \"Alternative Treatment\": null,\n",
            "        \"Emotional Tone\": \"Neutral\",\n",
            "        \"Gender\": \"Female\",\n",
            "        \"Age\": \"Adult\",\n",
            "        \"Content Creator/Health Professional\": 0,\n",
            "        \"Sucidal Tendency\": 0\n",
            "    },\n",
            "    \"It Was the Worst Suffering of Any Suffering\\u00a0 #akathisia #informedconsent #psychmeds [2ou0xXjD-Qw].mp4\": {\n",
            "        \"Title\": null,\n",
            "        \"Bodily Discomfort\": 0,\n",
            "        \"Psychological Discomfort\": 0,\n",
            "        \"Overall Health Change\": 0,\n",
            "        \"Support Use of Medication\": 0,\n",
            "        \"Stopping the medication\": 0,\n",
            "        \"Withdrawal\": 0,\n",
            "        \"Medication Name\": null,\n",
            "        \"Dosage\": null,\n",
            "        \"Change in Medication\": 0,\n",
            "        \"Duration of Usage\": 0,\n",
            "        \"Alternative Treatment\": null,\n",
            "        \"Emotional Tone\": \"Neutral\",\n",
            "        \"Gender\": \"Male\",\n",
            "        \"Age\": \"Adult\",\n",
            "        \"Content Creator/Health Professional\": 0,\n",
            "        \"Sucidal Tendency\": 0\n",
            "    },\n",
            "    \"What is Akathisia\\uff1f [BvcvzdJS5FM].mp4\": {\n",
            "        \"Title\": null,\n",
            "        \"Bodily Discomfort\": 0,\n",
            "        \"Psychological Discomfort\": 0,\n",
            "        \"Overall Health Change\": 0,\n",
            "        \"Support Use of Medication\": 0,\n",
            "        \"Stopping the medication\": 0,\n",
            "        \"Withdrawal\": 0,\n",
            "        \"Medication Name\": null,\n",
            "        \"Dosage\": null,\n",
            "        \"Change in Medication\": 0,\n",
            "        \"Duration of Usage\": 0,\n",
            "        \"Alternative Treatment\": null,\n",
            "        \"Emotional Tone\": \"Neutral\",\n",
            "        \"Gender\": \"Female\",\n",
            "        \"Age\": \"Adult\",\n",
            "        \"Content Creator/Health Professional\": 0,\n",
            "        \"Sucidal Tendency\": 0\n",
            "    },\n",
            "    \"Did you know about the black box warning before starting an antidepressant\\uff1f [V1SxCSfRL9A].mp4\": {\n",
            "        \"Title\": \"Did you know about the black box warning before starting an antidepressant?\",\n",
            "        \"Bodily Discomfort\": 0,\n",
            "        \"Psychological Discomfort\": 1,\n",
            "        \"Details\": \"Suicidal thoughts\",\n",
            "        \"Overall Health Change\": 0,\n",
            "        \"Support Use of Medication\": 0,\n",
            "        \"Stopping the medication\": 0,\n",
            "        \"Withdrawal\": 0,\n",
            "        \"Medication Name\": \"null\",\n",
            "        \"Dosage\": \"null\",\n",
            "        \"Change in Medication\": 0,\n",
            "        \"Duration of Usage\": 0,\n",
            "        \"Alternative Treatment\": \"null\",\n",
            "        \"Emotional Tone\": \"Neutral\",\n",
            "        \"Gender\": \"Male\",\n",
            "        \"Age\": \"Adult\",\n",
            "        \"Content Creator/Health Professional\": 1,\n",
            "        \"Sucidal Tendency\": 1\n",
            "    },\n",
            "    \"The severity of the pain Joey had gone through was so hard to see him go through this. [6Hi8WlF0LK0].mp4\": {\n",
            "        \"Title\": null,\n",
            "        \"Bodily Discomfort\": 0,\n",
            "        \"Psychological Discomfort\": 1,\n",
            "        \"Details\": \"Crying, Emotional\",\n",
            "        \"Overall Health Change\": -1,\n",
            "        \"Support Use of Medication\": -1,\n",
            "        \"Stopping the medication\": 1,\n",
            "        \"Withdrawal\": 0,\n",
            "        \"Medication Name\": null,\n",
            "        \"Dosage\": null,\n",
            "        \"Change in Medication\": 0,\n",
            "        \"Duration of Usage\": 0,\n",
            "        \"Alternative Treatment\": null,\n",
            "        \"Emotional Tone\": \"Negative\",\n",
            "        \"Gender\": \"Male\",\n",
            "        \"Age\": \"Adult\",\n",
            "        \"Content Creator/Health Professional\": 1,\n",
            "        \"Sucidal Tendency\": 0\n",
            "    },\n",
            "    \"His Life Would Have Been Awful\\u00a0#accutane #mentalhealth #psychmeds [FTQElJQcfrQ].mp4\": {\n",
            "        \"Title\": null,\n",
            "        \"Bodily Discomfort\": 0,\n",
            "        \"Psychological Discomfort\": 0,\n",
            "        \"Overall Health Change\": 0,\n",
            "        \"Support Use of Medication\": 0,\n",
            "        \"Stopping the medication\": 0,\n",
            "        \"Withdrawal\": 0,\n",
            "        \"Medication Name\": null,\n",
            "        \"Dosage\": null,\n",
            "        \"Change in Medication\": 0,\n",
            "        \"Duration of Usage\": 0,\n",
            "        \"Alternative Treatment\": null,\n",
            "        \"Emotional Tone\": \"Neutral\",\n",
            "        \"Gender\": \"Male\",\n",
            "        \"Age\": \"Adult\",\n",
            "        \"Content Creator/Health Professional\": -1,\n",
            "        \"Sucidal Tendency\": 0\n",
            "    },\n",
            "    \"How I REDUCED my PSYCH MEDS by 60% in 3 months [-fzITFKH8ec].mp4\": {\n",
            "        \"Title\": null,\n",
            "        \"Bodily Discomfort\": 0,\n",
            "        \"Psychological Discomfort\": 0,\n",
            "        \"Overall Health Change\": 0,\n",
            "        \"Support Use of Medication\": 0,\n",
            "        \"Stopping the medication\": 0,\n",
            "        \"Withdrawal\": 0,\n",
            "        \"Medication Name\": null,\n",
            "        \"Dosage\": null,\n",
            "        \"Change in Medication\": 0,\n",
            "        \"Duration of Usage\": 0,\n",
            "        \"Alternative Treatment\": null,\n",
            "        \"Emotional Tone\": \"Neutral\",\n",
            "        \"Gender\": \"Female\",\n",
            "        \"Age\": \"Adult\",\n",
            "        \"Content Creator/Health Professional\": 1,\n",
            "        \"Sucidal Tendency\": 0\n",
            "    },\n",
            "    \"First day on ADHD meds #mentalhealth #adhd #adhdwomen #anxious [-6z7eaUiDis].mp4\": {\n",
            "        \"Title\": null,\n",
            "        \"Bodily Discomfort\": 1,\n",
            "        \"Details\": \"Headache\",\n",
            "        \"Psychological Discomfort\": 0,\n",
            "        \"Overall Health Change\": 0,\n",
            "        \"Support Use of Medication\": 0,\n",
            "        \"Stopping the medication\": 0,\n",
            "        \"Withdrawal\": 0,\n",
            "        \"Medication Name\": null,\n",
            "        \"Dosage\": null,\n",
            "        \"Change in Medication\": 0,\n",
            "        \"Duration of Usage\": 0,\n",
            "        \"Alternative Treatment\": null,\n",
            "        \"Emotional Tone\": \"Neutral\",\n",
            "        \"Gender\": \"Female\",\n",
            "        \"Age\": \"Adult\",\n",
            "        \"Content Creator/Health Professional\": 0,\n",
            "        \"Sucidal Tendency\": 0\n",
            "    },\n",
            "    \"I\\u2019ve gotten smarter\\uff1f\\uff1f [ogHJ0QdoXMg].mp4\": {\n",
            "        \"Title\": null,\n",
            "        \"Bodily Discomfort\": 0,\n",
            "        \"Psychological Discomfort\": 0,\n",
            "        \"Overall Health Change\": 0,\n",
            "        \"Support Use of Medication\": 0,\n",
            "        \"Stopping the medication\": 0,\n",
            "        \"Withdrawal\": 0,\n",
            "        \"Medication Name\": null,\n",
            "        \"Dosage\": null,\n",
            "        \"Change in Medication\": 0,\n",
            "        \"Duration of Usage\": 0,\n",
            "        \"Alternative Treatment\": null,\n",
            "        \"Emotional Tone\": \"Positive\",\n",
            "        \"Gender\": \"Female\",\n",
            "        \"Age\": \"Adult\",\n",
            "        \"Content Creator/Health Professional\": 1,\n",
            "        \"Sucidal Tendency\": 0\n",
            "    },\n",
            "    \"#akathisia #antipsychiatry #benzodiazepines #antidepressant #antipsychotics [tgOeeJauA4g].mp4\": {\n",
            "        \"Title\": null,\n",
            "        \"Bodily Discomfort\": 0,\n",
            "        \"Psychological Discomfort\": 0,\n",
            "        \"Overall Health Change\": 0,\n",
            "        \"Support Use of Medication\": 0,\n",
            "        \"Stopping the medication\": 0,\n",
            "        \"Withdrawal\": 0,\n",
            "        \"Medication Name\": null,\n",
            "        \"Dosage\": null,\n",
            "        \"Change in Medication\": 0,\n",
            "        \"Duration of Usage\": 0,\n",
            "        \"Alternative Treatment\": null,\n",
            "        \"Emotional Tone\": \"Neutral\",\n",
            "        \"Gender\": \"Female\",\n",
            "        \"Age\": \"Adult\",\n",
            "        \"Content Creator/Health Professional\": 0,\n",
            "        \"Sucidal Tendency\": 0\n",
            "    },\n",
            "    \"I didn\\u2019t know this could happen [0TPHDeaHGJU].mp4\": {\n",
            "        \"Title\": null,\n",
            "        \"Bodily Discomfort\": 0,\n",
            "        \"Psychological Discomfort\": 0,\n",
            "        \"Overall Health Change\": 0,\n",
            "        \"Support Use of Medication\": 0,\n",
            "        \"Stopping the medication\": 0,\n",
            "        \"Withdrawal\": 0,\n",
            "        \"Medication Name\": null,\n",
            "        \"Dosage\": null,\n",
            "        \"Change in Medication\": 0,\n",
            "        \"Duration of Usage\": 0,\n",
            "        \"Alternative Treatment\": null,\n",
            "        \"Emotional Tone\": \"Neutral\",\n",
            "        \"Gender\": \"Female\",\n",
            "        \"Age\": \"Adult\",\n",
            "        \"Content Creator/Health Professional\": 0,\n",
            "        \"Sucidal Tendency\": 0\n",
            "    },\n",
            "    \"How Psilocybin Helped Me Heal My Depression [pdlhRKIvtwU].mp4\": {\n",
            "        \"Title\": null,\n",
            "        \"Bodily Discomfort\": 0,\n",
            "        \"Psychological Discomfort\": 0,\n",
            "        \"Overall Health Change\": 0,\n",
            "        \"Support Use of Medication\": 0,\n",
            "        \"Stopping the medication\": 0,\n",
            "        \"Withdrawal\": 0,\n",
            "        \"Medication Name\": null,\n",
            "        \"Dosage\": null,\n",
            "        \"Change in Medication\": 0,\n",
            "        \"Duration of Usage\": 0,\n",
            "        \"Alternative Treatment\": \"Magic Mushrooms\",\n",
            "        \"Emotional Tone\": \"Neutral\",\n",
            "        \"Gender\": \"Female\",\n",
            "        \"Age\": \"Adult\",\n",
            "        \"Content Creator/Health Professional\": 1,\n",
            "        \"Sucidal Tendency\": 0\n",
            "    },\n",
            "    \"What is Akathisia\\uff1f #bind #akathisia #antidepressantsideeffects #medicalgaslighting [5pcRzx3H1eg].mp4\": {\n",
            "        \"Title\": \"2017 right after cold turkey\",\n",
            "        \"Bodily Discomfort\": 1,\n",
            "        \"Details\": \"Akathisia\",\n",
            "        \"Psychological Discomfort\": 0,\n",
            "        \"Overall Health Change\": -1,\n",
            "        \"Support Use of Medication\": 0,\n",
            "        \"Stopping the medication\": 1,\n",
            "        \"Withdrawal\": 1,\n",
            "        \"Medication Name\": null,\n",
            "        \"Dosage\": null,\n",
            "        \"Change in Medication\": 0,\n",
            "        \"Duration of Usage\": 0,\n",
            "        \"Alternative Treatment\": null,\n",
            "        \"Emotional Tone\": \"Negative\",\n",
            "        \"Gender\": \"Female\",\n",
            "        \"Age\": \"Adult\",\n",
            "        \"Content Creator/Health Professional\": 1,\n",
            "        \"Sucidal Tendency\": 0\n",
            "    },\n",
            "    \"Surviving Pregnancy with Zopiclone Withdrawal #zopiclone #shareyourdrugstory\\u00a0#psychmeds [Blp_kwDqBk8].mp4\": {\n",
            "        \"Title\": \"Surviving Pregnancy with Zopiclone Withdrawal\",\n",
            "        \"Bodily Discomfort\": 0,\n",
            "        \"Psychological Discomfort\": 0,\n",
            "        \"Overall Health Change\": 0,\n",
            "        \"Support Use of Medication\": -1,\n",
            "        \"Stopping the medication\": 1,\n",
            "        \"Withdrawal\": 1,\n",
            "        \"Details\": \"Zopiclone Withdrawal\",\n",
            "        \"Medication Name\": \"Zopiclone\",\n",
            "        \"Dosage\": null,\n",
            "        \"Change in Medication\": 0,\n",
            "        \"Duration of Usage\": 0,\n",
            "        \"Alternative Treatment\": null,\n",
            "        \"Emotional Tone\": \"Negative\",\n",
            "        \"Gender\": \"Female\",\n",
            "        \"Age\": \"Adult\",\n",
            "        \"Content Creator/Health Professional\": 1,\n",
            "        \"Sucidal Tendency\": 0\n",
            "    },\n",
            "    \"What Did Taking Multiple Medication Cost Me\\uff1f\\u00a0#shareyourdrugstory #dexedrine #xanax [WkV-wULXwxg].mp4\": {\n",
            "        \"Title\": \"What Did Taking Multiple Medication Cost Me?\",\n",
            "        \"Bodily Discomfort\": 0,\n",
            "        \"Psychological Discomfort\": 1,\n",
            "        \"Details\": \"Stress, Anxiety\",\n",
            "        \"Overall Health Change\": -1,\n",
            "        \"Support Use of Medication\": -1,\n",
            "        \"Stopping the medication\": 1,\n",
            "        \"Withdrawal\": 0,\n",
            "        \"Medication Name\": \"Dexedrine\",\n",
            "        \"Dosage\": null,\n",
            "        \"Change in Medication\": 0,\n",
            "        \"Duration of Usage\": 0,\n",
            "        \"Alternative Treatment\": null,\n",
            "        \"Emotional Tone\": \"Negative\",\n",
            "        \"Gender\": \"Female\",\n",
            "        \"Age\": \"Adult\",\n",
            "        \"Content Creator/Health Professional\": 1,\n",
            "        \"Sucidal Tendency\": 0\n",
            "    },\n",
            "    \"Struggling with med withdrawal [Rv8vX6t7HDQ].mp4\": {\n",
            "        \"Title\": null,\n",
            "        \"Bodily Discomfort\": 0,\n",
            "        \"Psychological Discomfort\": 1,\n",
            "        \"Details\": \"Symptoms\",\n",
            "        \"Overall Health Change\": -1,\n",
            "        \"Support Use of Medication\": 0,\n",
            "        \"Stopping the medication\": 0,\n",
            "        \"Withdrawal\": 0,\n",
            "        \"Medication Name\": null,\n",
            "        \"Dosage\": null,\n",
            "        \"Change in Medication\": 0,\n",
            "        \"Duration of Usage\": 0,\n",
            "        \"Alternative Treatment\": null,\n",
            "        \"Emotional Tone\": \"Negative\",\n",
            "        \"Gender\": \"Female\",\n",
            "        \"Age\": \"Adult\",\n",
            "        \"Content Creator/Health Professional\": 1,\n",
            "        \"Sucidal Tendency\": 0\n",
            "    },\n",
            "    \"The Worst Side Effect of Lithium\\u00a0#shareyourdrugstory #informedconsent #mentalhealthadvocate [eGon3EKswo8].mp4\": {\n",
            "        \"Title\": \"What's your worst side effect on lithium?\",\n",
            "        \"Bodily Discomfort\": 1,\n",
            "        \"Details\": \"Tiredness, Fatigue\",\n",
            "        \"Psychological Discomfort\": 0,\n",
            "        \"Overall Health Change\": -1,\n",
            "        \"Support Use of Medication\": -1,\n",
            "        \"Stopping the medication\": 0,\n",
            "        \"Withdrawal\": 0,\n",
            "        \"Medication Name\": \"Lithium\",\n",
            "        \"Dosage\": null,\n",
            "        \"Change in Medication\": 0,\n",
            "        \"Duration of Usage\": 0,\n",
            "        \"Alternative Treatment\": null,\n",
            "        \"Emotional Tone\": \"Negative\",\n",
            "        \"Gender\": \"Male\",\n",
            "        \"Age\": \"Adult\",\n",
            "        \"Content Creator/Health Professional\": 1,\n",
            "        \"Sucidal Tendency\": 0\n",
            "    },\n",
            "    \"#akathisia #benzodiazepines #mentalhealth #psychiatry #medication #antidepressant #antipsychiatry [jGNe-UIBT4I].mp4\": {\n",
            "        \"Title\": null,\n",
            "        \"Bodily Discomfort\": 0,\n",
            "        \"Psychological Discomfort\": 0,\n",
            "        \"Overall Health Change\": 0,\n",
            "        \"Support Use of Medication\": 0,\n",
            "        \"Stopping the medication\": 0,\n",
            "        \"Withdrawal\": 0,\n",
            "        \"Medication Name\": null,\n",
            "        \"Dosage\": null,\n",
            "        \"Change in Medication\": 0,\n",
            "        \"Duration of Usage\": 0,\n",
            "        \"Alternative Treatment\": null,\n",
            "        \"Emotional Tone\": \"Neutral\",\n",
            "        \"Gender\": \"Female\",\n",
            "        \"Age\": \"Adult\",\n",
            "        \"Content Creator/Health Professional\": 0,\n",
            "        \"Sucidal Tendency\": 0\n",
            "    },\n",
            "    \"What is the most therapeutic level of ketones for managing mental illness\\uff1f [6siIqEAZD0A].mp4\": {\n",
            "        \"Title\": null,\n",
            "        \"Bodily Discomfort\": 0,\n",
            "        \"Psychological Discomfort\": 0,\n",
            "        \"Overall Health Change\": 0,\n",
            "        \"Support Use of Medication\": 0,\n",
            "        \"Stopping the medication\": 0,\n",
            "        \"Withdrawal\": 0,\n",
            "        \"Medication Name\": null,\n",
            "        \"Dosage\": null,\n",
            "        \"Change in Medication\": 0,\n",
            "        \"Duration of Usage\": 0,\n",
            "        \"Alternative Treatment\": null,\n",
            "        \"Emotional Tone\": \"Neutral\",\n",
            "        \"Gender\": \"Female\",\n",
            "        \"Age\": \"Adult\",\n",
            "        \"Content Creator/Health Professional\": 0,\n",
            "        \"Sucidal Tendency\": 0\n",
            "    },\n",
            "    \"How Xanax Ruined My Life\\u00a0#benzodiazepine #xanax #shareyourdrugstory [r_m3nz2MAJQ].mp4\": {\n",
            "        \"Title\": \"What longterm Xanax use did to me\",\n",
            "        \"Bodily Discomfort\": 0,\n",
            "        \"Psychological Discomfort\": 1,\n",
            "        \"Details\": \"Broken\",\n",
            "        \"Overall Health Change\": -1,\n",
            "        \"Support Use of Medication\": -1,\n",
            "        \"Stopping the medication\": 0,\n",
            "        \"Withdrawal\": 0,\n",
            "        \"Medication Name\": \"Xanax\",\n",
            "        \"Dosage\": null,\n",
            "        \"Change in Medication\": 0,\n",
            "        \"Duration of Usage\": 0,\n",
            "        \"Alternative Treatment\": null,\n",
            "        \"Emotional Tone\": \"Negative\",\n",
            "        \"Gender\": \"Male\",\n",
            "        \"Age\": \"Adult\",\n",
            "        \"Content Creator/Health Professional\": 1,\n",
            "        \"Sucidal Tendency\": 0\n",
            "    },\n",
            "    \"antidepressants changed everything for me. [dCq84gtJbN8].mp4\": {\n",
            "        \"Title\": \"(NECESSARILY) ENTERING THE ANTIDEPRESSANTS CHAT\",\n",
            "        \"Bodily Discomfort\": 0,\n",
            "        \"Psychological Discomfort\": 0,\n",
            "        \"Overall Health Change\": 0,\n",
            "        \"Support Use of Medication\": 0,\n",
            "        \"Stopping the medication\": 0,\n",
            "        \"Withdrawal\": 0,\n",
            "        \"Medication Name\": null,\n",
            "        \"Dosage\": null,\n",
            "        \"Change in Medication\": 0,\n",
            "        \"Duration of Usage\": 0,\n",
            "        \"Alternative Treatment\": null,\n",
            "        \"Emotional Tone\": \"Neutral\",\n",
            "        \"Gender\": \"Female\",\n",
            "        \"Age\": \"Adult\",\n",
            "        \"Content Creator/Health Professional\": 1,\n",
            "        \"Sucidal Tendency\": 0\n",
            "    },\n",
            "    \"Living with Lexapro Side Effects as a Therapist #shareyourdrugstory #lexapro #psychmeds [4fSphjYIqig].mp4\": {\n",
            "        \"Title\": \"How it's like to live with the side effects of longterm medication?\",\n",
            "        \"Bodily Discomfort\": 0,\n",
            "        \"Psychological Discomfort\": 0,\n",
            "        \"Overall Health Change\": 0,\n",
            "        \"Support Use of Medication\": 0,\n",
            "        \"Stopping the medication\": 0,\n",
            "        \"Withdrawal\": 0,\n",
            "        \"Medication Name\": null,\n",
            "        \"Dosage\": null,\n",
            "        \"Change in Medication\": 0,\n",
            "        \"Duration of Usage\": 0,\n",
            "        \"Alternative Treatment\": null,\n",
            "        \"Emotional Tone\": \"Neutral\",\n",
            "        \"Gender\": \"Female\",\n",
            "        \"Age\": \"Adult\",\n",
            "        \"Content Creator/Health Professional\": 1,\n",
            "        \"Sucidal Tendency\": 0\n",
            "    },\n",
            "    \"\\u2018Being put on antidepressants as a teen made me feel more suicidal\\u2019 [vhplkMnVkA8].mp4\": {\n",
            "        \"Title\": null,\n",
            "        \"Bodily Discomfort\": 0,\n",
            "        \"Psychological Discomfort\": 1,\n",
            "        \"Details\": \"Psychotic, Erratic\",\n",
            "        \"Overall Health Change\": -1,\n",
            "        \"Support Use of Medication\": -1,\n",
            "        \"Stopping the medication\": 0,\n",
            "        \"Withdrawal\": 0,\n",
            "        \"Medication Name\": null,\n",
            "        \"Dosage\": null,\n",
            "        \"Change in Medication\": 0,\n",
            "        \"Duration of Usage\": 0,\n",
            "        \"Alternative Treatment\": null,\n",
            "        \"Emotional Tone\": \"Negative\",\n",
            "        \"Gender\": \"Female\",\n",
            "        \"Age\": \"Adult\",\n",
            "        \"Content Creator/Health Professional\": 0,\n",
            "        \"Sucidal Tendency\": 0\n",
            "    },\n",
            "    \"What I Would Have Done Differently #shareyourdrugstory\\u00a0 \\u00a0#mentalhealthawareness #psychmeds [vfS1VcUgbDU].mp4\": {\n",
            "        \"Title\": \"What I would have done differently #ShareYourDrugStory\",\n",
            "        \"Bodily Discomfort\": 0,\n",
            "        \"Psychological Discomfort\": 0,\n",
            "        \"Overall Health Change\": 0,\n",
            "        \"Support Use of Medication\": 0,\n",
            "        \"Stopping the medication\": 0,\n",
            "        \"Withdrawal\": 0,\n",
            "        \"Medication Name\": null,\n",
            "        \"Dosage\": null,\n",
            "        \"Change in Medication\": 0,\n",
            "        \"Duration of Usage\": 0,\n",
            "        \"Alternative Treatment\": null,\n",
            "        \"Emotional Tone\": \"Neutral\",\n",
            "        \"Gender\": \"Female\",\n",
            "        \"Age\": \"Adult\",\n",
            "        \"Content Creator/Health Professional\": 1,\n",
            "        \"Sucidal Tendency\": 0\n",
            "    },\n",
            "    \"How I Got Off Psych Meds in 10 Months [XHEwNCds79U].mp4\": {\n",
            "        \"error\": \"Frame extraction failed\"\n",
            "    },\n",
            "    \"I Was Able to Control My Sleep After Tapering\\u00a0#shareyourdrugstory #lithium #seroquel [lyjtbZOyk1k].mp4\": {\n",
            "        \"Title\": null,\n",
            "        \"Bodily Discomfort\": 1,\n",
            "        \"Details\": \"Tapering\",\n",
            "        \"Psychological Discomfort\": 0,\n",
            "        \"Overall Health Change\": 1,\n",
            "        \"Support Use of Medication\": -1,\n",
            "        \"Stopping the medication\": 1,\n",
            "        \"Withdrawal\": 0,\n",
            "        \"Medication Name\": \"Seroquel\",\n",
            "        \"Dosage\": null,\n",
            "        \"Change in Medication\": 1,\n",
            "        \"Duration of Usage\": 0,\n",
            "        \"Alternative Treatment\": null,\n",
            "        \"Emotional Tone\": \"Positive\",\n",
            "        \"Gender\": \"Male\",\n",
            "        \"Age\": \"Adult\",\n",
            "        \"Content Creator/Health Professional\": 1,\n",
            "        \"Sucidal Tendency\": 0\n",
            "    },\n",
            "    \"What's different about suicidality with akathisia\\uff1f [4BtKixyFrlI].mp4\": {\n",
            "        \"Title\": \"Why Cymbalta made me Suicidal\",\n",
            "        \"Bodily Discomfort\": 0,\n",
            "        \"Psychological Discomfort\": 1,\n",
            "        \"Details\": \"Suicidal Urges\",\n",
            "        \"Overall Health Change\": -1,\n",
            "        \"Support Use of Medication\": -1,\n",
            "        \"Stopping the medication\": 1,\n",
            "        \"Withdrawal\": 0,\n",
            "        \"Medication Name\": \"Cymbalta\",\n",
            "        \"Dosage\": null,\n",
            "        \"Change in Medication\": 0,\n",
            "        \"Duration of Usage\": 0,\n",
            "        \"Alternative Treatment\": null,\n",
            "        \"Emotional Tone\": \"Negative\",\n",
            "        \"Gender\": \"Male\",\n",
            "        \"Age\": \"Adult\",\n",
            "        \"Content Creator/Health Professional\": 1,\n",
            "        \"Sucidal Tendency\": 1\n",
            "    },\n",
            "    \"Christine's Benzodiazepine Withdrawal Induced Akathisia [byFP0lZSdR4].mp4\": {\n",
            "        \"Title\": null,\n",
            "        \"Bodily Discomfort\": 0,\n",
            "        \"Psychological Discomfort\": 0,\n",
            "        \"Overall Health Change\": 0,\n",
            "        \"Support Use of Medication\": 0,\n",
            "        \"Stopping the medication\": 0,\n",
            "        \"Withdrawal\": 0,\n",
            "        \"Medication Name\": null,\n",
            "        \"Dosage\": null,\n",
            "        \"Change in Medication\": 0,\n",
            "        \"Duration of Usage\": 0,\n",
            "        \"Alternative Treatment\": null,\n",
            "        \"Emotional Tone\": \"Neutral\",\n",
            "        \"Gender\": \"Female\",\n",
            "        \"Age\": \"Adult\",\n",
            "        \"Content Creator/Health Professional\": 0,\n",
            "        \"Sucidal Tendency\": 0\n",
            "    },\n",
            "    \"What antidepressants do to your brain [US8Bd1wbraI].mp4\": {\n",
            "        \"Title\": null,\n",
            "        \"Bodily Discomfort\": 1,\n",
            "        \"Details\": \"Fogging, Pain\",\n",
            "        \"Psychological Discomfort\": 0,\n",
            "        \"Overall Health Change\": -1,\n",
            "        \"Support Use of Medication\": -1,\n",
            "        \"Stopping the medication\": 0,\n",
            "        \"Withdrawal\": 0,\n",
            "        \"Medication Name\": null,\n",
            "        \"Dosage\": null,\n",
            "        \"Change in Medication\": 0,\n",
            "        \"Duration of Usage\": 0,\n",
            "        \"Alternative Treatment\": null,\n",
            "        \"Emotional Tone\": \"Negative\",\n",
            "        \"Gender\": \"Female\",\n",
            "        \"Age\": \"Adult\",\n",
            "        \"Content Creator/Health Professional\": 1,\n",
            "        \"Sucidal Tendency\": 0\n",
            "    },\n",
            "    \"One Dose Changed Everything #lexapro #pssd #psychmeds #Informedconsent #shareyourdrugstory [gspQDuWNA3I].mp4\": {\n",
            "        \"Title\": null,\n",
            "        \"Bodily Discomfort\": 0,\n",
            "        \"Psychological Discomfort\": 0,\n",
            "        \"Overall Health Change\": 0,\n",
            "        \"Support Use of Medication\": 0,\n",
            "        \"Stopping the medication\": 0,\n",
            "        \"Withdrawal\": 0,\n",
            "        \"Medication Name\": null,\n",
            "        \"Dosage\": null,\n",
            "        \"Change in Medication\": 0,\n",
            "        \"Duration of Usage\": 0,\n",
            "        \"Alternative Treatment\": null,\n",
            "        \"Emotional Tone\": \"Neutral\",\n",
            "        \"Gender\": \"Male\",\n",
            "        \"Age\": \"Adult\",\n",
            "        \"Content Creator/Health Professional\": 0,\n",
            "        \"Sucidal Tendency\": 0\n",
            "    },\n",
            "    \"Benzos Why I Never Got them prescribed #benzodiazepines #shorts [Kjq1JqxQBmU].mp4\": {\n",
            "        \"Title\": \"Why I never got on benzos\",\n",
            "        \"Bodily Discomfort\": 0,\n",
            "        \"Psychological Discomfort\": 0,\n",
            "        \"Overall Health Change\": 0,\n",
            "        \"Support Use of Medication\": -1,\n",
            "        \"Stopping the medication\": 0,\n",
            "        \"Withdrawal\": 0,\n",
            "        \"Medication Name\": [\n",
            "            \"Benzos\"\n",
            "        ],\n",
            "        \"Dosage\": null,\n",
            "        \"Change in Medication\": 0,\n",
            "        \"Duration of Usage\": 0,\n",
            "        \"Alternative Treatment\": null,\n",
            "        \"Emotional Tone\": \"Neutral\",\n",
            "        \"Gender\": \"Male\",\n",
            "        \"Age\": \"Adult\",\n",
            "        \"Content Creator/Health Professional\": 1,\n",
            "        \"Sucidal Tendency\": 0\n",
            "    },\n",
            "    \"Why I Lost Trust in the Medical System for Mental Health Care\\u00a0#shareyourdrugstory [9b5-CfvtTtg].mp4\": {\n",
            "        \"Title\": \"The reason I don't trust the medical system anymore.\",\n",
            "        \"Bodily Discomfort\": 0,\n",
            "        \"Psychological Discomfort\": 0,\n",
            "        \"Overall Health Change\": 0,\n",
            "        \"Support Use of Medication\": -1,\n",
            "        \"Stopping the medication\": 0,\n",
            "        \"Withdrawal\": 0,\n",
            "        \"Medication Name\": null,\n",
            "        \"Dosage\": null,\n",
            "        \"Change in Medication\": 0,\n",
            "        \"Duration of Usage\": 0,\n",
            "        \"Alternative Treatment\": null,\n",
            "        \"Emotional Tone\": \"Negative\",\n",
            "        \"Gender\": \"Male\",\n",
            "        \"Age\": \"Adult\",\n",
            "        \"Content Creator/Health Professional\": 1,\n",
            "        \"Sucidal Tendency\": 0\n",
            "    },\n",
            "    \"The Scary Truth Behind Antidepressant Withdrawal [ssPg3089Kco].mp4\": {\n",
            "        \"Title\": null,\n",
            "        \"Bodily Discomfort\": 0,\n",
            "        \"Psychological Discomfort\": 1,\n",
            "        \"Details\": \"Emotional Numbness\",\n",
            "        \"Overall Health Change\": -1,\n",
            "        \"Support Use of Medication\": -1,\n",
            "        \"Stopping the medication\": 1,\n",
            "        \"Withdrawal\": 0,\n",
            "        \"Medication Name\": null,\n",
            "        \"Dosage\": null,\n",
            "        \"Change in Medication\": 0,\n",
            "        \"Duration of Usage\": 0,\n",
            "        \"Alternative Treatment\": null,\n",
            "        \"Emotional Tone\": \"Negative\",\n",
            "        \"Gender\": \"Female\",\n",
            "        \"Age\": \"Adult\",\n",
            "        \"Content Creator/Health Professional\": 1,\n",
            "        \"Sucidal Tendency\": 0\n",
            "    },\n",
            "    \"Understanding the Risks Before Medication\\u00a0#akathisia #informedconsent #psychmeds [k8qL4VwE_wQ].mp4\": {\n",
            "        \"Title\": null,\n",
            "        \"Bodily Discomfort\": 0,\n",
            "        \"Psychological Discomfort\": 0,\n",
            "        \"Overall Health Change\": 0,\n",
            "        \"Support Use of Medication\": 0,\n",
            "        \"Stopping the medication\": 0,\n",
            "        \"Withdrawal\": 0,\n",
            "        \"Medication Name\": null,\n",
            "        \"Dosage\": null,\n",
            "        \"Change in Medication\": 0,\n",
            "        \"Duration of Usage\": 0,\n",
            "        \"Alternative Treatment\": null,\n",
            "        \"Emotional Tone\": \"Neutral\",\n",
            "        \"Gender\": \"Male\",\n",
            "        \"Age\": \"Adult\",\n",
            "        \"Content Creator/Health Professional\": 1,\n",
            "        \"Sucidal Tendency\": 0\n",
            "    },\n",
            "    \"Akathisia [Pvk3AODN6Sc].mp4\": {\n",
            "        \"Title\": null,\n",
            "        \"Bodily Discomfort\": 1,\n",
            "        \"Details\": \"Akathisia, Inability to move\",\n",
            "        \"Psychological Discomfort\": 0,\n",
            "        \"Overall Health Change\": -1,\n",
            "        \"Support Use of Medication\": -1,\n",
            "        \"Stopping the medication\": 0,\n",
            "        \"Withdrawal\": 0,\n",
            "        \"Medication Name\": null,\n",
            "        \"Dosage\": null,\n",
            "        \"Change in Medication\": 0,\n",
            "        \"Duration of Usage\": 0,\n",
            "        \"Alternative Treatment\": null,\n",
            "        \"Emotional Tone\": \"Negative\",\n",
            "        \"Gender\": \"Female\",\n",
            "        \"Age\": \"Adult\",\n",
            "        \"Content Creator/Health Professional\": 1,\n",
            "        \"Sucidal Tendency\": 0\n",
            "    },\n",
            "    \"What He Did When an Antidepressant Made Him Sick \\uff5c Health [Ibwp6TvPF3g].mp4\": {\n",
            "        \"Title\": null,\n",
            "        \"Bodily Discomfort\": 0,\n",
            "        \"Psychological Discomfort\": 0,\n",
            "        \"Overall Health Change\": 0,\n",
            "        \"Support Use of Medication\": 0,\n",
            "        \"Stopping the medication\": 0,\n",
            "        \"Withdrawal\": 0,\n",
            "        \"Medication Name\": null,\n",
            "        \"Dosage\": null,\n",
            "        \"Change in Medication\": 0,\n",
            "        \"Duration of Usage\": 0,\n",
            "        \"Alternative Treatment\": null,\n",
            "        \"Emotional Tone\": \"Neutral\",\n",
            "        \"Gender\": \"Male\",\n",
            "        \"Age\": \"Adult\",\n",
            "        \"Content Creator/Health Professional\": 0,\n",
            "        \"Sucidal Tendency\": 0\n",
            "    },\n",
            "    \"medication is a tool, if it helps, that's fine. #psychmeds #takeyourmeds #mentalhealth [59zcjtFoXzs].mp4\": {\n",
            "        \"Title\": null,\n",
            "        \"Bodily Discomfort\": 0,\n",
            "        \"Psychological Discomfort\": 0,\n",
            "        \"Overall Health Change\": 0,\n",
            "        \"Support Use of Medication\": 0,\n",
            "        \"Stopping the medication\": -1,\n",
            "        \"Withdrawal\": 0,\n",
            "        \"Medication Name\": null,\n",
            "        \"Dosage\": null,\n",
            "        \"Change in Medication\": 0,\n",
            "        \"Duration of Usage\": 120,\n",
            "        \"Alternative Treatment\": null,\n",
            "        \"Emotional Tone\": \"Sarcastic\",\n",
            "        \"Gender\": \"Female\",\n",
            "        \"Age\": \"Adult\",\n",
            "        \"Content Creator/Health Professional\": 1,\n",
            "        \"Sucidal Tendency\": 0\n",
            "    }\n",
            "}\n"
          ]
        }
      ]
    }
  ]
}